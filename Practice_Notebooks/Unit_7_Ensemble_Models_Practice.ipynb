{
 "cells": [
  {
   "cell_type": "markdown",
   "metadata": {},
   "source": [
    "## Ensemble Methods"
   ]
  },
  {
   "cell_type": "markdown",
   "metadata": {},
   "source": [
    "Construct a set of classifiers that can often have a better predictive performance than any of its individual members\n",
    "\n",
    "Goal: Combine different classifiers into a meta-classifier that has better generalization performance than each individual classifier alone\n",
    "\n",
    "Example: collection opinions from 10 experts: ensemble methods allow us to strategically combine these predictions by the 10 experts to come up with a prediction that is more accurate and robust than the predictions by each individual expert\n"
   ]
  },
  {
   "cell_type": "markdown",
   "metadata": {},
   "source": [
    "## Majority Voting"
   ]
  },
  {
   "cell_type": "markdown",
   "metadata": {},
   "source": [
    "Ensemble methods tend to use the majority voting principle, where the class with the most votes is selected, 50% or more votes\n",
    "\n",
    "We can also generalize to multiple classes via plurality voting, where we select the class label that received the most votes"
   ]
  },
  {
   "cell_type": "markdown",
   "metadata": {},
   "source": [
    "## Steps for  Ensemble Classification"
   ]
  },
  {
   "cell_type": "markdown",
   "metadata": {},
   "source": [
    "1. Begin by training m different classifiers (C1, ..., Cm) -- the ensemble can be built from different classification algorithms. E.g. you can mix logistic regression, SVM, decision trees, K-NN, etc. We can also use the same base classification algorithm fitting different subsets of training data, as in random forests, with different decision tree classifiers.\n",
    "2. Predict a class label via a simple majority or plurality vote by combining the class labels of each individual classifier and selecting the class lbel that received the most votes: yhat = mode{C1(x), C2(x), ..., Cm(x)}\n",
    "3. For example, a binary classifcation task where class 1 = -1 and class 2 = +1, we can write majority vote preidction: C(x) = sign[∑j...m Cj(x)] = 1 if ∑iCj(x) >= 0 else -1 where we sume over each classifier's prediction and if it's >= 0 then we predict class 1 as majority else we predict class 0 as majority"
   ]
  },
  {
   "cell_type": "markdown",
   "metadata": {},
   "source": [
    "## Why Are Ensemble Methods Better Than Single Classifiers?"
   ]
  },
  {
   "cell_type": "markdown",
   "metadata": {},
   "source": [
    "Assume all n base classifiers for a binary classification task have an equal error rate of E. Assume independence in these classifiers and the error rates are not correlated. We can express the error probability of an esnemble of base classifiers as a probability mass function of a binomial distribution ∑nk <n choose k>* e^k(1-e)^n-k = e of ensemble"
   ]
  },
  {
   "cell_type": "markdown",
   "metadata": {},
   "source": [
    "Ex: 11 base classifiers, each with an error rate of 0.25\n",
    "\n",
    "∑k=6 to 11 <11 k> 0.25^k * (1-E)^11-k = 0.034\n",
    "\n",
    "Error rate of the ensemble is much lower than the error rate of each individual classifier if all assumptions are met. Normally all assumptions are not met, however, but randomization can help us attain better performance. \n",
    "\n",
    "Let's compare a base classifier over a range of different base error rates"
   ]
  },
  {
   "cell_type": "code",
   "execution_count": 252,
   "metadata": {
    "collapsed": false
   },
   "outputs": [
    {
     "data": {
      "text/plain": [
       "0.034327507019042969"
      ]
     },
     "execution_count": 252,
     "metadata": {},
     "output_type": "execute_result"
    }
   ],
   "source": [
    "from scipy.misc import comb # number of combinations something can take at one time\n",
    "                            # The number of combinations of N things taken k at a time.\n",
    "                            # This is often expressed as “N choose k”.\n",
    "import math\n",
    "\n",
    "def ensemble_error(n_classifier, error):\n",
    "    k_start = int(math.ceil(n_classifier / 2.0))\n",
    "    probs = [comb(n_classifier, k) * error ** k *(1-error)**(n_classifier-k) for k in range(k_start, n_classifier+1)]\n",
    "    return sum(probs)\n",
    "ensemble_error(n_classifier=11, error=0.25)"
   ]
  },
  {
   "cell_type": "markdown",
   "metadata": {},
   "source": [
    "Now graph ensemble error rates for a range of different base errors from 0.0 to 1.0"
   ]
  },
  {
   "cell_type": "code",
   "execution_count": 251,
   "metadata": {
    "collapsed": false
   },
   "outputs": [
    {
     "data": {
      "image/png": "[encoded data removed]",
      "text/plain": [
       "<matplotlib.figure.Figure at 0x117f78510>"
      ]
     },
     "metadata": {},
     "output_type": "display_data"
    }
   ],
   "source": [
    "import numpy as np\n",
    "error_range = np.arange(0.0, 1.01, 0.01)\n",
    "ens_errors = [ensemble_error(n_classifier=11, error=error) for error in error_range]\n",
    "import matplotlib.pyplot as plt\n",
    "%matplotlib inline\n",
    "plt.plot(error_range, ens_errors, label = 'Ensemble Error', linewidth = 2)\n",
    "plt.plot(error_range, error_range, linestyle = '--', label = 'Base Error', linewidth = 2)\n",
    "plt.xlabel('Base Error')\n",
    "plt.ylabel('Base/Ensemble Error')\n",
    "plt.legend(loc='upper left')\n",
    "plt.ylim(-0.1,1.1)\n",
    "plt.grid()\n",
    "plt.show()"
   ]
  },
  {
   "cell_type": "markdown",
   "metadata": {},
   "source": [
    "By plotting the errors based on the probability mass function, we can see that as long as the base classifier error is < 0.5, we can expect our ensemble method to perform better"
   ]
  },
  {
   "cell_type": "markdown",
   "metadata": {},
   "source": [
    "## Implementing A Simply Majority Vote Classifier"
   ]
  },
  {
   "cell_type": "markdown",
   "metadata": {},
   "source": [
    "Combine different classification algorithms associated with individual weights for confidence. Goal: build a stronger meta-classifier that balances out the individual classifiers' weaknesses on a particular dataset.\n",
    "\n",
    "Weighted majority vote:  yhat = argmaxi ∑j=1..m models wj*Xa(Cj(x)=i)\n",
    "\n",
    "where wj is a weight associated with the base classifier, Cj, yhat is the predicted class label of the ensemble, Xa is the characteristic function [Cj(x) = i set of A and A is a set of unique class labels\n",
    "\n",
    "for equal weights, we can simplify to:\n",
    "    yhat = mode(C1(x), C2(x), ..., Cm(x))\n",
    "    \n",
    "Ex: ensemble of three base classifiers cj(j{0,1}) and want to predict the class label of a given sample instance x. \n",
    "\n",
    "2/3 predict class 0 and classifier 3 (c3) predicts 1. If we weight the predictions equally, the majority vote will predict the sample belongs to class 0:\n",
    "Say model 1 predicts 0, model 2 predicts 0 and model 3 predicts 1\n",
    "    C1(x) = 0, C2(x) = 0, C3(x) = 1   yhat = mode{0,0,1} = 0\n",
    "    \n",
    "Now assign a weight of 0.6 to c3, and a weight of 0.2 to c1 and c2\n",
    "    yhat = argmaxi[(0.2*i0)+(0.2*i0)+(0.6*i1)] = 1\n",
    "    yhat = mode(0,0,1,1,1) = 1 1 is three times more likely"
   ]
  },
  {
   "cell_type": "code",
   "execution_count": 108,
   "metadata": {
    "collapsed": false
   },
   "outputs": [
    {
     "name": "stdout",
     "output_type": "stream",
     "text": [
      "[2 1]\n"
     ]
    },
    {
     "data": {
      "text/plain": [
       "1"
      ]
     },
     "execution_count": 108,
     "metadata": {},
     "output_type": "execute_result"
    }
   ],
   "source": [
    "import numpy as np\n",
    "print np.bincount([0,0,1])\n",
    "np.argmax(np.bincount([0,0,1], weights =[0.2,0.2,0.6]))"
   ]
  },
  {
   "cell_type": "code",
   "execution_count": 109,
   "metadata": {
    "collapsed": false
   },
   "outputs": [
    {
     "data": {
      "text/plain": [
       "3"
      ]
     },
     "execution_count": 109,
     "metadata": {},
     "output_type": "execute_result"
    }
   ],
   "source": [
    "np.argmax([1,2,3,4]) # returns the INDEX of the max value"
   ]
  },
  {
   "cell_type": "markdown",
   "metadata": {},
   "source": [
    "Classifiers can also return the probability of a predicted class label via the predict_proba method\n",
    "\n",
    "Using the predicted class probabilities instead of the class labels for majority voting can be useful if the classifiers in our ensemble are well calibrated\n",
    "\n",
    "The majority vote based on probabilities can be edited as:\n",
    "    yhat = argmaxi ∑j=1..m wj*pij \n",
    "    \n",
    "Where pij is the predicted probability of the jth classifier for class label i"
   ]
  },
  {
   "cell_type": "markdown",
   "metadata": {},
   "source": [
    "3 classifiers, classifying a binary outcome, for a particular sample x:\n",
    "    C1(x) [0.9, 0.1], C2(x) [0.8, 0.2], C3(x) [0.4, 0.6] \n",
    "    \n",
    "We can calculate the individual class probabilities as follows:\n",
    "    p(i0|x) = 0.2 * 0.9 + 0.2*0.8 + 0.6*0.4 = 0.58\n",
    "    p(i1|x) = 0.2*0.1 + 0.2*0.2 + 0.6*0.6 = 0.42\n",
    "    yhat = argmax[p(i0|x), p(i1|x)] = 0\n",
    "    \n",
    "We predict class 0 based on probabilities"
   ]
  },
  {
   "cell_type": "code",
   "execution_count": 110,
   "metadata": {
    "collapsed": false
   },
   "outputs": [
    {
     "data": {
      "text/plain": [
       "array([ 0.7,  0.3])"
      ]
     },
     "execution_count": 110,
     "metadata": {},
     "output_type": "execute_result"
    }
   ],
   "source": [
    "ex = np.array([[0.9, 0.1],\n",
    "              [0.8, 0.2],\n",
    "              [0.4, 0.6]])\n",
    "\n",
    "p = np.average(ex, axis=0) # computes the weighted avg along the specified axis\n",
    "p"
   ]
  },
  {
   "cell_type": "code",
   "execution_count": 111,
   "metadata": {
    "collapsed": false
   },
   "outputs": [
    {
     "data": {
      "text/plain": [
       "0.41000000000000003"
      ]
     },
     "execution_count": 111,
     "metadata": {},
     "output_type": "execute_result"
    }
   ],
   "source": [
    "np.average([0.2,0.5,0.7], weights = [0.5, 0.2, 0.3])"
   ]
  },
  {
   "cell_type": "code",
   "execution_count": 112,
   "metadata": {
    "collapsed": false
   },
   "outputs": [
    {
     "name": "stdout",
     "output_type": "stream",
     "text": [
      "[[0 1 2]\n",
      " [3 4 5]]\n",
      "5\n",
      "[1 1 1]\n",
      "[2 2]\n"
     ]
    }
   ],
   "source": [
    "# demo of argmax, returns index position containing largest value\n",
    "# can search over different axes, 0 calculates over columns, 1 calculates over rows as usual\n",
    "a = np.arange(6).reshape(2,3)\n",
    "print a\n",
    "print np.argmax(a)\n",
    "print np.argmax(a, axis=0)\n",
    "print np.argmax(a, axis=1)"
   ]
  },
  {
   "cell_type": "code",
   "execution_count": 113,
   "metadata": {
    "collapsed": false
   },
   "outputs": [],
   "source": [
    "# Let's create our OWN majority classifier\n",
    "\n",
    "from sklearn.base import BaseEstimator\n",
    "from sklearn.base import ClassifierMixin\n",
    "from sklearn.preprocessing import LabelEncoder\n",
    "from sklearn.externals import six\n",
    "from sklearn.base import clone\n",
    "from sklearn.pipeline import _name_estimators\n",
    "import numpy as np\n",
    "import operator\n",
    "\n",
    "\n",
    "class MajorityVoteClassifier(BaseEstimator, ClassifierMixin):\n",
    "    def __init__(self, classifiers, vote='classlabel',weights=None):\n",
    "        self.classifiers = classifiers\n",
    "        self.named_classifiers = {key:value for key,value in _name_estimators(classifiers)}\n",
    "        self.vote = vote\n",
    "        self.weights = weights\n",
    "    \n",
    "    def fit(self, X, y):\n",
    "        self.lablenc_ = LabelEncoder()\n",
    "        self.lablenc_.fit(y)\n",
    "        self.classes_ = self.lablenc_.classes_\n",
    "        self.classifiers_ = []\n",
    "        for clf in self.classifiers:\n",
    "            fitted_clf = clone(clf).fit(X, self.lablenc_.transform(y))\n",
    "            self.classifiers_.append(fitted_clf)\n",
    "        return self\n",
    "   \n",
    "    def predict(self, X):\n",
    "        if self.vote == 'probability':\n",
    "            maj_vote = np.argmax(self.predict_proba(X), axis=1)\n",
    "        else:\n",
    "            predictions = np.asarray([clf.predict(X) for clf in self.classifiers_]).T\n",
    "            maj_vote = np.apply_along_axis(lambda x: np.argmax(np.bincount(x, axis=1, arr=predictions)))\n",
    "        maj_vote = self.labelenc_.inverse_transform(maj_vote)\n",
    "        return maj_vote\n",
    "    \n",
    "    def predict_proba(self, X):\n",
    "        probas = np.asarray([clf.predict_proba(X) for clf in self.classifiers_])\n",
    "        avg_proba = np.average(probas, axis=0, weights=self.weights)\n",
    "        return avg_proba\n",
    "    \n",
    "    def get_params(self, deep=True):\n",
    "        if not deep:\n",
    "            return super(MajorityVoteClassifier, self).get_params(deep=False)\n",
    "        else:\n",
    "            out = self.named_classifiers.copy()\n",
    "            for name, step in six.iteritems(self.named_classifiers):\n",
    "                for key, value in six.iteritems(step.get_params(deep=True)):\n",
    "                    out['%s__%s' % (name, key)] = value\n",
    "            return out"
   ]
  },
  {
   "cell_type": "code",
   "execution_count": 114,
   "metadata": {
    "collapsed": true
   },
   "outputs": [],
   "source": [
    "from sklearn import datasets\n",
    "from sklearn.cross_validation import train_test_split\n",
    "from sklearn.preprocessing import StandardScaler\n",
    "from sklearn.preprocessing import LabelEncoder\n",
    "iris = datasets.load_iris()\n",
    "X, y = iris.data[50:,[1,2]], iris.target[50:]\n",
    "le = LabelEncoder()\n",
    "y = le.fit_transform(y)\n",
    "\n",
    "X_train, X_test, y_train, y_test = train_test_split(X, y, test_size=0.5, random_state=1) # can stratify here\n"
   ]
  },
  {
   "cell_type": "code",
   "execution_count": 115,
   "metadata": {
    "collapsed": false
   },
   "outputs": [
    {
     "name": "stdout",
     "output_type": "stream",
     "text": [
      "10 fold CV:\n",
      "\n",
      "ROC AUC: 0.92 (+/- 0.20) [Logistic]\n",
      "ROC AUC: 0.92 (+/- 0.15) [Decision Tree]\n",
      "ROC AUC: 0.93 (+/- 0.10) [KNN]\n",
      "ROC AUC: 0.95 (+/- 0.15) [RFC]\n",
      "ROC AUC: 0.97 (+/- 0.10) [VotingClassifier]\n"
     ]
    }
   ],
   "source": [
    "# now train three classifiers: logistic regression, decision tree and k-nn and look @ performance on 10 fold CV\n",
    "\n",
    "from sklearn.cross_validation import cross_val_score\n",
    "from sklearn.linear_model import LogisticRegression\n",
    "from sklearn.tree import DecisionTreeClassifier\n",
    "from sklearn.neighbors import KNeighborsClassifier\n",
    "from sklearn.ensemble import RandomForestClassifier \n",
    "from sklearn.ensemble import VotingClassifier\n",
    "from sklearn.pipeline import Pipeline\n",
    "import numpy as np\n",
    "\n",
    "clf1 = LogisticRegression(penalty='l2', C=0.001, random_state=0)\n",
    "clf2 = DecisionTreeClassifier(max_depth = 1, criterion = 'entropy', random_state = 0)\n",
    "clf3 = KNeighborsClassifier(n_neighbors=1, p=2, metric='minkowski') # use L2 norm\n",
    "clf4 = RandomForestClassifier(max_depth = 3, n_estimators = 150, random_state = 0)\n",
    "\n",
    "# now let's use a voting classifier, pretty fking COOL!\n",
    "pipe1 = Pipeline ([['sc', StandardScaler()], ['clf', clf1]]) # set up a pipe to standardize for logistic\n",
    "pipe3 = Pipeline([['sc', StandardScaler()], ['clf',clf3]]) # set up another pipe to standardize for KNN\n",
    "clf5 = VotingClassifier(estimators=[('lr', pipe1), ('dtree', clf2), ('knn', pipe3)], voting='soft')\n",
    "clf_labels = ['Logistic', 'Decision Tree', 'KNN', 'RFC', 'VotingClassifier']\n",
    "\n",
    "print '10 fold CV:\\n'\n",
    "\n",
    "for clf, label in zip([pipe1, clf2, pipe3, clf4, clf5], clf_labels):\n",
    "    scores = cross_val_score(estimator=clf, X=X_train, y=y_train, cv=10, scoring='roc_auc') # training validation\n",
    "    print('ROC AUC: %0.2f (+/- %0.2f) [%s]' % (scores.mean(), scores.std(), label))"
   ]
  },
  {
   "cell_type": "markdown",
   "metadata": {},
   "source": [
    "Our voting classifier performs the best, by far, with the least standard deviation across our folds"
   ]
  },
  {
   "cell_type": "code",
   "execution_count": 116,
   "metadata": {
    "collapsed": true
   },
   "outputs": [],
   "source": [
    "all_clf = [pipe1, clf2, pipe3, clf4, clf5]"
   ]
  },
  {
   "cell_type": "markdown",
   "metadata": {},
   "source": [
    "Logistic Regression and K-NN using the euclidean distance are not scale invariant, so we must transform them, hence the pipeline\n",
    "\n",
    "Now let's combine the classifiers"
   ]
  },
  {
   "cell_type": "code",
   "execution_count": 117,
   "metadata": {
    "collapsed": false
   },
   "outputs": [
    {
     "data": {
      "text/plain": [
       "\"\\nmv_clf = MajorityVoteClassifier(classifiers=[pipe1, clf2, pipe3])\\nclf_labels += ['Majority Voting']\\nfor clf, label in zip(all_clf, clf_labels):\\n    scores = cross_val_score(estimator=clf, X=X_train, y= y_train, cv=10, scoring = 'roc_auc')\\n    print 'Accuracy: %0.2f (+/- %0.2f) [%s]' % (scores.mean(), scores.std(), label)\\n\""
      ]
     },
     "execution_count": 117,
     "metadata": {},
     "output_type": "execute_result"
    }
   ],
   "source": [
    "'''\n",
    "mv_clf = MajorityVoteClassifier(classifiers=[pipe1, clf2, pipe3])\n",
    "clf_labels += ['Majority Voting']\n",
    "for clf, label in zip(all_clf, clf_labels):\n",
    "    scores = cross_val_score(estimator=clf, X=X_train, y= y_train, cv=10, scoring = 'roc_auc')\n",
    "    print 'Accuracy: %0.2f (+/- %0.2f) [%s]' % (scores.mean(), scores.std(), label)\n",
    "'''"
   ]
  },
  {
   "cell_type": "markdown",
   "metadata": {},
   "source": [
    "Now let's plot an ROC curve"
   ]
  },
  {
   "cell_type": "code",
   "execution_count": 118,
   "metadata": {
    "collapsed": false
   },
   "outputs": [
    {
     "data": {
      "image/png": "[encoded data removed]",
      "text/plain": [
       "<matplotlib.figure.Figure at 0x106411710>"
      ]
     },
     "metadata": {},
     "output_type": "display_data"
    }
   ],
   "source": [
    "from sklearn.metrics import roc_curve\n",
    "from sklearn.metrics import auc\n",
    "\n",
    "colors = ['black','orange','blue','green','red']\n",
    "linestyles = [':','--','-.','-',\"\"]\n",
    "for clf, label, clr, ls in zip(all_clf, clf_labels, colors, linestyles):\n",
    "    # assuming positive class is 1\n",
    "    y_pred = clf.fit(X_train, y_train).predict_proba(X_test)[:,1]\n",
    "    fpr, tpr, thresholds = roc_curve(y_true= y_test, y_score=y_pred) # get false positive rate, true positive rate\n",
    "    roc_auc = auc(x=fpr, y=tpr)\n",
    "    plt.plot(fpr, tpr, color = clr, linestyle=ls, label='%s (auc = %0.2f)' % (label, roc_auc), linewidth=1.5)\n",
    "plt.legend(loc='lower right')\n",
    "plt.plot([0,1],[0,1],linestyle='--', color='gray', linewidth=2)\n",
    "plt.xlim([-0.1, 1.1])\n",
    "plt.ylim([-0.1, 1.1])\n",
    "plt.grid()\n",
    "plt.xlabel('FPR')\n",
    "plt.ylabel('TPR')\n",
    "plt.show()"
   ]
  },
  {
   "cell_type": "code",
   "execution_count": 119,
   "metadata": {
    "collapsed": false
   },
   "outputs": [
    {
     "data": {
      "text/plain": [
       "array([ 0.80759928,  0.80626096,  0.80550269,  0.81010301,  0.80799205,\n",
       "        0.16471057,  0.16662598,  0.80664771,  0.47101216,  0.80685021,\n",
       "        0.80550269,  0.16413359,  0.1650851 ,  0.80760537,  0.80550269,\n",
       "        0.16432997,  0.16336945,  0.16490088,  0.80664771,  0.16221591,\n",
       "        0.4725622 ,  0.80512202,  0.80627314,  0.80684412,  0.16394331,\n",
       "        0.16682544,  0.8078048 ,  0.47255915,  0.1652876 ,  0.16529064,\n",
       "        0.81067353,  0.80608281,  0.80741506,  0.80627314,  0.47217849,\n",
       "        0.16508815,  0.16223113,  0.80914584,  0.49937918,  0.16605194,\n",
       "        0.80780784,  0.80684107,  0.47236882,  0.16605498,  0.80569606,\n",
       "        0.16624227,  0.16548096,  0.80627619,  0.80512507,  0.80742724])"
      ]
     },
     "execution_count": 119,
     "metadata": {},
     "output_type": "execute_result"
    }
   ],
   "source": [
    "y_pred = clf.fit(X_train, y_train).predict_proba(X_test)[:,1]\n",
    "y_pred"
   ]
  },
  {
   "cell_type": "markdown",
   "metadata": {},
   "source": [
    "Interestingly, decisionr egions of the ensemble classifier seem to be a hybrid of the decisionr egions from the individual classifiers"
   ]
  },
  {
   "cell_type": "code",
   "execution_count": 120,
   "metadata": {
    "collapsed": false
   },
   "outputs": [
    {
     "data": {
      "text/plain": [
       "GridSearchCV(cv=10, error_score='raise',\n",
       "       estimator=RandomForestClassifier(bootstrap=True, class_weight=None, criterion='gini',\n",
       "            max_depth=3, max_features='auto', max_leaf_nodes=None,\n",
       "            min_samples_leaf=1, min_samples_split=2,\n",
       "            min_weight_fraction_leaf=0.0, n_estimators=150, n_jobs=1,\n",
       "            oob_score=False, random_state=0, verbose=0, warm_start=False),\n",
       "       fit_params={}, iid=True, n_jobs=1,\n",
       "       param_grid={'max_depth': [1, 2, 3, 4]}, pre_dispatch='2*n_jobs',\n",
       "       refit=True, scoring='roc_auc', verbose=0)"
      ]
     },
     "execution_count": 120,
     "metadata": {},
     "output_type": "execute_result"
    }
   ],
   "source": [
    "from sklearn.grid_search import GridSearchCV\n",
    "params = {'max_depth':[1,2,3,4]}\n",
    "grid = GridSearchCV(estimator=clf4, param_grid=params,cv=10, scoring='roc_auc')\n",
    "grid.fit(X_train, y_train)"
   ]
  },
  {
   "cell_type": "code",
   "execution_count": 121,
   "metadata": {
    "collapsed": false
   },
   "outputs": [
    {
     "name": "stdout",
     "output_type": "stream",
     "text": [
      "0.900 +/- 0.15 {'max_depth': 1}\n",
      "0.950 +/- 0.07 {'max_depth': 2}\n",
      "0.950 +/- 0.07 {'max_depth': 3}\n",
      "0.950 +/- 0.07 {'max_depth': 4}\n"
     ]
    }
   ],
   "source": [
    "for params, mean_score, scores in grid.grid_scores_:\n",
    "    print '%0.3f +/- %0.2f %r' % (mean_score, scores.std()/2, params)"
   ]
  },
  {
   "cell_type": "code",
   "execution_count": 122,
   "metadata": {
    "collapsed": false
   },
   "outputs": [
    {
     "data": {
      "text/plain": [
       "{'dtree': DecisionTreeClassifier(class_weight=None, criterion='entropy', max_depth=1,\n",
       "             max_features=None, max_leaf_nodes=None, min_samples_leaf=1,\n",
       "             min_samples_split=2, min_weight_fraction_leaf=0.0,\n",
       "             presort=False, random_state=0, splitter='best'),\n",
       " 'dtree__class_weight': None,\n",
       " 'dtree__criterion': 'entropy',\n",
       " 'dtree__max_depth': 1,\n",
       " 'dtree__max_features': None,\n",
       " 'dtree__max_leaf_nodes': None,\n",
       " 'dtree__min_samples_leaf': 1,\n",
       " 'dtree__min_samples_split': 2,\n",
       " 'dtree__min_weight_fraction_leaf': 0.0,\n",
       " 'dtree__presort': False,\n",
       " 'dtree__random_state': 0,\n",
       " 'dtree__splitter': 'best',\n",
       " 'estimators': [('lr',\n",
       "   Pipeline(steps=[['sc', StandardScaler(copy=True, with_mean=True, with_std=True)], ['clf', LogisticRegression(C=0.001, class_weight=None, dual=False, fit_intercept=True,\n",
       "             intercept_scaling=1, max_iter=100, multi_class='ovr', n_jobs=1,\n",
       "             penalty='l2', random_state=0, solver='liblinear', tol=0.0001,\n",
       "             verbose=0, warm_start=False)]])),\n",
       "  ('dtree',\n",
       "   DecisionTreeClassifier(class_weight=None, criterion='entropy', max_depth=1,\n",
       "               max_features=None, max_leaf_nodes=None, min_samples_leaf=1,\n",
       "               min_samples_split=2, min_weight_fraction_leaf=0.0,\n",
       "               presort=False, random_state=0, splitter='best')),\n",
       "  ('knn',\n",
       "   Pipeline(steps=[['sc', StandardScaler(copy=True, with_mean=True, with_std=True)], ['clf', KNeighborsClassifier(algorithm='auto', leaf_size=30, metric='minkowski',\n",
       "              metric_params=None, n_jobs=1, n_neighbors=1, p=2,\n",
       "              weights='uniform')]]))],\n",
       " 'knn': Pipeline(steps=[['sc', StandardScaler(copy=True, with_mean=True, with_std=True)], ['clf', KNeighborsClassifier(algorithm='auto', leaf_size=30, metric='minkowski',\n",
       "            metric_params=None, n_jobs=1, n_neighbors=1, p=2,\n",
       "            weights='uniform')]]),\n",
       " 'knn__clf': KNeighborsClassifier(algorithm='auto', leaf_size=30, metric='minkowski',\n",
       "            metric_params=None, n_jobs=1, n_neighbors=1, p=2,\n",
       "            weights='uniform'),\n",
       " 'knn__clf__algorithm': 'auto',\n",
       " 'knn__clf__leaf_size': 30,\n",
       " 'knn__clf__metric': 'minkowski',\n",
       " 'knn__clf__metric_params': None,\n",
       " 'knn__clf__n_jobs': 1,\n",
       " 'knn__clf__n_neighbors': 1,\n",
       " 'knn__clf__p': 2,\n",
       " 'knn__clf__weights': 'uniform',\n",
       " 'knn__sc': StandardScaler(copy=True, with_mean=True, with_std=True),\n",
       " 'knn__sc__copy': True,\n",
       " 'knn__sc__with_mean': True,\n",
       " 'knn__sc__with_std': True,\n",
       " 'knn__steps': [['sc',\n",
       "   StandardScaler(copy=True, with_mean=True, with_std=True)],\n",
       "  ['clf',\n",
       "   KNeighborsClassifier(algorithm='auto', leaf_size=30, metric='minkowski',\n",
       "              metric_params=None, n_jobs=1, n_neighbors=1, p=2,\n",
       "              weights='uniform')]],\n",
       " 'lr': Pipeline(steps=[['sc', StandardScaler(copy=True, with_mean=True, with_std=True)], ['clf', LogisticRegression(C=0.001, class_weight=None, dual=False, fit_intercept=True,\n",
       "           intercept_scaling=1, max_iter=100, multi_class='ovr', n_jobs=1,\n",
       "           penalty='l2', random_state=0, solver='liblinear', tol=0.0001,\n",
       "           verbose=0, warm_start=False)]]),\n",
       " 'lr__clf': LogisticRegression(C=0.001, class_weight=None, dual=False, fit_intercept=True,\n",
       "           intercept_scaling=1, max_iter=100, multi_class='ovr', n_jobs=1,\n",
       "           penalty='l2', random_state=0, solver='liblinear', tol=0.0001,\n",
       "           verbose=0, warm_start=False),\n",
       " 'lr__clf__C': 0.001,\n",
       " 'lr__clf__class_weight': None,\n",
       " 'lr__clf__dual': False,\n",
       " 'lr__clf__fit_intercept': True,\n",
       " 'lr__clf__intercept_scaling': 1,\n",
       " 'lr__clf__max_iter': 100,\n",
       " 'lr__clf__multi_class': 'ovr',\n",
       " 'lr__clf__n_jobs': 1,\n",
       " 'lr__clf__penalty': 'l2',\n",
       " 'lr__clf__random_state': 0,\n",
       " 'lr__clf__solver': 'liblinear',\n",
       " 'lr__clf__tol': 0.0001,\n",
       " 'lr__clf__verbose': 0,\n",
       " 'lr__clf__warm_start': False,\n",
       " 'lr__sc': StandardScaler(copy=True, with_mean=True, with_std=True),\n",
       " 'lr__sc__copy': True,\n",
       " 'lr__sc__with_mean': True,\n",
       " 'lr__sc__with_std': True,\n",
       " 'lr__steps': [['sc',\n",
       "   StandardScaler(copy=True, with_mean=True, with_std=True)],\n",
       "  ['clf',\n",
       "   LogisticRegression(C=0.001, class_weight=None, dual=False, fit_intercept=True,\n",
       "             intercept_scaling=1, max_iter=100, multi_class='ovr', n_jobs=1,\n",
       "             penalty='l2', random_state=0, solver='liblinear', tol=0.0001,\n",
       "             verbose=0, warm_start=False)]],\n",
       " 'voting': 'soft',\n",
       " 'weights': None}"
      ]
     },
     "execution_count": 122,
     "metadata": {},
     "output_type": "execute_result"
    }
   ],
   "source": [
    "clf5.get_params(deep=True) # deep = True will let us see how to reference the different models and parameters\n",
    "# in a grid search"
   ]
  },
  {
   "cell_type": "code",
   "execution_count": 123,
   "metadata": {
    "collapsed": true
   },
   "outputs": [],
   "source": [
    "params = {'dtree__max_depth':[1,2,3], 'knn__clf__n_neighbors':[1,2,3,4], 'lr__clf__C':[0.001, 0.01, 0.1, 1, 2, 5] }"
   ]
  },
  {
   "cell_type": "code",
   "execution_count": 124,
   "metadata": {
    "collapsed": false
   },
   "outputs": [
    {
     "data": {
      "text/plain": [
       "GridSearchCV(cv=10, error_score='raise',\n",
       "       estimator=VotingClassifier(estimators=[('lr', Pipeline(steps=[['sc', StandardScaler(copy=True, with_mean=True, with_std=True)], ['clf', LogisticRegression(C=0.001, class_weight=None, dual=False, fit_intercept=True,\n",
       "          intercept_scaling=1, max_iter=100, multi_class='ovr', n_jobs=1,\n",
       "          penalty='l2', random_state=0...ki',\n",
       "           metric_params=None, n_jobs=1, n_neighbors=1, p=2,\n",
       "           weights='uniform')]]))],\n",
       "         voting='soft', weights=None),\n",
       "       fit_params={}, iid=True, n_jobs=1,\n",
       "       param_grid={'lr__clf__C': [0.001, 0.01, 0.1, 1, 2, 5], 'dtree__max_depth': [1, 2, 3], 'knn__clf__n_neighbors': [1, 2, 3, 4]},\n",
       "       pre_dispatch='2*n_jobs', refit=True, scoring='roc_auc', verbose=0)"
      ]
     },
     "execution_count": 124,
     "metadata": {},
     "output_type": "execute_result"
    }
   ],
   "source": [
    "grid = GridSearchCV(estimator = clf5, param_grid = params, cv=10, scoring='roc_auc')\n",
    "grid.fit(X_train, y_train)"
   ]
  },
  {
   "cell_type": "code",
   "execution_count": 125,
   "metadata": {
    "collapsed": false
   },
   "outputs": [
    {
     "name": "stdout",
     "output_type": "stream",
     "text": [
      "0.967 +/- 0.05 {'lr__clf__C': 0.001, 'dtree__max_depth': 1, 'knn__clf__n_neighbors': 1}\n",
      "0.967 +/- 0.05 {'lr__clf__C': 0.01, 'dtree__max_depth': 1, 'knn__clf__n_neighbors': 1}\n",
      "0.967 +/- 0.05 {'lr__clf__C': 0.1, 'dtree__max_depth': 1, 'knn__clf__n_neighbors': 1}\n",
      "1.000 +/- 0.00 {'lr__clf__C': 1, 'dtree__max_depth': 1, 'knn__clf__n_neighbors': 1}\n",
      "1.000 +/- 0.00 {'lr__clf__C': 2, 'dtree__max_depth': 1, 'knn__clf__n_neighbors': 1}\n",
      "1.000 +/- 0.00 {'lr__clf__C': 5, 'dtree__max_depth': 1, 'knn__clf__n_neighbors': 1}\n",
      "0.967 +/- 0.05 {'lr__clf__C': 0.001, 'dtree__max_depth': 1, 'knn__clf__n_neighbors': 2}\n",
      "0.967 +/- 0.05 {'lr__clf__C': 0.01, 'dtree__max_depth': 1, 'knn__clf__n_neighbors': 2}\n",
      "0.967 +/- 0.05 {'lr__clf__C': 0.1, 'dtree__max_depth': 1, 'knn__clf__n_neighbors': 2}\n",
      "1.000 +/- 0.00 {'lr__clf__C': 1, 'dtree__max_depth': 1, 'knn__clf__n_neighbors': 2}\n",
      "1.000 +/- 0.00 {'lr__clf__C': 2, 'dtree__max_depth': 1, 'knn__clf__n_neighbors': 2}\n",
      "1.000 +/- 0.00 {'lr__clf__C': 5, 'dtree__max_depth': 1, 'knn__clf__n_neighbors': 2}\n",
      "0.933 +/- 0.10 {'lr__clf__C': 0.001, 'dtree__max_depth': 1, 'knn__clf__n_neighbors': 3}\n",
      "0.933 +/- 0.10 {'lr__clf__C': 0.01, 'dtree__max_depth': 1, 'knn__clf__n_neighbors': 3}\n",
      "0.950 +/- 0.07 {'lr__clf__C': 0.1, 'dtree__max_depth': 1, 'knn__clf__n_neighbors': 3}\n",
      "1.000 +/- 0.00 {'lr__clf__C': 1, 'dtree__max_depth': 1, 'knn__clf__n_neighbors': 3}\n",
      "1.000 +/- 0.00 {'lr__clf__C': 2, 'dtree__max_depth': 1, 'knn__clf__n_neighbors': 3}\n",
      "1.000 +/- 0.00 {'lr__clf__C': 5, 'dtree__max_depth': 1, 'knn__clf__n_neighbors': 3}\n",
      "0.933 +/- 0.10 {'lr__clf__C': 0.001, 'dtree__max_depth': 1, 'knn__clf__n_neighbors': 4}\n",
      "0.933 +/- 0.10 {'lr__clf__C': 0.01, 'dtree__max_depth': 1, 'knn__clf__n_neighbors': 4}\n",
      "0.950 +/- 0.07 {'lr__clf__C': 0.1, 'dtree__max_depth': 1, 'knn__clf__n_neighbors': 4}\n",
      "0.967 +/- 0.05 {'lr__clf__C': 1, 'dtree__max_depth': 1, 'knn__clf__n_neighbors': 4}\n",
      "0.967 +/- 0.05 {'lr__clf__C': 2, 'dtree__max_depth': 1, 'knn__clf__n_neighbors': 4}\n",
      "0.983 +/- 0.02 {'lr__clf__C': 5, 'dtree__max_depth': 1, 'knn__clf__n_neighbors': 4}\n",
      "0.967 +/- 0.05 {'lr__clf__C': 0.001, 'dtree__max_depth': 2, 'knn__clf__n_neighbors': 1}\n",
      "0.967 +/- 0.05 {'lr__clf__C': 0.01, 'dtree__max_depth': 2, 'knn__clf__n_neighbors': 1}\n",
      "0.967 +/- 0.05 {'lr__clf__C': 0.1, 'dtree__max_depth': 2, 'knn__clf__n_neighbors': 1}\n",
      "1.000 +/- 0.00 {'lr__clf__C': 1, 'dtree__max_depth': 2, 'knn__clf__n_neighbors': 1}\n",
      "1.000 +/- 0.00 {'lr__clf__C': 2, 'dtree__max_depth': 2, 'knn__clf__n_neighbors': 1}\n",
      "1.000 +/- 0.00 {'lr__clf__C': 5, 'dtree__max_depth': 2, 'knn__clf__n_neighbors': 1}\n",
      "0.967 +/- 0.05 {'lr__clf__C': 0.001, 'dtree__max_depth': 2, 'knn__clf__n_neighbors': 2}\n",
      "0.967 +/- 0.05 {'lr__clf__C': 0.01, 'dtree__max_depth': 2, 'knn__clf__n_neighbors': 2}\n",
      "0.967 +/- 0.05 {'lr__clf__C': 0.1, 'dtree__max_depth': 2, 'knn__clf__n_neighbors': 2}\n",
      "1.000 +/- 0.00 {'lr__clf__C': 1, 'dtree__max_depth': 2, 'knn__clf__n_neighbors': 2}\n",
      "1.000 +/- 0.00 {'lr__clf__C': 2, 'dtree__max_depth': 2, 'knn__clf__n_neighbors': 2}\n",
      "1.000 +/- 0.00 {'lr__clf__C': 5, 'dtree__max_depth': 2, 'knn__clf__n_neighbors': 2}\n",
      "0.933 +/- 0.10 {'lr__clf__C': 0.001, 'dtree__max_depth': 2, 'knn__clf__n_neighbors': 3}\n",
      "0.933 +/- 0.10 {'lr__clf__C': 0.01, 'dtree__max_depth': 2, 'knn__clf__n_neighbors': 3}\n",
      "0.950 +/- 0.07 {'lr__clf__C': 0.1, 'dtree__max_depth': 2, 'knn__clf__n_neighbors': 3}\n",
      "1.000 +/- 0.00 {'lr__clf__C': 1, 'dtree__max_depth': 2, 'knn__clf__n_neighbors': 3}\n",
      "1.000 +/- 0.00 {'lr__clf__C': 2, 'dtree__max_depth': 2, 'knn__clf__n_neighbors': 3}\n",
      "1.000 +/- 0.00 {'lr__clf__C': 5, 'dtree__max_depth': 2, 'knn__clf__n_neighbors': 3}\n",
      "0.933 +/- 0.10 {'lr__clf__C': 0.001, 'dtree__max_depth': 2, 'knn__clf__n_neighbors': 4}\n",
      "0.933 +/- 0.10 {'lr__clf__C': 0.01, 'dtree__max_depth': 2, 'knn__clf__n_neighbors': 4}\n",
      "0.950 +/- 0.07 {'lr__clf__C': 0.1, 'dtree__max_depth': 2, 'knn__clf__n_neighbors': 4}\n",
      "0.967 +/- 0.05 {'lr__clf__C': 1, 'dtree__max_depth': 2, 'knn__clf__n_neighbors': 4}\n",
      "0.967 +/- 0.05 {'lr__clf__C': 2, 'dtree__max_depth': 2, 'knn__clf__n_neighbors': 4}\n",
      "0.983 +/- 0.02 {'lr__clf__C': 5, 'dtree__max_depth': 2, 'knn__clf__n_neighbors': 4}\n",
      "0.967 +/- 0.05 {'lr__clf__C': 0.001, 'dtree__max_depth': 3, 'knn__clf__n_neighbors': 1}\n",
      "0.967 +/- 0.05 {'lr__clf__C': 0.01, 'dtree__max_depth': 3, 'knn__clf__n_neighbors': 1}\n",
      "0.967 +/- 0.05 {'lr__clf__C': 0.1, 'dtree__max_depth': 3, 'knn__clf__n_neighbors': 1}\n",
      "1.000 +/- 0.00 {'lr__clf__C': 1, 'dtree__max_depth': 3, 'knn__clf__n_neighbors': 1}\n",
      "1.000 +/- 0.00 {'lr__clf__C': 2, 'dtree__max_depth': 3, 'knn__clf__n_neighbors': 1}\n",
      "1.000 +/- 0.00 {'lr__clf__C': 5, 'dtree__max_depth': 3, 'knn__clf__n_neighbors': 1}\n",
      "0.967 +/- 0.05 {'lr__clf__C': 0.001, 'dtree__max_depth': 3, 'knn__clf__n_neighbors': 2}\n",
      "0.967 +/- 0.05 {'lr__clf__C': 0.01, 'dtree__max_depth': 3, 'knn__clf__n_neighbors': 2}\n",
      "0.967 +/- 0.05 {'lr__clf__C': 0.1, 'dtree__max_depth': 3, 'knn__clf__n_neighbors': 2}\n",
      "1.000 +/- 0.00 {'lr__clf__C': 1, 'dtree__max_depth': 3, 'knn__clf__n_neighbors': 2}\n",
      "1.000 +/- 0.00 {'lr__clf__C': 2, 'dtree__max_depth': 3, 'knn__clf__n_neighbors': 2}\n",
      "1.000 +/- 0.00 {'lr__clf__C': 5, 'dtree__max_depth': 3, 'knn__clf__n_neighbors': 2}\n",
      "0.933 +/- 0.10 {'lr__clf__C': 0.001, 'dtree__max_depth': 3, 'knn__clf__n_neighbors': 3}\n",
      "0.933 +/- 0.10 {'lr__clf__C': 0.01, 'dtree__max_depth': 3, 'knn__clf__n_neighbors': 3}\n",
      "0.950 +/- 0.07 {'lr__clf__C': 0.1, 'dtree__max_depth': 3, 'knn__clf__n_neighbors': 3}\n",
      "1.000 +/- 0.00 {'lr__clf__C': 1, 'dtree__max_depth': 3, 'knn__clf__n_neighbors': 3}\n",
      "1.000 +/- 0.00 {'lr__clf__C': 2, 'dtree__max_depth': 3, 'knn__clf__n_neighbors': 3}\n",
      "1.000 +/- 0.00 {'lr__clf__C': 5, 'dtree__max_depth': 3, 'knn__clf__n_neighbors': 3}\n",
      "0.933 +/- 0.10 {'lr__clf__C': 0.001, 'dtree__max_depth': 3, 'knn__clf__n_neighbors': 4}\n",
      "0.933 +/- 0.10 {'lr__clf__C': 0.01, 'dtree__max_depth': 3, 'knn__clf__n_neighbors': 4}\n",
      "0.950 +/- 0.07 {'lr__clf__C': 0.1, 'dtree__max_depth': 3, 'knn__clf__n_neighbors': 4}\n",
      "0.967 +/- 0.05 {'lr__clf__C': 1, 'dtree__max_depth': 3, 'knn__clf__n_neighbors': 4}\n",
      "0.967 +/- 0.05 {'lr__clf__C': 2, 'dtree__max_depth': 3, 'knn__clf__n_neighbors': 4}\n",
      "0.983 +/- 0.02 {'lr__clf__C': 5, 'dtree__max_depth': 3, 'knn__clf__n_neighbors': 4}\n"
     ]
    }
   ],
   "source": [
    "# now let's run a grid search over all of the models adjusting parameters and grabbing an AUC score\n",
    "\n",
    "for params, mean_score, scores in grid.grid_scores_:\n",
    "    print '%0.3f +/- %0.2f %r' %(mean_score, scores.std()/2, params)"
   ]
  },
  {
   "cell_type": "code",
   "execution_count": 126,
   "metadata": {
    "collapsed": false
   },
   "outputs": [
    {
     "data": {
      "text/plain": [
       "{'clf': KNeighborsClassifier(algorithm='auto', leaf_size=30, metric='minkowski',\n",
       "            metric_params=None, n_jobs=1, n_neighbors=1, p=2,\n",
       "            weights='uniform'),\n",
       " 'clf__algorithm': 'auto',\n",
       " 'clf__leaf_size': 30,\n",
       " 'clf__metric': 'minkowski',\n",
       " 'clf__metric_params': None,\n",
       " 'clf__n_jobs': 1,\n",
       " 'clf__n_neighbors': 1,\n",
       " 'clf__p': 2,\n",
       " 'clf__weights': 'uniform',\n",
       " 'sc': StandardScaler(copy=True, with_mean=True, with_std=True),\n",
       " 'sc__copy': True,\n",
       " 'sc__with_mean': True,\n",
       " 'sc__with_std': True,\n",
       " 'steps': [['sc', StandardScaler(copy=True, with_mean=True, with_std=True)],\n",
       "  ['clf',\n",
       "   KNeighborsClassifier(algorithm='auto', leaf_size=30, metric='minkowski',\n",
       "              metric_params=None, n_jobs=1, n_neighbors=1, p=2,\n",
       "              weights='uniform')]]}"
      ]
     },
     "execution_count": 126,
     "metadata": {},
     "output_type": "execute_result"
    }
   ],
   "source": [
    "pipe3.get_params(deep=True)"
   ]
  },
  {
   "cell_type": "markdown",
   "metadata": {},
   "source": [
    "## Now let's play with a K-Nearest Neighbors"
   ]
  },
  {
   "cell_type": "code",
   "execution_count": 127,
   "metadata": {
    "collapsed": false
   },
   "outputs": [
    {
     "data": {
      "text/plain": [
       "GridSearchCV(cv=10, error_score='raise',\n",
       "       estimator=Pipeline(steps=[['sc', StandardScaler(copy=True, with_mean=True, with_std=True)], ['clf', KNeighborsClassifier(algorithm='auto', leaf_size=30, metric='minkowski',\n",
       "           metric_params=None, n_jobs=1, n_neighbors=1, p=2,\n",
       "           weights='uniform')]]),\n",
       "       fit_params={}, iid=True, n_jobs=1,\n",
       "       param_grid={'clf__n_neighbors': [1, 2, 3, 4, 5], 'clf__p': [1, 2, 99]},\n",
       "       pre_dispatch='2*n_jobs', refit=True, scoring='roc_auc', verbose=0)"
      ]
     },
     "execution_count": 127,
     "metadata": {},
     "output_type": "execute_result"
    }
   ],
   "source": [
    "params = {'clf__p':[1,2,99],'clf__n_neighbors':[1,2,3,4,5]} # set up parameters to pass to GridSearch\n",
    "grid = GridSearchCV(estimator = pipe3, param_grid=params, cv=10, scoring='roc_auc') # set up GridSearch object w/score\n",
    "grid.fit(X_train, y_train) # fit them all"
   ]
  },
  {
   "cell_type": "code",
   "execution_count": 128,
   "metadata": {
    "collapsed": false
   },
   "outputs": [
    {
     "data": {
      "text/plain": [
       "[mean: 0.93333, std: 0.10408, params: {'clf__p': 1, 'clf__n_neighbors': 1},\n",
       " mean: 0.93333, std: 0.10408, params: {'clf__p': 2, 'clf__n_neighbors': 1},\n",
       " mean: 0.93333, std: 0.10408, params: {'clf__p': 99, 'clf__n_neighbors': 1},\n",
       " mean: 0.93333, std: 0.10408, params: {'clf__p': 1, 'clf__n_neighbors': 2},\n",
       " mean: 0.93333, std: 0.10408, params: {'clf__p': 2, 'clf__n_neighbors': 2},\n",
       " mean: 0.93333, std: 0.10408, params: {'clf__p': 99, 'clf__n_neighbors': 2},\n",
       " mean: 0.92500, std: 0.12047, params: {'clf__p': 1, 'clf__n_neighbors': 3},\n",
       " mean: 0.92500, std: 0.12047, params: {'clf__p': 2, 'clf__n_neighbors': 3},\n",
       " mean: 0.92500, std: 0.12047, params: {'clf__p': 99, 'clf__n_neighbors': 3},\n",
       " mean: 0.93333, std: 0.15275, params: {'clf__p': 1, 'clf__n_neighbors': 4},\n",
       " mean: 0.95000, std: 0.15000, params: {'clf__p': 2, 'clf__n_neighbors': 4},\n",
       " mean: 0.95000, std: 0.15000, params: {'clf__p': 99, 'clf__n_neighbors': 4},\n",
       " mean: 0.93333, std: 0.15275, params: {'clf__p': 1, 'clf__n_neighbors': 5},\n",
       " mean: 0.95000, std: 0.15000, params: {'clf__p': 2, 'clf__n_neighbors': 5},\n",
       " mean: 0.94167, std: 0.14930, params: {'clf__p': 99, 'clf__n_neighbors': 5}]"
      ]
     },
     "execution_count": 128,
     "metadata": {},
     "output_type": "execute_result"
    }
   ],
   "source": [
    "grid.grid_scores_"
   ]
  },
  {
   "cell_type": "code",
   "execution_count": 136,
   "metadata": {
    "collapsed": false
   },
   "outputs": [
    {
     "name": "stdout",
     "output_type": "stream",
     "text": [
      "{'clf__p': 2, 'clf__n_neighbors': 4} \n",
      "0.95 \n",
      "Pipeline(steps=[['sc', StandardScaler(copy=True, with_mean=True, with_std=True)], ['clf', KNeighborsClassifier(algorithm='auto', leaf_size=30, metric='minkowski',\n",
      "           metric_params=None, n_jobs=1, n_neighbors=4, p=2,\n",
      "           weights='uniform')]])\n"
     ]
    }
   ],
   "source": [
    "print grid.best_params_, '\\n',grid.best_score_, '\\n', grid.best_estimator_"
   ]
  },
  {
   "cell_type": "markdown",
   "metadata": {},
   "source": [
    "## Ensemble Method: Bagging"
   ]
  },
  {
   "cell_type": "markdown",
   "metadata": {},
   "source": [
    "Closely related to the MajorityVoteClassifier except we resample or bootstrap sample from the entire dataset and train classifiers on each bootstrap\n",
    "\n",
    "Random samples with replacement, bagging is short for bootstrap aggregating\n",
    "\n",
    "Each bootstrap sample is used to fit a classifier Cj, which is most typically an unpruned decision tree (a maxed out decision tree)\n",
    "\n",
    "Random forests are a special case of bagging where we also use random feature subsets to fit the individual decision trees\n",
    "\n",
    "Bagging can improve the accuracy of unstabe models and decrease the degree of overfitting\n"
   ]
  },
  {
   "cell_type": "code",
   "execution_count": 137,
   "metadata": {
    "collapsed": true
   },
   "outputs": [],
   "source": [
    "import pandas as pd\n",
    "df_wine = pd.read_csv('https://archive.ics.uci.edu/ml/machine-learning-databases/wine/wine.data', header=None)"
   ]
  },
  {
   "cell_type": "code",
   "execution_count": 143,
   "metadata": {
    "collapsed": true
   },
   "outputs": [],
   "source": [
    "df_wine.columns = ['Class label','Alcohol','Malic acid','Ash','Alcalinity of Ash','Magnesium','Total phenols',\n",
    "                   'Flavanoids','Nonflavanoid phenols','Proanthocyanins','Color intensity','Hue','OD280/OD315',\n",
    "                  'Proline']\n",
    "df_wine = df_wine[df_wine['Class label'] != 1]\n",
    "y = df_wine['Class label'].values\n",
    "X = df_wine[['Alcohol','Hue']].values"
   ]
  },
  {
   "cell_type": "code",
   "execution_count": 144,
   "metadata": {
    "collapsed": false
   },
   "outputs": [],
   "source": [
    "# encode the labels appropriately\n",
    "from sklearn.preprocessing import LabelEncoder\n",
    "from sklearn.cross_validation import train_test_split # set up initial split for training and testing\n",
    "le = LabelEncoder() # instantiate an encoder\n",
    "y = le.fit_transform(y)"
   ]
  },
  {
   "cell_type": "code",
   "execution_count": 157,
   "metadata": {
    "collapsed": false
   },
   "outputs": [],
   "source": [
    "# set up train and test splits\n",
    "X_train, X_test, y_train, y_test = train_test_split(X,y,test_size=0.4, random_state=1, stratify = y)"
   ]
  },
  {
   "cell_type": "code",
   "execution_count": 164,
   "metadata": {
    "collapsed": false
   },
   "outputs": [],
   "source": [
    "from sklearn.ensemble import BaggingClassifier\n",
    "from sklearn.tree import DecisionTreeClassifier\n",
    "\n",
    "tree = DecisionTreeClassifier(criterion='entropy', max_depth=None, random_state=1)\n",
    "bag = BaggingClassifier(base_estimator=tree, n_estimators=500, max_samples=1.0, max_features=1.0, bootstrap=True,\n",
    "                       bootstrap_features=False, n_jobs=-1, random_state=1)\n",
    "# we pass our unpruned tree object to the bagging classifier"
   ]
  },
  {
   "cell_type": "code",
   "execution_count": 165,
   "metadata": {
    "collapsed": false
   },
   "outputs": [
    {
     "name": "stdout",
     "output_type": "stream",
     "text": [
      "Decision tree train/test accuracies 1.000 / 0.875\n"
     ]
    }
   ],
   "source": [
    "from sklearn.metrics import accuracy_score\n",
    "tree = tree.fit(X_train, y_train)\n",
    "y_train_pred = tree.predict(X_train)\n",
    "y_test_pred = tree.predict(X_test)\n",
    "tree_train = accuracy_score(y_train, y_train_pred)\n",
    "tree_test = accuracy_score(y_test, y_test_pred)\n",
    "print 'Decision tree train/test accuracies %.3f / %.3f' %(tree_train, tree_test)"
   ]
  },
  {
   "cell_type": "markdown",
   "metadata": {},
   "source": [
    "We see some overfitting with our decision tree, because we let it max out"
   ]
  },
  {
   "cell_type": "code",
   "execution_count": 166,
   "metadata": {
    "collapsed": false
   },
   "outputs": [
    {
     "name": "stdout",
     "output_type": "stream",
     "text": [
      "Bagging train/test accuracies 1.000/0.896\n"
     ]
    }
   ],
   "source": [
    "bag = bag.fit(X_train, y_train)\n",
    "y_train_pred = bag.predict(X_train)\n",
    "y_test_pred = bag.predict(X_test)\n",
    "bag_train = accuracy_score(y_train, y_train_pred)\n",
    "bag_test = accuracy_score(y_test, y_test_pred)\n",
    "print 'Bagging train/test accuracies %.3f/%.3f' %(bag_train, bag_test)"
   ]
  },
  {
   "cell_type": "markdown",
   "metadata": {},
   "source": [
    "The training accuracies of the decision tree and bagging classifier are similar on the training set, the bagging classifier does not overfit the test set as much as the decision tree, it has better generalization performance as estimated by the test_set\n"
   ]
  },
  {
   "cell_type": "code",
   "execution_count": 265,
   "metadata": {
    "collapsed": false
   },
   "outputs": [
    {
     "name": "stdout",
     "output_type": "stream",
     "text": [
      "[0 0 0 ..., 0 0 0]\n",
      "[1 1 1 ..., 0 0 0]\n"
     ]
    },
    {
     "data": {
      "image/png": "[encoded data removed]",
      "text/plain": [
       "<matplotlib.figure.Figure at 0x117151890>"
      ]
     },
     "metadata": {},
     "output_type": "display_data"
    }
   ],
   "source": [
    "# goal here is to predict each point on the grid given the range of values we are plotting\n",
    "# a contour fill will allow us to encode the decision regions by getting the result of each individual prediction\n",
    "# we receive for every x,y point on the chart\n",
    "# set axes for each feature\n",
    "x_min = X_train[:,0].min()-1\n",
    "x_max = X_train[:,0].max()+1\n",
    "y_min = X_train[:,1].min()-1\n",
    "y_max = X_train[:,1].max()+1\n",
    "xx, yy = np.meshgrid(np.arange(x_min, x_max, 0.1), np.arange(y_min, y_max, 0.1))\n",
    "f, axarr = plt.subplots(nrows=1, ncols=2, sharex='col', sharey='row', figsize=(8,3))\n",
    "for idx, clf, tt in zip([0,1], [tree,bag], ['Decision Tree','Bagging']):\n",
    "    clf.fit(X_train, y_train)\n",
    "    Z = clf.predict(np.c_[xx.ravel(), yy.ravel()]) # predict each instance on the grid as 0,1, form a dataset\n",
    "                                                   # by passing in flattened array for xx and yy dimensions\n",
    "                                                   # then use .c_ to concatenate both arrays\n",
    "    print Z\n",
    "    Z = Z.reshape(xx.shape) # reshape Z results to fit the grid points and prepare for contour\n",
    "    axarr[idx].contourf(xx, yy, Z, alpha=0.1) # contourfill the points @ xx, yy Z to show decision boundaries\n",
    "    axarr[idx].scatter(X_train[y_train==0,0],\n",
    "                       X_train[y_train==0,1],\n",
    "                       c='blue', marker='^')\n",
    "    axarr[idx].scatter(X_train[y_train==1,0],\n",
    "                       X_train[y_train==1,1],\n",
    "                       c='red', marker='o')\n",
    "    axarr[idx].set_title(tt)\n",
    "axarr[0].set_ylabel('Alcohol',fontsize=12)\n",
    "plt.text(10.2,-1.2,s='Hue',ha='center',va='center',fontsize=12)\n",
    "plt.show()    "
   ]
  },
  {
   "cell_type": "markdown",
   "metadata": {},
   "source": [
    "More complex classification tasks and datasets' high dimensionality can easily lea to overfitting in single decision trees and this is where the bagging algorithm can really play out its strengths. Bagging is ineffective in reducing model bias, which is why we want to choose an ensemble of classifiers with with low bias, for example, unpruned decision trees."
   ]
  },
  {
   "cell_type": "code",
   "execution_count": 266,
   "metadata": {
    "collapsed": false
   },
   "outputs": [
    {
     "data": {
      "text/plain": [
       "array([1, 2, 3, 4, 5, 6, 7, 8, 9])"
      ]
     },
     "execution_count": 266,
     "metadata": {},
     "output_type": "execute_result"
    }
   ],
   "source": [
    "test = [[1,2,3],\n",
    "       [4,5,6],\n",
    "       [7,8,9]]\n",
    "\n",
    "np.ravel(test) # returns one flattened array"
   ]
  },
  {
   "cell_type": "code",
   "execution_count": 247,
   "metadata": {
    "collapsed": false
   },
   "outputs": [
    {
     "data": {
      "text/plain": [
       "array([-0.52, -0.42, -0.32, -0.22, -0.12, -0.02,  0.08,  0.18,  0.28,\n",
       "        0.38,  0.48,  0.58,  0.68,  0.78,  0.88,  0.98,  1.08,  1.18,\n",
       "        1.28,  1.38,  1.48,  1.58,  1.68,  1.78,  1.88,  1.98,  2.08,\n",
       "        2.18,  2.28,  2.38])"
      ]
     },
     "execution_count": 247,
     "metadata": {},
     "output_type": "execute_result"
    }
   ],
   "source": [
    "np.arange(y_min, y_max, 0.1)"
   ]
  },
  {
   "cell_type": "code",
   "execution_count": 271,
   "metadata": {
    "collapsed": false
   },
   "outputs": [
    {
     "name": "stdout",
     "output_type": "stream",
     "text": [
      "(1440, 2) \n",
      "\n",
      "[[ 10.41  -0.52]\n",
      " [ 10.51  -0.52]\n",
      " [ 10.61  -0.52]\n",
      " ..., \n",
      " [ 14.91   2.38]\n",
      " [ 15.01   2.38]\n",
      " [ 15.11   2.38]]\n"
     ]
    }
   ],
   "source": [
    "print np.c_[xx.ravel(), yy.ravel()].shape, '\\n' # Translates slice objects to concatenation along the second axis.\n",
    "print np.c_[xx.ravel(), yy.ravel()]"
   ]
  },
  {
   "cell_type": "code",
   "execution_count": 261,
   "metadata": {
    "collapsed": false
   },
   "outputs": [
    {
     "data": {
      "text/plain": [
       "array([1, 2, 3, 0, 0, 4, 5, 6])"
      ]
     },
     "execution_count": 261,
     "metadata": {},
     "output_type": "execute_result"
    }
   ],
   "source": [
    "np.c_[np.array([[1,2,3]]), 0, 0, np.array([[4,5,6]])]"
   ]
  },
  {
   "cell_type": "code",
   "execution_count": 268,
   "metadata": {
    "collapsed": false
   },
   "outputs": [
    {
     "data": {
      "text/plain": [
       "(30, 48)"
      ]
     },
     "execution_count": 268,
     "metadata": {},
     "output_type": "execute_result"
    }
   ],
   "source": []
  },
  {
   "cell_type": "code",
   "execution_count": null,
   "metadata": {
    "collapsed": true
   },
   "outputs": [],
   "source": []
  }
 ],
 "metadata": {
  "kernelspec": {
   "display_name": "Python 2",
   "language": "python",
   "name": "python2"
  },
  "language_info": {
   "codemirror_mode": {
    "name": "ipython",
    "version": 2
   },
   "file_extension": ".py",
   "mimetype": "text/x-python",
   "name": "python",
   "nbconvert_exporter": "python",
   "pygments_lexer": "ipython2",
   "version": "2.7.11"
  }
 },
 "nbformat": 4,
 "nbformat_minor": 0
}
