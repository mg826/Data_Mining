{
 "cells": [
  {
   "cell_type": "markdown",
   "metadata": {},
   "source": [
    "## More Pandas: Dropping Entries From An Axis"
   ]
  },
  {
   "cell_type": "code",
   "execution_count": 1,
   "metadata": {
    "collapsed": false
   },
   "outputs": [
    {
     "name": "stdout",
     "output_type": "stream",
     "text": [
      "a    0\n",
      "b    1\n",
      "d    3\n",
      "e    4\n",
      "dtype: float64\n",
      "a    0\n",
      "b    1\n",
      "c    2\n",
      "d    3\n",
      "e    4\n",
      "dtype: float64\n"
     ]
    }
   ],
   "source": [
    "import pandas as pd\n",
    "from pandas import Series\n",
    "from pandas import DataFrame\n",
    "import numpy as np\n",
    "# dropping entries from an axis\n",
    "# drop method will return a new object with the indicated value or values deleted from an axis\n",
    "obj = Series(np.arange(5.), index=['a','b','c','d','e'])\n",
    "new_obj = obj.drop('c')\n",
    "print new_obj\n",
    "obj.drop(['d','c'])\n",
    "print obj"
   ]
  },
  {
   "cell_type": "code",
   "execution_count": 10,
   "metadata": {
    "collapsed": false
   },
   "outputs": [
    {
     "name": "stdout",
     "output_type": "stream",
     "text": [
      "          one  two  three  four\n",
      "Ohio        0    1      2     3\n",
      "Colorado    4    5      6     7\n",
      "Utah        8    9     10    11\n",
      "New York   12   13     14    15\n"
     ]
    },
    {
     "data": {
      "text/html": [
       "<div>\n",
       "<table border=\"1\" class=\"dataframe\">\n",
       "  <thead>\n",
       "    <tr style=\"text-align: right;\">\n",
       "      <th></th>\n",
       "      <th>one</th>\n",
       "      <th>three</th>\n",
       "    </tr>\n",
       "  </thead>\n",
       "  <tbody>\n",
       "    <tr>\n",
       "      <th>Ohio</th>\n",
       "      <td>0</td>\n",
       "      <td>2</td>\n",
       "    </tr>\n",
       "    <tr>\n",
       "      <th>Colorado</th>\n",
       "      <td>4</td>\n",
       "      <td>6</td>\n",
       "    </tr>\n",
       "    <tr>\n",
       "      <th>Utah</th>\n",
       "      <td>8</td>\n",
       "      <td>10</td>\n",
       "    </tr>\n",
       "    <tr>\n",
       "      <th>New York</th>\n",
       "      <td>12</td>\n",
       "      <td>14</td>\n",
       "    </tr>\n",
       "  </tbody>\n",
       "</table>\n",
       "</div>"
      ],
      "text/plain": [
       "          one  three\n",
       "Ohio        0      2\n",
       "Colorado    4      6\n",
       "Utah        8     10\n",
       "New York   12     14"
      ]
     },
     "execution_count": 10,
     "metadata": {},
     "output_type": "execute_result"
    }
   ],
   "source": [
    "data = DataFrame(np.arange(16).reshape((4,4)), index=['Ohio','Colorado','Utah','New York'],\n",
    "                columns=['one','two','three','four'])\n",
    "print data\n",
    "# drop based on indices\n",
    "data.drop(['Colorado','Ohio'])\n",
    "# drop a column\n",
    "data.drop('two', axis=1)\n",
    "data.drop(['two','four'], axis = 1)"
   ]
  },
  {
   "cell_type": "markdown",
   "metadata": {},
   "source": [
    "## Indexing, Selection and Filtering"
   ]
  },
  {
   "cell_type": "code",
   "execution_count": 14,
   "metadata": {
    "collapsed": false
   },
   "outputs": [
    {
     "name": "stdout",
     "output_type": "stream",
     "text": [
      "1.0\n",
      "1.0\n",
      "c    2\n",
      "d    3\n",
      "dtype: float64\n",
      "b    1\n",
      "a    0\n",
      "d    3\n",
      "dtype: float64\n",
      "b    1\n",
      "d    3\n",
      "dtype: float64\n",
      "a    0\n",
      "b    1\n",
      "dtype: float64\n"
     ]
    }
   ],
   "source": [
    "# can use series index values instead of only ints\n",
    "obj = Series(np.arange(4.), index=['a','b','c','d'])\n",
    "print obj['b']\n",
    "print obj[1]\n",
    "print obj[2:4]\n",
    "print obj[['b','a','d']]\n",
    "print obj[[1,3]]\n",
    "print obj[obj<2] # all entries < 2"
   ]
  },
  {
   "cell_type": "code",
   "execution_count": 17,
   "metadata": {
    "collapsed": false
   },
   "outputs": [
    {
     "name": "stdout",
     "output_type": "stream",
     "text": [
      "b    5\n",
      "c    5\n",
      "dtype: float64\n",
      "a    0\n",
      "b    5\n",
      "c    5\n",
      "d    3\n",
      "dtype: float64\n"
     ]
    }
   ],
   "source": [
    "# slicing with labels includes the endpoint\n",
    "print obj['b':'c']\n",
    "# setting behaves as we would expect\n",
    "obj['b':'c'] = 5\n",
    "print obj"
   ]
  },
  {
   "cell_type": "code",
   "execution_count": 2,
   "metadata": {
    "collapsed": false
   },
   "outputs": [
    {
     "name": "stdout",
     "output_type": "stream",
     "text": [
      "          one  two  three  four\n",
      "Ohio        0    1      2     3\n",
      "Colorado    4    5      6     7\n",
      "Utah        8    9     10    11\n",
      "New York   12   13     14    15\n"
     ]
    }
   ],
   "source": [
    "data = DataFrame(np.arange(16).reshape((4,4)), index = ['Ohio','Colorado','Utah','New York'],\n",
    "                 columns = ['one', 'two', 'three', 'four'])\n",
    "print data"
   ]
  },
  {
   "cell_type": "code",
   "execution_count": 20,
   "metadata": {
    "collapsed": false
   },
   "outputs": [
    {
     "name": "stdout",
     "output_type": "stream",
     "text": [
      "          one  two  three  four\n",
      "Ohio        0    1      2     3\n",
      "Colorado    4    5      6     7\n",
      "          one  two  three  four\n",
      "Colorado    4    5      6     7\n",
      "Utah        8    9     10    11\n",
      "New York   12   13     14    15\n"
     ]
    }
   ],
   "source": [
    "# print first  two records\n",
    "print data[:2]\n",
    "# print only the records where dimension 'three' > 5\n",
    "print data[data['three'] > 5]"
   ]
  },
  {
   "cell_type": "code",
   "execution_count": 22,
   "metadata": {
    "collapsed": false
   },
   "outputs": [
    {
     "name": "stdout",
     "output_type": "stream",
     "text": [
      "          one  two  three  four\n",
      "Ohio        0    0      0     0\n",
      "Colorado    0    5      6     7\n",
      "Utah        8    9     10    11\n",
      "New York   12   13     14    15\n"
     ]
    }
   ],
   "source": [
    "data < 5\n",
    "# notice the vectorization - tests for all entries in dataframe\n",
    "# set all values in dataframe < 5 = 0\n",
    "data[data < 5] = 0\n",
    "print data"
   ]
  },
  {
   "cell_type": "code",
   "execution_count": 25,
   "metadata": {
    "collapsed": false
   },
   "outputs": [
    {
     "data": {
      "text/html": [
       "<div>\n",
       "<table border=\"1\" class=\"dataframe\">\n",
       "  <thead>\n",
       "    <tr style=\"text-align: right;\">\n",
       "      <th></th>\n",
       "      <th>one</th>\n",
       "      <th>two</th>\n",
       "      <th>three</th>\n",
       "    </tr>\n",
       "  </thead>\n",
       "  <tbody>\n",
       "    <tr>\n",
       "      <th>Colorado</th>\n",
       "      <td>0</td>\n",
       "      <td>5</td>\n",
       "      <td>6</td>\n",
       "    </tr>\n",
       "    <tr>\n",
       "      <th>Utah</th>\n",
       "      <td>8</td>\n",
       "      <td>9</td>\n",
       "      <td>10</td>\n",
       "    </tr>\n",
       "    <tr>\n",
       "      <th>New York</th>\n",
       "      <td>12</td>\n",
       "      <td>13</td>\n",
       "      <td>14</td>\n",
       "    </tr>\n",
       "  </tbody>\n",
       "</table>\n",
       "</div>"
      ],
      "text/plain": [
       "          one  two  three\n",
       "Colorado    0    5      6\n",
       "Utah        8    9     10\n",
       "New York   12   13     14"
      ]
     },
     "execution_count": 25,
     "metadata": {},
     "output_type": "execute_result"
    }
   ],
   "source": [
    "# DataFrame label indexing on the rows, ix helps, select a subset of rows and columns rom a DataFrame with numpy \n",
    "# like notation plus axis labels\n",
    "data.ix['Colorado',['two','three']]\n",
    "# select Colorado rows for columns in position 3,0,1\n",
    "data.ix[['Colorado','Utah'],[3,0,1]]\n",
    "# index rows in column three where value is greater than 5, and columns 0,1,2\n",
    "data.ix[data.three > 5, :3]"
   ]
  },
  {
   "cell_type": "code",
   "execution_count": 4,
   "metadata": {
    "collapsed": false
   },
   "outputs": [
    {
     "name": "stdout",
     "output_type": "stream",
     "text": [
      "Ohio         2\n",
      "Colorado     6\n",
      "Utah        10\n",
      "New York    14\n",
      "Name: three, dtype: int64\n"
     ]
    },
    {
     "data": {
      "text/plain": [
       "one      4\n",
       "two      5\n",
       "three    6\n",
       "four     7\n",
       "Name: Colorado, dtype: int64"
      ]
     },
     "execution_count": 4,
     "metadata": {},
     "output_type": "execute_result"
    }
   ],
   "source": [
    "# obj[val] select single column or sequence of columns from dataframe, special cases: boolean array filter, slices\n",
    "# obj.ix[val] selects single row or subset of rows from dataframe\n",
    "# obj.ix[:, val] selects single column of subset of columns\n",
    "print data.ix[:, 'three']\n",
    "# obj.ix[val, val] select both rows and columns\n",
    "# reindex method conform one or more axes to new indexes\n",
    "# xs method select single row or column as a series by label\n",
    "data.xs('Colorado')\n",
    "# get_value, set_value methods select single value by row and column label\n",
    "# icol, irow methods, select single column or row, as a series by integer location\n"
   ]
  },
  {
   "cell_type": "code",
   "execution_count": null,
   "metadata": {
    "collapsed": true
   },
   "outputs": [],
   "source": []
  }
 ],
 "metadata": {
  "kernelspec": {
   "display_name": "Python 2",
   "language": "python",
   "name": "python2"
  },
  "language_info": {
   "codemirror_mode": {
    "name": "ipython",
    "version": 2
   },
   "file_extension": ".py",
   "mimetype": "text/x-python",
   "name": "python",
   "nbconvert_exporter": "python",
   "pygments_lexer": "ipython2",
   "version": "2.7.11"
  }
 },
 "nbformat": 4,
 "nbformat_minor": 0
}
