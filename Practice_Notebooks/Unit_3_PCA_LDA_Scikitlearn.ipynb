{
 "cells": [
  {
   "cell_type": "code",
   "execution_count": 85,
   "metadata": {
    "collapsed": false
   },
   "outputs": [],
   "source": [
    "import pandas as pd\n",
    "import numpy as np\n",
    "df_wine = pd.read_csv('https://archive.ics.uci.edu/ml/machine-learning-databases/wine/wine.data', header=None)"
   ]
  },
  {
   "cell_type": "code",
   "execution_count": 86,
   "metadata": {
    "collapsed": false
   },
   "outputs": [],
   "source": [
    "# process wine data into separate training and test sets \n",
    "from sklearn.cross_validation import train_test_split # this method allow us to split the data\n",
    "from sklearn.preprocessing import StandardScaler\n",
    "X, y = df_wine.iloc[:,1:].values, df_wine.iloc[:,0].values\n",
    "X_train, X_test, y_train, y_test = \\\n",
    "            train_test_split(X,y,test_size=0.3, random_state=0) # train_test_split takes N datasets,\n",
    "                                                                # and subsequently splits each sequentially twice\n",
    "                                                                # the first return is the training, second is test\n",
    "scaler = StandardScaler()\n",
    "X_train_std = scaler.fit_transform(X_train)\n",
    "X_test_std = scaler.transform(X_test) # use same transform from X_train on X_test"
   ]
  },
  {
   "cell_type": "code",
   "execution_count": 87,
   "metadata": {
    "collapsed": false
   },
   "outputs": [
    {
     "name": "stdout",
     "output_type": "stream",
     "text": [
      "-1.2341158561e-15\n",
      "1.0\n"
     ]
    }
   ],
   "source": [
    "print np.mean(X_train_std[:,1]) # and we have mean zero, stddev 1\n",
    "print np.std(X_train_std[:,1])"
   ]
  },
  {
   "cell_type": "code",
   "execution_count": 88,
   "metadata": {
    "collapsed": false
   },
   "outputs": [],
   "source": [
    "# now we can construct the covariance matrix from the standardized feature set\n",
    "# always a d x d dataset (dimension x dimension)\n",
    "# stores pairwise covariances between different features\n",
    "# covariance(j,k) where j,k are attributes = 1/n * sum of all (xij - mean of j) * sum of all (xik - mean of k)\n",
    "# positive covariance means features increase together and negative means vary in opposite directions\n",
    "# covariance matrix given as greek sigma\n",
    "# the eigenvectors of the covariance matrix represent the principal components (the directions of maximum variance)\n",
    "# the eigenvalues define their magnitude\n",
    "# 13 eigenvectors would be returned in the wine dataset because we have 13 attributes"
   ]
  },
  {
   "cell_type": "code",
   "execution_count": 93,
   "metadata": {
    "collapsed": false
   },
   "outputs": [
    {
     "data": {
      "text/plain": [
       "(13, 13)"
      ]
     },
     "execution_count": 93,
     "metadata": {},
     "output_type": "execute_result"
    }
   ],
   "source": [
    "cov_matrix = np.cov(X_train_std.T)\n",
    "cov_matrix.shape"
   ]
  },
  {
   "cell_type": "code",
   "execution_count": 95,
   "metadata": {
    "collapsed": false
   },
   "outputs": [
    {
     "name": "stdout",
     "output_type": "stream",
     "text": [
      "\n",
      "Eigenvalues \n",
      "[ 4.8923083   2.46635032  1.42809973  1.01233462  0.84906459  0.60181514\n",
      "  0.52251546  0.33051429  0.08414846  0.29595018  0.16831254  0.21432212\n",
      "  0.2399553 ]\n"
     ]
    }
   ],
   "source": [
    "eigen_vals, eigen_vecs = np.linalg.eig(cov_matrix)\n",
    "print '\\nEigenvalues \\n%s' % eigen_vals"
   ]
  },
  {
   "cell_type": "code",
   "execution_count": 96,
   "metadata": {
    "collapsed": false
   },
   "outputs": [
    {
     "data": {
      "image/png": "[encoded data removed]",
      "text/plain": [
       "<matplotlib.figure.Figure at 0x1166feb10>"
      ]
     },
     "metadata": {},
     "output_type": "display_data"
    }
   ],
   "source": [
    "# lets look at the total variance explained by the eigenvalues\n",
    "tot = sum(eigen_vals)\n",
    "var_exp = [(i/tot) for i in sorted(eigen_vals, reverse = True)]\n",
    "cum_var_exp = np.cumsum(var_exp)\n",
    "\n",
    "%matplotlib inline\n",
    "import matplotlib.pyplot as plt\n",
    "plt.bar(range(1,14), var_exp, alpha = 0.5, align = 'center', label = 'individual explained variance')\n",
    "plt.step(range(1,14), cum_var_exp, where = 'mid', label = 'cumulative explained variance')\n",
    "plt.ylabel('Explained variance ratio')\n",
    "plt.xlabel('Principal Components')\n",
    "plt.legend(loc='best')\n",
    "plt.show()"
   ]
  },
  {
   "cell_type": "code",
   "execution_count": 97,
   "metadata": {
    "collapsed": false
   },
   "outputs": [
    {
     "data": {
      "text/plain": [
       "(4.892308303273742,\n",
       " array([-0.14669811,  0.24224554,  0.02993442,  0.25519002, -0.12079772,\n",
       "        -0.38934455, -0.42326486,  0.30634956, -0.30572219,  0.09869191,\n",
       "        -0.30032535, -0.36821154, -0.29259713]))"
      ]
     },
     "execution_count": 97,
     "metadata": {},
     "output_type": "execute_result"
    }
   ],
   "source": [
    "eigen_pairs = [(np.abs(eigen_vals[i]), eigen_vecs[:,i]) for i in range(len(eigen_vals))]\n",
    "eigen_pairs.sort(reverse=True)\n",
    "eigen_pairs[0]"
   ]
  },
  {
   "cell_type": "code",
   "execution_count": 129,
   "metadata": {
    "collapsed": false
   },
   "outputs": [
    {
     "name": "stdout",
     "output_type": "stream",
     "text": [
      "[[-0.14669811  0.50417079]\n",
      " [ 0.24224554  0.24216889]\n",
      " [ 0.02993442  0.28698484]\n",
      " [ 0.25519002 -0.06468718]\n",
      " [-0.12079772  0.22995385]\n",
      " [-0.38934455  0.09363991]\n",
      " [-0.42326486  0.01088622]\n",
      " [ 0.30634956  0.01870216]\n",
      " [-0.30572219  0.03040352]\n",
      " [ 0.09869191  0.54527081]\n",
      " [-0.30032535 -0.27924322]\n",
      " [-0.36821154 -0.174365  ]\n",
      " [-0.29259713  0.36315461]]\n",
      "(13, 2)\n"
     ]
    }
   ],
   "source": [
    "# stack up the first two principal components\n",
    "# projection matrix W \n",
    "w = np.hstack((eigen_pairs[0][1][:, np.newaxis], eigen_pairs[1][1][:, np.newaxis]))\n",
    "print w\n",
    "print w.shape"
   ]
  },
  {
   "cell_type": "code",
   "execution_count": 121,
   "metadata": {
    "collapsed": false
   },
   "outputs": [
    {
     "name": "stdout",
     "output_type": "stream",
     "text": [
      "[ 0.91083058 -0.46259897 -0.01142613 -0.82067872  0.06241693  0.58820446\n",
      "  0.93565436 -0.7619138   0.13007174 -0.51238741  0.65706596  1.94354495\n",
      "  0.93700997]\n",
      "[-2.59891628  0.00484089]\n",
      "(124, 13)\n"
     ]
    }
   ],
   "source": [
    "# transform one record or sample x of 1x13 onto PCA subspace obtaining x', a now two dimensional sample vector\n",
    "# consisting of two new features\n",
    "print X_train_std[0]\n",
    "# to\n",
    "print X_train_std[0].dot(w)\n"
   ]
  },
  {
   "cell_type": "code",
   "execution_count": 122,
   "metadata": {
    "collapsed": false
   },
   "outputs": [
    {
     "name": "stdout",
     "output_type": "stream",
     "text": [
      "(124, 13)\n",
      "(124, 2)\n"
     ]
    }
   ],
   "source": [
    "# transform the entire data set to two dimensions:\n",
    "X_train_pca = X_train_std.dot(w)\n",
    "print X_train_std.shape\n",
    "print X_train_std.dot(w).shape"
   ]
  },
  {
   "cell_type": "code",
   "execution_count": 104,
   "metadata": {
    "collapsed": false
   },
   "outputs": [
    {
     "data": {
      "image/png": "[encoded data removed]",
      "text/plain": [
       "<matplotlib.figure.Figure at 0x115e6ed90>"
      ]
     },
     "metadata": {},
     "output_type": "display_data"
    }
   ],
   "source": [
    "colors = ['r','b','g']\n",
    "markers = ['s','x','o']\n",
    "\n",
    "for l, c, m in zip(np.unique(y_train), colors, markers):\n",
    "    plt.scatter(X_train_pca[y_train==l,0],\n",
    "                X_train_pca[y_train==l,1], # y_train == l indexes based on position of y train to x train\n",
    "                c=c, label=l, marker=m)\n",
    "plt.xlabel('PC1')\n",
    "plt.ylabel('PC2')\n",
    "plt.legend(loc='lower left')\n",
    "plt.show()"
   ]
  },
  {
   "cell_type": "code",
   "execution_count": 112,
   "metadata": {
    "collapsed": false
   },
   "outputs": [
    {
     "data": {
      "text/plain": [
       "array([], dtype=float64)"
      ]
     },
     "execution_count": 112,
     "metadata": {},
     "output_type": "execute_result"
    }
   ],
   "source": [
    "# data is more spread along x axis instead of y, indicating PC1's pull on variance of data\n",
    "# we can tell a linear classifier will be able to separate the classes well"
   ]
  },
  {
   "cell_type": "code",
   "execution_count": 116,
   "metadata": {
    "collapsed": false
   },
   "outputs": [
    {
     "data": {
      "image/png": "[encoded data removed]",
      "text/plain": [
       "<matplotlib.figure.Figure at 0x116e26290>"
      ]
     },
     "metadata": {},
     "output_type": "display_data"
    }
   ],
   "source": [
    "# PCA IN SKLEARN\n",
    "\n",
    "# PCA Is a transformer class in SKLEARN where we first fit model using training data before we transform training\n",
    "# and test sets\n",
    "\n",
    "from matplotlib.colors import ListedColormap\n",
    "\n",
    "def plot_decision_regions(X, y, classifier, resolution = 0.02):\n",
    "    # setup marker generator and color map\n",
    "    markers = ('s','x','o','^','v')\n",
    "    colors = ('red','blue','lightgreen','gray','cyan')\n",
    "    cmap = ListedColormap(colors[:len(np.unique(y))])\n",
    "    \n",
    "    # plot decision surface\n",
    "    x1_min, x1_max = X[:,0].min() - 1, X[:,0].max()+1\n",
    "    x2_min, x2_max = X[:,1].min() - 1, X[:,1].max()+1\n",
    "    xx1, xx2 = np.meshgrid(np.arange(x1_min, x1_max, resolution),\n",
    "                          np.arange(x2_min, x2_max, resolution))\n",
    "    Z = classifier.predict(np.array([xx1.ravel(), xx2.ravel()]).T)\n",
    "    Z = Z.reshape(xx1.shape)\n",
    "    plt.contourf(xx1, xx2, Z, alpha = 0.4, cmap=cmap)\n",
    "    plt.xlim(xx1.min(), xx1.max())\n",
    "    plt.ylim(xx2.min(), xx2.max())\n",
    "    \n",
    "    for idx, cl in enumerate(np.unique(y)):\n",
    "        plt.scatter(x=X[y == cl, 0], y =X[y == cl, 1],\n",
    "                   alpha = 0.8, c=cmap(idx),\n",
    "                    marker=markers[idx], label = cl)\n",
    "\n",
    "from sklearn.linear_model import LogisticRegression\n",
    "from sklearn.decomposition import PCA\n",
    "pca = PCA(n_components=2)\n",
    "lr = LogisticRegression()\n",
    "X_train_pca = pca.fit_transform(X_train_std)\n",
    "X_test_pca = pca.transform(X_test_std)\n",
    "lr.fit(X_train_pca, y_train)\n",
    "plot_decision_regions(X_train_pca, y_train, classifier = lr)"
   ]
  },
  {
   "cell_type": "code",
   "execution_count": 117,
   "metadata": {
    "collapsed": false
   },
   "outputs": [
    {
     "data": {
      "image/png": "[encoded data removed]",
      "text/plain": [
       "<matplotlib.figure.Figure at 0x116e05a50>"
      ]
     },
     "metadata": {},
     "output_type": "display_data"
    }
   ],
   "source": [
    "plot_decision_regions(X_test_pca, y_test, classifier=lr)"
   ]
  },
  {
   "cell_type": "code",
   "execution_count": 126,
   "metadata": {
    "collapsed": false
   },
   "outputs": [
    {
     "name": "stdout",
     "output_type": "stream",
     "text": [
      "[ 0.37329648  0.18818926]\n",
      "(2, 13)\n"
     ]
    }
   ],
   "source": [
    "# if we are interested in explained variance ratios of differenct principal components, we can simply initialize the\n",
    "# PCA class with n_components set to None\n",
    "pca = PCA(n_components=2)\n",
    "X_train_pca = pca.fit_transform(X_train_std)\n",
    "print pca.explained_variance_ratio_\n",
    "print pca.components_.shape"
   ]
  },
  {
   "cell_type": "code",
   "execution_count": 127,
   "metadata": {
    "collapsed": true
   },
   "outputs": [],
   "source": [
    "X_train_pca = pca.fit(X_train_std)"
   ]
  },
  {
   "cell_type": "code",
   "execution_count": 128,
   "metadata": {
    "collapsed": false
   },
   "outputs": [
    {
     "data": {
      "text/plain": [
       "(2, 13)"
      ]
     },
     "execution_count": 128,
     "metadata": {},
     "output_type": "execute_result"
    }
   ],
   "source": [
    "X_train_pca.components_.shape"
   ]
  },
  {
   "cell_type": "markdown",
   "metadata": {},
   "source": [
    "## Linear Discriminant Analysis Overview"
   ]
  },
  {
   "cell_type": "raw",
   "metadata": {},
   "source": [
    "Linear Discriminant Analysis can be used as a technique for feature extraction to increase computational efficiency\n",
    "and reduce the degree of over-fitting due to the curse of dimensionality in nonregularlized models\n",
    "\n",
    "Concept is very similar to PCA, whereas PCA attempts to find the orthogonal component axes of maximum variance in the\n",
    "dataset, the goal in LDA is to find the feature subspace that optimizes class separability\n",
    "\n",
    "Assumptions: 1) LDA assumes that data is normally distributed - may need prior transformations\n",
    "             2) Each class has identical covariance\n",
    "             3) Features are independent of one another\n",
    "             \n",
    "Steps:       1) Standardize the d-dimensional dataset (d is the number of features\n",
    "             2) For each class, compute the d-dimensional mean vector\n",
    "             3) Construct the between-class scatter matrix Sb and the within-class scatter matrix Sw\n",
    "             4) Compute the eigenvectors and corresponding eigenvalues of the matrix Sw^-1Sb\n",
    "             5) Choose the k eigenvectors corresponding to k largest eigenvalues to construct a dxk dimensional\n",
    "                transformation matrix W, the eigenvectors are the columns of this matrix\n",
    "             6) Project the sample onto the new feature subspace using the transformation matrix W\n",
    "\n",
    "Even if we violate the rules to a certaine extent, LDA still performs reasonably well"
   ]
  },
  {
   "cell_type": "markdown",
   "metadata": {},
   "source": [
    "### Constructing the mean vectors"
   ]
  },
  {
   "cell_type": "raw",
   "metadata": {},
   "source": [
    "Calculation of mean vectors, used to construct the within-class and between-class scatter matrices\n",
    "Each mean vector mi stores the mean feature value um with respect to the samples of class i\n",
    "\n",
    "mi = 1/ni * sum of c where x is a subset of Di Xm\n",
    "results in three mean vectors for wine data above because wine has 3 classes (1,2,3)"
   ]
  },
  {
   "cell_type": "code",
   "execution_count": 132,
   "metadata": {
    "collapsed": false
   },
   "outputs": [
    {
     "name": "stdout",
     "output_type": "stream",
     "text": [
      "MV of class 1: [ 0.9259 -0.3091  0.2592 -0.7989  0.3039  0.9608  1.0515 -0.6306  0.5354\n",
      "  0.2209  0.4855  0.798   1.2017] \n",
      "\n",
      "MV of class 2: [-0.8727 -0.3854 -0.4437  0.2481 -0.2409 -0.1059  0.0187 -0.0164  0.1095\n",
      " -0.8796  0.4392  0.2776 -0.7016] \n",
      "\n",
      "MV of class 3: [ 0.1637  0.8929  0.3249  0.5658 -0.01   -0.9499 -1.228   0.7436 -0.7652\n",
      "  0.979  -1.1698 -1.3007 -0.3912] \n",
      "\n"
     ]
    }
   ],
   "source": [
    "# lets look @ the actual mean vectors below\n",
    "np.set_printoptions(precision=4)\n",
    "mean_vecs = []\n",
    "for label in range(1,4):\n",
    "    mean_vecs.append(np.mean(X_train_std[y_train==label], axis = 0))\n",
    "    print 'MV of class %s: %s \\n' %(label, mean_vecs[label-1])"
   ]
  },
  {
   "cell_type": "raw",
   "metadata": {},
   "source": [
    "we can now compute the within-class scatter matrix Sw:\n",
    "    Sw = sum of c where i = 1 for all is Si\n",
    "This is calculated by summing up the individual scatter matrixes Si of each individual class i"
   ]
  },
  {
   "cell_type": "code",
   "execution_count": 142,
   "metadata": {
    "collapsed": false
   },
   "outputs": [
    {
     "name": "stdout",
     "output_type": "stream",
     "text": [
      "Within class scatter matrix: 13 x 13\n",
      "[[  2.0937e+04   3.8379e+03   3.8084e+03   3.1444e+04   1.6113e+05\n",
      "    3.6429e+03   3.1753e+03   5.8295e+02   2.5974e+03   8.0703e+03\n",
      "    1.5380e+03   4.1888e+03   1.1991e+06]\n",
      " [  3.8379e+03   8.1419e+02   6.9998e+02   5.8391e+03   2.9455e+04\n",
      "    6.7134e+02   5.8347e+02   1.0596e+02   4.8443e+02   1.4681e+03\n",
      "    2.8322e+02   7.7714e+02   2.1631e+05]\n",
      " [  3.8084e+03   6.9998e+02   7.0907e+02   5.7965e+03   2.9305e+04\n",
      "    6.6444e+02   5.8001e+02   1.0889e+02   4.7127e+02   1.4320e+03\n",
      "    2.7049e+02   7.6193e+02   2.1335e+05]\n",
      " [  3.1444e+04   5.8391e+03   5.7965e+03   4.8608e+04   2.4198e+05\n",
      "    5.5317e+03   4.7943e+03   8.1056e+02   3.9346e+03   1.2066e+04\n",
      "    2.3816e+03   6.3658e+03   1.7596e+06]\n",
      " [  1.6113e+05   2.9455e+04   2.9305e+04   2.4198e+05   1.2684e+06\n",
      "    2.8018e+04   2.4507e+04   4.5587e+03   2.0226e+04   6.2381e+04\n",
      "    1.1872e+04   3.2215e+04   9.4345e+06]\n",
      " [  3.6429e+03   6.7134e+02   6.6444e+02   5.5317e+03   2.8018e+04\n",
      "    6.6324e+02   5.6827e+02   8.4270e+01   4.6991e+02   1.4260e+03\n",
      "    2.8483e+02   7.4386e+02   2.0256e+05]\n",
      " [  3.1753e+03   5.8347e+02   5.8001e+02   4.7943e+03   2.4507e+04\n",
      "    5.6827e+02   5.0661e+02   8.5989e+01   4.0972e+02   1.2451e+03\n",
      "    2.3505e+02   6.4237e+02   1.8238e+05]\n",
      " [  5.8295e+02   1.0596e+02   1.0889e+02   8.1056e+02   4.5587e+03\n",
      "    8.4270e+01   8.5989e+01   4.4897e+01   6.0230e+01   2.0114e+02\n",
      "    1.4421e+01   1.0362e+02   4.4272e+04]\n",
      " [  2.5974e+03   4.8443e+02   4.7127e+02   3.9346e+03   2.0226e+04\n",
      "    4.6991e+02   4.0972e+02   6.0230e+01   3.6020e+02   1.0385e+03\n",
      "    2.0415e+02   5.3033e+02   1.4736e+05]\n",
      " [  8.0703e+03   1.4681e+03   1.4320e+03   1.2066e+04   6.2381e+04\n",
      "    1.4260e+03   1.2451e+03   2.0114e+02   1.0385e+03   3.5095e+03\n",
      "    6.4348e+02   1.6216e+03   4.8251e+05]\n",
      " [  1.5380e+03   2.8322e+02   2.7049e+02   2.3816e+03   1.1872e+04\n",
      "    2.8483e+02   2.3505e+02   1.4421e+01   2.0415e+02   6.4348e+02\n",
      "    1.5556e+02   3.2430e+02   8.3246e+04]\n",
      " [  4.1888e+03   7.7714e+02   7.6193e+02   6.3658e+03   3.2215e+04\n",
      "    7.4386e+02   6.4237e+02   1.0362e+02   5.3033e+02   1.6216e+03\n",
      "    3.2430e+02   8.6484e+02   2.3544e+05]\n",
      " [  1.1991e+06   2.1631e+05   2.1335e+05   1.7596e+06   9.4345e+06\n",
      "    2.0256e+05   1.8238e+05   4.4272e+04   1.4736e+05   4.8251e+05\n",
      "    8.3246e+04   2.3544e+05   8.0830e+07]]\n"
     ]
    }
   ],
   "source": [
    "d = 13 # number of features\n",
    "S_W = np.zeros((d,d)) # create a placeholder within class Scatter Matrix\n",
    "for label, mv in zip(range(1,4), mean_vecs): # loop through each class and their mean vectors\n",
    "    class_scatter = np.zeros((d,d)) # create a placeholder for each class' scatter matrix\n",
    "    for row in X_train[y_train == label]: # loop through each class in the original data set \n",
    "        row, mv = row.reshape(d,1), mv.reshape(d,1) # reshape each row in the data set to 13x1 as well as mean vec\n",
    "        class_scatter += (row-mv).dot((row-mv).T) # subtract the mean vector from each row and take dot of the same\n",
    "                                                  # transposed ( 1x13 )\n",
    "    S_W += class_scatter                          # add class variance to the class-wide scatter matrix\n",
    "print 'Within class scatter matrix: %s x %s' %(S_W.shape[0], S_W.shape[1])\n",
    "print S_W"
   ]
  },
  {
   "cell_type": "raw",
   "metadata": {},
   "source": [
    "we assume that the class labels in the training set are uniformly distributed when we compute the scatter matrices\n",
    "    however, this is not the case"
   ]
  },
  {
   "cell_type": "code",
   "execution_count": 152,
   "metadata": {
    "collapsed": false
   },
   "outputs": [
    {
     "name": "stdout",
     "output_type": "stream",
     "text": [
      "class label distribution: [40 49 35]\n"
     ]
    }
   ],
   "source": [
    "print 'class label distribution: %s' %np.bincount(y_train)[1:]"
   ]
  },
  {
   "cell_type": "raw",
   "metadata": {},
   "source": [
    "therefore, we need to scale the individual scatter matrices Si before we sum them up as Scatter matrix Sw\n",
    "When we divide the scatter matrices by the number of class samples Ni, we can see that computing the scatter matrix\n",
    "is the same as computing the covariance matrix sigmai - the covariance matrix is a normalized version of the scatter\n",
    "matrix"
   ]
  },
  {
   "cell_type": "code",
   "execution_count": 181,
   "metadata": {
    "collapsed": false
   },
   "outputs": [
    {
     "name": "stdout",
     "output_type": "stream",
     "text": [
      "[[  3.3974e-01  -2.9437e-02  -7.4857e-02  -1.5021e-01   6.3348e-02\n",
      "    1.7337e-01   1.1352e-01   3.1677e-03   1.8239e-01   1.2418e-01\n",
      "    1.5711e-02   4.8009e-02   1.3121e-01]\n",
      " [ -2.9437e-02   4.0295e-01  -5.6569e-04   3.6551e-02   2.5722e-02\n",
      "   -2.5128e-02  -4.4637e-02  -2.4078e-02   1.7382e-02  -9.3623e-02\n",
      "   -1.2941e-01   4.4168e-02  -1.8266e-01]\n",
      " [ -7.4857e-02  -5.6569e-04   7.4525e-01   3.1927e-01   2.8338e-01\n",
      "    3.9831e-02  -8.8447e-03   2.4021e-01  -6.6190e-02  -4.4734e-02\n",
      "    6.6210e-02  -1.3620e-02  -6.9197e-02]\n",
      " [ -1.5021e-01   3.6551e-02   3.1927e-01   5.3701e-01   1.1142e-01\n",
      "   -1.2070e-01  -8.9739e-02   1.3175e-01  -1.2954e-01  -8.6895e-02\n",
      "    1.5935e-02  -3.1111e-02  -8.4022e-02]\n",
      " [  6.3348e-02   2.5722e-02   2.8338e-01   1.1142e-01   4.5878e-01\n",
      "    1.3539e-01   6.1565e-02   6.4705e-02   1.0518e-02   5.8374e-02\n",
      "   -2.1671e-02   7.4840e-02  -9.8821e-02]\n",
      " [  1.7337e-01  -2.5128e-02   3.9831e-02  -1.2070e-01   1.3539e-01\n",
      "    3.8905e-01   2.2572e-01  -4.5686e-02   1.7230e-01   2.2185e-01\n",
      "   -8.0903e-02   4.4558e-02   1.3660e-01]\n",
      " [  1.1352e-01  -4.4637e-02  -8.8447e-03  -8.9739e-02   6.1565e-02\n",
      "    2.2572e-01   1.8766e-01  -2.9833e-02   1.7619e-01   1.7253e-01\n",
      "   -1.5149e-02  -5.7312e-03   1.0285e-01]\n",
      " [  3.1677e-03  -2.4078e-02   2.4021e-01   1.3175e-01   6.4705e-02\n",
      "   -4.5686e-02  -2.9833e-02   3.0906e-01  -2.4511e-02  -6.5528e-02\n",
      "    1.2832e-01  -9.9417e-02  -4.5497e-02]\n",
      " [  1.8239e-01   1.7382e-02  -6.6190e-02  -1.2954e-01   1.0518e-02\n",
      "    1.7230e-01   1.7619e-01  -2.4511e-02   5.1418e-01   1.7848e-01\n",
      "    3.2325e-02   2.1677e-02   1.1291e-01]\n",
      " [  1.2418e-01  -9.3623e-02  -4.4734e-02  -8.6895e-02   5.8374e-02\n",
      "    2.2185e-01   1.7253e-01  -6.5528e-02   1.7848e-01   3.1188e-01\n",
      "   -6.5681e-03  -3.8632e-02   2.2185e-01]\n",
      " [  1.5711e-02  -1.2941e-01   6.6210e-02   1.5935e-02  -2.1671e-02\n",
      "   -8.0903e-02  -1.5149e-02   1.2832e-01   3.2325e-02  -6.5681e-03\n",
      "    2.3775e-01  -7.7756e-02   8.8464e-02]\n",
      " [  4.8009e-02   4.4168e-02  -1.3620e-02  -3.1111e-02   7.4840e-02\n",
      "    4.4558e-02  -5.7312e-03  -9.9417e-02   2.1677e-02  -3.8632e-02\n",
      "   -7.7756e-02   2.6064e-01  -1.1277e-01]\n",
      " [  1.3121e-01  -1.8266e-01  -6.9197e-02  -8.4022e-02  -9.8821e-02\n",
      "    1.3660e-01   1.0285e-01  -4.5497e-02   1.1291e-01   2.2185e-01\n",
      "    8.8464e-02  -1.1277e-01   4.8966e-01]] \n",
      "\n",
      "---------\n",
      "\n",
      "[[  8.6788e-01  -9.5835e-02  -1.1544e-01  -1.2715e-01   1.0631e-01\n",
      "    1.6481e-01   1.1463e-01  -3.5042e-02  -4.4220e-02   2.2766e-01\n",
      "    6.8421e-02  -3.2545e-02   1.5602e-01]\n",
      " [ -9.5835e-02   1.0971e+00   1.3157e-01   2.2256e-01  -7.0191e-02\n",
      "    7.5851e-02   5.8027e-02   1.3640e-01   2.4497e-01  -1.2886e-01\n",
      "   -4.1376e-01   1.2333e-01  -2.9141e-01]\n",
      " [ -1.1544e-01   1.3157e-01   2.0592e+00   1.1326e+00   3.0153e-01\n",
      "    1.7847e-01   2.0075e-01   4.8635e-01   4.8288e-02  -5.9061e-02\n",
      "    4.3167e-02   1.5931e-01  -4.6059e-02]\n",
      " [ -1.2715e-01   2.2256e-01   1.1326e+00   1.5531e+00   6.1961e-03\n",
      "    1.2385e-02   8.6317e-02   3.4493e-01  -4.6950e-02  -1.2972e-01\n",
      "    1.8091e-02   2.3796e-01  -9.6377e-02]\n",
      " [  1.0631e-01  -7.0191e-02   3.0153e-01   6.1961e-03   2.1162e+00\n",
      "    2.0112e-01   1.8326e-02  -3.1935e-01   5.5400e-01   5.1086e-02\n",
      "    1.2688e-01  -2.7450e-02   2.8376e-01]\n",
      " [  1.6481e-01   7.5851e-02   1.7847e-01   1.2385e-02   2.0112e-01\n",
      "    1.0232e+00   5.9630e-01  -2.4442e-01   5.5574e-01   1.8746e-01\n",
      "   -6.0108e-04   3.1934e-01   1.6006e-01]\n",
      " [  1.1463e-01   5.8027e-02   2.0075e-01   8.6317e-02   1.8326e-02\n",
      "    5.9630e-01   5.3609e-01  -1.2681e-01   5.4682e-01   1.9275e-01\n",
      "    3.1682e-02   2.2648e-01   8.0188e-02]\n",
      " [ -3.5042e-02   1.3640e-01   4.8635e-01   3.4493e-01  -3.1935e-01\n",
      "   -2.4442e-01  -1.2681e-01   1.1795e+00  -2.9649e-01  -8.7824e-02\n",
      "    7.5048e-02  -2.6420e-01  -1.7970e-01]\n",
      " [ -4.4220e-02   2.4497e-01   4.8288e-02  -4.6950e-02   5.5400e-01\n",
      "    5.5574e-01   5.4682e-01  -2.9649e-01   1.7452e+00   1.3943e-01\n",
      "    1.1557e-02   2.4191e-01   2.2499e-01]\n",
      " [  2.2766e-01  -1.2886e-01  -5.9061e-02  -1.2972e-01   5.1086e-02\n",
      "    1.8746e-01   1.9275e-01  -8.7824e-02   1.3943e-01   4.2168e-01\n",
      "   -4.2147e-03  -8.5491e-02   2.4730e-01]\n",
      " [  6.8421e-02  -4.1376e-01   4.3167e-02   1.8091e-02   1.2688e-01\n",
      "   -6.0108e-04   3.1682e-02   7.5048e-02   1.1557e-02  -4.2147e-03\n",
      "    1.0731e+00  -8.6186e-02   1.6005e-01]\n",
      " [ -3.2545e-02   1.2333e-01   1.5931e-01   2.3796e-01  -2.7450e-02\n",
      "    3.1934e-01   2.2648e-01  -2.6420e-01   2.4191e-01  -8.5491e-02\n",
      "   -8.6186e-02   6.9466e-01  -1.5663e-01]\n",
      " [  1.5602e-01  -2.9141e-01  -4.6059e-02  -9.6377e-02   2.8376e-01\n",
      "    1.6006e-01   8.0188e-02  -1.7970e-01   2.2499e-01   2.4730e-01\n",
      "    1.6005e-01  -1.5663e-01   7.6542e-01]] \n",
      "\n",
      "---------\n",
      "\n",
      "[[  1.2458e+00   5.1385e-02  -3.2946e-02  -8.9533e-02   1.1546e-01\n",
      "    2.4539e-01   1.5011e-01  -5.5687e-02   9.9079e-02   4.8786e-01\n",
      "    2.3763e-02  -6.9716e-03   1.3421e-01]\n",
      " [  5.1385e-02   2.1547e+00   2.2434e-01   3.5434e-01  -1.9660e-01\n",
      "    3.6054e-02  -5.4027e-03   3.4017e-01   1.6840e-01  -1.6748e-01\n",
      "   -3.5755e-01   1.7728e-01  -2.5417e-01]\n",
      " [ -3.2946e-02   2.2434e-01   2.5250e+00   1.4581e+00   3.7029e-01\n",
      "    3.3665e-01   2.3874e-01   4.7135e-01   3.0912e-02  -5.6416e-02\n",
      "    1.2842e-01   2.3408e-01  -1.0665e-01]\n",
      " [ -8.9533e-02   3.5434e-01   1.4581e+00   1.9805e+00   8.1397e-02\n",
      "    1.1795e-01   1.2522e-01   3.2764e-01  -3.7325e-02  -1.2945e-01\n",
      "    6.1622e-02   2.5545e-01  -1.2909e-01]\n",
      " [  1.1546e-01  -1.9660e-01   3.7029e-01   8.1397e-02   2.7048e+00\n",
      "    1.6042e-01   1.4980e-01  -7.3692e-01   5.9847e-01   7.6183e-02\n",
      "    1.1849e-01  -1.1342e-01   3.1797e-01]\n",
      " [  2.4539e-01   3.6054e-02   3.3665e-01   1.1795e-01   1.6042e-01\n",
      "    1.2976e+00   6.1556e-01  -1.1631e-01   7.2183e-01   3.0402e-01\n",
      "    7.1530e-03   3.6115e-01   1.5998e-01]\n",
      " [  1.5011e-01  -5.4027e-03   2.3874e-01   1.2522e-01   1.4980e-01\n",
      "    6.1556e-01   6.2238e-01  -3.4531e-01   5.9821e-01   2.6033e-01\n",
      "    2.0070e-03   1.6781e-01   4.9200e-02]\n",
      " [ -5.5687e-02   3.4017e-01   4.7135e-01   3.2764e-01  -7.3692e-01\n",
      "   -1.1631e-01  -3.4531e-01   2.2058e+00  -1.7930e-01  -2.8542e-02\n",
      "    1.1931e-01  -1.0961e-01  -8.2535e-02]\n",
      " [  9.9079e-02   1.6840e-01   3.0912e-02  -3.7325e-02   5.9847e-01\n",
      "    7.2183e-01   5.9821e-01  -1.7930e-01   2.1073e+00   5.0681e-01\n",
      "   -1.2493e-01   1.8138e-01   2.6905e-01]\n",
      " [  4.8786e-01  -1.6748e-01  -5.6416e-02  -1.2945e-01   7.6183e-02\n",
      "    3.0402e-01   2.6033e-01  -2.8542e-02   5.0681e-01   1.3968e+00\n",
      "   -2.8594e-01  -1.5359e-01   2.9284e-01]\n",
      " [  2.3763e-02  -3.5755e-01   1.2842e-01   6.1622e-02   1.1849e-01\n",
      "    7.1530e-03   2.0070e-03   1.1931e-01  -1.2493e-01  -2.8594e-01\n",
      "    1.3041e+00  -1.1541e-02   1.3149e-01]\n",
      " [ -6.9716e-03   1.7728e-01   2.3408e-01   2.5545e-01  -1.1342e-01\n",
      "    3.6115e-01   1.6781e-01  -1.0961e-01   1.8138e-01  -1.5359e-01\n",
      "   -1.1541e-02   8.2807e-01  -1.6327e-01]\n",
      " [  1.3421e-01  -2.5417e-01  -1.0665e-01  -1.2909e-01   3.1797e-01\n",
      "    1.5998e-01   4.9200e-02  -8.2535e-02   2.6905e-01   2.9284e-01\n",
      "    1.3149e-01  -1.6327e-01   8.9568e-01]] \n",
      "\n",
      "---------\n",
      "\n",
      "Scaled within class scatter matrix: 13 x 13\n"
     ]
    }
   ],
   "source": [
    "# within class variance using covariance matrix\n",
    "d = 13\n",
    "S_W = np.zeros((d,d))\n",
    "for label, mv in zip(range(1,4), mean_vecs):\n",
    "    class_scatter = np.cov(X_train_std[y_train == label].T)\n",
    "    S_W += class_scatter\n",
    "    print S_W, '\\n\\n---------\\n'\n",
    "print 'Scaled within class scatter matrix: %s x % s' %(S_W.shape[0], S_W.shape[1])"
   ]
  },
  {
   "cell_type": "raw",
   "metadata": {},
   "source": [
    "now we can compute the between class scatter matrix Sb\n",
    "Sb = sum of each class i = 1 (mi - m)(mi -m)^T\n",
    "where m is the overall mean that is computed across each attribute, including samples from all classes"
   ]
  },
  {
   "cell_type": "code",
   "execution_count": 165,
   "metadata": {
    "collapsed": false
   },
   "outputs": [
    {
     "name": "stdout",
     "output_type": "stream",
     "text": [
      "Between class scatter matrix 13 x 13\n"
     ]
    }
   ],
   "source": [
    "mean_overall = np.mean(X_train_std, axis = 0)\n",
    "d = 13\n",
    "S_B = np.zeros((d,d))\n",
    "for i, mean_vec in enumerate(mean_vecs):\n",
    "    n = X_train[y_train == i + 1, :].shape[0]\n",
    "    mean_vec = mean_vec.reshape(d,1)\n",
    "    mean_overall = mean_overall.reshape(d,1)\n",
    "S_B += n * (mean_vec - mean_overall).dot((mean_vec - mean_overall).T)\n",
    "print 'Between class scatter matrix %s x %s' %(S_B.shape[0], S_B.shape[1])"
   ]
  },
  {
   "cell_type": "raw",
   "metadata": {},
   "source": [
    "The remaining steps of LDA are similar to PCA except we find eigenvalues and eigenvectors on the matrix\n",
    "Sw^-1Sb the inverse of Sw dot Sb"
   ]
  },
  {
   "cell_type": "code",
   "execution_count": 172,
   "metadata": {
    "collapsed": true
   },
   "outputs": [],
   "source": [
    "eigen_vals, eigen_vecs = np.linalg.eig(np.linalg.inv(S_W).dot(S_B))"
   ]
  },
  {
   "cell_type": "code",
   "execution_count": 177,
   "metadata": {
    "collapsed": false
   },
   "outputs": [
    {
     "name": "stdout",
     "output_type": "stream",
     "text": [
      "269.799757873\n",
      "3.51372076497e-14\n",
      "1.40391706921e-14\n",
      "1.40391706921e-14\n",
      "1.17356928962e-14\n",
      "1.1458627439e-14\n",
      "1.1458627439e-14\n",
      "5.69242632288e-15\n",
      "5.69242632288e-15\n",
      "1.87278078355e-15\n",
      "1.87278078355e-15\n",
      "1.34357098355e-15\n",
      "2.35810912208e-16\n"
     ]
    },
    {
     "data": {
      "text/plain": [
       "(269.79975787296593,\n",
       " array([ 0.0102+0.j,  0.0823+0.j,  0.0546+0.j,  0.1220+0.j, -0.0062+0.j,\n",
       "         0.2257+0.j, -0.8044+0.j, -0.0942+0.j,  0.0508+0.j,  0.2398+0.j,\n",
       "        -0.1122+0.j, -0.3914+0.j, -0.2062+0.j]))"
      ]
     },
     "execution_count": 177,
     "metadata": {},
     "output_type": "execute_result"
    }
   ],
   "source": [
    "eigen_pairs = [(np.abs(eigen_vals[i]), eigen_vecs[:,i]) for i in range(len(eigen_vals))]\n",
    "eigen_pairs = sorted(eigen_pairs, key = lambda k: k[0], reverse = True)\n",
    "for eigen_val in eigen_pairs:\n",
    "    print eigen_val[0]\n",
    "eigen_pairs[0]"
   ]
  },
  {
   "cell_type": "raw",
   "metadata": {},
   "source": [
    "In LDA, the number of linear discriminants is at most c-1 where c is the number of class labels since the in between \n",
    "class scatter matrix Sb is the sum of c matrices with rank 1 or less"
   ]
  },
  {
   "cell_type": "markdown",
   "metadata": {},
   "source": [
    "# LDA via Scikit Learn"
   ]
  },
  {
   "cell_type": "code",
   "execution_count": 174,
   "metadata": {
    "collapsed": false
   },
   "outputs": [
    {
     "data": {
      "image/png": "[encoded data removed]",
      "text/plain": [
       "<matplotlib.figure.Figure at 0x1051c02d0>"
      ]
     },
     "metadata": {},
     "output_type": "display_data"
    }
   ],
   "source": [
    "from sklearn.lda import LDA\n",
    "lda = LDA(n_components=2)\n",
    "X_train_lda = lda.fit_transform(X_train_std, y_train) # must provide class labels\n",
    "lr = LogisticRegression()\n",
    "lr = lr.fit(X_train_lda, y_train)\n",
    "plot_decision_regions(X_train_lda, y_train, classifier = lr)\n",
    "plt.xlabel('LD 1')\n",
    "plt.ylabel('LD 2')\n",
    "plt.legend(loc='lower left')\n",
    "plt.show()"
   ]
  },
  {
   "cell_type": "code",
   "execution_count": 175,
   "metadata": {
    "collapsed": false
   },
   "outputs": [
    {
     "data": {
      "image/png": "[encoded data removed]",
      "text/plain": [
       "<matplotlib.figure.Figure at 0x115db4b50>"
      ]
     },
     "metadata": {},
     "output_type": "display_data"
    }
   ],
   "source": [
    "from sklearn.lda import LDA\n",
    "X_test_lda = lda.transform(X_test_std)\n",
    "plot_decision_regions(X_test_lda, y_test, classifier=lr)\n",
    "plt.xlabel('LD 1')\n",
    "plt.ylabel('LD 2')\n",
    "plt.legend(loc='lower left')\n",
    "plt.show()"
   ]
  },
  {
   "cell_type": "code",
   "execution_count": null,
   "metadata": {
    "collapsed": true
   },
   "outputs": [],
   "source": []
  }
 ],
 "metadata": {
  "kernelspec": {
   "display_name": "Python 2",
   "language": "python",
   "name": "python2"
  },
  "language_info": {
   "codemirror_mode": {
    "name": "ipython",
    "version": 2
   },
   "file_extension": ".py",
   "mimetype": "text/x-python",
   "name": "python",
   "nbconvert_exporter": "python",
   "pygments_lexer": "ipython2",
   "version": "2.7.11"
  }
 },
 "nbformat": 4,
 "nbformat_minor": 0
}
