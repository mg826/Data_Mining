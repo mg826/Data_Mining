{
 "cells": [
  {
   "cell_type": "code",
   "execution_count": 1,
   "metadata": {
    "collapsed": false
   },
   "outputs": [],
   "source": [
    "from sklearn import datasets\n",
    "from sklearn.linear_model import LogisticRegression\n",
    "import numpy as np\n",
    "\n",
    "iris = datasets.load_iris()\n",
    "X = iris.data[:,[2,3]]\n",
    "y = iris.target"
   ]
  },
  {
   "cell_type": "markdown",
   "metadata": {},
   "source": [
    "Seection of Features\n",
    "Choosing a performance metric\n",
    "Choosing a classifier and optimization algorithm\n",
    "Evaulating the performance of the model\n",
    "Tuning the algorithm"
   ]
  },
  {
   "cell_type": "code",
   "execution_count": 2,
   "metadata": {
    "collapsed": false
   },
   "outputs": [],
   "source": [
    "from sklearn.cross_validation import train_test_split\n",
    "X_train, X_test, y_train, y_test = train_test_split(X,y,test_size=0.3,random_state=0)"
   ]
  },
  {
   "cell_type": "code",
   "execution_count": 3,
   "metadata": {
    "collapsed": true
   },
   "outputs": [],
   "source": [
    "# many ML models require scaling as well\n",
    "from sklearn.preprocessing import StandardScaler\n",
    "sc = StandardScaler()\n",
    "sc.fit(X_train)\n",
    "X_train_std = sc.transform(X_train)\n",
    "X_test_std = sc.transform(X_test)\n",
    "# use the same fit on test so values are comparable to one another"
   ]
  },
  {
   "cell_type": "code",
   "execution_count": 4,
   "metadata": {
    "collapsed": false
   },
   "outputs": [
    {
     "data": {
      "text/plain": [
       "Perceptron(alpha=0.0001, class_weight=None, eta0=0.1, fit_intercept=True,\n",
       "      n_iter=40, n_jobs=1, penalty=None, random_state=0, shuffle=True,\n",
       "      verbose=0, warm_start=False)"
      ]
     },
     "execution_count": 4,
     "metadata": {},
     "output_type": "execute_result"
    }
   ],
   "source": [
    "from sklearn.linear_model import Perceptron\n",
    "ppn = Perceptron(n_iter=40, eta0=0.1,random_state=0)\n",
    "# most algorithms in sklearn already support multiclass classification by default via the One-vs-Rest method\n",
    "ppn.fit(X_train_std,y_train)\n"
   ]
  },
  {
   "cell_type": "code",
   "execution_count": 5,
   "metadata": {
    "collapsed": false
   },
   "outputs": [
    {
     "name": "stdout",
     "output_type": "stream",
     "text": [
      "number of misclassifications: 4\n",
      "Accuracy of model is: 91.11\n"
     ]
    }
   ],
   "source": [
    "from sklearn.metrics import accuracy_score\n",
    "y_pred = ppn.predict(X_test_std)\n",
    "print 'number of misclassifications:', (y_test != y_pred).sum()\n",
    "print 'Accuracy of model is: %.2f' % float(accuracy_score(y_pred,y_test)*100)"
   ]
  },
  {
   "cell_type": "code",
   "execution_count": 6,
   "metadata": {
    "collapsed": false
   },
   "outputs": [],
   "source": [
    "from  matplotlib.colors import ListedColormap\n",
    "import matplotlib.pyplot as plt\n",
    "%matplotlib inline\n",
    "\n",
    "def plot_decision_regions(X,y,classifier,test_idx=None,resolution=0.02):\n",
    "    # set up marker generator and color map\n",
    "    markers = ('s','x','o','^','v')\n",
    "    colors = ('red','blue','lightgreen','gray','cyan')\n",
    "    cmap = ListedColormap(colors[:len(np.unique(y))])\n",
    "    \n",
    "    # plot decision surface\n",
    "    x1_min, x1_max = X[:,0].min() - 1, X[:,0].max() +1\n",
    "    x2_min, x2_max = X[:,1].min() - 1, X[:,1].max() +1\n",
    "    xx1, xx2 = np.meshgrid(np.arange(x1_min, x1_max, resolution),\n",
    "                          np.arange(x2_min, x2_max, resolution))\n",
    "    Z = classifier.predict(np.array([xx1.ravel(),xx2.ravel()]).T)\n",
    "    Z = Z.reshape(xx1.shape)\n",
    "    plt.contourf(xx1,xx2,Z, alpha=0.4, cmap=cmap)\n",
    "    plt.xlim(xx1.min(), xx1.max())\n",
    "    plt.ylim(xx2.min(),xx2.max())\n",
    "    \n",
    "    # plot all samples\n",
    "    for idx, cl in enumerate(np.unique(y)):\n",
    "        plt.scatter(x=X[y==cl,0], y=X[y==cl,1],\n",
    "                   alpha=0.8,c=cmap(idx),\n",
    "                   marker=markers[idx],label=cl)\n",
    "        \n",
    "    # highlight test samples\n",
    "    if test_idx:\n",
    "        X_test, y_test = X[test_idx,:], y[test_idx]\n",
    "        plt.scatter(X_test[:,0],X_test[:,1],c='',\n",
    "                   alpha=1.0,linewidths=1,marker='o',\n",
    "                   s=55,label='test set')\n",
    "        "
   ]
  },
  {
   "cell_type": "code",
   "execution_count": 7,
   "metadata": {
    "collapsed": false
   },
   "outputs": [
    {
     "data": {
      "image/png": "[encoded data removed]",
      "text/plain": [
       "<matplotlib.figure.Figure at 0x10d491cd0>"
      ]
     },
     "metadata": {},
     "output_type": "display_data"
    }
   ],
   "source": [
    "X_combined_std = np.vstack((X_train_std,X_test_std))\n",
    "y_combined = np.hstack((y_train, y_test))\n",
    "plot_decision_regions(X=X_combined_std, y=y_combined,classifier=ppn,test_idx=range(105,150))\n",
    "plt.xlabel('petal length std')\n",
    "plt.ylabel('petal width std')\n",
    "plt.legend(loc='upper left')\n",
    "plt.show()"
   ]
  },
  {
   "cell_type": "code",
   "execution_count": 8,
   "metadata": {
    "collapsed": true
   },
   "outputs": [],
   "source": [
    "# three flower classes cannot be perfectly separated by linear decision boundaries because perceptron doesn't\n",
    "# converge on datasets that arent perfectly linearly separable"
   ]
  },
  {
   "cell_type": "markdown",
   "metadata": {},
   "source": [
    "## Logistic Regression"
   ]
  },
  {
   "cell_type": "code",
   "execution_count": 11,
   "metadata": {
    "collapsed": false
   },
   "outputs": [
    {
     "data": {
      "text/plain": [
       "<matplotlib.legend.Legend at 0x10d4b67d0>"
      ]
     },
     "execution_count": 11,
     "metadata": {},
     "output_type": "execute_result"
    },
    {
     "data": {
      "image/png": "[encoded data removed]",
      "text/plain": [
       "<matplotlib.figure.Figure at 0x10d4b6f10>"
      ]
     },
     "metadata": {},
     "output_type": "display_data"
    }
   ],
   "source": [
    "from sklearn.linear_model import LogisticRegression\n",
    "lr = LogisticRegression(C=1000,random_state=0)\n",
    "lr.fit(X_train_std, y_train)\n",
    "plot_decision_regions(X_combined_std, y_combined, classifier=lr, test_idx = range(105,150))\n",
    "plt.legend(loc='upper left')\n",
    "# increasing c decreases regularlization of the model, decreasing c increases regularlization, reducing weight\n",
    "# importance and preventing overfitting"
   ]
  },
  {
   "cell_type": "code",
   "execution_count": 12,
   "metadata": {
    "collapsed": false
   },
   "outputs": [
    {
     "name": "stdout",
     "output_type": "stream",
     "text": [
      "[[  2.05743774e-11   6.31620264e-02   9.36837974e-01]]\n"
     ]
    }
   ],
   "source": [
    "print lr.predict_proba(X_test_std[0,:])"
   ]
  },
  {
   "cell_type": "code",
   "execution_count": 13,
   "metadata": {
    "collapsed": false
   },
   "outputs": [
    {
     "ename": "SyntaxError",
     "evalue": "invalid syntax (<ipython-input-13-9d35aa51d2ac>, line 1)",
     "output_type": "error",
     "traceback": [
      "\u001b[0;36m  File \u001b[0;32m\"<ipython-input-13-9d35aa51d2ac>\"\u001b[0;36m, line \u001b[0;32m1\u001b[0m\n\u001b[0;31m    y_pred =\u001b[0m\n\u001b[0m             ^\u001b[0m\n\u001b[0;31mSyntaxError\u001b[0m\u001b[0;31m:\u001b[0m invalid syntax\n"
     ]
    }
   ],
   "source": [
    "y_pred = "
   ]
  },
  {
   "cell_type": "code",
   "execution_count": 15,
   "metadata": {
    "collapsed": false
   },
   "outputs": [
    {
     "data": {
      "text/plain": [
       "array([False, False, False, False, False, False, False, False, False,\n",
       "       False,  True, False, False, False, False, False, False, False,\n",
       "       False, False, False, False, False, False, False, False, False,\n",
       "       False,  True, False, False, False, False, False, False,  True,\n",
       "       False,  True, False, False, False, False, False, False, False], dtype=bool)"
      ]
     },
     "execution_count": 15,
     "metadata": {},
     "output_type": "execute_result"
    }
   ],
   "source": [
    "y_pred != y_test"
   ]
  },
  {
   "cell_type": "code",
   "execution_count": 16,
   "metadata": {
    "collapsed": false
   },
   "outputs": [
    {
     "data": {
      "text/plain": [
       "0.97777777777777775"
      ]
     },
     "execution_count": 16,
     "metadata": {},
     "output_type": "execute_result"
    }
   ],
   "source": [
    "accuracy_score(lr.predict(X_test_std),y_test)"
   ]
  },
  {
   "cell_type": "code",
   "execution_count": 17,
   "metadata": {
    "collapsed": false
   },
   "outputs": [
    {
     "data": {
      "text/plain": [
       "LogisticRegression(C=1000, class_weight=None, dual=False, fit_intercept=True,\n",
       "          intercept_scaling=1, max_iter=100, multi_class='ovr',\n",
       "          penalty='l2', random_state=0, solver='liblinear', tol=0.0001,\n",
       "          verbose=0)"
      ]
     },
     "execution_count": 17,
     "metadata": {},
     "output_type": "execute_result"
    }
   ],
   "source": [
    "lr.fit(X_train_std, y_train)"
   ]
  },
  {
   "cell_type": "code",
   "execution_count": 18,
   "metadata": {
    "collapsed": false
   },
   "outputs": [
    {
     "data": {
      "text/plain": [
       "0.96190476190476193"
      ]
     },
     "execution_count": 18,
     "metadata": {},
     "output_type": "execute_result"
    }
   ],
   "source": [
    "accuracy_score(lr.predict(X_train_std),y_train)"
   ]
  },
  {
   "cell_type": "code",
   "execution_count": 19,
   "metadata": {
    "collapsed": false
   },
   "outputs": [
    {
     "data": {
      "text/plain": [
       "array([[-7.34015187, -6.64685581],\n",
       "       [ 2.54373335, -2.3421979 ],\n",
       "       [ 9.46617627,  6.44380858]])"
      ]
     },
     "execution_count": 19,
     "metadata": {},
     "output_type": "execute_result"
    }
   ],
   "source": [
    "lr.coef_ # coefficients by each class"
   ]
  },
  {
   "cell_type": "code",
   "execution_count": 20,
   "metadata": {
    "collapsed": false
   },
   "outputs": [
    {
     "name": "stdout",
     "output_type": "stream",
     "text": [
      "             precision    recall  f1-score   support\n",
      "\n",
      "          0       1.00      1.00      1.00        34\n",
      "          1       0.94      0.94      0.94        32\n",
      "          2       0.95      0.95      0.95        39\n",
      "\n",
      "avg / total       0.96      0.96      0.96       105\n",
      "\n"
     ]
    }
   ],
   "source": [
    "from sklearn.metrics import classification_report\n",
    "print classification_report(lr.predict(X_train_std),y_train)"
   ]
  },
  {
   "cell_type": "code",
   "execution_count": 21,
   "metadata": {
    "collapsed": true
   },
   "outputs": [],
   "source": [
    "import statsmodels.api as sm"
   ]
  },
  {
   "cell_type": "markdown",
   "metadata": {},
   "source": [
    "## Tackling Overfitting Via Regularlization"
   ]
  },
  {
   "cell_type": "markdown",
   "metadata": {},
   "source": [
    "Overfitting is a common problem, where model performs well on training but does not generalize well to test data\n",
    "Model has high variance, too many parameters that lead to a model that is too complex\n",
    "Underfitting can also happen, high bias, which means model is not complex enough to capture the pattern in training data"
   ]
  },
  {
   "cell_type": "markdown",
   "metadata": {},
   "source": [
    "We can tune complexity of the model via regularlization. Handles colinearity, filters out noise from data, and prevents overfitting\n",
    "\n",
    "We introduce additional information (bias) to penalize extreme parameter weights\n",
    "\n",
    "Most common is L2 regularlization or L2 norm\n",
    "\n",
    "Which is just \n",
    "\n",
    "+alpha/2 ||w||^2 \n",
    "\n",
    "We need to ensure all features are on comparable scales\n",
    "\n",
    "We simply add the regularlization term to the cost function defined for logistic regression (notes) to shrink the \n",
    "weights\n",
    "\n",
    "We can tune the regularlization parameter by tuning alpha, controlling how well we fit the training data, by increasing alpha, we increase regularlization strength"
   ]
  },
  {
   "cell_type": "markdown",
   "metadata": {},
   "source": [
    "## How Is The Regularlization Parameter Represented in sklearn?"
   ]
  },
  {
   "cell_type": "markdown",
   "metadata": {},
   "source": [
    "via the parameter C\n",
    "\n",
    "Comes from a convention in support vector machines\n",
    "\n",
    "C is directly related to the regularlization parameter above, however it's the INVERSE in sklearn\n",
    "\n",
    "C = 1 / alpha\n",
    "\n",
    "This means that decreasing the value of the inverse regularlization parameter C means that we are increasing regularlization strength in logistic regression\n",
    "\n"
   ]
  },
  {
   "cell_type": "markdown",
   "metadata": {},
   "source": [
    "## Support Vector Machines"
   ]
  },
  {
   "cell_type": "markdown",
   "metadata": {},
   "source": [
    "Extension of perceptron\n",
    "\n",
    "Goal: Maximize margin, distance btween the separating hyperplane (decision boundary) and the training samples that are closest to the hyperplane, which are called the support vectors\n",
    "\n",
    "Max margins = lower generalization error, small margins = more overfitting\n",
    "\n",
    "Maximize 2 / ||w|| which is the margin, we want to minimize ||w|| - which is simply the length or magnitude of w\n",
    "\n",
    "wT(xpos - xneg) / ||w||\n",
    "\n",
    "We have to maximize under constraint samples are classified correctly:\n",
    "    w0 + wTx^i >=1 if y^i = 1\n",
    "    w0 + wTx^i < -1 if y^i = -1\n",
    "    \n",
    "    or more compactly\n",
    "    \n",
    "    y^i(w0+wTx^i) >= 1\n",
    "    \n",
    "In practice, easier to minimize reciprocal term 1/2||w||^2"
   ]
  },
  {
   "cell_type": "markdown",
   "metadata": {},
   "source": [
    "## Dealing With Non-Linearly Separable Cases Using Slack Variables"
   ]
  },
  {
   "cell_type": "markdown",
   "metadata": {},
   "source": [
    "A slack variable, s, leads to a soft margin classification, by taking the error from the correct support vector to the observation that is misclassified. If an observation is correctly classified, the slack takes a zero value, if not, the slack is the size of the error between the correct support vector and the vector for the observation misclassified.\n",
    "\n",
    "Positive slack value variables only\n",
    "\n",
    "Added to the linear constrains:\n",
    "\n",
    "    wTx^i >= 1 - c^i if y^i = 1\n",
    "    wTx^i <= -1 + c^i if y^i = -1\n",
    "And the new objective to be minimized subject to preceding constrains becoems:\n",
    "    1/2||w||^2 + C(sum of all slack variables i)\n",
    "Using c, we can control the pantly for misclassification, large values = large error penalties, less strict if value of c is smaller\n",
    "\n",
    "Large value of c = small margin, large penalty\n",
    "Small value of c = large margin, smaller penalty, more generalizeable\n",
    "\n"
   ]
  },
  {
   "cell_type": "code",
   "execution_count": 32,
   "metadata": {
    "collapsed": false
   },
   "outputs": [
    {
     "data": {
      "image/png": "[encoded data removed]",
      "text/plain": [
       "<matplotlib.figure.Figure at 0x117897c50>"
      ]
     },
     "metadata": {},
     "output_type": "display_data"
    }
   ],
   "source": [
    "from sklearn.svm import SVC\n",
    "svm = SVC(kernel='linear', C=1.0, random_state=0)\n",
    "svm.fit(X_train_std.values, y_train.values.reshape(len(y_train)))\n",
    "plot_decision_regions(X_combined_std, y_combined, classifier=svm)"
   ]
  },
  {
   "cell_type": "markdown",
   "metadata": {},
   "source": [
    "In practical classification tasks, linear logistic regression and linear SVMs often yield very similar results. Logistic regression tries to maximize the conditional likelihoods of training, which makes it more prone to outliers than SVM. The SVMs care mostly about the points that are closest to the decision boundary (support vectors). Logistic regression is a simpler model that can be implemented more easily. Logistic regression models also can be updated more easily. "
   ]
  },
  {
   "cell_type": "markdown",
   "metadata": {},
   "source": [
    "For datasets too large to fit into memory, we can use the SGDclassifier class, which supports online learning via the partial_fit method\n",
    "\n",
    "Similar to stochastic gradient descent algorithm"
   ]
  },
  {
   "cell_type": "code",
   "execution_count": 34,
   "metadata": {
    "collapsed": true
   },
   "outputs": [],
   "source": [
    "from sklearn.linear_model import SGDClassifier\n",
    "ppn = SGDClassifier(loss='perceptron') # perceptron\n",
    "lr = SGDClassifier(loss='log') # logistic regression\n",
    "svm = SGDClassifier(loss='hinge') # support vector"
   ]
  },
  {
   "cell_type": "markdown",
   "metadata": {},
   "source": [
    "## Solving Non-Linear Problems Using a Kernel SVM"
   ]
  },
  {
   "cell_type": "markdown",
   "metadata": {},
   "source": [
    "SVM can be easily kernelized to solve nonlinear classification problems\n",
    "\n",
    "Using linear hyperplanes dont work for nonlinear problems\n",
    "\n",
    "Kernel methods deal with linearly inseperable data and create nonlinear combinations of the original features to project them onto a higher dimensional space via a mapping function alpha(.)\n",
    "\n",
    "e.g. alpha(x1,x2) = (z1,z2,z3) = (x1,x2,x1^2+x2^2)\n",
    "\n",
    "This allows us to separate the two classes via a linear hyperplane that becomes nonlinear if we project it back onto the original feature space"
   ]
  },
  {
   "cell_type": "markdown",
   "metadata": {},
   "source": [
    "## The Kernel Trick"
   ]
  },
  {
   "cell_type": "markdown",
   "metadata": {},
   "source": [
    "Transform the training data onto a higher dimensional feature space via a mapping function alpha(.)\n",
    "\n",
    "We can use the same mapping function to transform new, unseen data to classify it using the linear SVM model\n",
    "\n",
    "Construction of new features is computationally very expensive\n",
    "\n",
    "This is where the kernel trick comes into play\n",
    "\n",
    "All we need to do is replace the dot product in the optimiztion equation with the transformed dot product\n",
    "\n",
    "In order to save the step of calculating dot product between two points explicitly, we define a kernel function\n",
    "\n",
    "k(x^i, x^j) = alphax^iTalphax^j\n",
    "\n",
    "Radial Basis Function Kernel:\n",
    "    k(x^i, x^j) = exp(-||x^i-x^j||^2/2sigma^2)\n",
    "or\n",
    "    k(x^i, x^j) = exp(-lambda * ||x^i-x^j||^2)\n",
    "\n",
    "where lambda is 1/2sigma^2 - a free parameter to be optimized\n",
    "\n",
    "The kernel can be interpreted as a similarity function between a pair of samples, the minus sign inverts the distance measure into a similarity score and due to exponential ter, the resulting score is between 1 (similar) and 0"
   ]
  },
  {
   "cell_type": "code",
   "execution_count": 51,
   "metadata": {
    "collapsed": false
   },
   "outputs": [
    {
     "data": {
      "text/plain": [
       "SVC(C=1.0, cache_size=200, class_weight=None, coef0=0.0, degree=3, gamma=0.2,\n",
       "  kernel='rbf', max_iter=-1, probability=False, random_state=0,\n",
       "  shrinking=True, tol=0.001, verbose=False)"
      ]
     },
     "execution_count": 51,
     "metadata": {},
     "output_type": "execute_result"
    }
   ],
   "source": [
    "svm = SVC(kernel='rbf', random_state=0, gamma=0.2, C=1.0)\n",
    "svm.fit(X_train_std, y_train.values.reshape(len(y_train)))"
   ]
  },
  {
   "cell_type": "code",
   "execution_count": 52,
   "metadata": {
    "collapsed": false
   },
   "outputs": [
    {
     "data": {
      "image/png": "[encoded data removed]",
      "text/plain": [
       "<matplotlib.figure.Figure at 0x1185f8f10>"
      ]
     },
     "metadata": {},
     "output_type": "display_data"
    }
   ],
   "source": [
    "plot_decision_regions(X_combined_std, y_combined, classifier=svm)\n",
    "# gamma parameter can be understood as a cut-off parameter for the gaussian sphere\n",
    "# if we increase the value for gamma, we increase the influence or reach of the training samples, which leads to a\n",
    "# softer decision boundary"
   ]
  },
  {
   "cell_type": "code",
   "execution_count": null,
   "metadata": {
    "collapsed": true
   },
   "outputs": [],
   "source": []
  }
 ],
 "metadata": {
  "kernelspec": {
   "display_name": "Python 2",
   "language": "python",
   "name": "python2"
  },
  "language_info": {
   "codemirror_mode": {
    "name": "ipython",
    "version": 2
   },
   "file_extension": ".py",
   "mimetype": "text/x-python",
   "name": "python",
   "nbconvert_exporter": "python",
   "pygments_lexer": "ipython2",
   "version": "2.7.11"
  }
 },
 "nbformat": 4,
 "nbformat_minor": 0
}
