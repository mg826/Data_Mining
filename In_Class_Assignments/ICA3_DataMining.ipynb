{
 "cells": [
  {
   "cell_type": "code",
   "execution_count": 6,
   "metadata": {
    "collapsed": false
   },
   "outputs": [
    {
     "data": {
      "text/html": [
       "<link href='https://fonts.googleapis.com/css?family=Passion+One' rel='stylesheet' type='text/css'><style>div.attn { font-family: 'Helvetica Neue'; font-size: 30px; line-height: 40px; color: #FFFFFF; text-align: center; margin: 30px 0; border-width: 10px 0; border-style: solid; border-color: #5AAAAA; padding: 30px 0; background-color: #DDDDFF; }hr { border: 0; background-color: #ffffff; border-top: 1px solid black; }hr.major { border-top: 10px solid #5AAA5A; }hr.minor { border: none; background-color: #ffffff; border-top: 5px dotted #CC3333; }div.bubble { width: 65%; padding: 20px; background: #DDDDDD; border-radius: 15px; margin: 0 auto; font-style: italic; color: #f00; }em { color: #AAA; }div.c1{visibility:hidden;margin:0;height:0;}div.note{color:red;}</style>"
      ],
      "text/plain": [
       "<IPython.core.display.HTML object>"
      ]
     },
     "execution_count": 6,
     "metadata": {},
     "output_type": "execute_result"
    }
   ],
   "source": [
    "#  Ebnable HTML/CSS \n",
    "from IPython.core.display import HTML\n",
    "HTML(\"<link href='https://fonts.googleapis.com/css?family=Passion+One' rel='stylesheet' type='text/css'><style>div.attn { font-family: 'Helvetica Neue'; font-size: 30px; line-height: 40px; color: #FFFFFF; text-align: center; margin: 30px 0; border-width: 10px 0; border-style: solid; border-color: #5AAAAA; padding: 30px 0; background-color: #DDDDFF; }hr { border: 0; background-color: #ffffff; border-top: 1px solid black; }hr.major { border-top: 10px solid #5AAA5A; }hr.minor { border: none; background-color: #ffffff; border-top: 5px dotted #CC3333; }div.bubble { width: 65%; padding: 20px; background: #DDDDDD; border-radius: 15px; margin: 0 auto; font-style: italic; color: #f00; }em { color: #AAA; }div.c1{visibility:hidden;margin:0;height:0;}div.note{color:red;}</style>\")"
   ]
  },
  {
   "cell_type": "markdown",
   "metadata": {},
   "source": [
    "___\n",
    "Enter Team Member Names here (double click to edit):\n",
    "\n",
    "- Name 1: Alex Matsunami\n",
    "- Name 2: Andrew Clark\n",
    "- Name 3: Cory Nichols\n",
    "\n",
    "________\n",
    "\n",
    "# In Class Assignment Three\n",
    "In the following assignment you will be asked to fill in python code and derivations for a number of different problems. Please read all instructions carefully and turn in the rendered notebook (or HTML of the rendered notebook)  before the end of class.\n",
    "\n",
    "<a id=\"top\"></a>\n",
    "## Contents\n",
    "* <a href=\"#Loading\">Loading the Data</a>\n",
    "* <a href=\"#distance\">Measuring Distances</a>\n",
    "* <a href=\"#KNN\">K-Nearest Neighbors</a>\n",
    "* <a href=\"#naive\">Naive Bayes</a>\n",
    "\n",
    "________________________________________________________________________________________________________\n",
    "<a id=\"Loading\"></a>\n",
    "<a href=\"#top\">Back to Top</a>\n",
    "## Downloading the Document Data\n",
    "Please run the following code to read in the \"20 newsgroups\" dataset from sklearn's data loading module."
   ]
  },
  {
   "cell_type": "code",
   "execution_count": 7,
   "metadata": {
    "collapsed": false
   },
   "outputs": [
    {
     "name": "stdout",
     "output_type": "stream",
     "text": [
      "features shape: (11314, 130107)\n",
      "target shape: (11314,)\n",
      "range of target: 0 19\n",
      "Data type is <class 'scipy.sparse.csr.csr_matrix'> 0.121435315436 % of the data is non-zero\n"
     ]
    }
   ],
   "source": [
    "from sklearn.datasets import fetch_20newsgroups_vectorized\n",
    "import numpy as np\n",
    "from __future__ import print_function\n",
    "\n",
    "# this takes about 30 seconds to compute, read the next section while this downloads\n",
    "ds = fetch_20newsgroups_vectorized(subset='train')\n",
    "\n",
    "# this holds the continuous feature data (which is tfidf)\n",
    "print('features shape:', ds.data.shape) # there are ~11000 instances and ~130k features per instance\n",
    "print('target shape:', ds.target.shape) \n",
    "print('range of target:', np.min(ds.target),np.max(ds.target))\n",
    "print('Data type is', type(ds.data), float(ds.data.nnz)/(ds.data.shape[0]*ds.data.shape[1])*100, '% of the data is non-zero')"
   ]
  },
  {
   "cell_type": "markdown",
   "metadata": {},
   "source": [
    "## Understanding the Dataset\n",
    "Look at the description for the 20 newsgroups dataset at http://qwone.com/~jason/20Newsgroups/. You have just downloaded the \"vectorized\" version of the dataset, which means all the words inside the articles have gone through a transformation that binned them into 130 thousand features related to the words in them.  \n",
    "\n",
    "**Question Set 1**:\n",
    "- How many instances are in the dataset? \n",
    "- What does each instance represent? \n",
    "- How many classes are in the dataset and what does each class represent?\n",
    "- Would you expect a classifier trained on this data would generalize to documents written in the past week? Why or why not?\n",
    "- Is the data represented as a sparse or dense matrix?"
   ]
  },
  {
   "cell_type": "markdown",
   "metadata": {},
   "source": [
    "___\n",
    "Enter your answer here:\n",
    "\n",
    "There are 11,314 instances in the dataset, each representing a partition of a newsgroup relating to a different topic. Each row represents the total words across all articles. 130,000 + words, frequency of each term is taken and normalize how often we expect word to occur as a whole (TFIDF). Divides the number of times we see that word by number of times we expect to see the word. \n",
    "\n",
    "There are 20 classes in the dataset representing each newsgroup genre like sports or computer hardware. We want to classify these articles into their respective genres. \n",
    "\n",
    "Documents written in the past week would likely NOT generalize well given some of the topics are hardware related, which changes dramatically over the years, relgious topics, which also change dynamically. It would work well on more static genres like foreign policy, however. \n",
    "\n",
    "Given that the data is only 0.12% non-zero, this is an extremely SPARSE matrix\n",
    "\n",
    "\n",
    "\n"
   ]
  },
  {
   "cell_type": "markdown",
   "metadata": {},
   "source": [
    "___\n",
    "<a id=\"distance\"></a>\n",
    "<a href=\"#top\">Back to Top</a>\n",
    "## Measures of Distance\n",
    "In the following block of code, we isolate three instances from the dataset. The instance \"`a`\" is from the group *computer graphics*, \"`b`\" is from from the group *recreation autos*, and \"`c`\" is from group *recreation motorcycle*. **Exercise for part 2**: Calculate the: \n",
    "- (1) Euclidean distance\n",
    "- (2) Cosine distance \n",
    "- (3) Jaccard similarity \n",
    "\n",
    "between each pair of instances using the imported functions below. Remember that the Jaccard similarity is only for binary valued vectors, so convert vectors to binary using a threshold. \n",
    "\n",
    "**Question for part 2**: Which distance seems more appropriate to use for this data? **Why**?"
   ]
  },
  {
   "cell_type": "code",
   "execution_count": 8,
   "metadata": {
    "collapsed": false
   },
   "outputs": [
    {
     "name": "stdout",
     "output_type": "stream",
     "text": [
      "Instance A is from class comp.graphics\n",
      "Instance B is from class rec.autos\n",
      "Instance C is from class rec.motorcycles\n",
      "\n",
      "\n",
      "Euclidean Distance\n",
      " ab: 14.7309198627 ac: 15.2315462117 bc: 16.7032930885\n",
      "Cosine Distance\n",
      " ab: 0.787155605009 ac: 0.77389303337 bc: 0.832440437912\n",
      "Jaccard Dissimilarity (vectors should be boolean values)\n",
      " ab: 0.882113821138 ac: 0.875471698113 bc: 0.908794788274\n",
      "\n",
      "\n",
      "The most appropriate distance is...\n",
      "Cosine similarity performs well on large, sparse, document based datasets, Cosine would be our best bet here        because we are given word frequency percentages. Cosine handles non-binary data and will allow us to use        sparse data matrices for our distance measurements, because we are not looking at 0-0 matches\n"
     ]
    }
   ],
   "source": [
    "from scipy.spatial.distance import cosine\n",
    "from scipy.spatial.distance import euclidean\n",
    "from scipy.spatial.distance import jaccard\n",
    "import numpy as np\n",
    "\n",
    "# get first instance (comp)\n",
    "idx = 550\n",
    "a = ds.data[idx].todense()\n",
    "a_class = ds.target_names[ds.target[idx]]\n",
    "print('Instance A is from class', a_class)\n",
    "\n",
    "# get second instance (autos)\n",
    "idx = 4000\n",
    "b = ds.data[idx].todense()\n",
    "b_class = ds.target_names[ds.target[idx]]\n",
    "print('Instance B is from class', b_class)\n",
    "\n",
    "# get third instance (motorcycle)\n",
    "idx = 7000\n",
    "c = ds.data[idx].todense()\n",
    "c_class = ds.target_names[ds.target[idx]]\n",
    "print('Instance C is from class', c_class)\n",
    "\n",
    "a_bin, b_bin, c_bin = a,b,c\n",
    "for i in [a,b,c]:\n",
    "    i[i>0] = 1\n",
    "\n",
    "# Enter distance comparison below for each pair of vectors:\n",
    "p = 'Placeholder'\n",
    "print('\\n\\nEuclidean Distance\\n ab:', euclidean(a,b), 'ac:', euclidean(a,c), 'bc:',euclidean(b,c))\n",
    "print('Cosine Distance\\n ab:', cosine(a,b), 'ac:', cosine(a,c), 'bc:', cosine(b,c))\n",
    "print('Jaccard Dissimilarity (vectors should be boolean values)\\n ab:', jaccard(a_bin,b_bin), \n",
    "      'ac:', jaccard(a_bin,c_bin), 'bc:', jaccard(b_bin, c_bin))\n",
    "\n",
    "print('\\n\\nThe most appropriate distance is...')\n",
    "print('Cosine similarity performs well on large, sparse, document based datasets, Cosine would be our best bet here\\\n",
    "        because we are given word frequency percentages. Cosine handles non-binary data and will allow us to use\\\n",
    "        sparse data matrices for our distance measurements, because we are not looking at 0-0 matches')"
   ]
  },
  {
   "cell_type": "markdown",
   "metadata": {},
   "source": [
    "___\n",
    "# Start of Live Session Assignment\n",
    "___\n",
    "<a id=\"KNN\"></a>\n",
    "<a href=\"#top\">Back to Top</a>\n",
    "## Using scikit-learn with KNN\n",
    "Now let's use stratified cross validation with a holdout set to train a KNN model in `scikit-learn`. Use the example below to train a KNN classifier. The documentation for `KNeighborsClassifier` is here: http://scikit-learn.org/stable/modules/generated/sklearn.neighbors.KNeighborsClassifier.html  \n",
    "\n",
    "**Exercise for part 3**: Use the code below to test what value of `n_neighbors` works best for the given data. *Note: do NOT change the metric to be anything other than `'euclidean'`. Other distance functions are not optimized for the amount of data we are working with.* \n",
    "\n",
    "**Question for part 3**: What is the accuracy of the best classifier you can create for this data (by changing only the `n_neighbors` parameter)? "
   ]
  },
  {
   "cell_type": "code",
   "execution_count": 11,
   "metadata": {
    "collapsed": false
   },
   "outputs": [
    {
     "name": "stdout",
     "output_type": "stream",
     "text": [
      "Accuracy of classifier with 1 neighbors is: 0.61\n",
      "Accuracy of classifier with 2 neighbors is: 0.56\n",
      "Accuracy of classifier with 3 neighbors is: 0.54\n",
      "Accuracy of classifier with 4 neighbors is: 0.53\n",
      "Accuracy of classifier with 5 neighbors is: 0.52\n"
     ]
    }
   ],
   "source": [
    "from sklearn.cross_validation import StratifiedShuffleSplit\n",
    "from sklearn.neighbors import KNeighborsClassifier\n",
    "from sklearn.metrics import accuracy_score\n",
    "from IPython.html import widgets\n",
    "\n",
    "cv = StratifiedShuffleSplit(ds.target, n_iter = 1, test_size = 0.5, train_size=0.5)\n",
    "\n",
    "# fill in the training and testing data and save as separate variables\n",
    "for trainidx, testidx in cv:\n",
    "    # note that these are sparse matrices\n",
    "    X_train = ds.data[trainidx] \n",
    "    X_test = ds.data[testidx] \n",
    "    y_train = ds.target[trainidx]\n",
    "    y_test = ds.target[testidx]\n",
    "\n",
    "# fill in your code  here to train and test\n",
    "# calculate the accuracy and print it for various values of K\n",
    "#K = 5 \n",
    "#clf = KNeighborsClassifier(n_neighbors=K, weights='uniform', metric='euclidean')\n",
    "#clf.fit(X_train, y_train)\n",
    "#acc = accuracy_score(clf.predict(X_test), y_test) # overwrite this with the actual accuracy\n",
    "\n",
    "\n",
    "\n",
    "#=====================================\n",
    "for i in [1,2,3,4,5]:\n",
    "    clf = KNeighborsClassifier(n_neighbors=i, weights='uniform', metric='euclidean')\n",
    "    clf.fit(X_train, y_train)\n",
    "    acc = accuracy_score(clf.predict(X_test), y_test) # overwrite this with the actual accuracy\n",
    "    print('Accuracy of classifier with %d neighbors is: %.2f'%(i,acc))\n"
   ]
  },
  {
   "cell_type": "markdown",
   "metadata": {},
   "source": [
    "The best accuracy is 61% with 1 neighbor."
   ]
  },
  {
   "cell_type": "markdown",
   "metadata": {},
   "source": [
    "**Question for part 3**: With sparse data, does the use of a KDTree representation make sense? Why or Why not?"
   ]
  },
  {
   "cell_type": "markdown",
   "metadata": {},
   "source": [
    "Enter your answer below:\n",
    "\n",
    "No, it does not, as the KDTree will continually add blocks or regions to check in order to find nearest neighbors the more attributes we add to the data set. Relationship of regions to scan is exponential with the amount of attributes in our data set. We would need to search through more and we are lazy, so we don't want to do that.\n",
    "___"
   ]
  },
  {
   "cell_type": "markdown",
   "metadata": {
    "collapsed": true
   },
   "source": [
    "_____\n",
    "## KNN extensions - Centroids\n",
    "Now lets look at a very closely related classifier to KNN, called nearest centroid. In this classifier (which is more appropriate for big data scenarios and sparse data), the training step is used to calculate the centroids for each class. These centroids are saved. Unknown attributes, at prediction time, only need to have distances calculated for each saved centroid, drastically decreasing the time required for a prediction. \n",
    "\n",
    "**Exercise for part 4**: Use the template code below to create a nearest centroid classifier. Test which metric has the best cross validated performance: Euclidean, Cosine, or Manhattan. In `scikit-learn` you can see the documentation for NearestCentroid here: \n",
    "- http://scikit-learn.org/stable/modules/generated/sklearn.neighbors.NearestCentroid.html#sklearn.neighbors.NearestCentroid\n",
    "\n",
    "and for supported distance metrics here:\n",
    "- http://scikit-learn.org/stable/modules/generated/sklearn.metrics.pairwise.distance_metrics.html#sklearn.metrics.pairwise.distance_metrics"
   ]
  },
  {
   "cell_type": "code",
   "execution_count": 15,
   "metadata": {
    "collapsed": false
   },
   "outputs": [
    {
     "name": "stdout",
     "output_type": "stream",
     "text": [
      "Accuracy of NearestCentroid classifier with euclidean distance is: 0.40\n",
      "Accuracy of NearestCentroid classifier with manhattan distance is: 0.17\n",
      "Accuracy of NearestCentroid classifier with cosine distance is: 0.48\n",
      "Accuracy of NearestCentroid classifier with cityblock distance is: 0.34\n",
      "The best distance metric is: Cosine\n"
     ]
    }
   ],
   "source": [
    "from sklearn.neighbors.nearest_centroid import NearestCentroid\n",
    "\n",
    "# the parameters for the nearest centroid metric to test are:\n",
    "#    l1, l2, and cosine (all are optimized)\n",
    "\n",
    "for i in ['euclidean','manhattan','cosine','cityblock']:\n",
    "    clf = NearestCentroid(metric=i)\n",
    "    clf.fit(X_train, y_train)\n",
    "    acc = accuracy_score(clf.predict(X_test), y_test) # overwrite this with the actual accuracy\n",
    "    print('Accuracy of NearestCentroid classifier with %s distance is: %.2f'%(i, acc))\n",
    "\n",
    "# fill in your code here\n",
    "\n",
    "print('The best distance metric is: Cosine')"
   ]
  },
  {
   "cell_type": "markdown",
   "metadata": {},
   "source": [
    "___\n",
    "<a id=\"naive\"></a>\n",
    "<a href=\"#top\">Back to Top</a>\n",
    "## Naive Bayes Classification\n",
    "Now let's look at the use of the Naive Bayes classifier. The 20 newsgroups dataset has 20 classes and about 130,000 features per instance. Recall that the Naive Bayes classifer calculates a posterior distribution for each possible class. Each posterior distribution is a multiplication of many conditional distributions: \n",
    "\n",
    "$${\\arg \\max}_{j} \\left(p(class=j)\\prod_{i} p(attribute=i|class=j) \\right)$$\n",
    "\n",
    "where $p(class=j)$ is the prior and $p(attribute=i|class=j)$ is the conditional probability.\n",
    "\n",
    "**Question for part 5**: With this many classes and features, how many different conditional probabilities need to be parameterized? How many priors need to be parameterized?"
   ]
  },
  {
   "cell_type": "markdown",
   "metadata": {},
   "source": [
    "Enter you answer here:\n",
    "\n",
    "We would have 20 priors, which is the number of classes\n",
    "\n",
    "We would also have 2,602,140 conditional probabilities, way too many for this refurbished mac to calculate\n"
   ]
  },
  {
   "cell_type": "code",
   "execution_count": 16,
   "metadata": {
    "collapsed": false
   },
   "outputs": [
    {
     "data": {
      "text/plain": [
       "2602140"
      ]
     },
     "execution_count": 16,
     "metadata": {},
     "output_type": "execute_result"
    }
   ],
   "source": [
    "# Use this space for any calculations you might want to do\n",
    "print 'number of conditional probabilities', 20*130107"
   ]
  },
  {
   "cell_type": "markdown",
   "metadata": {},
   "source": [
    "___\n",
    "## Naive Bayes in Scikit-learn\n",
    "Scikit has several implementations of the Naive Bayes classifier: `GaussianNB`, `MultinomialNB`, and `BernoulliNB`. Look at the documentation here: http://scikit-learn.org/stable/modules/naive_bayes.html Take a look at each implementation and then answer this question: \n",
    "\n",
    "**Questions for part 6**: \n",
    "- If the instances contain mostly continuous attributes, would it be better to use Gaussian Naive Bayes, Multinomial Naive Bayes, or Bernoulli? And Why? \n",
    "- What if the data is sparse, does this change your answer? Why or Why not?"
   ]
  },
  {
   "cell_type": "markdown",
   "metadata": {},
   "source": [
    "Enter you answer here:\n",
    "\n",
    "If the data is mostly continuous, we would use Gaussian, especially given our sample size and tenants of the CLT. \n",
    "\n",
    "If it's sparse and non-binary, we would use a Multinomial Naive Bayes classifier, because our dataset is non-binary. We would lose tf-idf information if we were to binarize our dataset and likely impact accuracy of the classifier. Cannot use a gaussian because of sparsity of data. Random result would occur.\n",
    "\n",
    "___"
   ]
  },
  {
   "cell_type": "markdown",
   "metadata": {},
   "source": [
    "## Naive Bayes Comparison\n",
    "For the final section of this notebook let's compare the performance of Naive Bayes for document classification. Look at the parameters for `MultinomialNB`, and `BernoulliNB` (especially `alpha` and `binarize`). \n",
    "\n",
    "**Exercise for part 7**: Using the example code below, change the parameters for each classifier and see how accurate you can make the classifiers on the test set. \n",
    "\n",
    "**Question for part 7**: Why are these implementations so fast to train? What does the `'alpha'` value control in these models (*i.e.*, how does it change the parameterizations)? "
   ]
  },
  {
   "cell_type": "code",
   "execution_count": null,
   "metadata": {
    "collapsed": false
   },
   "outputs": [
    {
     "name": "stdout",
     "output_type": "stream",
     "text": [
      "Accuracy of MultiNomialNB classifier with 0.0 alpha is: 0.11\n",
      "Accuracy of MultiNomialNB classifier with 0.25 alpha is: 0.80\n",
      "Accuracy of MultiNomialNB classifier with 0.5 alpha is: 0.77\n",
      "Accuracy of MultiNomialNB classifier with 0.75 alpha is: 0.74\n",
      "Accuracy of MultiNomialNB classifier with 1 alpha is: 0.71\n",
      "Accuracy of MultiNomialNB classifier with 2 alpha is: 0.63\n",
      "Accuracy of MultiNomialNB classifier with 3 alpha is: 0.56\n",
      "Accuracy of MultiNomialNB classifier with 4 alpha is: 0.50\n",
      "Accuracy of MultiNomialNB classifier with 5 alpha is: 0.46\n",
      "Accuracy of BernoulliNB classifier with 0.0 alpha and 0.0 binarization is: 0.04\n"
     ]
    }
   ],
   "source": [
    "from sklearn.naive_bayes import MultinomialNB\n",
    "from sklearn.naive_bayes import BernoulliNB\n",
    "\n",
    "# alpha is smoothing of the dataset, allows us to account for conditional probabilities that are non-existent or zero\n",
    "# which would take our posterior probability to zero\n",
    "\n",
    "\n",
    "# binarize sets threshold for binarization, adds additonal penalty if \n",
    "# class doesnt occur\n",
    "\n",
    "# higher = more smoothing\n",
    "# enter poor man's grid search\n",
    "for i in [0.0,0.25,0.5,0.75,1,2,3,4,5]:\n",
    "    clf_mnb = MultinomialNB(alpha=i)\n",
    "    clf_mnb.fit(X_train, y_train)\n",
    "    acc = accuracy_score(clf_mnb.predict(X_test), y_test) # overwrite this with the actual accuracy\n",
    "    print('Accuracy of MultiNomialNB classifier with %s alpha is: %.2f'%(i, acc))\n",
    "    \n",
    "for i in [0.0,0.25,0.5,0.75,1.0,2.0,3.0]:\n",
    "    for j in [0.0,0.25,0.5,0.75]:\n",
    "        clf_bnb = BernoulliNB(alpha=i, binarize=j)\n",
    "        clf_bnb.fit(X_train, y_train)\n",
    "        acc = accuracy_score(clf_bnb.predict(X_test), y_test) # overwrite this with the actual accuracy\n",
    "        print('Accuracy of BernoulliNB classifier with %s alpha and %s binarization is: %.2f'%(i,j,acc))\n",
    "        \n",
    "print('''\\n These classifiers are so fast because they are eager learners and the prior probability \n",
    "            values are stored ahead of time. Further, it assumes independence of attributes, \n",
    "            so our attributes do not need conditional probs calculated as well. We can iterate \n",
    "            through all of the new examples with our already calculated prior probabilities''')\n",
    "print('''\\nThe alpha values control the smoothing, or the ability to work with missing data. \n",
    "           If alpha > 0, we get lidstone smoothing, and with alpha = 1, we get laplace smoothing (adding 1)''')\n"
   ]
  },
  {
   "cell_type": "markdown",
   "metadata": {
    "collapsed": true
   },
   "source": [
    "________________________________________________________________________________________________________\n",
    "\n",
    "That's all! Please **upload your rendered notebook to blackboard** and please include **team member names** in the notebook submission."
   ]
  },
  {
   "cell_type": "code",
   "execution_count": null,
   "metadata": {
    "collapsed": true
   },
   "outputs": [],
   "source": []
  }
 ],
 "metadata": {
  "kernelspec": {
   "display_name": "Python 2",
   "language": "python",
   "name": "python2"
  },
  "language_info": {
   "codemirror_mode": {
    "name": "ipython",
    "version": 2
   },
   "file_extension": ".py",
   "mimetype": "text/x-python",
   "name": "python",
   "nbconvert_exporter": "python",
   "pygments_lexer": "ipython2",
   "version": "2.7.11"
  }
 },
 "nbformat": 4,
 "nbformat_minor": 0
}
