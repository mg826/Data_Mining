{
 "cells": [
  {
   "cell_type": "code",
   "execution_count": 12,
   "metadata": {
    "collapsed": false
   },
   "outputs": [
    {
     "data": {
      "text/html": [
       "<link href='https://fonts.googleapis.com/css?family=Passion+One' rel='stylesheet' type='text/css'><style>div.attn { font-family: 'Helvetica Neue'; font-size: 30px; line-height: 40px; color: #FFFFFF; text-align: center; margin: 30px 0; border-width: 10px 0; border-style: solid; border-color: #5AAAAA; padding: 30px 0; background-color: #DDDDFF; }hr { border: 0; background-color: #ffffff; border-top: 1px solid black; }hr.major { border-top: 10px solid #5AAA5A; }hr.minor { border: none; background-color: #ffffff; border-top: 5px dotted #CC3333; }div.bubble { width: 65%; padding: 20px; background: #DDDDDD; border-radius: 15px; margin: 0 auto; font-style: italic; color: #f00; }em { color: #AAA; }div.c1{visibility:hidden;margin:0;height:0;}div.note{color:red;}</style>"
      ],
      "text/plain": [
       "<IPython.core.display.HTML object>"
      ]
     },
     "execution_count": 12,
     "metadata": {},
     "output_type": "execute_result"
    }
   ],
   "source": [
    "#  Ebnable HTML/CSS \n",
    "from IPython.core.display import HTML\n",
    "HTML(\"<link href='https://fonts.googleapis.com/css?family=Passion+One' rel='stylesheet' type='text/css'><style>div.attn { font-family: 'Helvetica Neue'; font-size: 30px; line-height: 40px; color: #FFFFFF; text-align: center; margin: 30px 0; border-width: 10px 0; border-style: solid; border-color: #5AAAAA; padding: 30px 0; background-color: #DDDDFF; }hr { border: 0; background-color: #ffffff; border-top: 1px solid black; }hr.major { border-top: 10px solid #5AAA5A; }hr.minor { border: none; background-color: #ffffff; border-top: 5px dotted #CC3333; }div.bubble { width: 65%; padding: 20px; background: #DDDDDD; border-radius: 15px; margin: 0 auto; font-style: italic; color: #f00; }em { color: #AAA; }div.c1{visibility:hidden;margin:0;height:0;}div.note{color:red;}</style>\")"
   ]
  },
  {
   "cell_type": "markdown",
   "metadata": {},
   "source": [
    "\n",
    "___\n",
    "Enter Team Member Names here (double click to edit):\n",
    "\n",
    "- Name 1: Ryan Shuhart\n",
    "- Name 2: Alex Matsunami\n",
    "- Name 3: Cory Nichols\n",
    "\n"
   ]
  },
  {
   "cell_type": "markdown",
   "metadata": {},
   "source": [
    "________\n",
    "<a id=\"top\"></a>\n",
    "# Live Session Assignment Two\n",
    "In the following assignment you will be asked to fill in python code and derivations for a number of different problems. Please read all instructions carefully and turn in the rendered notebook (.ipynb file, remember to save it!!) or HTML of the rendered notebook before the end of class.\n",
    "\n",
    "## Contents\n",
    "* <a href=\"#Loading\">Loading the Classification Data</a>\n",
    "* <a href=\"#using_trees\">Using Decision Trees - Gini</a>\n",
    "* <a href=\"#entropy\">Using Decision Trees - Entropy</a>\n",
    "* <a href=\"#multi\">Multi-way Splits</a>\n",
    "* <a href=\"#sklearn\">Decision Trees in Scikit-Learn</a>\n",
    "\n",
    "________________________________________________________________________________________________________\n",
    "<a id=\"Loading\"></a>\n",
    "<a href=\"#top\">Back to Top</a>\n",
    "## Loading the Classification Data\n",
    "Please run the following code to read in the \"digits\" dataset from sklearn's data loading module. This is identical to the first in class assignment for loading the data into matrices. `ds.data` is a matrix of feature values and `ds.target` is a column vector of the class output (in our case, the hand written digit we want to classify). Each class is a number (0 through 9) that we want to classify as one of ten hand written digits. \n",
    "\n"
   ]
  },
  {
   "cell_type": "code",
   "execution_count": 13,
   "metadata": {
    "collapsed": false
   },
   "outputs": [
    {
     "name": "stdout",
     "output_type": "stream",
     "text": [
      "features shape: (1797, 64)\n",
      "target shape: (1797,)\n",
      "range of target: 0 9\n"
     ]
    }
   ],
   "source": [
    "from sklearn.datasets import load_digits\n",
    "import numpy as np\n",
    "from __future__ import print_function\n",
    "\n",
    "ds = load_digits()\n",
    "\n",
    "# this holds the continuous feature data\n",
    "print('features shape:', ds.data.shape) # there are 1797 instances and 64 features per instance\n",
    "print('target shape:', ds.target.shape )\n",
    "print('range of target:', np.min(ds.target),np.max(ds.target))"
   ]
  },
  {
   "cell_type": "markdown",
   "metadata": {},
   "source": [
    "________________________________________________________________________________________________________\n",
    "<a id=\"using_trees\"></a>\n",
    "<a href=\"#top\">Back to Top</a>\n",
    "## Using Decision Trees\n",
    "In the videos, we talked about the splitting conditions for different attributes. Specifically, we discussed the number of ways in which it is possible to split a node, depending on the attribute types. To understand the possible splits, we need to understand the attributes. For the question below, you might find the description in the `ds['DESCR']` field to be useful. You can see the field using `print(ds['DESCR'])`\n",
    "\n",
    "**Question 1:** For the digits dataset, what are the type(s) of the attributes? How many attributes are there? What do they represent?\n"
   ]
  },
  {
   "cell_type": "code",
   "execution_count": 78,
   "metadata": {
    "collapsed": false
   },
   "outputs": [
    {
     "name": "stdout",
     "output_type": "stream",
     "text": [
      "Optical Recognition of Handwritten Digits Data Set\n",
      "===================================================\n",
      "\n",
      "Notes\n",
      "-----\n",
      "Data Set Characteristics:\n",
      "    :Number of Instances: 5620\n",
      "    :Number of Attributes: 64\n",
      "    :Attribute Information: 8x8 image of integer pixels in the range 0..16.\n",
      "    :Missing Attribute Values: None\n",
      "    :Creator: E. Alpaydin (alpaydin '@' boun.edu.tr)\n",
      "    :Date: July; 1998\n",
      "\n",
      "This is a copy of the test set of the UCI ML hand-written digits datasets\n",
      "http://archive.ics.uci.edu/ml/datasets/Optical+Recognition+of+Handwritten+Digits\n",
      "\n",
      "The data set contains images of hand-written digits: 10 classes where\n",
      "each class refers to a digit.\n",
      "\n",
      "Preprocessing programs made available by NIST were used to extract\n",
      "normalized bitmaps of handwritten digits from a preprinted form. From a\n",
      "total of 43 people, 30 contributed to the training set and different 13\n",
      "to the test set. 32x32 bitmaps are divided into nonoverlapping blocks of\n",
      "4x4 and the number of on pixels are counted in each block. This generates\n",
      "an input matrix of 8x8 where each element is an integer in the range\n",
      "0..16. This reduces dimensionality and gives invariance to small\n",
      "distortions.\n",
      "\n",
      "For info on NIST preprocessing routines, see M. D. Garris, J. L. Blue, G.\n",
      "T. Candela, D. L. Dimmick, J. Geist, P. J. Grother, S. A. Janet, and C.\n",
      "L. Wilson, NIST Form-Based Handprint Recognition System, NISTIR 5469,\n",
      "1994.\n",
      "\n",
      "References\n",
      "----------\n",
      "  - C. Kaynak (1995) Methods of Combining Multiple Classifiers and Their\n",
      "    Applications to Handwritten Digit Recognition, MSc Thesis, Institute of\n",
      "    Graduate Studies in Science and Engineering, Bogazici University.\n",
      "  - E. Alpaydin, C. Kaynak (1998) Cascading Classifiers, Kybernetika.\n",
      "  - Ken Tang and Ponnuthurai N. Suganthan and Xi Yao and A. Kai Qin.\n",
      "    Linear dimensionalityreduction using relevance weighted LDA. School of\n",
      "    Electrical and Electronic Engineering Nanyang Technological University.\n",
      "    2005.\n",
      "  - Claudio Gentile. A New Approximate Maximal Margin Classification\n",
      "    Algorithm. NIPS. 2000.\n",
      "\n",
      "max gini 0.900\n"
     ]
    }
   ],
   "source": [
    "## Enter your comments here\n",
    "## Enter your comments here\n",
    "# sklearn splits based on binary or multiway\n",
    "print(ds['DESCR'])\n",
    "\n",
    "## Enter comments here\n",
    "# There are 5620 instances with 64 attributes or features representing an 8x8 image of integer pixels in the range 0..16\n",
    "# There are no missing attributes\n",
    "# The attributes themselves are continuous and represent handwritten digits from a preprinted form\n",
    "# \n",
    "print('max gini %.3f'%(1-1/float(len(np.unique(ds.target)))))\n",
    "\n",
    "## Enter comments here"
   ]
  },
  {
   "cell_type": "markdown",
   "metadata": {},
   "source": [
    "___\n",
    "## Using the gini coefficient\n",
    "We talked about the gini index in the videos.  The gini coefficient for a **given split** is given by:\n",
    "$$Gini=\\sum_{t=1}^T \\frac{n_t}{N}gini(t)$$\n",
    "where $T$ is the total number of splits (2 for binary attributes), $n_t$ is the number of instances in node $t$ after splitting, and $N$ is the total number of instances in the parent node. $gini(t)$ is the **gini index for each individual node that is created by the split** and is given by:\n",
    "$$gini(t)=1-\\sum_{j=0}^{C-1} p(j|t)^2$$\n",
    "where $C$ is the total number of possible classes and $p(j|t)$ is the probability of class $j$ in node $t$ (i.e., $n_j==$ the count of instances belonging to class $j$ in node $t$, normalized by the total number of instances in node $t$).\n",
    "$$ p(j|t) = \\frac{n_j}{n_t}$$ \n",
    "\n",
    "For the given dataset, $gini(t)$ has been programmed for you in the function `gini_index`. \n",
    "\n",
    "* `def gini_index(classes_in_split):`\n",
    " * To use the function, pass in a `numpy` array of the class labels for a node as (i.e., pass in the rows from `ds.target` that make up a node in the tree) and the gini will be returned for that node. \n"
   ]
  },
  {
   "cell_type": "code",
   "execution_count": 79,
   "metadata": {
    "collapsed": false
   },
   "outputs": [],
   "source": [
    "# compute the gini of several examples for the starting dataset\n",
    "# This function \"gini_index\" is written for you. Once you run this block, you \n",
    "#   will have access to the function for the notebook. You do not need to know \n",
    "#   how this function works--only what it returns \n",
    "# This function returns the gini index for an array of classes in a node.\n",
    "def gini_index(classes_in_split):\n",
    "    # pay no attention to this code in the function-- it just computes the gini for a given split \n",
    "    classes_in_split = np.reshape(classes_in_split,(len(classes_in_split),-1))\n",
    "    unique_classes = np.unique(classes_in_split)\n",
    "    gini = 1\n",
    "    for c in unique_classes:\n",
    "        gini -= (np.sum(classes_in_split==c) / float(len(classes_in_split)))**2\n",
    "        \n",
    "    return gini"
   ]
  },
  {
   "cell_type": "markdown",
   "metadata": {},
   "source": [
    "In the example below, the function is used calculate the gini for splitting the dataset on feature 28, with value 2.5. In this example, we need to create two separate tree nodes: the first node has all the `ds.target` labels when feature 28 is greater than 2.5, the second node has all the rows from `ds.target` where feature 28 is less than 2.5. The steps are outlined below. **Read this carefully to understand what the code does below in the block following this.**\n",
    "- Feature 28 is saved into a separate variable `feature28 = ds.data[:,28]`\n",
    "- First all the target classes for the first node are calculated using `numpy` indexing `ds.target[feature28>2.5]` \n",
    " - Note: this grabs all the rows in `ds.target` (the classes) which have feature 28 greater than 2.5 (similar to indexing in pandas)\n",
    "- Second, those classes are passed into the function to get the gini for the right node in this split (i.e., feature 28 being greater than the threshold 2.5). \n",
    " - `gini_r = gini_index(ds.target[feature28>2.5])`\n",
    "- Third, the gini is calculated for the left node in the tree. This grabs only the rows in `ds.target` where feature 28 is less than 2.5.\n",
    "     - `gini_l = gini_index(ds.target[feature28<=2.5])`\n",
    "- Combining the gini indices is left as an exercise in the next section"
   ]
  },
  {
   "cell_type": "code",
   "execution_count": 80,
   "metadata": {
    "collapsed": false
   },
   "outputs": [
    {
     "name": "stdout",
     "output_type": "stream",
     "text": [
      "gini for right node of split: 0.884585786767\n",
      "gini for left node of split: 0.711540756654\n"
     ]
    }
   ],
   "source": [
    "#==========================Use the gini_index Example===============\n",
    "# get the value for this feature as a column vector \n",
    "# (this is like grabbing one column of the record table)\n",
    "feature28 = ds.data[:,28]\n",
    "\n",
    "# if we split on the value of 2.5, then this is the gini for each resulting node:\n",
    "gini_r = gini_index(ds.target[feature28>2.5]) # just like in pandas, we are sending in the rows where feature28>2.5\n",
    "gini_l = gini_index(ds.target[feature28<=2.5]) # and sending the rows where feature28<=2.5\n",
    "\n",
    "# compute gini example. This splits on attribute '28' with a value of 2.5\n",
    "print('gini for right node of split:', gini_r)\n",
    "print('gini for left node of split:', gini_l)"
   ]
  },
  {
   "cell_type": "markdown",
   "metadata": {},
   "source": [
    "**Question 2:** Now, using the above values `gini_r` and `gini_l`. Calculate the combined Gini for the entire split. You will need to write the weighted summation (based upon the number of instances inside each node). To count the number of instances greater than a value using numpy, you can use broadcasting, which is a special way of indexing into a numpy array. For example, the code `some_array>5` will return a new numpy array of true/false elements. It is the same size as `some_array` and is marked true where the array is greater than `5`, and false otherwise. By taking the `sum` of this array, we can count how many times `some_array` is greater than `5`. \n",
    "\n",
    "`counts = sum(some_array>5)` \n",
    " \n",
    "You will need to use this syntax to count the values in each node as a result of splitting.  "
   ]
  },
  {
   "cell_type": "code",
   "execution_count": 81,
   "metadata": {
    "collapsed": false
   },
   "outputs": [
    {
     "name": "stdout",
     "output_type": "stream",
     "text": [
      "1398 399\n",
      "The total gini of the split for a threshold of 2.5 is: 0.846\n",
      "class makeup of right node: 10\n",
      "class makeup of left node: 10\n",
      "distribution of classes for right node: [3, 180, 171, 180, 118, 145, 82, 169, 171, 179]\n",
      "distribution of classes for left node: [175, 2, 6, 3, 63, 37, 99, 10, 3, 1]\n",
      "The total gini of the split for a threshold of 2.5 is: ??\n"
     ]
    }
   ],
   "source": [
    "## Enter your code here\n",
    "\n",
    "countR = sum(feature28>2.5) # count up the instances of feature28 that are > 2.5\n",
    "countL = sum(feature28<=2.5) # '' <= 2.5\n",
    "totCount = float(len(feature28))\n",
    "\n",
    "# sum weighted avg of parent node\n",
    "print(countR, countL)\n",
    "print('The total gini of the split for a threshold of 2.5 is: %.3f'%(countR/totCount*gini_r+countL/totCount*gini_l))\n",
    "# countR makes up the majority of the split, pulling the combined closer to .88 vs .71 for the left node (<2.5)\n",
    "print('class makeup of right node:', len(np.unique(ds.target[feature28>2.5])))\n",
    "print('class makeup of left node:', len(np.unique(ds.target[feature28<=2.5])))\n",
    "# the right split (>2.5) still contains all classes\n",
    "print('distribution of classes for right node:',\n",
    "      [np.sum(ds.target[feature28>2.5]==i) for i in np.unique(ds.target[feature28>2.5])])\n",
    "print('distribution of classes for left node:',\n",
    "      [np.sum(ds.target[feature28<=2.5]==i) for i in np.unique(ds.target[feature28<=2.5])])\n",
    "# no wonder our gini is so high...\n",
    "\n",
    "\n",
    "## Enter your code here\n",
    "print('The total gini of the split for a threshold of 2.5 is:','??')"
   ]
  },
  {
   "cell_type": "markdown",
   "metadata": {},
   "source": [
    "___\n",
    "## Start of Live Session Coding\n",
    "\n",
    "**Question 3:** Now we want to know which is a better split:\n",
    "- `feature28` split on a value of `2.5`  \n",
    "- `feature28` split on a value of `10`.  \n",
    "\n",
    "Enter your code to find the total gini of splitting on the threshold of 10 and compare it to the total gini of splitting on threshold of 2.5 (for feature 28 only). According to gini, which threshold is better for spliting on feature 28, `threshold=2.5` or `threshold=10.0`?"
   ]
  },
  {
   "cell_type": "code",
   "execution_count": 82,
   "metadata": {
    "collapsed": false
   },
   "outputs": [
    {
     "name": "stdout",
     "output_type": "stream",
     "text": [
      "The total gini of the split for a threshold of 10 is: 0.864\n",
      "This is not better than the split on 2.5, we would split on 2.5 over 10\n"
     ]
    }
   ],
   "source": [
    "# Enter your code here\n",
    "\n",
    "gini_r = gini_index(ds.target[feature28>10.0])\n",
    "gini_l = gini_index(ds.target[feature28<=10.0]) \n",
    "\n",
    "countR = sum(feature28>10.0) \n",
    "countL = sum(feature28<=10.0) \n",
    "totCount = float(len(feature28))\n",
    "\n",
    "print('The total gini of the split for a threshold of 10 is: %.3f'%(countR/totCount*gini_r+countL/totCount*gini_l))\n",
    "print('This is not better than the split on 2.5, we would split on 2.5 over 10')"
   ]
  },
  {
   "cell_type": "markdown",
   "metadata": {},
   "source": [
    "___\n",
    "<a id=\"entropy\"></a>\n",
    "<a href=\"#top\">Back to Top</a>\n",
    "## Entropy based splitting\n",
    "We discussed entropy as well in the video as another means of splitting. We calculated entropy for a node $t$ by:\n",
    "$$ Entropy(t) = -\\sum p(j|t) \\log p(j|t) $$\n",
    "where $p(j|t)$ is the same as above. To combine Entropy measures from a set of nodes, t = {1,...,T} we use: \n",
    "$$Entropy_{split}=\\sum_{t=1}^T \\frac{n_t}{N}Entropy(t)$$ \n",
    "where $n_t$ and $N$ are the same as defined above for the $Gini$. Information gain is calculated by subtracting the Entropy of the split from the Entropy of the parent node before splitting:\n",
    "$$InfoGain = Entropy(p)-Entropy_{split}$$\n",
    "where $p$ is the parent node before splitting. You are given an equation for calculating the $Entropy(t)$ of  node $t$. It works exactly like the `gini_index` function above, but is named `entropy_value` and returns the entropy for a node. You simply send in an array of the feature values for the node you want to calculate the entropy value for. \n"
   ]
  },
  {
   "cell_type": "code",
   "execution_count": 83,
   "metadata": {
    "collapsed": false
   },
   "outputs": [],
   "source": [
    "def entropy_value(classes_in_split):\n",
    "    # pay no attention to this code -- it just computes the gini for a given split \n",
    "    classes_in_split = np.reshape(classes_in_split,(len(classes_in_split),-1))\n",
    "    unique_classes = np.unique(classes_in_split)\n",
    "    ent = 0\n",
    "    for c in unique_classes:\n",
    "        p = (np.sum(classes_in_split==c) / float(len(classes_in_split)))\n",
    "        ent += p * np.log(p)\n",
    "        \n",
    "    return -ent"
   ]
  },
  {
   "cell_type": "code",
   "execution_count": 84,
   "metadata": {
    "collapsed": false
   },
   "outputs": [
    {
     "name": "stdout",
     "output_type": "stream",
     "text": [
      "entropy for right node of split: 2.18369753782\n",
      "entropy for left node of split: 1.48988814128\n"
     ]
    }
   ],
   "source": [
    "ent_r = entropy_value(ds.target[feature28>2.5])\n",
    "ent_l = entropy_value(ds.target[feature28<=2.5])\n",
    "\n",
    "# compute entropy example. This splits on attribute '28' with a value of 2.5\n",
    "print('entropy for right node of split:', ent_r)\n",
    "print('entropy for left node of split:', ent_l)"
   ]
  },
  {
   "cell_type": "markdown",
   "metadata": {},
   "source": [
    "___\n",
    "**Question 4:** Calculate the **information gain** of the split when the threshold is 2.5 on `feature28`. What is the value of the information gain?"
   ]
  },
  {
   "cell_type": "code",
   "execution_count": 85,
   "metadata": {
    "collapsed": false
   },
   "outputs": [
    {
     "name": "stdout",
     "output_type": "stream",
     "text": [
      "The information gain of the split for a threshold of 2.5 is: 0.273\n"
     ]
    }
   ],
   "source": [
    "# Enter your code here\n",
    "\n",
    "parent = entropy_value(ds.target)\n",
    "\n",
    "countR = sum(feature28 > 2.5) \n",
    "countL = sum(feature28 <= 2.5)\n",
    "\n",
    "print('The information gain of the split for a threshold of 2.5 is: %.3f'%(\n",
    "        parent - (countR/totCount*ent_r+countL/totCount*ent_l)))"
   ]
  },
  {
   "cell_type": "markdown",
   "metadata": {},
   "source": [
    "**Question 5:** What is the information gain if the threshold is 10.0 on `feature28`? According to information gain, is it better to split on a threshold of 2.5 or 10? Does entropy give the same decision as gini for this example?"
   ]
  },
  {
   "cell_type": "code",
   "execution_count": 86,
   "metadata": {
    "collapsed": false
   },
   "outputs": [
    {
     "name": "stdout",
     "output_type": "stream",
     "text": [
      "The information gain of the split for a threshold of 10 is: 0.210\n",
      "This is not better than the split on 2.5\n",
      "This is the same as gini from a result perspective, we'd choose 2.5 to split on over 10\n"
     ]
    }
   ],
   "source": [
    "# Enter your code here\n",
    "\n",
    "parent = entropy_value(ds.target)\n",
    "\n",
    "ent_r = entropy_value(ds.target[feature28 > 10])\n",
    "ent_l = entropy_value(ds.target[feature28 <= 10])\n",
    "\n",
    "countR = sum(feature28 > 10.0) \n",
    "countL = sum(feature28 <= 10.0)\n",
    "\n",
    "\n",
    "print('The information gain of the split for a threshold of 10 is: %.3f'%(\n",
    "        parent - (countR/totCount*ent_r+countL/totCount*ent_l)))\n",
    "\n",
    "print('This is not better than the split on 2.5')\n",
    "print('This is the same as gini from a result perspective, we\\'d choose 2.5 to split on over 10')"
   ]
  },
  {
   "cell_type": "markdown",
   "metadata": {},
   "source": [
    "___\n",
    "<a id=\"multi\"></a>\n",
    "<a href=\"#top\">Back to Top</a>\n",
    "## Information gain and multi-way splitting\n",
    "Now assume that we can use not just a binary split, but a three way split. \n",
    "\n",
    "**Question 6** What is the information gain if we split feature28 on two thesholds (three separate nodes corresponding to three branches from one node) \n",
    "- node left: `feature28<2.5`, \n",
    "- node middle: `2.5<=feature28<10`, and \n",
    "- node right: `10<=feature28`? \n",
    "\n",
    "Is the information gain better? \n",
    "\n",
    "***Note***: You can index into a `numpy` array for the middle node with the following notation: `some_array[(2.5<=feature28) & (feature28<10.0)]`"
   ]
  },
  {
   "cell_type": "code",
   "execution_count": 87,
   "metadata": {
    "collapsed": false
   },
   "outputs": [
    {
     "name": "stdout",
     "output_type": "stream",
     "text": [
      "The information gain of the split for a three way split is: 0.317\n"
     ]
    }
   ],
   "source": [
    "# Enter your code here, repeating just for effect\n",
    "\n",
    "parent = entropy_value(ds.target)\n",
    "\n",
    "count_l = sum(feature28 < 2.5) \n",
    "count_c = sum((feature28 >= 2.5) & (feature28 < 10))\n",
    "count_r = sum(feature28 >= 10)\n",
    "\n",
    "ent_l = entropy_value(ds.target[feature28 < 2.5])\n",
    "ent_c = entropy_value(ds.target[(feature28 >= 2.5) & (feature28 < 10)]) # save this for future use\n",
    "ent_r = entropy_value(ds.target[feature28 >= 10])\n",
    "\n",
    "print('The information gain of the split for a three way split is: %.3f'%(\n",
    "        parent - (count_r/totCount*ent_r+count_l/totCount*ent_l+count_c/totCount*ent_c)))"
   ]
  },
  {
   "cell_type": "markdown",
   "metadata": {},
   "source": [
    "**Question 7**: Should we normalize the quantity that we just calculated if we want to compare it to the information gain of a binary split? Why or Why not?"
   ]
  },
  {
   "cell_type": "markdown",
   "metadata": {
    "collapsed": false
   },
   "source": [
    "##### Enter your comments here\n",
    "\n",
    "Yes, because the information for a three way split will always be greater than the information gain for a binary split because of the number of splits and randomness from three buckets instead of two. Penalize more complicated splits with the gain ratio that takes into account the number of splits.\n",
    "\n",
    "\n",
    "##### Enter your comments here"
   ]
  },
  {
   "cell_type": "markdown",
   "metadata": {},
   "source": [
    "___\n",
    "<a id=\"sklearn\"></a>\n",
    "<a href=\"#top\">Back to Top</a>\n",
    "## Decision Trees in scikit-learn\n",
    "Scikit-learn also has an implementation of decision trees. Its available here:\n",
    "- http://scikit-learn.org/stable/modules/generated/sklearn.tree.DecisionTreeClassifier.html#sklearn.tree.DecisionTreeClassifier\n",
    "\n",
    "**Question 8**: What algorithm does scikit-learn use for creating decision trees (i.e., ID3, C4.5, C5.0, CART, MARS, CHAID, etc.)? "
   ]
  },
  {
   "cell_type": "code",
   "execution_count": 88,
   "metadata": {
    "collapsed": false
   },
   "outputs": [],
   "source": [
    "# Enter your answer here\n",
    "\n",
    "# scikit-learn uses an optimised version of the CART algorithm - \n",
    "# http://scikit-learn.org/stable/modules/tree.html#tree-algorithms\n",
    "\n",
    "# Enter your answer here"
   ]
  },
  {
   "cell_type": "markdown",
   "metadata": {},
   "source": [
    "___\n",
    "**Question 9**: Using the documentation, use scikit-learn to train a decision tree on the digits data. Calculate the accuracy on the training data. What is the accuracy? Did you expect the decision tree to have this kind of accuracy? Why or Why not?"
   ]
  },
  {
   "cell_type": "code",
   "execution_count": 101,
   "metadata": {
    "collapsed": false
   },
   "outputs": [
    {
     "name": "stdout",
     "output_type": "stream",
     "text": [
      "accuracy of depth 3: 0.551474680022\n",
      "A dataset with 10 levels, 64 attributes, using a tree with a max depth of 3, we expected poor classification \n",
      "         accuracy. We will need to extend the depth of the decision tree while accounting for overfitting. \n",
      "         Based on the inherent variability of the data, for instance, someone can write the number 4 multiple ways, \n",
      "         we'd expect one decision tree at a depth of 3 to not be a very good classifier\n",
      "      \n",
      "accuracy of depth 4: 0.717863105175\n"
     ]
    }
   ],
   "source": [
    "# use scikit learn to train a decision tree\n",
    "from sklearn.tree import DecisionTreeClassifier as dtree\n",
    "\n",
    "# enter your code below here to train and predict on the same data\n",
    "\n",
    "treefit = dtree(criterion='entropy', max_depth = 3, random_state=0)\n",
    "treefit.fit(ds.data, ds.target)\n",
    "\n",
    "# enter your code above here\n",
    "\n",
    "from sklearn.metrics import accuracy_score \n",
    "\n",
    "# enter your code below here to calculate accuracy\n",
    "\n",
    "print('accuracy of depth 3:', accuracy_score(treefit.predict(ds.data), ds.target))\n",
    "print('''A dataset with 10 levels, 64 attributes, using a tree with a max depth of 3, we expected poor classification \n",
    "         accuracy. We will need to extend the depth of the decision tree while accounting for overfitting. \n",
    "         Based on the inherent variability of the data, for instance, someone can write the number 4 multiple ways, \n",
    "         we\\'d expect one decision tree at a depth of 3 to not be a very good classifier\n",
    "      ''')\n",
    "\n",
    "# to illustrate\n",
    "treefit = dtree(criterion='entropy', max_depth = 4, random_state=0)\n",
    "treefit.fit(ds.data, ds.target)\n",
    "print('accuracy of depth 4:', accuracy_score(treefit.predict(ds.data), ds.target))\n",
    "\n",
    "# enter your code above here"
   ]
  },
  {
   "cell_type": "markdown",
   "metadata": {},
   "source": [
    "___\n",
    "**Question 10**: Look at the other input parameters to the function `DecisionTreeClassifier` could any of them be used to help prevent the decision tree from overlearning on the data? \n",
    "\n",
    "Which variables might we use to control overfitting and how (explain why it might help to stop overfitting)?"
   ]
  },
  {
   "cell_type": "code",
   "execution_count": 102,
   "metadata": {
    "collapsed": false
   },
   "outputs": [],
   "source": [
    "# Enter your answer here\n",
    "\n",
    "# Max depth can help us from overfitting by preventing the tree from creating too many leaf nodes and decision points\n",
    "# that fit the data perfectly but do not generalize well. \n",
    "# we can also use max leaf nodes and minimum sample split to fight overfitting our data. For instance, we could ensure\n",
    "# that a candidate split contain at least 10 observations before it's split again or we could contain the amount of \n",
    "# leafs directly in the model with max leaf nodes\n",
    "\n",
    "\n",
    "# Enter your answer here"
   ]
  },
  {
   "cell_type": "markdown",
   "metadata": {},
   "source": [
    "________________________________________________________________________________________________________\n",
    "\n",
    "That's all! Please **upload your rendered notebook** and please include **team member names** in the notebook submission. Also please remember to save the notebook before uploading."
   ]
  },
  {
   "cell_type": "code",
   "execution_count": null,
   "metadata": {
    "collapsed": false
   },
   "outputs": [],
   "source": []
  }
 ],
 "metadata": {
  "kernelspec": {
   "display_name": "Python 2",
   "language": "python",
   "name": "python2"
  },
  "language_info": {
   "codemirror_mode": {
    "name": "ipython",
    "version": 2
   },
   "file_extension": ".py",
   "mimetype": "text/x-python",
   "name": "python",
   "nbconvert_exporter": "python",
   "pygments_lexer": "ipython2",
   "version": "2.7.11"
  }
 },
 "nbformat": 4,
 "nbformat_minor": 0
}
