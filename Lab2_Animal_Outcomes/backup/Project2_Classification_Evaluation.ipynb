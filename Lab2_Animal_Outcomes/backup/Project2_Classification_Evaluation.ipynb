{
 "cells": [
  {
   "cell_type": "markdown",
   "metadata": {},
   "source": [
    "### Project 2: Classification and Model Evaluation\n",
    "## Animal Shelter Outcomes: A Classification Problem\n",
    "#### Alex Matsunami, RJ Smith, Cory Nichols"
   ]
  },
  {
   "cell_type": "markdown",
   "metadata": {},
   "source": [
    "## Business Understanding"
   ]
  },
  {
   "cell_type": "markdown",
   "metadata": {},
   "source": [
    "\n",
    "Millions of animal companions end up in shelters each year in the United States. These animals may be stray, rescued from a difficult situation or given up by their previous families. Each year, roughly 40 percent of all dogs and cats in shelters are euthanized. \n",
    "\n",
    "Our dataset comes from the Austin Animal Center in Austin, Texas and is part of a Kaggle competition. Using this data, we hope to find trends or rule sets identifying the outcomes of animals in shelters. The findings would subsequently drive shelter practices, hopefully for more social good than business good. For instance, if spaying or neutering a dog or cat is highly suggestive of a favorable outcome for an animal, shelters should implement policies ensuring all animals are fixed prior to adoption. This practice may cost the shelter more money, but would improve the welfare of the animal population. Further, could something as simple as giving each an animal a name drive a more favorable outcome? This particular practice would cost nothing but time and in turn improve the welfare of the animal population in cities. Cost savings, however, could be gained from our analysis. For instance, it may be easy enough to automate intake and processes for certain breeds or genders of animals while focusing attention on breeds or genders of animals that the data indicate \"need more help.\"\n",
    "\n",
    "We intend to use the 27 thousand records in the training set as a reference for other major cities in the United States, where most animal shelter practices are similar from an intake and outcome perspective. Our dataset includes statistics on breed, color, sex, and age from the Austin Animal Center.\n",
    "\n",
    "Success should be categorized into analytical and business goals. Analytical goals would be based on classification accuracy on a sizeable test data set given by a confusin matrix where overall classification accuracy is greater than 85% at minimum with at least 85% precision. Further, and possibly more importantly, we hope our analysis drives at least a 20% decrease in animal euthanizations and transfers combined over a two calendar year period.  \n"
   ]
  },
  {
   "cell_type": "markdown",
   "metadata": {},
   "source": [
    "## Data Meaning and Data Types"
   ]
  },
  {
   "cell_type": "markdown",
   "metadata": {},
   "source": [
    "#### Overview"
   ]
  },
  {
   "cell_type": "markdown",
   "metadata": {},
   "source": [
    "The original shelter outcomes dataset obtained from Kaggle.com contained the following ten attributes: Animal ID, Name, DateTime, OutcomeType, OutcomeSubtype, AnimalType, SexuponOutcome, AgeuponOutcome, Breed, and Color. The training dataset in use is 26,729 records while the test dataset contains roughly 12,000 records. We will be utilizing the training dataset. Each attribute in the training dataset is categorical, with AgeuponOutcome to be converted to continuous. "
   ]
  },
  {
   "cell_type": "markdown",
   "metadata": {},
   "source": [
    "#### Target Features: Adoption, Spayed/Neutered"
   ]
  },
  {
   "cell_type": "markdown",
   "metadata": {},
   "source": [
    "Based on our work in Project 1, we have determined the outcome of interest with the most significnat business impact is **Adoption**.\n",
    "\n",
    "While there are other outcomes of interest that have less business impact from Adoption (a primary objective for the animal shelter), we determined that a more interesting tool for learning would be to examine a primary explanatory variable of adoption: **Spaying and Neutering**.\n",
    "\n",
    "Because these are relatively simple and cost-effective operations to perform and have such a profound impact on the animals lives, as well as their adoptability, we determined there is significant business impact and value in understanding the explanatory variables for this target feature. Additionally, we wish to determine if we can reliably predict whether an animal is fixed, given its adoption (and/or other) outcome(s)."
   ]
  },
  {
   "cell_type": "markdown",
   "metadata": {},
   "source": [
    "#### Explanatory Features"
   ]
  },
  {
   "cell_type": "markdown",
   "metadata": {},
   "source": [
    "**TODO**: Break this out into list of the dataset features. Then, determine what are the issues and data cleansing. Break out the missing features and imputation separately.\n",
    "\n",
    "**============================**\n",
    "\n",
    "\n",
    "\n",
    "The explanatory features in our dataset are made up of AnimalID, Name, DateTime, AnimalType, SexuponOutcome, AgeuponOutcome, Breed and Color. Perusing the data at a high level, we can easily see that there are many opportunities to split the data into valuable, new features which will help train our classification algorithm more effectively.\n",
    "\n",
    "AnimalID is a unique identifier given to every animal that enters a shelter. For the purpose of statistical analysis, the Animal ID's or substring of the animal ID does not provide valuable information and will be removed from the dataset. \n",
    "\n",
    "Name is a nominal feature with 6374 different names represented in the dataset. This feature may be valuable from a classification standpoint: does a pet being named increase the chances of adoption? The most frequent animal name in our dataset is 'Max.'\n",
    "\n",
    "DateTime is a temporal feature which denotes the time at which an outcome occurred. In particular, this attribute is useful from a data analysis standpoint only. For instance, do euthanizations occur at a particular point during the day? However, from a classification standpoint, we do not expect this feature to be valuable.\n",
    "\n",
    "AnimalType is a nominal feature with two levels: Cat and Dog. This feature will likely be a critical feature for classification and data analysis.\n",
    "\n",
    "SexuponOutcome is a nominal categorical feature with five levels: Neutered Male, Intact Male, Spayed Female, Intact Female, and Unknown. This attribute can easily be split into separate nominal features indcating if an animal is fixed and the gender of the animal. \n",
    "\n",
    "AgeuponOutcome is an ordinal feature with 44 levels, or different ages that were reported for animals upon outcome. In order to normalize this feature, we will attempt to convert AgeuponOutcome into days. Examples of levels in this feature include: 1 year, 15 days, 7 months. Each level begins with an integer in every case. The most frequent level is '1 year.'\n",
    "\n",
    "Breed is a nominal categorical feature with 1380 levels that represent different breeds for both dogs and cats. Breed holds generic levels such as \"domestic shorthair\" for dogs, which may indicate an inability to truly determine the breed type. We will need to be cognizant of this fact when training our classification model. This feature holds many opportunities for simplification and feature creation and transformation. For instance, we can identify breeds with a 'reputation', size of the animal and popular breeds.\n",
    "\n",
    "Finally, color is another nominal categorical feature with 366 level that represent the different combination colors of the animals entering the shelter. An example of a level of Color is \"Brown/White,\" with the first color representing the primary color of the animal. Due to the number of levels in the Color feature, aggregation of the levels of color will be needed to effectively train our classification algorithm and derive business impact. "
   ]
  },
  {
   "cell_type": "markdown",
   "metadata": {},
   "source": [
    "## Data Preprocessing"
   ]
  },
  {
   "cell_type": "code",
   "execution_count": 1,
   "metadata": {
    "collapsed": false
   },
   "outputs": [],
   "source": [
    "import pandas as pd\n",
    "from pandas import DataFrame, Series\n",
    "import numpy as np\n",
    "from sklearn.preprocessing import LabelEncoder,StandardScaler,Imputer\n",
    "from matplotlib import pyplot as plt\n",
    "import seaborn as sns\n",
    "%matplotlib inline"
   ]
  },
  {
   "cell_type": "code",
   "execution_count": 2,
   "metadata": {
    "collapsed": false
   },
   "outputs": [],
   "source": [
    "df = pd.read_csv('train.csv')\n",
    "breedMap = pd.read_csv('breed_size.csv')\n",
    "breedMap['Size'] = breedMap.Size.apply(lambda x: x.strip())"
   ]
  },
  {
   "cell_type": "markdown",
   "metadata": {},
   "source": [
    "\n",
    "Our dataset is made up of 10 variables, many of which can be split or transformed into additional variables. Further, the majority of the variables are categorical: mostly nominal variables except for ordinal variables like Age and temporal variables like DateTime. Some variables, such as AnimalID, will provide no value in our analysis.\n",
    "\n",
    "Our class feature or target feature is OutcomeType. We are interested in classifying animal outcome types given the other explanatory variables, which we will elaborate upon further. Let's take a look at a few objects to get our feet wet.\n"
   ]
  },
  {
   "cell_type": "markdown",
   "metadata": {},
   "source": [
    "### Test/Training Split\n",
    "There is test dataset for Kaggle, but no target labels on that set, so it is not useful for determining the scoring in our evaulation--only upon submission to Kaggle grader.\n",
    "\n",
    "Thus, we break up prior to any downstream processing the test and training datasets. We will then be able to use the training set in model evaluation in the testing phase with the appropriate features intact."
   ]
  },
  {
   "cell_type": "code",
   "execution_count": 3,
   "metadata": {
    "collapsed": false
   },
   "outputs": [],
   "source": [
    "df['is_test'] = (np.random.rand(len(df.index)) < 0.8)"
   ]
  },
  {
   "cell_type": "markdown",
   "metadata": {},
   "source": [
    "### Age Cleanup and Imputation\n",
    "In the data set, age is expressed in combination of year, week, month, or days. Thus, we will want to normalize this to days prior to imputing the missing values."
   ]
  },
  {
   "cell_type": "code",
   "execution_count": 4,
   "metadata": {
    "collapsed": false
   },
   "outputs": [
    {
     "name": "stdout",
     "output_type": "stream",
     "text": [
      "0     1 year\n",
      "1     1 year\n",
      "2    2 years\n",
      "3    3 weeks\n",
      "4    2 years\n",
      "Name: AgeuponOutcome, dtype: object\n",
      "0    365.0\n",
      "1    365.0\n",
      "2    730.0\n",
      "3     21.0\n",
      "4    730.0\n",
      "Name: AgeValue, dtype: float64\n"
     ]
    }
   ],
   "source": [
    "print df.AgeuponOutcome.head(5)\n",
    "\n",
    "# First, replace the missing values with -1\n",
    "\n",
    "df['AgeuponOutcome'] = [\"-1 days\"\n",
    "                        if pd.isnull(i) else i for i in df['AgeuponOutcome'].values]\n",
    "\n",
    "# Split out the numbers from the units\n",
    "df['AgeValue'] = df['AgeuponOutcome'].apply(lambda x: x.rstrip('s').split())\n",
    "            \n",
    "ageMap = {'year': 365, \n",
    "          'week': 7, \n",
    "          'month': 30,\n",
    "          'day': 1} \n",
    "\n",
    "# Apply the multiplication of the units\n",
    "df['AgeValue'] = df['AgeValue'].apply(lambda x: ageMap.get(x[1])*int(x[0]))\n",
    "\n",
    "nonMissing = df[df.AgeValue >= 0]\n",
    "\n",
    "medianAge = nonMissing['AgeValue'].median()\n",
    "\n",
    "# Impute the median value across the non-missing values and apply\n",
    "df['AgeValue'] = [medianAge\n",
    "                        if i == -1 else i for i in df['AgeValue'].values]\n",
    "\n",
    "print df.AgeValue.head(5)"
   ]
  },
  {
   "cell_type": "markdown",
   "metadata": {},
   "source": [
    "### More Feature Imputation"
   ]
  },
  {
   "cell_type": "markdown",
   "metadata": {},
   "source": [
    "Before we continue, it's critical our data is clean. This means imputation or dropping missing values and objects if necessary. As we have already imputed the age in processing the complex type with units above, the only other column we must imput is the SexuponOutcome feature, with only a single instance with missing data.\n",
    "\n",
    "Of the other features missing values, we will drop the OutcomSubtype as it is missing far to often to be useful. However, the fact that animals are missing Names is in itself useful, and we will treat that separately later on.\n",
    "\n",
    "**TODO** Move the has_name calculation up here and remove the original column as part of \"imputation\" section."
   ]
  },
  {
   "cell_type": "code",
   "execution_count": 5,
   "metadata": {
    "collapsed": false
   },
   "outputs": [
    {
     "name": "stdout",
     "output_type": "stream",
     "text": [
      "Number of nulls in the data set: \n",
      "AnimalID              0\n",
      "Name               7691\n",
      "DateTime              0\n",
      "OutcomeType           0\n",
      "OutcomeSubtype    13612\n",
      "AnimalType            0\n",
      "SexuponOutcome        1\n",
      "AgeuponOutcome        0\n",
      "Breed                 0\n",
      "Color                 0\n",
      "is_test               0\n",
      "AgeValue              0\n",
      "dtype: int64 \n",
      "\n",
      "\n"
     ]
    }
   ],
   "source": [
    "print 'Number of nulls in the data set: \\n', df.isnull().sum(),'\\n\\n'\n"
   ]
  },
  {
   "cell_type": "markdown",
   "metadata": {},
   "source": [
    "\n",
    "Based upon the information retrieved from the DataFrame, we are dealing with roughly 27 thousand records in the training set. We are only interested in the \"OutcomeType\" as our y (classifier) data. Outcome subtype is a sparse drill down on the Outcome type with sub-codes which are not explained thoroughly. Therefore, we recommend dropping this value as it is aub-variable of the outcome variable we are interested with roughly 50% valid values.\n",
    "\n",
    "The good news is: 40% of animals are being adopted, most of which are neutered male dogs about a year old. \n",
    "\n",
    "In regard to new feature creation, we observe multiple opportunities. For instance, it will be interesting to see if having a name affects outcome and if the type of breed is aggressive (has a \"reputation\"). We can also see converting the AgeuponOutcome being valuable. \n",
    "\n",
    "However, before we create or transform features, let's clean up the data a bit more. There are a few nulls in our dataset. Of concern are the nulls in AgeuponOutcome and SexuponOutcome, in which there are 18 and 1 null values, respectively. This is not a large concern given the size of our dataset and what looks to be good quality data overall. However, we will attempt to keep the age nulls in the dataset. Losing one object in the dataset due a null in SexuponOutcome is not a concern. Because we care about whether or not a pet is named, the nulls in Name are not a concern. Further, OutcomeSubtype is simply a click down of OutcomeType, which is our classifier, and is quite sparse. We are dropping OutcomeSubtype, we are not concerned with the nulls.\n"
   ]
  },
  {
   "cell_type": "code",
   "execution_count": 6,
   "metadata": {
    "collapsed": false
   },
   "outputs": [],
   "source": [
    "del df['OutcomeSubtype'], df['AnimalID'] # drop extraneous data  columns\n",
    "df = df.reset_index() # reset index to ensure further operations are executed correctly\n",
    "\n",
    "# Impute the mode value across the non-missing values and apply.\n",
    "# Built-in Imputer doesn't support categorical, so compute and apply the mode here.\n",
    "\n",
    "nonMissingSex = df[~pd.isnull(df.SexuponOutcome) & (df.SexuponOutcome != \"Unknown\")]\n",
    "modeSex = nonMissingSex['SexuponOutcome'].value_counts().idxmax()\n",
    "\n",
    "df['SexuponOutcome'] = [modeSex\n",
    "                        if pd.isnull(i) or i == \"Unknown\" else i for i in df['SexuponOutcome'].values]\n"
   ]
  },
  {
   "cell_type": "markdown",
   "metadata": {},
   "source": [
    "### Has_Name Feature Engineering\n",
    "The only remaining feature with missing values is the Name. Here, we transform this into more useful binary feature as to whether or not the animal had a name. The missing data is actually a key piece of information!"
   ]
  },
  {
   "cell_type": "code",
   "execution_count": 7,
   "metadata": {
    "collapsed": false
   },
   "outputs": [
    {
     "name": "stdout",
     "output_type": "stream",
     "text": [
      "There are 6375 unique names in the data set\n"
     ]
    },
    {
     "name": "stderr",
     "output_type": "stream",
     "text": [
      "C:\\Anaconda2\\lib\\site-packages\\numpy\\lib\\arraysetops.py:200: FutureWarning: numpy not_equal will not check object identity in the future. The comparison did not return the same result as suggested by the identity (`is`)) and will change.\n",
      "  flag = np.concatenate(([True], aux[1:] != aux[:-1]))\n"
     ]
    }
   ],
   "source": [
    "print 'There are %d unique names in the data set' % len(np.unique(df['Name'].values))\n",
    "\n",
    "# 6375 unique names. That is quite a few names. Let's generalize into a binary feature called has_name instead:\n",
    "# per Eric's feedback, use pandas functionality instead and do this more efficiently vs pure python list comps:\n",
    "\n",
    "df['has_name'] = df['Name'].apply(lambda x: 0 if pd.isnull(x) else 1)\n",
    "\n",
    "# Now, remove the Name as we don't actually use this subsequently.\n",
    "del df['Name']\n"
   ]
  },
  {
   "cell_type": "raw",
   "metadata": {},
   "source": [
    "Now that we have taken care of the dataset's important integrity issues, it's time to slice it up. First, let's take a look at a few instances and drop the old index."
   ]
  },
  {
   "cell_type": "code",
   "execution_count": 8,
   "metadata": {
    "collapsed": false
   },
   "outputs": [
    {
     "name": "stdout",
     "output_type": "stream",
     "text": [
      "Number of nulls in the data set: \n",
      "DateTime          0\n",
      "OutcomeType       0\n",
      "AnimalType        0\n",
      "SexuponOutcome    0\n",
      "AgeuponOutcome    0\n",
      "Breed             0\n",
      "Color             0\n",
      "is_test           0\n",
      "AgeValue          0\n",
      "has_name          0\n",
      "dtype: int64 \n",
      "\n"
     ]
    },
    {
     "data": {
      "text/html": [
       "<div>\n",
       "<table border=\"1\" class=\"dataframe\">\n",
       "  <thead>\n",
       "    <tr style=\"text-align: right;\">\n",
       "      <th></th>\n",
       "      <th>DateTime</th>\n",
       "      <th>OutcomeType</th>\n",
       "      <th>AnimalType</th>\n",
       "      <th>SexuponOutcome</th>\n",
       "      <th>AgeuponOutcome</th>\n",
       "      <th>Breed</th>\n",
       "      <th>Color</th>\n",
       "      <th>is_test</th>\n",
       "      <th>AgeValue</th>\n",
       "      <th>has_name</th>\n",
       "    </tr>\n",
       "  </thead>\n",
       "  <tbody>\n",
       "    <tr>\n",
       "      <th>0</th>\n",
       "      <td>2014-02-12 18:22:00</td>\n",
       "      <td>Return_to_owner</td>\n",
       "      <td>Dog</td>\n",
       "      <td>Neutered Male</td>\n",
       "      <td>1 year</td>\n",
       "      <td>Shetland Sheepdog Mix</td>\n",
       "      <td>Brown/White</td>\n",
       "      <td>True</td>\n",
       "      <td>365.0</td>\n",
       "      <td>1</td>\n",
       "    </tr>\n",
       "    <tr>\n",
       "      <th>1</th>\n",
       "      <td>2013-10-13 12:44:00</td>\n",
       "      <td>Euthanasia</td>\n",
       "      <td>Cat</td>\n",
       "      <td>Spayed Female</td>\n",
       "      <td>1 year</td>\n",
       "      <td>Domestic Shorthair Mix</td>\n",
       "      <td>Cream Tabby</td>\n",
       "      <td>False</td>\n",
       "      <td>365.0</td>\n",
       "      <td>1</td>\n",
       "    </tr>\n",
       "    <tr>\n",
       "      <th>2</th>\n",
       "      <td>2015-01-31 12:28:00</td>\n",
       "      <td>Adoption</td>\n",
       "      <td>Dog</td>\n",
       "      <td>Neutered Male</td>\n",
       "      <td>2 years</td>\n",
       "      <td>Pit Bull Mix</td>\n",
       "      <td>Blue/White</td>\n",
       "      <td>True</td>\n",
       "      <td>730.0</td>\n",
       "      <td>1</td>\n",
       "    </tr>\n",
       "    <tr>\n",
       "      <th>3</th>\n",
       "      <td>2014-07-11 19:09:00</td>\n",
       "      <td>Transfer</td>\n",
       "      <td>Cat</td>\n",
       "      <td>Intact Male</td>\n",
       "      <td>3 weeks</td>\n",
       "      <td>Domestic Shorthair Mix</td>\n",
       "      <td>Blue Cream</td>\n",
       "      <td>True</td>\n",
       "      <td>21.0</td>\n",
       "      <td>0</td>\n",
       "    </tr>\n",
       "    <tr>\n",
       "      <th>4</th>\n",
       "      <td>2013-11-15 12:52:00</td>\n",
       "      <td>Transfer</td>\n",
       "      <td>Dog</td>\n",
       "      <td>Neutered Male</td>\n",
       "      <td>2 years</td>\n",
       "      <td>Lhasa Apso/Miniature Poodle</td>\n",
       "      <td>Tan</td>\n",
       "      <td>True</td>\n",
       "      <td>730.0</td>\n",
       "      <td>0</td>\n",
       "    </tr>\n",
       "  </tbody>\n",
       "</table>\n",
       "</div>"
      ],
      "text/plain": [
       "              DateTime      OutcomeType AnimalType SexuponOutcome  \\\n",
       "0  2014-02-12 18:22:00  Return_to_owner        Dog  Neutered Male   \n",
       "1  2013-10-13 12:44:00       Euthanasia        Cat  Spayed Female   \n",
       "2  2015-01-31 12:28:00         Adoption        Dog  Neutered Male   \n",
       "3  2014-07-11 19:09:00         Transfer        Cat    Intact Male   \n",
       "4  2013-11-15 12:52:00         Transfer        Dog  Neutered Male   \n",
       "\n",
       "  AgeuponOutcome                        Breed        Color is_test  AgeValue  \\\n",
       "0         1 year        Shetland Sheepdog Mix  Brown/White    True     365.0   \n",
       "1         1 year       Domestic Shorthair Mix  Cream Tabby   False     365.0   \n",
       "2        2 years                 Pit Bull Mix   Blue/White    True     730.0   \n",
       "3        3 weeks       Domestic Shorthair Mix   Blue Cream    True      21.0   \n",
       "4        2 years  Lhasa Apso/Miniature Poodle          Tan    True     730.0   \n",
       "\n",
       "   has_name  \n",
       "0         1  \n",
       "1         1  \n",
       "2         1  \n",
       "3         0  \n",
       "4         0  "
      ]
     },
     "execution_count": 8,
     "metadata": {},
     "output_type": "execute_result"
    }
   ],
   "source": [
    "del df['index']\n",
    "print 'Number of nulls in the data set: \\n', df.isnull().sum(),'\\n'\n",
    "df.head()"
   ]
  },
  {
   "cell_type": "markdown",
   "metadata": {},
   "source": [
    "## Data Creation and Transformation"
   ]
  },
  {
   "cell_type": "markdown",
   "metadata": {},
   "source": [
    "\n",
    "All columns outside of the name column have been dropped or imputed and are now non-null.\n",
    "\n",
    "Let's create some useful variables in our data set. It would be interesting to investigate whether or not a potential adoptee having a name has an effect on their outcome.\n",
    "\n",
    "The gender and what we will call \"is_intact\" (whether an animal is intact (not fixed)) are also interesting variables to investigate.\n",
    "\n",
    "Further, it would be better to represent age as a continuous ratio variable. We will transform age into day and check it's distribution for normality.\n"
   ]
  },
  {
   "cell_type": "code",
   "execution_count": 9,
   "metadata": {
    "collapsed": false
   },
   "outputs": [
    {
     "data": {
      "text/plain": [
       "0        Neutered Male\n",
       "1        Spayed Female\n",
       "2        Neutered Male\n",
       "3          Intact Male\n",
       "4        Neutered Male\n",
       "5        Intact Female\n",
       "6          Intact Male\n",
       "7        Neutered Male\n",
       "8        Spayed Female\n",
       "9        Spayed Female\n",
       "10       Neutered Male\n",
       "11       Spayed Female\n",
       "12       Neutered Male\n",
       "13       Neutered Male\n",
       "14       Neutered Male\n",
       "15       Neutered Male\n",
       "16         Intact Male\n",
       "17       Intact Female\n",
       "18       Intact Female\n",
       "19       Neutered Male\n",
       "20         Intact Male\n",
       "21       Spayed Female\n",
       "22       Spayed Female\n",
       "23       Neutered Male\n",
       "24       Neutered Male\n",
       "25       Intact Female\n",
       "26       Spayed Female\n",
       "27       Spayed Female\n",
       "28       Spayed Female\n",
       "29       Neutered Male\n",
       "             ...      \n",
       "26699    Neutered Male\n",
       "26700      Intact Male\n",
       "26701    Intact Female\n",
       "26702    Spayed Female\n",
       "26703    Neutered Male\n",
       "26704    Intact Female\n",
       "26705    Intact Female\n",
       "26706    Spayed Female\n",
       "26707    Neutered Male\n",
       "26708    Neutered Male\n",
       "26709    Spayed Female\n",
       "26710    Intact Female\n",
       "26711    Intact Female\n",
       "26712    Neutered Male\n",
       "26713    Intact Female\n",
       "26714    Spayed Female\n",
       "26715    Spayed Female\n",
       "26716    Neutered Male\n",
       "26717    Spayed Female\n",
       "26718    Neutered Male\n",
       "26719    Neutered Male\n",
       "26720    Spayed Female\n",
       "26721    Spayed Female\n",
       "26722      Intact Male\n",
       "26723    Neutered Male\n",
       "26724      Intact Male\n",
       "26725    Spayed Female\n",
       "26726    Neutered Male\n",
       "26727      Intact Male\n",
       "26728      Intact Male\n",
       "Name: SexuponOutcome, dtype: object"
      ]
     },
     "execution_count": 9,
     "metadata": {},
     "output_type": "execute_result"
    }
   ],
   "source": [
    "# Further, let's split out the intactness of an animal: whether or not the animal has been spayed or neutered\n",
    "# as well as the gender:\n",
    "\n",
    "intactness = lambda x: 'Fixed' if x.split()[0] in ['Spayed','Neutered'] else 'Intact'\n",
    "df['is_fixed'] = df['SexuponOutcome'].apply(intactness)\n",
    "\n",
    "df['gender'] = df['SexuponOutcome'].apply(lambda x: x.split()[1])\n",
    "\n",
    "df['SexuponOutcome']\n"
   ]
  },
  {
   "cell_type": "markdown",
   "metadata": {},
   "source": [
    "\n",
    "Let us also identify potentially 'aggressive' breeds using a bit of regex and top 10 aggressive breeds list: \n",
    "http://www.therichest.com/rich-list/the-biggest/the-worlds-10-most-dangerous-dog-breeds/?view=all\n",
    "\n",
    "We will create a binary feature 'is_aggressive.' If the dog's breed is contained in the aggressive breed list, is_aggressive will be 1, else it will be 0.  \n"
   ]
  },
  {
   "cell_type": "code",
   "execution_count": 10,
   "metadata": {
    "collapsed": false
   },
   "outputs": [],
   "source": [
    "import re\n",
    "\n",
    "agg_breeds = ['Bull','Doberman','Rottweiler','Husky','German','Boxer','Malamute','Dane']\n",
    "\n",
    "df['is_aggressive'] = [re.split('\\W+',i) for i in df['Breed']]\n",
    "\n",
    "for idx, i in enumerate(df['is_aggressive'].values):\n",
    "    if len(agg_breeds) != len(set(agg_breeds).difference(i)):\n",
    "        df.set_value(idx, 'is_aggressive', 1)\n",
    "    else:\n",
    "        df.set_value(idx, 'is_aggressive', 0)      "
   ]
  },
  {
   "cell_type": "markdown",
   "metadata": {},
   "source": [
    "\n",
    "Let's also grab the primary color using same regex approach and reduce the number of categories in color. We will map the primary color (the first color listed) to a colorMap dictionary.\n"
   ]
  },
  {
   "cell_type": "code",
   "execution_count": 11,
   "metadata": {
    "collapsed": false
   },
   "outputs": [],
   "source": [
    "colorMap = {'exotic':['Agouti','Calico','Lynx','Tricolor','Tortie','Flame','Torbie'], # these are some odd colors...\n",
    "            'dark':['Black','Chocolate','Liver','Sable','Seal','Red'],\n",
    "            'neutral':['Gray','Silver','Tan','Buff','Brown','Fawn'],\n",
    "            'light':['Cream','Blue','Pink','White','Yellow','Lilac','Ruddy','Apricot','Orange','Gold']}\n",
    "\n",
    "# use pandas built ins to munge the data a bit faster - use rename, split_interval to convert age\n",
    "df['primary_color'] = [re.split('\\W+',i)[0] for i in df['Color']]\n",
    "\n",
    "for idx, color in enumerate(df['primary_color'].values):\n",
    "    for k,v in colorMap.items():\n",
    "        if color in v:\n",
    "            df.set_value(idx,'primary_color', k)"
   ]
  },
  {
   "cell_type": "markdown",
   "metadata": {},
   "source": [
    "One other critical attribute we are missing is animal size. We assume the size of an animal is extremely important, especially when it comes to adopting dogs. Therefore, we have retrieved the American Kennel Club's (http://www.akc.org/dog-breeds/) listing of breeds and associated sizes. Because there are so few toy breeds listed, we combined toy and small into \"small.\" For breeds that were not represented in AKC's list (there were about 20), each  was mapped to size buckets based on the following logic: Small (avg weight <= 20 lbs ), Medium (<= 65 lbs), Large (<= 100 lbs), Giant (> 100 lbs). All cats were mapped to \"small.\" We expect the size feature to be more relevant for dogs, and we expect it to be significant. We've also added in an indicator for the top 10 most popular dogs."
   ]
  },
  {
   "cell_type": "code",
   "execution_count": 12,
   "metadata": {
    "collapsed": false,
    "scrolled": true
   },
   "outputs": [],
   "source": [
    "# set primary breed as the lookup\n",
    "df['BreedLU'] = [i.rstrip('Mix').split('/')[0].strip() for i in df['Breed']] \n",
    "\n",
    "# zip up breed and size into a dict\n",
    "sizeMapper = dict(zip(breedMap['Breed'], breedMap['Size'])) \n",
    "\n",
    "# map it, I love Pandas\n",
    "df['size'] = df['BreedLU'].map(sizeMapper) \n",
    "df['size'] = np.where(df['AnimalType'].values == 'Cat', 'Small', df['size']) # set cats to small (unless Garfield)\n",
    "del df['BreedLU'] # drop the lookup vector"
   ]
  },
  {
   "cell_type": "code",
   "execution_count": 13,
   "metadata": {
    "collapsed": false
   },
   "outputs": [],
   "source": [
    "# Source: http://www.petinsurance.com/healthzone/pet-articles/pet-breeds/Top-10-Dog-Breeds.aspx\n",
    "topBreeds = ['Boxer', 'Rottweiler', 'Poodle', 'Yorkshire Terrier',\n",
    "                'French Bulldog', 'Beagle', 'Bulldog',\n",
    "                'Golden Retriever', 'German Shepherd', 'Labrador Retriever']\n",
    "\n",
    "topBreedList = []\n",
    "for i in df['Breed']:\n",
    "    matched = False\n",
    "    for topBreed in topBreeds:\n",
    "        if topBreed in i:\n",
    "            topBreedList.append(1)\n",
    "            matched = True\n",
    "            break\n",
    "    if not matched:\n",
    "        topBreedList.append(0)       \n",
    "\n",
    "df['is_popular'] = topBreedList"
   ]
  },
  {
   "cell_type": "code",
   "execution_count": 14,
   "metadata": {
    "collapsed": false
   },
   "outputs": [],
   "source": [
    "from datetime import datetime\n",
    "# let's also account for the time of day these actions happen as well as the day of the week\n",
    "df['DateTime'] = df['DateTime'].astype(np.datetime64)\n",
    "\n",
    "df['is_Weekday'] = df['DateTime'].apply(lambda x: 1 if datetime.weekday(x) < 5 else 0)\n",
    "\n",
    "df['time_of_day'] = pd.cut(df.DateTime.dt.hour,[-1,11,17,1e6], 4, labels = [0,1,2])\n",
    "df['time_of_day'] = df.time_of_day.astype(np.int64)\n",
    "df['hour'] = df.DateTime.dt.hour\n",
    "# morning, afternoon, evening\n",
    "\n",
    "# Now, remove the DateTime, as we have engineered the necessary features\n",
    "\n",
    "del df['DateTime']"
   ]
  },
  {
   "cell_type": "markdown",
   "metadata": {},
   "source": [
    "## Feature Engineering"
   ]
  },
  {
   "cell_type": "markdown",
   "metadata": {},
   "source": [
    "First, let's convert categorical features to objects and make column names a little easier to follow:"
   ]
  },
  {
   "cell_type": "code",
   "execution_count": 15,
   "metadata": {
    "collapsed": false
   },
   "outputs": [
    {
     "name": "stdout",
     "output_type": "stream",
     "text": [
      "<class 'pandas.core.frame.DataFrame'>\n",
      "RangeIndex: 26729 entries, 0 to 26728\n",
      "Data columns (total 18 columns):\n",
      "OutcomeType       26729 non-null object\n",
      "AnimalType        26729 non-null object\n",
      "SexuponOutcome    26729 non-null object\n",
      "AgeuponOutcome    26729 non-null object\n",
      "Breed             26729 non-null object\n",
      "Color             26729 non-null object\n",
      "is_test           26729 non-null bool\n",
      "AgeValue          26729 non-null float64\n",
      "has_name          26729 non-null int64\n",
      "is_fixed          26729 non-null object\n",
      "gender            26729 non-null object\n",
      "is_aggressive     26729 non-null object\n",
      "primary_color     26729 non-null object\n",
      "size              26729 non-null object\n",
      "is_popular        26729 non-null int64\n",
      "is_Weekday        26729 non-null int64\n",
      "time_of_day       26729 non-null int64\n",
      "hour              26729 non-null int64\n",
      "dtypes: bool(1), float64(1), int64(5), object(11)\n",
      "memory usage: 3.5+ MB\n"
     ]
    }
   ],
   "source": [
    "df.info()"
   ]
  },
  {
   "cell_type": "code",
   "execution_count": 16,
   "metadata": {
    "collapsed": false
   },
   "outputs": [],
   "source": [
    "df.columns = ['Outcome','Type','SexuponOutcome','AgeuponOutcome','Breed','Color', 'Is_Test', 'Age_Value',\n",
    "              'Has_Name','Is_Fixed','Gender','Is_Aggressive','Primary_Color','Size', 'Is_Popular','Is_Weekday'\n",
    "              ,'time_of_day','hour']\n",
    "\n",
    "categ = ['Type','Breed','Is_Fixed','Gender','Is_Aggressive', 'Primary_Color', 'Size','Has_Name',\n",
    "       'Outcome','Is_Popular', 'Is_Weekday','time_of_day']\n",
    "\n",
    "df[categ] = df[categ].astype(np.object)"
   ]
  },
  {
   "cell_type": "markdown",
   "metadata": {},
   "source": [
    "The data is starting to tell more of a story with our transformed dataset. There are no longer nulls and it looks as if mostly small dogs with names make up a good portion the data set. Nearly 70% of animals in our dataset are fixed. Interestingly, domestic shorthair mixes dominate the data set from a breed perspective, which have 1380 unique values. This may be a \"catch all\" breed used to identify dogs the shelter had trouble identifying and may be a future issue from a classification standpoint.\n",
    "\n",
    "We also transformed the age variable into a continuous feature. Let's ensure it has a valid data type and quickly take a look at its distribution and some other key statistics."
   ]
  },
  {
   "cell_type": "markdown",
   "metadata": {},
   "source": [
    "# Feature Visualization"
   ]
  },
  {
   "cell_type": "markdown",
   "metadata": {},
   "source": [
    "Here, we will refer the reader to the prior work on the extensive visualization done in Project 1.\n",
    "\n",
    "However, here, we will want to simply break out the features as is done here. Also, we will want to show the target features, and break these out in a way that makes sense (bar or pie chart)"
   ]
  },
  {
   "cell_type": "code",
   "execution_count": 17,
   "metadata": {
    "collapsed": false
   },
   "outputs": [
    {
     "data": {
      "image/png": "[encoded data removed]",
      "text/plain": [
       "<matplotlib.figure.Figure at 0xc5d48d0>"
      ]
     },
     "metadata": {},
     "output_type": "display_data"
    }
   ],
   "source": [
    "import matplotlib\n",
    "\n",
    "#####\n",
    "# Removing age_range from the visualization here\n",
    "#####\n",
    "\n",
    "features = ['Has_Name','Is_Fixed','Gender','Size','Is_Aggressive','Primary_Color', 'Is_Popular','Outcome']\n",
    "\n",
    "plt.figure(figsize=(30,18))\n",
    "for index, feature in enumerate(features):\n",
    "    plt.subplot(3, 4, index +1)\n",
    "    groups = df.groupby(feature)['Outcome'].count()/len(df)\n",
    "    ax = groups.plot(kind = 'bar', color =['tomato','lightblue','lightgreen','gray','orchid'], fontsize=14)"
   ]
  },
  {
   "cell_type": "code",
   "execution_count": 18,
   "metadata": {
    "collapsed": false
   },
   "outputs": [
    {
     "data": {
      "text/plain": [
       "<matplotlib.axes._subplots.AxesSubplot at 0xc5d4be0>"
      ]
     },
     "execution_count": 18,
     "metadata": {},
     "output_type": "execute_result"
    },
    {
     "data": {
      "image/png": "[encoded data removed]",
      "text/plain": [
       "<matplotlib.figure.Figure at 0xa7cb748>"
      ]
     },
     "metadata": {},
     "output_type": "display_data"
    }
   ],
   "source": [
    "df.Type.value_counts().plot(kind='pie', autopct='%1d%%', colors = ['g', 'c'])"
   ]
  },
  {
   "cell_type": "markdown",
   "metadata": {},
   "source": [
    "Some interesting discoveries come out of simple percentages: for instance, most animals being adopted are small. This is likely because cats are also categorized into the small category -- we will explore animal type crosstabs more thoroughly. Most critically, adoption rates show promise: 40 percent of all animals are adopted. Our business partners are looking to increase this number. Further, given Austin's policy of no euthanizations unless aggressive or sick, it's easy to see that most animals do indeed survive, however, most are transferred to other shelters. Transfers come with high cost for our business partners. This is likely a metric they'd like to reduce. The more an animal is passed through the system, the larger emotional detriment and the higher cost for the shelters in managing input/output as well as standard medical treatment, room and board and surgical operations. Further, it looks as though the most popular breeds are not present in the sample of shelter animals, which could be a bad sign for future adoptability.\n",
    "\n",
    "Based on these charts, we also likely can combine size into a three level factor feature by combining giant into large since it is about 2% of the dataset. Further, most animals are dark colored and fixed. Fixed animals make up almost 75% of the dataset while dark colored animals are 40% of the sample size.\n",
    "\n",
    "Further, there are more dogs than cats in our dataset. This is actually a surprise, given that stray cats are far more frequently encountered than stray dogs. "
   ]
  },
  {
   "cell_type": "markdown",
   "metadata": {},
   "source": [
    "### Additional Work: Algorithmic Setup and Numeric Conversions"
   ]
  },
  {
   "cell_type": "markdown",
   "metadata": {},
   "source": [
    "To make things a bit easier to visualize in seaborn and also set up our data for classification algorithms, let's go ahead and set up dummies and remap some of our categorical variables to integers where appropriate."
   ]
  },
  {
   "cell_type": "code",
   "execution_count": 19,
   "metadata": {
    "collapsed": false
   },
   "outputs": [
    {
     "name": "stdout",
     "output_type": "stream",
     "text": [
      "<class 'pandas.core.frame.DataFrame'>\n",
      "RangeIndex: 26729 entries, 0 to 26728\n",
      "Data columns (total 18 columns):\n",
      "Outcome           26729 non-null object\n",
      "Type              26729 non-null object\n",
      "SexuponOutcome    26729 non-null object\n",
      "AgeuponOutcome    26729 non-null object\n",
      "Breed             26729 non-null object\n",
      "Color             26729 non-null object\n",
      "Is_Test           26729 non-null bool\n",
      "Age_Value         26729 non-null float64\n",
      "Has_Name          26729 non-null object\n",
      "Is_Fixed          26729 non-null object\n",
      "Gender            26729 non-null object\n",
      "Is_Aggressive     26729 non-null object\n",
      "Primary_Color     26729 non-null object\n",
      "Size              26729 non-null object\n",
      "Is_Popular        26729 non-null object\n",
      "Is_Weekday        26729 non-null object\n",
      "time_of_day       26729 non-null object\n",
      "hour              26729 non-null int64\n",
      "dtypes: bool(1), float64(1), int64(1), object(15)\n",
      "memory usage: 3.5+ MB\n"
     ]
    }
   ],
   "source": [
    "df.info()"
   ]
  },
  {
   "cell_type": "code",
   "execution_count": 20,
   "metadata": {
    "collapsed": false
   },
   "outputs": [],
   "source": [
    "# size is ordinal, lets create a dict and map it\n",
    "sizeMap = {'Giant':4,'Large':3,'Medium':2,'Small':1}\n",
    "df['Size'] = df['Size'].map(sizeMap)\n",
    "\n",
    "# grab dummies for our nominal variables\n",
    "df = df.join(pd.get_dummies(df['Primary_Color']))\n",
    "\n",
    "# relabel our outcomes\n",
    "classLabels = LabelEncoder()\n",
    "df['Outcome_Label'] = classLabels.fit_transform(df['Outcome']) \n",
    "df['Primary_Color_Label'] = classLabels.fit_transform(df['Primary_Color']) "
   ]
  },
  {
   "cell_type": "markdown",
   "metadata": {},
   "source": [
    "Now, let's take a look at more relationships between our explanatory features. Specifically the age_value, size and intactness of dogs:"
   ]
  },
  {
   "cell_type": "code",
   "execution_count": 21,
   "metadata": {
    "collapsed": false
   },
   "outputs": [
    {
     "data": {
      "image/png": "[encoded data removed]",
      "text/plain": [
       "<matplotlib.figure.Figure at 0xd933f98>"
      ]
     },
     "metadata": {},
     "output_type": "display_data"
    }
   ],
   "source": [
    "animals = pd.crosstab(df['Is_Fixed'], df['Outcome'])\n",
    "rate = animals.div(animals.sum(1).astype(float), axis=0)*100\n",
    "rate.plot(kind='barh', stacked=True)\n",
    "plt.legend(bbox_to_anchor=(1.05, 1), loc=2, borderaxespad=0.)\n",
    "\n",
    "plt.show()"
   ]
  },
  {
   "cell_type": "markdown",
   "metadata": {},
   "source": [
    "Probably the most significant finding thus far: it looks as if over 50 percent of fixed animals are adopted. Specifically, looking at the second chart, over 90 percent of adopted animals are fixed. Given the moderate association found for Is_Intact, this is a critical datapoint discovered for our classification purposes going forward. Further, the majority of animals that perished were intact. This could be due to pre-existing conditions coming into the facility."
   ]
  },
  {
   "cell_type": "code",
   "execution_count": 22,
   "metadata": {
    "collapsed": false
   },
   "outputs": [
    {
     "data": {
      "text/plain": [
       "<matplotlib.legend.Legend at 0xcc24c50>"
      ]
     },
     "execution_count": 22,
     "metadata": {},
     "output_type": "execute_result"
    },
    {
     "data": {
      "image/png": "[encoded data removed]",
      "text/plain": [
       "<matplotlib.figure.Figure at 0xa7cb860>"
      ]
     },
     "metadata": {},
     "output_type": "display_data"
    }
   ],
   "source": [
    "animals = pd.crosstab(df['Type'], df['Outcome'])\n",
    "rate = animals.div(animals.sum(1).astype(float), axis=0)*100\n",
    "rate.plot(kind='barh',stacked=True)\n",
    "plt.legend(bbox_to_anchor=(1.05, 1), loc=2, borderaxespad=0.)"
   ]
  },
  {
   "cell_type": "markdown",
   "metadata": {},
   "source": [
    "Cats are transferred far more often than dogs, however, both are adopted at similar rate. Dogs are much more likely to be returned to their owners than cats. Of interest is the deaths among cats and dogs: only cats have died in our dataset. Thankfully both cats and dogs do not die or are not euthanized often. "
   ]
  },
  {
   "cell_type": "markdown",
   "metadata": {},
   "source": [
    "# Mini-Lab Start : Logistic Regression and Support Vector Machines"
   ]
  },
  {
   "cell_type": "markdown",
   "metadata": {},
   "source": [
    "Based on exploratory data analysis, some initial conclusions were made: we could easily see that fixing animals has a significant effect on their ability to be adopted, simply by visualizing the data and running basic statistical tests. \n",
    "\n",
    "However, we figured we were missing a few variables. In particular, the time of the outcome. Understanding when outcomes happen could be a critical component in understanding what optimal times or days our business partners should stay open or promote adoptive benefits heavily. \n",
    "\n",
    "Further, in order to answer the question more succintly, we have reduced our problem to a binary one: adopted or not. Given a binary outcome, there is roughly a 45/55 split on adopted and not adopted outcomes, respectively. \n",
    "\n",
    "A binary outcome will help to explain classification models more effectively and answer our business partner's question more directly: what variables are the most important for ADOPTION?\n"
   ]
  },
  {
   "cell_type": "markdown",
   "metadata": {},
   "source": [
    "The first thing we need to do is get our data into algorithmic shape. We intend to use two methodologies to build a classification model predicting binary outcomes. These two methodologies are Logistic Regression and Support Vector Machines.\n",
    "\n",
    "Given the linear separation dependency of Logistic Regression, we find it critical to attempt a non-linear classification algorithm with a Support Vector Machine. We will also fit a linear SVM to the data as well.\n",
    "\n",
    "This should help us to not only fit a predictive model, but to also create a description for the answer to our the question: \"How can we get more animals adopted?\"\n",
    "\n",
    "Let's go ahead and clean our data up. We have quite a few features left over, simply for visualization purposes."
   ]
  },
  {
   "cell_type": "code",
   "execution_count": 23,
   "metadata": {
    "collapsed": false
   },
   "outputs": [
    {
     "data": {
      "text/html": [
       "<div>\n",
       "<table border=\"1\" class=\"dataframe\">\n",
       "  <thead>\n",
       "    <tr style=\"text-align: right;\">\n",
       "      <th></th>\n",
       "      <th>Outcome</th>\n",
       "      <th>Type</th>\n",
       "      <th>SexuponOutcome</th>\n",
       "      <th>AgeuponOutcome</th>\n",
       "      <th>Breed</th>\n",
       "      <th>Color</th>\n",
       "      <th>Is_Test</th>\n",
       "      <th>Age_Value</th>\n",
       "      <th>Has_Name</th>\n",
       "      <th>Is_Fixed</th>\n",
       "      <th>...</th>\n",
       "      <th>Is_Popular</th>\n",
       "      <th>Is_Weekday</th>\n",
       "      <th>time_of_day</th>\n",
       "      <th>hour</th>\n",
       "      <th>dark</th>\n",
       "      <th>exotic</th>\n",
       "      <th>light</th>\n",
       "      <th>neutral</th>\n",
       "      <th>Outcome_Label</th>\n",
       "      <th>Primary_Color_Label</th>\n",
       "    </tr>\n",
       "  </thead>\n",
       "  <tbody>\n",
       "    <tr>\n",
       "      <th>0</th>\n",
       "      <td>Return_to_owner</td>\n",
       "      <td>Dog</td>\n",
       "      <td>Neutered Male</td>\n",
       "      <td>1 year</td>\n",
       "      <td>Shetland Sheepdog Mix</td>\n",
       "      <td>Brown/White</td>\n",
       "      <td>True</td>\n",
       "      <td>365.0</td>\n",
       "      <td>1</td>\n",
       "      <td>Fixed</td>\n",
       "      <td>...</td>\n",
       "      <td>0</td>\n",
       "      <td>1</td>\n",
       "      <td>0</td>\n",
       "      <td>2</td>\n",
       "      <td>0.0</td>\n",
       "      <td>0.0</td>\n",
       "      <td>0.0</td>\n",
       "      <td>1.0</td>\n",
       "      <td>3</td>\n",
       "      <td>3</td>\n",
       "    </tr>\n",
       "    <tr>\n",
       "      <th>1</th>\n",
       "      <td>Euthanasia</td>\n",
       "      <td>Cat</td>\n",
       "      <td>Spayed Female</td>\n",
       "      <td>1 year</td>\n",
       "      <td>Domestic Shorthair Mix</td>\n",
       "      <td>Cream Tabby</td>\n",
       "      <td>False</td>\n",
       "      <td>365.0</td>\n",
       "      <td>1</td>\n",
       "      <td>Fixed</td>\n",
       "      <td>...</td>\n",
       "      <td>0</td>\n",
       "      <td>0</td>\n",
       "      <td>2</td>\n",
       "      <td>19</td>\n",
       "      <td>0.0</td>\n",
       "      <td>0.0</td>\n",
       "      <td>1.0</td>\n",
       "      <td>0.0</td>\n",
       "      <td>2</td>\n",
       "      <td>2</td>\n",
       "    </tr>\n",
       "    <tr>\n",
       "      <th>2</th>\n",
       "      <td>Adoption</td>\n",
       "      <td>Dog</td>\n",
       "      <td>Neutered Male</td>\n",
       "      <td>2 years</td>\n",
       "      <td>Pit Bull Mix</td>\n",
       "      <td>Blue/White</td>\n",
       "      <td>True</td>\n",
       "      <td>730.0</td>\n",
       "      <td>1</td>\n",
       "      <td>Fixed</td>\n",
       "      <td>...</td>\n",
       "      <td>0</td>\n",
       "      <td>0</td>\n",
       "      <td>2</td>\n",
       "      <td>20</td>\n",
       "      <td>0.0</td>\n",
       "      <td>0.0</td>\n",
       "      <td>1.0</td>\n",
       "      <td>0.0</td>\n",
       "      <td>0</td>\n",
       "      <td>2</td>\n",
       "    </tr>\n",
       "    <tr>\n",
       "      <th>3</th>\n",
       "      <td>Transfer</td>\n",
       "      <td>Cat</td>\n",
       "      <td>Intact Male</td>\n",
       "      <td>3 weeks</td>\n",
       "      <td>Domestic Shorthair Mix</td>\n",
       "      <td>Blue Cream</td>\n",
       "      <td>True</td>\n",
       "      <td>21.0</td>\n",
       "      <td>0</td>\n",
       "      <td>Intact</td>\n",
       "      <td>...</td>\n",
       "      <td>0</td>\n",
       "      <td>0</td>\n",
       "      <td>0</td>\n",
       "      <td>2</td>\n",
       "      <td>0.0</td>\n",
       "      <td>0.0</td>\n",
       "      <td>1.0</td>\n",
       "      <td>0.0</td>\n",
       "      <td>4</td>\n",
       "      <td>2</td>\n",
       "    </tr>\n",
       "    <tr>\n",
       "      <th>4</th>\n",
       "      <td>Transfer</td>\n",
       "      <td>Dog</td>\n",
       "      <td>Neutered Male</td>\n",
       "      <td>2 years</td>\n",
       "      <td>Lhasa Apso/Miniature Poodle</td>\n",
       "      <td>Tan</td>\n",
       "      <td>True</td>\n",
       "      <td>730.0</td>\n",
       "      <td>0</td>\n",
       "      <td>Fixed</td>\n",
       "      <td>...</td>\n",
       "      <td>1</td>\n",
       "      <td>1</td>\n",
       "      <td>2</td>\n",
       "      <td>20</td>\n",
       "      <td>0.0</td>\n",
       "      <td>0.0</td>\n",
       "      <td>0.0</td>\n",
       "      <td>1.0</td>\n",
       "      <td>4</td>\n",
       "      <td>3</td>\n",
       "    </tr>\n",
       "  </tbody>\n",
       "</table>\n",
       "<p>5 rows × 24 columns</p>\n",
       "</div>"
      ],
      "text/plain": [
       "           Outcome Type SexuponOutcome AgeuponOutcome  \\\n",
       "0  Return_to_owner  Dog  Neutered Male         1 year   \n",
       "1       Euthanasia  Cat  Spayed Female         1 year   \n",
       "2         Adoption  Dog  Neutered Male        2 years   \n",
       "3         Transfer  Cat    Intact Male        3 weeks   \n",
       "4         Transfer  Dog  Neutered Male        2 years   \n",
       "\n",
       "                         Breed        Color Is_Test  Age_Value Has_Name  \\\n",
       "0        Shetland Sheepdog Mix  Brown/White    True      365.0        1   \n",
       "1       Domestic Shorthair Mix  Cream Tabby   False      365.0        1   \n",
       "2                 Pit Bull Mix   Blue/White    True      730.0        1   \n",
       "3       Domestic Shorthair Mix   Blue Cream    True       21.0        0   \n",
       "4  Lhasa Apso/Miniature Poodle          Tan    True      730.0        0   \n",
       "\n",
       "  Is_Fixed         ...          Is_Popular Is_Weekday time_of_day  hour dark  \\\n",
       "0    Fixed         ...                   0          1           0     2  0.0   \n",
       "1    Fixed         ...                   0          0           2    19  0.0   \n",
       "2    Fixed         ...                   0          0           2    20  0.0   \n",
       "3   Intact         ...                   0          0           0     2  0.0   \n",
       "4    Fixed         ...                   1          1           2    20  0.0   \n",
       "\n",
       "  exotic light  neutral  Outcome_Label  Primary_Color_Label  \n",
       "0    0.0   0.0      1.0              3                    3  \n",
       "1    0.0   1.0      0.0              2                    2  \n",
       "2    0.0   1.0      0.0              0                    2  \n",
       "3    0.0   1.0      0.0              4                    2  \n",
       "4    0.0   0.0      1.0              4                    3  \n",
       "\n",
       "[5 rows x 24 columns]"
      ]
     },
     "execution_count": 23,
     "metadata": {},
     "output_type": "execute_result"
    }
   ],
   "source": [
    "df.head()"
   ]
  },
  {
   "cell_type": "markdown",
   "metadata": {},
   "source": [
    "We'll create a new dataframe called df_alg (for df_algorithm), and discretize our mostly categorical dataset. \n",
    "\n",
    "We've also included our new time features for good measure: time_of_day, is_weekday, and hour. These variables are ordinal, binary and continuous in nature, they do not require dummies and the range on hour is 24. "
   ]
  },
  {
   "cell_type": "code",
   "execution_count": 24,
   "metadata": {
    "collapsed": false
   },
   "outputs": [
    {
     "name": "stdout",
     "output_type": "stream",
     "text": [
      "Adoption 10769\n",
      "Died 197\n",
      "Euthanasia 1555\n",
      "Return_to_owner 4786\n",
      "Transfer 9422\n"
     ]
    },
    {
     "name": "stderr",
     "output_type": "stream",
     "text": [
      "C:\\Anaconda2\\lib\\site-packages\\pandas\\core\\indexing.py:461: SettingWithCopyWarning: \n",
      "A value is trying to be set on a copy of a slice from a DataFrame.\n",
      "Try using .loc[row_indexer,col_indexer] = value instead\n",
      "\n",
      "See the caveats in the documentation: http://pandas.pydata.org/pandas-docs/stable/indexing.html#indexing-view-versus-copy\n",
      "  self.obj[item] = s\n"
     ]
    }
   ],
   "source": [
    "for c in np.unique(df['Outcome']):\n",
    "    print c, df.Outcome[df.Outcome == c].count()\n",
    "\n",
    "# given such a low representation for died and euthanasia, it would be better to make this a binary outcome\n",
    "# we will group all other values except adoption\n",
    "\n",
    "# grab a new dataframe\n",
    "df_alg = df[['Is_Fixed','Has_Name','Type','Is_Aggressive','Size','Is_Popular','Age_Value',\n",
    "             'Gender','dark','exotic','light','neutral','Is_Weekday','time_of_day','hour','Outcome_Label']]\n",
    "\n",
    "df_alg.loc[:,'Outcome_Label'] = df.loc[:,'Outcome'].apply(lambda x: 1 if x == 'Adoption' else 0)\n",
    "df_alg.loc[:,'Is_Fixed'] = df.loc[:,'Is_Fixed'].apply(lambda x: 1 if x == 'Fixed' else 0)\n",
    "\n",
    "# now let's line up the rest of our features to get ready for logistic regression and SVM\n",
    "df_alg.loc[:,'Type'] = df.loc[:,'Type'].apply(lambda x: 1 if x == 'Dog' else 0)\n",
    "df_alg.loc[:,'Gender'] = df.loc[:,'Gender'].apply(lambda x: 1 if x == 'Male' else 0)\n",
    "\n",
    "#####\n",
    "#df_alg.loc[:,'age_range'] = classLabels.fit_transform(df.loc[:,'age_range'])\n",
    "#####\n",
    "\n",
    "df_alg.loc[:,'Size'] = classLabels.fit_transform(df.loc[:,'Size'])\n",
    "\n",
    "df_alg = df_alg.astype(np.int64)\n"
   ]
  },
  {
   "cell_type": "markdown",
   "metadata": {},
   "source": [
    "## LOGISTIC REGRESSION"
   ]
  },
  {
   "cell_type": "markdown",
   "metadata": {
    "collapsed": false
   },
   "source": [
    "Now that we have a binary outcome we're interested in, we'll go ahead and fit a logistic regression model to the full feature set we just created and perform model selection on the data. (this is assuming we don't create a validation set from our training data as we haven't gotten there yet on lesson plan). \n",
    "\n",
    "However, in order to test effectively and ensure class balances in each split, we will use StratifiedShuffleSplit from sklearn. "
   ]
  },
  {
   "cell_type": "code",
   "execution_count": 25,
   "metadata": {
    "collapsed": false
   },
   "outputs": [],
   "source": [
    "from sklearn.linear_model import LogisticRegression\n",
    "from sklearn.cross_validation import cross_val_score, StratifiedShuffleSplit\n",
    "from sklearn.pipeline import Pipeline\n",
    "import warnings\n",
    "\n",
    "warnings.filterwarnings(\"ignore\")\n",
    "\n",
    "scl = StandardScaler()\n",
    "lr = LogisticRegression()\n",
    "X_train = df_alg.values[:,:-1] # features\n",
    "y_train = df_alg.values[:,-1] # target, binary\n",
    "\n",
    "cv_object =  StratifiedShuffleSplit(y=y_train,\n",
    "                                    n_iter=5,\n",
    "                                    test_size=0.2)\n"
   ]
  },
  {
   "cell_type": "markdown",
   "metadata": {},
   "source": [
    "Since we have included an hour feature, it would be best to scale our data. Hour's range is 24, while the second largest range is 3, for age_range. Thus we will standardize our data appropriately to represent weights correctly and help us choose which variables are the most important in our model. Unfortunately, we cannot reduce dimensionality in this case with standard methods like PCA and LDA because of such a categorical heavy dataset.\n",
    "\n",
    "Let's take a quick look at our accuracy on 3 shuffles with standardized data using an out of the box logistic regression model:"
   ]
  },
  {
   "cell_type": "code",
   "execution_count": 26,
   "metadata": {
    "collapsed": false
   },
   "outputs": [
    {
     "name": "stdout",
     "output_type": "stream",
     "text": [
      "[ 0.73699963  0.73868313  0.7345679   0.73699963  0.73063973]\n"
     ]
    }
   ],
   "source": [
    "accuracies = cross_val_score(lr, scl.fit_transform(X_train), y=y_train, cv=cv_object, verbose= 0) # this also can help with parallelism\n",
    "print(accuracies)"
   ]
  },
  {
   "cell_type": "markdown",
   "metadata": {},
   "source": [
    "Let's also check out our accuracy across penalty and cost parameters:"
   ]
  },
  {
   "cell_type": "code",
   "execution_count": 27,
   "metadata": {
    "collapsed": false
   },
   "outputs": [
    {
     "data": {
      "image/png": "[encoded data removed]",
      "text/plain": [
       "<matplotlib.figure.Figure at 0xee2d978>"
      ]
     },
     "metadata": {},
     "output_type": "display_data"
    }
   ],
   "source": [
    "costs = np.arange(0.001,10,0.5)\n",
    "\n",
    "l2s = []\n",
    "l1s = []\n",
    "for i in costs:\n",
    "    for j in ['l1','l2']:\n",
    "        lr2 = LogisticRegression(penalty = j, C = i)\n",
    "        accuracies = np.average(cross_val_score(lr2, scl.fit_transform(X_train), y=y_train, cv=cv_object, verbose= 0))\n",
    "        if j == 'l1':\n",
    "            l1s.append(accuracies)\n",
    "        else:\n",
    "            l2s.append(accuracies)\n",
    "# best accuracy @ cost of zero (max reg for logit) using l2 regularlization\n",
    "plt.plot(costs, l2s)\n",
    "plt.plot(costs, l1s)\n",
    "plt.legend(['l2','l1'])\n",
    "plt.ylabel('Accuracy')\n",
    "plt.xlabel('Cost')\n",
    "plt.show()"
   ]
  },
  {
   "cell_type": "markdown",
   "metadata": {},
   "source": [
    "74% on our training set is not great, but it's better than random selection. That being said, we can definitely tune our model to understand how regularlization can help (or hinder) or classification accuracy. It looks as if L1 (LASSO) penalty is our optimal parameter setting for our training set. This will give us sparseness in our parameters, allowing us to simplify our model moreso than L2 (ridge). However, we need to first use our validation set to confirm our findings. \n",
    "\n",
    "First, let's take a look at our accuracy rate again, this time using five fold stratified cross validation and the number of observations in our data set. Let's look at our learning curve and the variability associated with our training and validation sets:"
   ]
  },
  {
   "cell_type": "code",
   "execution_count": 28,
   "metadata": {
    "collapsed": false
   },
   "outputs": [
    {
     "data": {
      "image/png": "[encoded data removed]",
      "text/plain": [
       "<matplotlib.figure.Figure at 0xdec7fd0>"
      ]
     },
     "metadata": {},
     "output_type": "display_data"
    }
   ],
   "source": [
    "# playing with pipelines, adapted from Rauschka\n",
    "from sklearn.learning_curve import learning_curve # uses stratified k fold by default\n",
    "\n",
    "pipe_lr = Pipeline([('scl', StandardScaler()),('clf', LogisticRegression(penalty='l1'))]) # set up pipeline\n",
    "                                                                                          # automatically scale\n",
    "train_sizes, train_scores, valid_scores = learning_curve(estimator=pipe_lr, \n",
    "                                                         X = X_train, \n",
    "                                                         y = y_train, \n",
    "                                                         train_sizes = np.linspace(0.1, 1.0, 10) ,# spacing of samples, \n",
    "                                                         cv = 5, # 5 fold\n",
    "                                                         n_jobs = -1) # use all processors\n",
    "train_mean = np.mean(train_scores, axis=1)\n",
    "valid_mean = np.mean(valid_scores, axis=1)\n",
    "train_std = np.std(train_scores, axis=1)\n",
    "valid_std = np.std(valid_scores, axis=1)\n",
    "plt.plot(train_sizes, train_mean, c='blue', marker='o',  markersize=5, label='training accuracy')\n",
    "plt.fill_between(train_sizes, train_mean + train_std, train_mean - train_std, alpha=0.1, color='blue')\n",
    "plt.plot(train_sizes, valid_mean, c='green', marker='s', linestyle='--',  markersize=5, label='validaiton accuracy')\n",
    "plt.fill_between(train_sizes, valid_mean + valid_std, valid_mean - valid_std, alpha=0.1, color='green')\n",
    "plt.grid()\n",
    "plt.xlabel('Number of Training Samples')\n",
    "plt.ylabel('Accuracy')\n",
    "plt.legend(loc='lower right')\n",
    "plt.show()"
   ]
  },
  {
   "cell_type": "markdown",
   "metadata": {},
   "source": [
    "What we can see is that we do not generalize well to our validation set in our training data when the number of samples is low -- we see high variance and overfitting. Validation lags behind training accuracy on average until about 21,000 samples. There is better generalization with a larger number of samples. As expected, the validation result does have a higher variance in this case, but in general, more samples benefits the accuracy of our model. "
   ]
  },
  {
   "cell_type": "markdown",
   "metadata": {},
   "source": [
    "Let's tune the critical hyperparameters of our Logistic Regression model: regularlization cost and penalty. We'll interactively test the parameters below and then visualize optimal cost and penalties for our dataset."
   ]
  },
  {
   "cell_type": "code",
   "execution_count": 29,
   "metadata": {
    "collapsed": false
   },
   "outputs": [
    {
     "name": "stdout",
     "output_type": "stream",
     "text": [
      "Average Accuracy: 0.738309016087\n"
     ]
    },
    {
     "data": {
      "text/plain": [
       "<function __main__.lr_explore>"
      ]
     },
     "execution_count": 29,
     "metadata": {},
     "output_type": "execute_result"
    }
   ],
   "source": [
    "from ipywidgets import widgets as wd\n",
    "from sklearn.metrics import roc_curve\n",
    "\n",
    "def lr_explore(cost, penalty):\n",
    "    lr = LogisticRegression(penalty=penalty, C=cost, class_weight=None) \n",
    "    accuracies = cross_val_score(lr, scl.fit_transform(X_train), y_train, cv=cv_object) \n",
    "    print 'Average Accuracy:', np.average(accuracies)\n",
    "    \n",
    "wd.interact(lr_explore, cost=(0.001,10.0,0.05), penalty =['l1','l2'])"
   ]
  },
  {
   "cell_type": "markdown",
   "metadata": {},
   "source": [
    "After confirming l1 penalty with a large amount of regularlization is optimal for fitting our model let's take a look directly at a visual of our regularlization parameter C:"
   ]
  },
  {
   "cell_type": "code",
   "execution_count": 30,
   "metadata": {
    "collapsed": false
   },
   "outputs": [
    {
     "data": {
      "image/png": "[encoded data removed]",
      "text/plain": [
       "<matplotlib.figure.Figure at 0xdf682b0>"
      ]
     },
     "metadata": {},
     "output_type": "display_data"
    }
   ],
   "source": [
    "# take a look at C levels and associated accuracy on a stratified 5 fold CV\n",
    "from sklearn.learning_curve import validation_curve\n",
    "\n",
    "param_range = [0.001, 0.01, 0.1, 1.0, 10.0, 100.0]\n",
    "train_scores, valid_scores = validation_curve(\n",
    "                                             estimator = pipe_lr,\n",
    "                                             X = X_train,\n",
    "                                             y = y_train,\n",
    "                                             param_name = 'clf__C', # vary the C parameter directly\n",
    "                                             param_range = param_range,\n",
    "                                             cv = 5\n",
    "                                             )\n",
    "train_mean = np.mean(train_scores,axis=1)\n",
    "train_std = np.std(train_scores,axis=1)\n",
    "valid_mean = np.mean(valid_scores,axis=1)\n",
    "valid_std = np.std(valid_scores, axis=1)\n",
    "plt.plot(param_range, train_mean, color='blue', marker='o', markersize=5,label='training accuracy')\n",
    "plt.fill_between(param_range, train_mean + train_std, train_mean - train_std, alpha = 0.1, color='blue')\n",
    "plt.plot(param_range, valid_mean, color='green', marker='s', linestyle='--', markersize=5,label='validation accuracy')\n",
    "plt.fill_between(param_range, valid_mean + valid_std, valid_mean - valid_std, alpha = 0.1, color='green')\n",
    "plt.grid()\n",
    "plt.xscale('log')\n",
    "plt.legend(loc='lower right')\n",
    "plt.xlabel('Param C')\n",
    "plt.ylabel('Accuracy')\n",
    "plt.show()\n",
    "\n",
    "                                    "
   ]
  },
  {
   "cell_type": "markdown",
   "metadata": {},
   "source": [
    "With a large amount of regularlization, we can see that our validation and training sets are almost identical. This indicates we are NOT overfitting our model with a significant C hyperparameter using LASSO (l1 penalty). Therefore, it's optimal we move forward with l1 and a significant regularlization. \n",
    "\n",
    "Note: sklearn's C parameter is an INVERSE regularlization parameter for logistic regression, the lower, the MORE regularlization in the model.\n",
    "\n",
    "Now, let's repeat our 80/20 split on our training set using shuffles to see if we've improved based on our research."
   ]
  },
  {
   "cell_type": "code",
   "execution_count": 31,
   "metadata": {
    "collapsed": false
   },
   "outputs": [
    {
     "name": "stdout",
     "output_type": "stream",
     "text": [
      "0.705836139169\n"
     ]
    }
   ],
   "source": [
    "lr_final = LogisticRegression(penalty='l1', C=0.001)\n",
    "accuracies = cross_val_score(lr_final, scl.fit_transform(X_train), y_train, cv=cv_object) \n",
    "print np.average(accuracies)"
   ]
  },
  {
   "cell_type": "markdown",
   "metadata": {},
   "source": [
    "A very slight, however, an improvement! Now that we've performed model selection on our training set by dividing it into subtraining and validation sets, let's fit the entire training set and take a look at our coefficients."
   ]
  },
  {
   "cell_type": "code",
   "execution_count": 32,
   "metadata": {
    "collapsed": false
   },
   "outputs": [
    {
     "data": {
      "image/png": "[encoded data removed]",
      "text/plain": [
       "<matplotlib.figure.Figure at 0xf4315f8>"
      ]
     },
     "metadata": {},
     "output_type": "display_data"
    }
   ],
   "source": [
    "lr_final.fit(scl.fit_transform(X_train),y_train)\n",
    "weights = pd.Series(lr_final.coef_[0], index=df_alg.columns[:-1])\n",
    "weights.plot(kind='bar')\n",
    "plt.show()\n",
    "# LASSO results show we can eliminate pretty much everything outside of is_fixed and age_range (woot)"
   ]
  },
  {
   "cell_type": "markdown",
   "metadata": {},
   "source": [
    "## Interpreting Logistic Regression Weights"
   ]
  },
  {
   "cell_type": "markdown",
   "metadata": {},
   "source": [
    "Even though our model is only around 74% accurate on our validation dataset, we have obvious opportunities to simplify. The standardized data has resulted in a sparse coefficient array for our Logistic Regression model. This is one of the main benefits of utilizing a LASSO approach. \n",
    "\n",
    "Is_Fixed (0.91) is obviously the most important attribute in determining whether or not an animal is adopted. If an animal is fixed, it's more likely to be adopted. Age (-.36), as well, is quite important. The younger, the more likely to be adopted.\n",
    "\n",
    "These variables, from experience and domain knowledge, were expected to be highly important. Spaying and neutering is cost prohibitive for some consumers, and the average adoptor is almost always interested in younger animals. Further, most owners do no want animals who are capable of reporoducing. Age is important because of potential health risks and maximum anticipated time with the animal. However, these assumptions are purely anecdotal and would need to be tested themselves. That being said, the ultimate conclusion given the result above is not surprising. \n",
    "\n",
    "What is interesting, however, is the lack of importance when it comes to size. This could be a result of the binarization process, in which size categories were created and may need to be revisited. \n",
    "\n",
    "The business result confirms our initial suspicions: fix the animals, name them and make them available on the weekend to maximize the chance of adoption. Our business partners cannot do anything about age.\n",
    "\n",
    "The analytical result allows us to move forward with a two feature model, including age_range and Is_Fixed. "
   ]
  },
  {
   "cell_type": "markdown",
   "metadata": {},
   "source": [
    "## Logistic Regression Conclusion"
   ]
  },
  {
   "cell_type": "markdown",
   "metadata": {},
   "source": [
    "74% accuracy is better than random chance, however, our classification model can likely be improved by gathering critical features, such as pre-existing medical conditions, if the animal has reproduced before and solidifying whether or not an animal truly is aggressive, instead of using arbitrary lists to identify aggressive breeds. We believe this would push our model accuracy over 80% and provide a more holistic conclusion on what factors drive adoption for our business partners."
   ]
  },
  {
   "cell_type": "code",
   "execution_count": 33,
   "metadata": {
    "collapsed": false
   },
   "outputs": [
    {
     "data": {
      "text/plain": [
       "\"\\nfrom sklearn.metrics import roc_curve, auc, accuracy_score # check area under curve score for ROC\\n\\nfalse_positive_rate, true_positive_rate, thresholds = roc_curve(y, lr.predict(scl.fit_transform(X)))\\nroc_auc = auc(false_positive_rate, true_positive_rate)\\nplt.plot(false_positive_rate, true_positive_rate,'b',\\nlabel='Area Under Curve = %0.2f'% roc_auc)\\nplt.legend(loc='lower right')\\nplt.plot([0,1],[0,1],'r--')\\nplt.xlim([-0.1,1.1]), plt.ylim([-0.1,1.1])\\nplt.ylabel('TPR'), plt.xlabel('FPR'), plt.title('ROC Curve')\\nplt.show()\\n\""
      ]
     },
     "execution_count": 33,
     "metadata": {},
     "output_type": "execute_result"
    }
   ],
   "source": [
    "# extra, playing with ROC\n",
    "'''\n",
    "from sklearn.metrics import roc_curve, auc, accuracy_score # check area under curve score for ROC\n",
    "\n",
    "false_positive_rate, true_positive_rate, thresholds = roc_curve(y, lr.predict(scl.fit_transform(X)))\n",
    "roc_auc = auc(false_positive_rate, true_positive_rate)\n",
    "plt.plot(false_positive_rate, true_positive_rate,'b',\n",
    "label='Area Under Curve = %0.2f'% roc_auc)\n",
    "plt.legend(loc='lower right')\n",
    "plt.plot([0,1],[0,1],'r--')\n",
    "plt.xlim([-0.1,1.1]), plt.ylim([-0.1,1.1])\n",
    "plt.ylabel('TPR'), plt.xlabel('FPR'), plt.title('ROC Curve')\n",
    "plt.show()\n",
    "'''"
   ]
  },
  {
   "cell_type": "markdown",
   "metadata": {
    "collapsed": true
   },
   "source": [
    "## Support Vector Machine"
   ]
  },
  {
   "cell_type": "markdown",
   "metadata": {},
   "source": [
    "Now let's take another route: support vector machines. We will fit both linear and non-linear support vector machines to the data and compare this methodology with logistic regression.\n",
    "\n",
    "Based on tested performance, we will use sklearn's SGD classifier to perform a stochastic SVM and avoid memory and run time issues previously experienced."
   ]
  },
  {
   "cell_type": "markdown",
   "metadata": {
    "collapsed": true
   },
   "source": [
    "### Using SVM Linear Kernel\n",
    "We will use linear support vector which should give similar results to logistic regression as we are classifying on a binary class outcome.\n",
    "\n",
    "Running the training only once, with 80% of data for training, and 20% of data for testing."
   ]
  },
  {
   "cell_type": "markdown",
   "metadata": {},
   "source": [
    "With SVM linear kernel, the computing performance of the model is sub-par, taking several minutes to run.\n",
    "This is a common issue with support vector machines: potential additional accuracy and outlier resistance comes at a cost of more computing time. SVMs are less sensitive to outliers when compared to Logistic Regression, however, SVMs take longer to fit and longer to validate.\n",
    "\n",
    "Logistic Regression is always preferred from a timing standpoint for well behaved datasets, such as streaming or event based data. Logistic Regression can be updated more easily and more timely. However, when datasets are non-linear, we need to relax linear assumptions. In these cases, kernel SVM accuracy is superior most of the time.\n",
    "\n",
    "That being said, we have options in sklearn, using a stochastic implementation of SVM called SGDClassifier. Let's take this module for a spin and perform model selection."
   ]
  },
  {
   "cell_type": "code",
   "execution_count": 34,
   "metadata": {
    "collapsed": false
   },
   "outputs": [
    {
     "name": "stdout",
     "output_type": "stream",
     "text": [
      "Accuracy: 0.744995322732\n"
     ]
    }
   ],
   "source": [
    "# SVC will take some time. Use stochasitc gradient descent instead\n",
    "from sklearn.linear_model import SGDClassifier\n",
    "from sklearn.metrics import accuracy_score\n",
    "from sklearn import preprocessing\n",
    "import warnings\n",
    "warnings.filterwarnings('ignore')\n",
    "\n",
    "scl = preprocessing.StandardScaler()\n",
    "\n",
    "test_cases = int(len(df_alg.index) * 0.2)\n",
    "\n",
    "x_train = df_alg.values[:-test_cases,:-1] # features\n",
    "x_test = df_alg.values[-test_cases:,:-1] # features\n",
    "y_train = df_alg.values[:-test_cases,-1] # target, binary\n",
    "y_test = df_alg.values[-test_cases:,-1] # target, binary\n",
    "\n",
    "model = SGDClassifier(loss='hinge', penalty='l2',n_jobs = -1, n_iter=1000)\n",
    "model.fit(scl.fit_transform(x_train),y_train)\n",
    "\n",
    "yhat = model.predict(scl.transform(x_test))\n",
    "score = accuracy_score(yhat, y_test)\n",
    "\n",
    "print(\"Accuracy: %s\" % (score))"
   ]
  },
  {
   "cell_type": "markdown",
   "metadata": {},
   "source": [
    "### Feature Weights\n",
    "With Linear Kernel, we are able to leverage coefficients of the support vector to determine the relative weights of the explanatory variables. Here, we plot out the relative weights of each of the features used in training the model."
   ]
  },
  {
   "cell_type": "code",
   "execution_count": 35,
   "metadata": {
    "collapsed": false
   },
   "outputs": [
    {
     "data": {
      "image/png": "[encoded data removed]",
      "text/plain": [
       "<matplotlib.figure.Figure at 0xee2d668>"
      ]
     },
     "metadata": {},
     "output_type": "display_data"
    }
   ],
   "source": [
    "weights = pd.Series(model.coef_[0], index=df_alg.columns[:-1])\n",
    "weights.plot(kind='barh')\n",
    "plt.show()"
   ]
  },
  {
   "cell_type": "markdown",
   "metadata": {},
   "source": [
    "Support Vector Insights\n",
    "As in logistic regression, the same same features were chosen by the support vector as more significant in the SVM model trained from the data.\n",
    "In particular, whether or not the animal is fixed has the most significance in terms of adoption potential, followed by the age of the animal, if it has a name, and then whether the breed is aggressive.\n",
    "The hour, time of day, and whether or not the animal was brought in on the weekend also have significant impact on the adoptability of the animal, though not attributes of the animal, per se."
   ]
  },
  {
   "cell_type": "markdown",
   "metadata": {},
   "source": [
    "### Using SVM RBF Kernel\n",
    "\n",
    "Now, we will use the Radial Basis Function Kernel to seek improvement here on model accuracy over the strict linear kernel."
   ]
  },
  {
   "cell_type": "code",
   "execution_count": 36,
   "metadata": {
    "collapsed": false
   },
   "outputs": [
    {
     "name": "stdout",
     "output_type": "stream",
     "text": [
      "Accuracy: 0.764826941066\n"
     ]
    }
   ],
   "source": [
    "from sklearn import svm\n",
    "\n",
    "model = svm.SVC(kernel = 'rbf')\n",
    "model.fit(scl.fit_transform(x_train),y_train)\n",
    "\n",
    "yhat = model.predict(scl.transform(x_test))\n",
    "score = accuracy_score(yhat, y_test)\n",
    "\n",
    "print(\"Accuracy: %s\" % (score))"
   ]
  },
  {
   "cell_type": "markdown",
   "metadata": {},
   "source": [
    "### Separate Models: Cats vs. Dogs\n",
    "Rather than incorporating only as a feature in a single model, let's break up the datasets into cats and dogs and then build separate models and compare the accuracies of each."
   ]
  },
  {
   "cell_type": "code",
   "execution_count": 37,
   "metadata": {
    "collapsed": false
   },
   "outputs": [
    {
     "name": "stdout",
     "output_type": "stream",
     "text": [
      "(15595, 16)\n",
      "(11134, 16)\n"
     ]
    }
   ],
   "source": [
    "# df.loc[:,'Type'].apply(lambda x: 1 if x == 'Dog' else 0)\n",
    "dogs = df_alg[df_alg.Type == 1]\n",
    "cats = df_alg[df_alg.Type == 0]\n",
    "\n",
    "print np.shape(dogs) #11134\n",
    "print np.shape(cats) #15594"
   ]
  },
  {
   "cell_type": "markdown",
   "metadata": {},
   "source": [
    "### Dogs\n",
    "\n",
    "Now, let's train RBF kernel SVM for Dogs only and determine the accuracy."
   ]
  },
  {
   "cell_type": "code",
   "execution_count": 38,
   "metadata": {
    "collapsed": false
   },
   "outputs": [
    {
     "name": "stdout",
     "output_type": "stream",
     "text": [
      "Accuracy: 0.722988137223\n"
     ]
    }
   ],
   "source": [
    "x = dogs.values[:,:-1] # features\n",
    "y = dogs.values[:,-1] # target, binary\n",
    "\n",
    "test_cases = int(len(dogs.index) * 0.2)\n",
    "\n",
    "x_train = dogs.values[:-test_cases,:-1] # features\n",
    "x_test = dogs.values[-test_cases:,:-1] # features\n",
    "y_train = dogs.values[:-test_cases,-1] # target, binary\n",
    "y_test = dogs.values[-test_cases:,-1] # target, binary\n",
    "\n",
    "model = svm.SVC(kernel = 'rbf')\n",
    "model.fit(scl.fit_transform(x_train),y_train)\n",
    "\n",
    "yhat = model.predict(scl.transform(x_test))\n",
    "score = accuracy_score(yhat, y_test)\n",
    "\n",
    "print(\"Accuracy: %s\" % (score))"
   ]
  },
  {
   "cell_type": "markdown",
   "metadata": {},
   "source": [
    "The lower accuracy score for dogs indicates there is additional work here to bring the model to parity to that of cats."
   ]
  },
  {
   "cell_type": "markdown",
   "metadata": {},
   "source": [
    "### Cats\n",
    "\n",
    "Now, let's train RBF kernel SVM for Cats only and determine the accuracy."
   ]
  },
  {
   "cell_type": "code",
   "execution_count": 39,
   "metadata": {
    "collapsed": false
   },
   "outputs": [
    {
     "name": "stdout",
     "output_type": "stream",
     "text": [
      "Accuracy: 0.820134658544\n"
     ]
    }
   ],
   "source": [
    "x = cats.values[:,:-1] # features\n",
    "y = cats.values[:,-1] # target, binary\n",
    "\n",
    "test_cases = int(len(dogs.index) * 0.2)\n",
    "\n",
    "x_train = cats.values[:-test_cases,:-1] # features\n",
    "x_test = cats.values[-test_cases:,:-1] # features\n",
    "y_train = cats.values[:-test_cases,-1] # target, binary\n",
    "y_test = cats.values[-test_cases:,-1] # target, binary\n",
    "\n",
    "model = svm.SVC(kernel = 'rbf')\n",
    "model.fit(scl.fit_transform(x_train),y_train)\n",
    "\n",
    "yhat = model.predict(scl.transform(x_test))\n",
    "score = accuracy_score(yhat, y_test)\n",
    "\n",
    "print(\"Accuracy: %s\" % (score))"
   ]
  },
  {
   "cell_type": "markdown",
   "metadata": {},
   "source": [
    "The accuracy of predicting adoption outcome of cats with 82% accuracy is quite good."
   ]
  },
  {
   "cell_type": "markdown",
   "metadata": {},
   "source": [
    "## Cross-Fold Validation Curves\n",
    "\n",
    "Even with a stoachastic approach, as shown below, we are getting better performance and less overfitting. The l2 norm penalty looks to be the most optimal, with roughly 75% accuracy at a cost of 0.1 in our 10 fold cross validation. In the SVM case, cost is not inverse. Our regularlization increases as the alpha parameter increases, reducing the size of our coefficients. "
   ]
  },
  {
   "cell_type": "markdown",
   "metadata": {
    "collapsed": false
   },
   "source": [
    "**IS BROKEN**\n",
    "\n",
    "from sklearn.linear_model import SGDClassifier as SGD\n",
    "\n",
    "plt.figure(figsize=(30,18))\n",
    "for idx, i in enumerate(['none','l1','l2','elasticnet']):\n",
    "    plt.subplot(3,4,idx+1)\n",
    "    pipe_svm = Pipeline([('scl', StandardScaler()),('clf', SGD(penalty=i,n_iter=20,n_jobs=-1,learning_rate='optimal'))])\n",
    "    train_scores, valid_scores = validation_curve(\n",
    "                                                 estimator = pipe_svm,\n",
    "                                                 X = X_train,\n",
    "                                                 y = y_train,\n",
    "                                                 param_name = 'clf__alpha', # vary the C parameter directly\n",
    "                                                 param_range = param_range,\n",
    "                                                 cv = 10\n",
    "                                                 )\n",
    "    train_mean = np.mean(train_scores,axis=1)\n",
    "    train_std = np.std(train_scores,axis=1)\n",
    "    valid_mean = np.mean(valid_scores,axis=1)\n",
    "    valid_std = np.std(valid_scores, axis=1)\n",
    "    plt.plot(param_range, train_mean, color='blue', marker='o', markersize=5,label='training accuracy')\n",
    "    plt.fill_between(param_range, train_mean + train_std, train_mean - train_std, alpha = 0.1, color='blue')\n",
    "    plt.plot(param_range, valid_mean, color='green', marker='s', linestyle='--', markersize=5,label='validation accuracy')\n",
    "    plt.fill_between(param_range, valid_mean + valid_std, valid_mean - valid_std, alpha = 0.1, color='green')\n",
    "    plt.grid()\n",
    "    plt.xscale('log')\n",
    "    plt.legend(loc='lower right')\n",
    "    plt.xlabel('Param C')\n",
    "    plt.ylabel('Accuracy')\n",
    "    plt.title(i)\n",
    "plt.show()"
   ]
  },
  {
   "cell_type": "markdown",
   "metadata": {},
   "source": [
    "## SVM vs. Linear Regression Model Advantages/Disadvantages\n",
    "\n",
    "The logistic regression and the linear support vector models offer very similar results in terms accuracy of the models.\n",
    "\n",
    "While logistic regression was relatively quick, using SVM with the linear kernel was very slow, so we opted instead to use a version of linear SVM that employed stochastic gradient descent. With this approach, even 1000 itereations of SGD were performed quickly, proving much more efficient but building a model with the same accuracy as the regular linear SVM.\n",
    "\n",
    "Both logistic regression and linear SVM have the benefit that the coefficients of the features provide meaningful insight into the logic of the model, and are interpretable as the relative weights (either positive or negative) that each feature has on the prediction of adoption.\n",
    "\n",
    "While SVM using the RBF kernel provides better overall accuracy, it sacrifices the ability to leverage the coefficients of the support vector to derive any direct interpretability of relative weight of the individual features within the RBF model.\n"
   ]
  },
  {
   "cell_type": "markdown",
   "metadata": {
    "collapsed": true
   },
   "source": [
    "# Decision Tree Classifier"
   ]
  },
  {
   "cell_type": "code",
   "execution_count": null,
   "metadata": {
    "collapsed": false
   },
   "outputs": [],
   "source": [
    "from sklearn import tree\n",
    "\n",
    "test_cases = int(len(df_alg.index) * 0.2)\n",
    "\n",
    "x_train = df_alg.values[:-test_cases,:-1] # features\n",
    "x_test = df_alg.values[-test_cases:,:-1] # features\n",
    "y_train = df_alg.values[:-test_cases,-1] # target, binary\n",
    "y_test = df_alg.values[-test_cases:,-1] # target, binary\n",
    "\n",
    "clf = tree.DecisionTreeClassifier()\n",
    "clf = clf.fit(x_train, y_train)\n",
    "\n",
    "yhat = model.predict(x_test)\n",
    "score = accuracy_score(yhat, y_test)\n",
    "\n",
    "print \"Tree Model Accuracy:\", score\n",
    "##Score is low--may need feature normalization"
   ]
  },
  {
   "cell_type": "code",
   "execution_count": null,
   "metadata": {
    "collapsed": true
   },
   "outputs": [],
   "source": [
    "# Install GraphViz from http://graphviz.org\n",
    "# Ensure that path is updated to include C:\\\"Program Files (x86)\"\\Graphviz2.38\\bin:\n",
    "# My Computer=>Properies=>Advanced=>Environment Variables=>System Variables=>New=>C:\\Program Files (x86)\\Graphviz2.38\\bin\n",
    "\n",
    "# Update Python as follows:\n",
    "# conda update scikit-learn\n",
    "# pip install graphviz\n",
    "# pip install pydot"
   ]
  },
  {
   "cell_type": "code",
   "execution_count": null,
   "metadata": {
    "collapsed": false
   },
   "outputs": [],
   "source": [
    "from sklearn.preprocessing import LabelEncoder\n",
    "from sklearn.feature_extraction import DictVectorizer\n",
    "\n",
    "X_dict = df_alg.T.to_dict().values()\n",
    "\n",
    "# turn list of dicts into a numpy array\n",
    "vect = DictVectorizer(sparse=False)\n",
    "X = vect.fit_transform(X_dict)\n",
    "\n",
    "# print the features\n",
    "fnames= vect.get_feature_names()\n",
    "print fnames\n"
   ]
  },
  {
   "cell_type": "code",
   "execution_count": null,
   "metadata": {
    "collapsed": false
   },
   "outputs": [],
   "source": [
    "from sklearn.externals.six import StringIO  \n",
    "import pydot \n",
    "from IPython.display import Image\n",
    "\n",
    "# Need to filter down and prune the tree to display\n",
    "\n",
    "#dot_data = StringIO()  \n",
    "#tree.export_graphviz(clf, out_file=dot_data, feature_names = fnames, filled=True, rounded=True)  \n",
    "#graph = pydot.graph_from_dot_data(dot_data.getvalue())  \n",
    "#Image(graph.create_png())  "
   ]
  }
 ],
 "metadata": {
  "kernelspec": {
   "display_name": "Python 2",
   "language": "python",
   "name": "python2"
  },
  "language_info": {
   "codemirror_mode": {
    "name": "ipython",
    "version": 2
   },
   "file_extension": ".py",
   "mimetype": "text/x-python",
   "name": "python",
   "nbconvert_exporter": "python",
   "pygments_lexer": "ipython2",
   "version": "2.7.11"
  }
 },
 "nbformat": 4,
 "nbformat_minor": 0
}
