{
 "cells": [
  {
   "cell_type": "markdown",
   "metadata": {},
   "source": [
    "## Business Case for Classification Task 2: Spayed or Neutered\n",
    "When an animal goes into an animal shelter there are many things that need to be recorded about the animal before it is accepted.  Information such as age, type of animal, breed, weight, gender, and whether or not the animal is spayed or neutered are some variables that need to be collected.  Identification of male animals that have been been neutered is fairly straightforward but can be more difficult for female animals and determining if they have been spayed.  This is made more difficult for stray animals that are brought in, for whom this information is not readily available.  Therefore it would be useful to have a prediction model that looks at all the other statistics about an animal and can predict with a high level of accuracy whether that animal has been spayed or neutered.  If the animal brought in has not been fixed, then the proper steps can be taken.  The use of our previous model, which predicts the outcome of an animal brought into a shelter, strengthens the case for providing a model for spayed or neutered animals.  We discovered that it is possible to predict whether an animal will be adopted based on information gathered by the animal shelter.  Of these variables, the most important were fixed, and age.  Animals that were fixed had a higher chance of getting adopted.  For animal shelters trying to get people to adopt animals, knowing that fixed animals have a greater chance of adoption suggests that performing spaying and neutering of animals arriving to the shelter that have not already been fixed is a good practice.\n",
    "\n",
    "\n",
    "## Deployment\n",
    "The model we have created has been successful in classifying two variables: outcome and spayed or neutered.  Interested parties would be the Austin animal shelter in Austin, TX or any other animal shelter that has a no kill policy.  We used three different classification models to try and predict our target variables, with each classification task having an accuracy of ~78% for each model and classification task.  \n",
    "\n",
    "We could measure the model's value if it were used by these parties by comparing adoption outcomes as a percentage of animals brought into the shelter before and after the model was implemented.  This would show a concrete value as to how well our model was doing in helping place animals into new homes.  \n",
    "\n",
    "A way that our model could be deployed by clients would be as a reference for numbers, as well as a visual aid to help identify areas that could be targeted to improve the number of adoptions.  From a numbers standpoint, our model highlights the variables that affect the outcome of an animal once it reaches the shelter.  Knowing this information could give the client areas to focus on and give more attention to.  Our model also gave a few visuals that identified what variables affected animal.  For example animals with names, or were fixed, or were younger had a higher chance of getting adopted.  Knowing this could give the clients new business practices to implement.  With this in mind there was some data not available in the training set obtained from Kaggle that could improve our model.  While we added a variable for aggressive behavior, this was based purely on a list obtained from a site stating what the most aggressive breeds of dogs were.  This did not include any cat information and would likely vary on a case to case basis.  If the aggressiveness of the animals entering the shelter were included, this could provide valuable information to increase the effectiveness of the model.  Another variable that could be recorded is whether the animal is up to date on its shots.  It is possible that if an animal needs shots, people might be less likely to adopt it as this would be an additional cost.  Depending on the cost to the client, they might give shots to animals that need them to increase the number of animals that get adopted.  \n",
    "\n",
    "The model would need to be updated every few years.  Our model is built on data collected from the Austin Animal Shelter from October 2013 to March 2016.  So primarily this data and model would benefit the Austin Shelter the most, but it could be applied to other shelters.  For other shelters though, it might be best to use data from their own shelters and run it through our model.  \n"
   ]
  }
 ],
 "metadata": {
  "anaconda-cloud": {},
  "kernelspec": {
   "display_name": "Python [Root]",
   "language": "python",
   "name": "Python [Root]"
  },
  "language_info": {
   "codemirror_mode": {
    "name": "ipython",
    "version": 3
   },
   "file_extension": ".py",
   "mimetype": "text/x-python",
   "name": "python",
   "nbconvert_exporter": "python",
   "pygments_lexer": "ipython3",
   "version": "3.5.1"
  }
 },
 "nbformat": 4,
 "nbformat_minor": 0
}
