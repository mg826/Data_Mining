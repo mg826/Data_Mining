{
 "cells": [
  {
   "cell_type": "markdown",
   "metadata": {},
   "source": [
    "# NUMPY PRACTICE - MSDS 7331 DATA MINING\n",
    "## Cory Nichols"
   ]
  },
  {
   "cell_type": "code",
   "execution_count": 166,
   "metadata": {
    "collapsed": true
   },
   "outputs": [],
   "source": [
    "# provides for standard mathematical functions for fast operations on entire arrays of data without having\n",
    "# to write loops\n",
    "# linear algebra, random number gen, fourier transformation capabilities\n",
    "# tools for integrating code written in C, C++ and Fortran\n",
    "\n",
    "import numpy as np\n",
    "from numpy.random import randn\n",
    "import pandas as pd"
   ]
  },
  {
   "cell_type": "code",
   "execution_count": 173,
   "metadata": {
    "collapsed": false
   },
   "outputs": [
    {
     "name": "stdout",
     "output_type": "stream",
     "text": [
      "[ 0  1  2  3  4  5  6  7  8  9 10 11 12 13 14 15 16 17 18 19] \n",
      "----------\n",
      "[[ 1  2  3  4  5]\n",
      " [ 6  7  8  9 10]]\n",
      "the shape of the array is (2, 5)\n",
      "the dimensions of the array are 2 dimensions\n"
     ]
    }
   ],
   "source": [
    "# lets start with something called an ndarray\n",
    "# ndarray is a fast and space efficient multidimensional array providing vectorized arithmetic operations\n",
    "# and sophisticated broadcasting capabilities\n",
    "\n",
    "anArray = np.array(np.arange(20)) # np.arange is like range() in pure Python, returns an array\n",
    "print anArray, '\\n----------'\n",
    "aManualArray = np.array([[1,2,3,4,5],[6,7,8,9,10]]) # a manual 2D array\n",
    "print aManualArray\n",
    "print 'the shape of the array is', aManualArray.shape\n",
    "print 'the dimensions of the array are', aManualArray.ndim, 'dimensions' # check num of dimensions"
   ]
  },
  {
   "cell_type": "code",
   "execution_count": 179,
   "metadata": {
    "collapsed": false
   },
   "outputs": [
    {
     "name": "stdout",
     "output_type": "stream",
     "text": [
      " [  0  20  40  60  80 100 120 140 160 180 200 220 240 260 280 300 320 340\n",
      " 360 380] \n",
      "--------\n",
      "[0 0 1 1 2 2 3 3 4 4 5 5 6 6 7 7 8 8 9 9] \n",
      "--------\n",
      "[  0   1   4   9  16  25  36  49  64  81 100 121 144 169 196 225 256 289\n",
      " 324 361] \n",
      "--------\n",
      "(20,) shows that this array has 20 rows and no columns\n"
     ]
    }
   ],
   "source": [
    "# easily apply vector operations without having to write a loop:\n",
    "multiArray = anArray * 20\n",
    "print multiArray, '\\n--------'\n",
    "print anArray / 2, '\\n--------'\n",
    "print anArray ** 2, '\\n--------'\n",
    "print anArray.shape, 'shows that this array has', anArray.shape[0],  'rows and no columns'"
   ]
  },
  {
   "cell_type": "code",
   "execution_count": 189,
   "metadata": {
    "collapsed": false
   },
   "outputs": [
    {
     "name": "stdout",
     "output_type": "stream",
     "text": [
      " [[ 0  1  2  3  4]\n",
      " [ 5  6  7  8  9]\n",
      " [10 11 12 13 14]\n",
      " [15 16 17 18 19]] (4, 5) 2 \n",
      "------\n",
      "[5 6 7 8 9] (5,) 1 \n",
      "------\n",
      "[[5 6 7 8 9]] (1, 5) 2 \n",
      "------\n"
     ]
    }
   ],
   "source": [
    "# array.reshape(rows,cols) will create a matrix out of the array\n",
    "# recreate array to 4 rows by 5 cols\n",
    "anArray = anArray.reshape(4,5)\n",
    "print anArray, anArray.shape, anArray.ndim, '\\n------'\n",
    "print anArray[1], anArray[1].shape, anArray[1].ndim, '\\n------' \n",
    "# results in a one dimensional array w/5 rows at position 1 of the 4x5 matrix\n",
    "# also reduces dimensionality since integer was used, [5,6,7,8,9] becomes 1D array in rows\n",
    "print anArray[1:2,:], anArray[1:2,:].shape, anArray[1:2,:].ndim,'\\n------' \n",
    "# gets row at position 1 and all columns, keeps dimensionality to 2D\n",
    "# in 2 dimensions, results in a 1x5 array: 1 row with 5 cols"
   ]
  },
  {
   "cell_type": "code",
   "execution_count": null,
   "metadata": {
    "collapsed": false,
    "scrolled": true
   },
   "outputs": [],
   "source": [
    "# np.array tries to infer values, mostly as ints or floats when data passed to it\n",
    "# can check data types with variable.dtype\n",
    "print anArray.dtype\n",
    "# make sure to pass tuples...\n",
    "anotherArray = np.zeros((5,4))\n",
    "print anotherArray\n",
    "# create an empty array\n",
    "emptyArray = np.empty((10,20))\n",
    "print emptyArray\n",
    "# create a 1D array with arange\n",
    "rangeArray = np.array(np.arange(20))\n",
    "print rangeArray\n",
    "# reshape it to a 4x5 matrix\n",
    "rangeArray = np.array(np.arange(20)).reshape(4,5)\n",
    "print rangeArray\n",
    "# identity matrix, idents have to be balanced matrices, pass one integer\n",
    "# eg: 5 = 5x5\n",
    "identMatrix = np.identity(5)\n",
    "print identMatrix"
   ]
  },
  {
   "cell_type": "code",
   "execution_count": 190,
   "metadata": {
    "collapsed": false
   },
   "outputs": [
    {
     "name": "stdout",
     "output_type": "stream",
     "text": [
      "float64\n"
     ]
    },
    {
     "data": {
      "text/plain": [
       "dtype('int64')"
      ]
     },
     "execution_count": 190,
     "metadata": {},
     "output_type": "execute_result"
    }
   ],
   "source": [
    "# explicitly casting and changing data types\n",
    "# can change data types with np.astype(variable)\n",
    "arr1 = np.array([1,2,3], dtype = np.float64)\n",
    "print arr1.dtype\n",
    "# dtypes are powerful, most map directly onto an underlying machine representation\n",
    "# makes them fast, easy to read and write binary streams of data to disk and also connect to code\n",
    "# written in a low level language like C or Fortran\n",
    "# beware of floating precision as always\n",
    "# cast an array as another type\n",
    "arr1 = arr1.astype(np.int64)\n",
    "arr1.dtype"
   ]
  },
  {
   "cell_type": "code",
   "execution_count": 191,
   "metadata": {
    "collapsed": false
   },
   "outputs": [
    {
     "name": "stdout",
     "output_type": "stream",
     "text": [
      "|S5\n",
      "dtype before conversion:  |S5\n",
      "dtype after conversion: float64\n"
     ]
    }
   ],
   "source": [
    "# lets convert an array of numbers represented as strings back to numbers\n",
    "numStrings = np.array(['25.3','97.5','32.6','100.0'])\n",
    "print numStrings.dtype\n",
    "print 'dtype before conversion: ', numStrings.dtype\n",
    "numStrings = numStrings.astype('float64')\n",
    "print 'dtype after conversion:', numStrings.dtype\n"
   ]
  },
  {
   "cell_type": "code",
   "execution_count": 192,
   "metadata": {
    "collapsed": false
   },
   "outputs": [
    {
     "name": "stdout",
     "output_type": "stream",
     "text": [
      "int64\n",
      "The array is now a float array:\n",
      "float64\n"
     ]
    }
   ],
   "source": [
    "# you can also cast an array based on another array's dtype\n",
    "int_array = np.arange(10)\n",
    "print int_array.dtype\n",
    "calibers = np.array([.22,.270,.357,.380,.44,.5], dtype=np.float64)\n",
    "int_array = int_array.astype(calibers.dtype)\n",
    "print 'The array is now a float array:'\n",
    "print int_array.dtype"
   ]
  },
  {
   "cell_type": "markdown",
   "metadata": {},
   "source": [
    "### Calling astype always creates a new array -- a copy of the data, even if the new dtype is the same as the old type"
   ]
  },
  {
   "cell_type": "code",
   "execution_count": 198,
   "metadata": {
    "collapsed": false
   },
   "outputs": [
    {
     "name": "stdout",
     "output_type": "stream",
     "text": [
      "2\n",
      "(2, 3)\n",
      "[[ 1.  2.  3.]\n",
      " [ 4.  5.  6.]] \n",
      "--------\n",
      "[[  4.  10.  18.]\n",
      " [ 16.  25.  36.]] \n",
      "--------\n",
      "[[ 0.  0.  0.]\n",
      " [ 0.  0.  0.]] \n",
      "--------\n",
      "[[-1. -2. -3.]\n",
      " [-4. -5. -6.]] \n",
      "--------\n",
      "[[  5.  10.  15.]\n",
      " [ 20.  25.  30.]]\n"
     ]
    }
   ],
   "source": [
    "# arrays are critical because they enable you to express batch operations on data without writing for loops\n",
    "# which is just awesome\n",
    "# this is called, formally, vectorization\n",
    "# ANY arithmetic operations between equal size arrays applies the operation ELEMENTWISE (iteratively)\n",
    "\n",
    "# lets create a 2D array\n",
    "array = np.array([[1.,2.,3.], [4.,5.,6.]])\n",
    "print array.ndim\n",
    "print array.shape\n",
    "print array, '\\n--------'\n",
    "# dot product\n",
    "print array*array[1], '\\n--------'\n",
    "# matrix subtraction\n",
    "print array-array, '\\n--------'\n",
    "# matrix multiplication\n",
    "print array-(array*2), '\\n--------'\n",
    "# scalar operations\n",
    "print array * 5"
   ]
  },
  {
   "cell_type": "markdown",
   "metadata": {},
   "source": [
    "### operations between different sized arrays (matrices) is called BROADCASTING "
   ]
  },
  {
   "cell_type": "code",
   "execution_count": 199,
   "metadata": {
    "collapsed": false
   },
   "outputs": [
    {
     "name": "stdout",
     "output_type": "stream",
     "text": [
      "5\n",
      "[1 2]\n",
      "[ 1  2 50 50  5]\n"
     ]
    }
   ],
   "source": [
    "# indexing and slicing NumPy arrays\n",
    "# 1D arrays act similarly to Python lists:\n",
    "arr = np.array([1,2,3,4,5])\n",
    "# negative indices start at \"1\", not 0\n",
    "print arr[-1]\n",
    "print arr[0:2]\n",
    "# up to but not including, as usual\n",
    "arr[2:4] = 50\n",
    "print arr"
   ]
  },
  {
   "cell_type": "markdown",
   "metadata": {},
   "source": [
    "### IMPORTANT NOTE: array slices in NumPy are simply VIEWS to the original array in memory\n",
    "### BEWARE: ANY changes to the array via a slice will propogate back to the original array"
   ]
  },
  {
   "cell_type": "code",
   "execution_count": null,
   "metadata": {
    "collapsed": false
   },
   "outputs": [],
   "source": [
    "# lets use the original array \"arr\" like a pirate\n",
    "array_slice = arr[1:3]\n",
    "print array_slice\n",
    "# now check this out\n",
    "array_slice[0] = 9999\n",
    "print arr\n",
    "# the ORIGINAL array, arr, now has 9999 in position 1 because we edited array_slice directly\n",
    "# this is similar to Java's reference side effect, whereby an array is stored in memory\n",
    "# if we make edits to the array, within another variable, it points to the same space in memory, and thus edits the\n",
    "# original array\n",
    "# numpy does this for performance reasons, to better deal with larger data sets, avoiding copying tons of records\n",
    "# and storing additional memory\n",
    "\n"
   ]
  },
  {
   "cell_type": "code",
   "execution_count": null,
   "metadata": {
    "collapsed": false
   },
   "outputs": [],
   "source": [
    "# if you want a true copy, explicitly call it out with .copy()\n",
    "\n",
    "array_slice = arr[1:3].copy()\n",
    "print arr\n",
    "array_slice[0] = 12345\n",
    "print arr\n",
    "# no effect, new space in memory\n",
    "del array_slice"
   ]
  },
  {
   "cell_type": "code",
   "execution_count": 201,
   "metadata": {
    "collapsed": false
   },
   "outputs": [
    {
     "name": "stdout",
     "output_type": "stream",
     "text": [
      "get array in position 2 of 2-dimensional array:  [7 8 9]\n",
      "get 0th position array, and the scalar in the 2nd position: 3\n",
      "same as above, except with comma sep list: 3\n",
      "\n",
      "Two Dimensional Arrays or Matrices look and index to the following diagram\n",
      "Rows are axis 0, cols are axis 1\n",
      "\n",
      "         Axis 1\n",
      "           0    1    2\n",
      "Axis 0  0\n",
      "        \n",
      "        1\n",
      "        \n",
      "        2\n",
      "\n"
     ]
    }
   ],
   "source": [
    "# higher dimensional array slicing\n",
    "# elements at each index are no longer scalars but rather one-dimensional arrays\n",
    "arr2d = np.array([[1,2,3],[4,5,6],[7,8,9]])\n",
    "print 'get array in position 2 of 2-dimensional array: ', arr2d[2]\n",
    "print 'get 0th position array, and the scalar in the 2nd position:', arr2d[0][2]\n",
    "print 'same as above, except with comma sep list:', arr2d[0,2]\n",
    "print '''\n",
    "Two Dimensional Arrays or Matrices look and index to the following diagram\n",
    "Rows are axis 0, cols are axis 1\n",
    "\n",
    "         Axis 1\n",
    "           0    1    2\n",
    "Axis 0  0\n",
    "        \n",
    "        1\n",
    "        \n",
    "        2\n",
    "'''"
   ]
  },
  {
   "cell_type": "code",
   "execution_count": null,
   "metadata": {
    "collapsed": true
   },
   "outputs": [],
   "source": []
  },
  {
   "cell_type": "code",
   "execution_count": 208,
   "metadata": {
    "collapsed": false
   },
   "outputs": [
    {
     "name": "stdout",
     "output_type": "stream",
     "text": [
      "[[[ 1  2  3]\n",
      "  [ 4  5  6]]\n",
      "\n",
      " [[ 7  8  9]\n",
      "  [10 11 12]]]\n",
      "3 dimensions \n",
      "--------\n",
      "[[1 2 3]\n",
      " [4 5 6]] \n",
      "---------\n",
      "element 1 in first array: 2 \n",
      "---------\n",
      "[[[99 99 99]\n",
      "  [99 99 99]]\n",
      "\n",
      " [[ 7  8  9]\n",
      "  [10 11 12]]] \n",
      "---------\n",
      "[[[99 99 99]\n",
      "  [99 99 99]]\n",
      "\n",
      " [[ 7  8  9]\n",
      "  [10 11 12]]] \n",
      "---------\n",
      "[7 8 9]\n"
     ]
    }
   ],
   "source": [
    "# if you omit later indices, the result will be a lower dimensional ndarray consisting of all the data along\n",
    "# the higher dimensions\n",
    "# create a 3D array\n",
    "arr3d = np.array([[[1,2,3], [4,5,6]], [[7,8,9], [10,11,12]]])\n",
    "print arr3d\n",
    "print arr3d.ndim, 'dimensions \\n--------'\n",
    "# get first 2D array\n",
    "print arr3d[0], '\\n---------'\n",
    "# get element 1 in the first array of the first 2D array (whew!)\n",
    "print 'element 1 in first array:', arr3d[0,0,1], '\\n---------'\n",
    "# change the first 2d array to 99\n",
    "arr3d[0] = 99\n",
    "print arr3d, '\\n---------'\n",
    "arr3d[0].ndim\n",
    "print arr3d, '\\n---------'\n",
    "print arr3d[1,0]"
   ]
  },
  {
   "cell_type": "code",
   "execution_count": 215,
   "metadata": {
    "collapsed": false
   },
   "outputs": [
    {
     "name": "stdout",
     "output_type": "stream",
     "text": [
      "[[1 0 0]\n",
      " [4 0 0]\n",
      " [7 8 9]] \n",
      "---------------\n",
      "(1, 3)  keeps dimensionality (2D) because its a slice \n",
      "---------------\n",
      "2 dimensions \n",
      "---------------\n",
      "[4 0] reduces dimensions to 1 \n",
      "---------------\n",
      "(2,)\n",
      "1 dimensions \n",
      "---------------\n",
      "[[1]\n",
      " [4]\n",
      " [7]] keeps dimensions since only slices! \n",
      "---------------\n",
      "(3, 1) \n",
      "---------------\n",
      "2 dimensions \n",
      "---------------\n",
      "[[1 0 0]\n",
      " [4 0 0]\n",
      " [7 8 9]]\n"
     ]
    }
   ],
   "source": [
    "# indexing with slices\n",
    "# a slice selects a range of elements among an axis\n",
    "# you can pass multiple slices like you can pass multiple indexes\n",
    "print arr2d, '\\n---------------'\n",
    "print arr2d[2:].shape, ' keeps dimensionality (2D) because its a slice \\n---------------'\n",
    "print arr2d[2:].ndim, 'dimensions \\n---------------'\n",
    "# when slicing like this, you always get same number of dimensions back\n",
    "# by mixing integer slices, you get lower dimensional slices\n",
    "print arr2d[1,:2], 'reduces dimensions to 1 \\n---------------'\n",
    "print arr2d[1,:2].shape\n",
    "print arr2d[1,:2].ndim, 'dimensions \\n---------------'\n",
    "# slice only higher dimensional axes with colons\n",
    "print arr2d[:,:1], 'keeps dimensions since only slices! \\n---------------'\n",
    "print arr2d[:,:1].shape, '\\n---------------'\n",
    "print arr2d[:,:1].ndim, 'dimensions \\n---------------'\n",
    "# set some slices to zero\n",
    "arr2d[:2,1:] = 0\n",
    "print arr2d"
   ]
  },
  {
   "cell_type": "code",
   "execution_count": null,
   "metadata": {
    "collapsed": true
   },
   "outputs": [],
   "source": [
    "### Boolean Indexing"
   ]
  },
  {
   "cell_type": "code",
   "execution_count": 217,
   "metadata": {
    "collapsed": false
   },
   "outputs": [
    {
     "name": "stdout",
     "output_type": "stream",
     "text": [
      "[[ 1.29313774  0.00514901 -1.26392151  0.08542281]\n",
      " [-0.62979118 -1.15246246 -0.26780408  0.27893627]\n",
      " [-1.40263692 -2.10162292 -0.31976389 -0.44329617]\n",
      " [ 1.76418262  0.11052763 -1.55802298 -0.11021456]\n",
      " [ 0.2076581  -0.18809767  1.9111004  -1.64087642]\n",
      " [ 0.06850057 -0.86553932 -0.40980652 -0.73576753]\n",
      " [-1.44441441 -1.05848685  0.08451821 -0.32478464]]\n",
      "-----\n",
      "[ True False False  True False False False] \n",
      "-------\n",
      "[[ 1.29313774  0.00514901 -1.26392151  0.08542281]\n",
      " [ 1.76418262  0.11052763 -1.55802298 -0.11021456]]\n",
      "------\n",
      "[[-1.26392151  0.08542281]\n",
      " [-1.55802298 -0.11021456]]\n"
     ]
    }
   ],
   "source": [
    "# using arbitrary strings to index arrays and matrices\n",
    "names = np.array(['Bob','Joe','Will','Bob','Will','Joe','Joe'], dtype = np.str)\n",
    "data = randn(7,4) # create a random matrix of normally distributed values\n",
    "print data\n",
    "print '-----'\n",
    "# Bob is in position 0 and 3\n",
    "print names == 'Bob', '\\n--------'\n",
    "print data[names == 'Bob']\n",
    "# since Bob's position is 0, 3, prints arrays at position 0 and 3\n",
    "print '------'\n",
    "print data[names == 'Bob', 2:]\n",
    "# since Bob's position is 0, 3, prints arrays at position 0 and 3 with elements 2 and greater in each array"
   ]
  },
  {
   "cell_type": "code",
   "execution_count": 218,
   "metadata": {
    "collapsed": false
   },
   "outputs": [
    {
     "name": "stdout",
     "output_type": "stream",
     "text": [
      "[[ 1.29313774  0.00514901 -1.26392151  0.08542281]\n",
      " [-1.40263692 -2.10162292 -0.31976389 -0.44329617]\n",
      " [ 1.76418262  0.11052763 -1.55802298 -0.11021456]\n",
      " [ 0.2076581  -0.18809767  1.9111004  -1.64087642]]\n",
      "-----\n",
      "[[ 1.29313774  0.00514901  0.          0.08542281]\n",
      " [ 0.          0.          0.          0.27893627]\n",
      " [ 0.          0.          0.          0.        ]\n",
      " [ 1.76418262  0.11052763  0.          0.        ]\n",
      " [ 0.2076581   0.          1.9111004   0.        ]\n",
      " [ 0.06850057  0.          0.          0.        ]\n",
      " [ 0.          0.          0.08451821  0.        ]]\n"
     ]
    }
   ],
   "source": [
    "# use multiple names to index the data\n",
    "# have to use | for or, or & for and, typical and or does not work here\n",
    "mask = (names == 'Bob') | (names == 'Will')\n",
    "print data[mask]\n",
    "# mask returns all of the arrays in data indexed by Bob and Will (4 of them in this case)\n",
    "# set all negatives to zero in the data matrix\n",
    "data[data < 0] =0 \n",
    "print '-----\\n', data"
   ]
  },
  {
   "cell_type": "markdown",
   "metadata": {},
   "source": [
    "## FANCY INDEXING"
   ]
  },
  {
   "cell_type": "code",
   "execution_count": 220,
   "metadata": {
    "collapsed": false
   },
   "outputs": [
    {
     "name": "stdout",
     "output_type": "stream",
     "text": [
      "[[ 0.  0.  0.  0.]\n",
      " [ 1.  1.  1.  1.]\n",
      " [ 2.  2.  2.  2.]\n",
      " [ 3.  3.  3.  3.]\n",
      " [ 4.  4.  4.  4.]\n",
      " [ 5.  5.  5.  5.]\n",
      " [ 6.  6.  6.  6.]\n",
      " [ 7.  7.  7.  7.]] \n",
      "---------\n",
      "[ 1.  1.  1.  1.]\n",
      "[[ 4.  4.  4.  4.]\n",
      " [ 3.  3.  3.  3.]\n",
      " [ 0.  0.  0.  0.]\n",
      " [ 6.  6.  6.  6.]] \n",
      "---------\n",
      "[[ 7.  7.  7.  7.]\n",
      " [ 5.  5.  5.  5.]\n",
      " [ 3.  3.  3.  3.]]\n"
     ]
    }
   ],
   "source": [
    "# fancy indexing is a term used for integer arrays\n",
    "# lets take an 8x4 matrix\n",
    "\n",
    "arr = np.empty((8,4))\n",
    "\n",
    "# set values in matrix to iterator position\n",
    "for i in range(8):\n",
    "    arr[i] = i\n",
    "    \n",
    "print arr, '\\n---------'\n",
    "\n",
    "# now let's select a subset of rows in a particular order\n",
    "# pass a list of ints to the index\n",
    "print arr[[4,3,0,6]], '\\n---------'\n",
    "# use negative indices to go backward across a matrix\n",
    "print arr[[-1, -3, -5]] # should be 7, 5, 3\n"
   ]
  },
  {
   "cell_type": "code",
   "execution_count": null,
   "metadata": {
    "collapsed": false
   },
   "outputs": [],
   "source": [
    "# passing multiple index arrays: it selects a 1D array of elements corresponding to each tuple of indicies\n",
    "arr = np.arange(32).reshape(8,4)\n",
    "print arr, '\\n----------'\n",
    "print arr[[1,5,7,2],[0,3,1,2]]\n",
    "# essentially passing tuple elements into the overall array positions: (1,0), (5,3), (7,1), (2,2) and bringing them\n",
    "# back as a 1D array\n",
    "testArray = arr[[1,5,7,2], [0,3,1,2]]\n",
    "# to get the rectangular region formed by selecting a subset of a matrix's rows and columns:\n",
    "arr[np.ix_([1, 5, 7, 2],[0, 3, 1, 2])]\n",
    "# in this case, we get row at position 1, with elements at position 0, 3, 1, 2\n",
    "# then we get row at position 5, with elements at position 0, 3, 1, 2\n",
    "# and so on....\n",
    "print arr[:,:1].shape"
   ]
  },
  {
   "cell_type": "markdown",
   "metadata": {},
   "source": [
    "# # Transposing Arrays and Swapping Axes"
   ]
  },
  {
   "cell_type": "code",
   "execution_count": 232,
   "metadata": {
    "collapsed": false
   },
   "outputs": [
    {
     "name": "stdout",
     "output_type": "stream",
     "text": [
      "[[ 0  1  2  3  4]\n",
      " [ 5  6  7  8  9]\n",
      " [10 11 12 13 14]] \n",
      "\n",
      "[[ 0  5 10]\n",
      " [ 1  6 11]\n",
      " [ 2  7 12]\n",
      " [ 3  8 13]\n",
      " [ 4  9 14]]\n",
      "[[125 140 155 170 185]\n",
      " [140 158 176 194 212]\n",
      " [155 176 197 218 239]\n",
      " [170 194 218 242 266]\n",
      " [185 212 239 266 293]]\n"
     ]
    },
    {
     "ename": "ValueError",
     "evalue": "operands could not be broadcast together with shapes (5,3) (3,5) ",
     "output_type": "error",
     "traceback": [
      "\u001b[0;31m---------------------------------------------------------------------------\u001b[0m",
      "\u001b[0;31mValueError\u001b[0m                                Traceback (most recent call last)",
      "\u001b[0;32m<ipython-input-232-3e396c46a2b5>\u001b[0m in \u001b[0;36m<module>\u001b[0;34m()\u001b[0m\n\u001b[1;32m      7\u001b[0m \u001b[0;31m# compute the inner matrix product X^tX using np.dot\u001b[0m\u001b[0;34m\u001b[0m\u001b[0;34m\u001b[0m\u001b[0m\n\u001b[1;32m      8\u001b[0m \u001b[0;32mprint\u001b[0m \u001b[0mnp\u001b[0m\u001b[0;34m.\u001b[0m\u001b[0mdot\u001b[0m\u001b[0;34m(\u001b[0m\u001b[0marr\u001b[0m\u001b[0;34m.\u001b[0m\u001b[0mT\u001b[0m\u001b[0;34m,\u001b[0m\u001b[0marr\u001b[0m\u001b[0;34m)\u001b[0m\u001b[0;34m\u001b[0m\u001b[0m\n\u001b[0;32m----> 9\u001b[0;31m \u001b[0;32mprint\u001b[0m \u001b[0marr\u001b[0m\u001b[0;34m.\u001b[0m\u001b[0mT\u001b[0m\u001b[0;34m*\u001b[0m\u001b[0marr\u001b[0m\u001b[0;34m\u001b[0m\u001b[0m\n\u001b[0m",
      "\u001b[0;31mValueError\u001b[0m: operands could not be broadcast together with shapes (5,3) (3,5) "
     ]
    }
   ],
   "source": [
    "# transposing is a special form of reshaping which returns a view on the underlying data without\n",
    "# copying anything\n",
    "# arrays have the transpose method and also the special T attribute\n",
    "arr = np.arange(15).reshape(3,5)\n",
    "print arr, '\\n'\n",
    "print arr.T # this is the transpose of arr, 3x5 becomes 5x3\n",
    "# compute the inner matrix product X^tX using np.dot\n",
    "print np.dot(arr.T,arr)"
   ]
  },
  {
   "cell_type": "code",
   "execution_count": 243,
   "metadata": {
    "collapsed": false
   },
   "outputs": [
    {
     "name": "stdout",
     "output_type": "stream",
     "text": [
      "[[[ 0  4]\n",
      "  [ 1  5]\n",
      "  [ 2  6]\n",
      "  [ 3  7]]\n",
      "\n",
      " [[ 8 12]\n",
      "  [ 9 13]\n",
      "  [10 14]\n",
      "  [11 15]]]\n",
      "[[[ 0  8]\n",
      "  [ 1  9]\n",
      "  [ 2 10]\n",
      "  [ 3 11]]\n",
      "\n",
      " [[ 4 12]\n",
      "  [ 5 13]\n",
      "  [ 6 14]\n",
      "  [ 7 15]]]\n"
     ]
    }
   ],
   "source": [
    "# swapping axes is also easy\n",
    "# lets swap axis 1 with axis 2\n",
    "# (0,4) (8,12) become rows\n",
    "arr = np.array([[[0,1,2,3],\n",
    "                 [4,5,6,7]],\n",
    "                 [[8,9,10,11],\n",
    "                 [12,13,14,15]]])\n",
    "\n",
    "print arr.swapaxes(1,2)\n",
    "print arr.transpose((1,2,0))\n"
   ]
  },
  {
   "cell_type": "markdown",
   "metadata": {},
   "source": [
    "# Universal Functions in NumPy\n",
    "### function that performs elementwise operations on data in ndarrays\n",
    "### fast vectorized wrappers for simple functions that take one or more scalar values\n",
    "### and produce one or more scalar results"
   ]
  },
  {
   "cell_type": "code",
   "execution_count": 251,
   "metadata": {
    "collapsed": false
   },
   "outputs": [
    {
     "name": "stdout",
     "output_type": "stream",
     "text": [
      "[ 0.          1.          1.41421356  1.73205081  2.          2.23606798\n",
      "  2.44948974  2.64575131  2.82842712  3.        ]\n",
      "[  1.00000000e+00   2.71828183e+00   7.38905610e+00   2.00855369e+01\n",
      "   5.45981500e+01   1.48413159e+02   4.03428793e+02   1.09663316e+03\n",
      "   2.98095799e+03   8.10308393e+03]\n",
      "[-0.32627871  1.54095124  0.05516584  0.95156608  0.76087284  0.1927715\n",
      "  0.84374381 -0.46102333]\n",
      "(array([-0.19103279,  0.20196978,  0.97522022,  0.84610689, -0.62295877,\n",
      "       -0.10734091,  0.98487673]), array([-0.,  0.,  4.,  2., -1., -0.,  0.]))\n",
      "[ 2.  2.]\n",
      "(array([ 0.25,  0.75]), array([ 1.,  1.]))\n",
      "[False False]\n"
     ]
    }
   ],
   "source": [
    "# simple unary universal funcs\n",
    "arr = np.arange(10)\n",
    "print np.sqrt(arr)\n",
    "print np.exp(arr)\n",
    "# binary universal functions that return a single value\n",
    "x = randn(8)\n",
    "y = randn(8)\n",
    "print np.maximum(x,y) # prints out maximum of each position in each array compared\n",
    "# universal functions can also return multiple arrays\n",
    "arr = randn(7) *5 \n",
    "print np.modf(arr)\n",
    "\n",
    "lister = np.array([1.25, 1.75])\n",
    "print np.ceil(lister)\n",
    "print np.modf(lister)"
   ]
  },
  {
   "cell_type": "markdown",
   "metadata": {},
   "source": [
    "#### common unary functions\n",
    "##### abs, fabs - absolute element wise value, fabs is a faster alternative for non-complex values\n",
    "##### sqrt, square, exp e^x of each element\n",
    "##### log, log10, log2, log1p log1p = log(1+x)\n",
    "##### sign: compute sign (pos, neg, zero) of each element\n",
    "##### ceil, floor computer ceiling of each element - smallest integer greater than or equal to each element, less than or equal to for floor\n",
    "##### rint - rounds elements to nearest integer, preserving dtype\n",
    "##### modf - return fractional and integral parts of array as separate array\n",
    "##### isnan - return boolean array indicating whether each value is not a number\n",
    "##### isfinite, isinf - finite or infinite\n",
    "##### cos, cosh, sin, sinh, tan, tanh - regular and hyperbolic trig functions\n",
    "##### arccos, arcosh, arcsin, arcsinh, arctan, arctanh - inverse regular and hyperbolic trig functions\n",
    "##### logical_not - compute truth value of not x element wise, = to -arr\n"
   ]
  },
  {
   "cell_type": "markdown",
   "metadata": {},
   "source": [
    "#### common binary functions\n",
    "##### add, subtract, multiply, divide, floor_divide, power (raise elements in first array to power of second), maximum or fmax, fmax ignore nan\n",
    "##### minimum or fmin\n",
    "##### mod\n",
    "##### copysign - copy sign of values in second arg to values in first arg\n",
    "##### greater, greater_equal, less, less_equal, equal, not_equal\n",
    "##### logical_and, logical_or, logical_xor - equivalent to operators & | ^\n"
   ]
  },
  {
   "cell_type": "code",
   "execution_count": 254,
   "metadata": {
    "collapsed": false
   },
   "outputs": [
    {
     "name": "stdout",
     "output_type": "stream",
     "text": [
      "[[-5.   -4.99 -4.98 ...,  4.97  4.98  4.99]\n",
      " [-5.   -4.99 -4.98 ...,  4.97  4.98  4.99]\n",
      " [-5.   -4.99 -4.98 ...,  4.97  4.98  4.99]\n",
      " ..., \n",
      " [-5.   -4.99 -4.98 ...,  4.97  4.98  4.99]\n",
      " [-5.   -4.99 -4.98 ...,  4.97  4.98  4.99]\n",
      " [-5.   -4.99 -4.98 ...,  4.97  4.98  4.99]]\n",
      "[[-5.   -5.   -5.   ..., -5.   -5.   -5.  ]\n",
      " [-4.99 -4.99 -4.99 ..., -4.99 -4.99 -4.99]\n",
      " [-4.98 -4.98 -4.98 ..., -4.98 -4.98 -4.98]\n",
      " ..., \n",
      " [ 4.97  4.97  4.97 ...,  4.97  4.97  4.97]\n",
      " [ 4.98  4.98  4.98 ...,  4.98  4.98  4.98]\n",
      " [ 4.99  4.99  4.99 ...,  4.99  4.99  4.99]]\n"
     ]
    }
   ],
   "source": [
    "#### data processing using arrays\n",
    "# vectorization much faster than pure python\n",
    "# evaluate sqrt(x^2 + y^2) across a regular grid of values\n",
    "# np.meshgrid function takes two 1D arrays and produces two 2D matrices corresponding to all pairs of x,y in the\n",
    "# two arrays\n",
    "\n",
    "points = np.arange(-5,5, 0.01)\n",
    "xs, ys = np.meshgrid(points, points)\n",
    "print xs\n",
    "print ys"
   ]
  },
  {
   "cell_type": "code",
   "execution_count": null,
   "metadata": {
    "collapsed": false
   },
   "outputs": [],
   "source": [
    "import matplotlib.pyplot as plt\n",
    "z = np.sqrt(xs** 2 + ys **2)\n",
    "print z\n",
    "\n",
    "plt.imshow(z, cmap=plt.cm.gray); plt.colorbar()\n",
    "plt.title(\"Image plot of $\\sqrt{x^2 + y^2}$ for a grid of values\")\n"
   ]
  },
  {
   "cell_type": "markdown",
   "metadata": {},
   "source": [
    "### Conditional Logic as Array Operations"
   ]
  },
  {
   "cell_type": "code",
   "execution_count": 5,
   "metadata": {
    "collapsed": false
   },
   "outputs": [
    {
     "name": "stdout",
     "output_type": "stream",
     "text": [
      "[1.1000000000000001, 2.2000000000000002, 2.2999999999999998, 1.3999999999999999, 2.5]\n",
      "[ 1.1  2.2  2.3  1.4  2.5]\n"
     ]
    }
   ],
   "source": [
    "# using numpy.where\n",
    "import numpy as np\n",
    "xarr = np.array([1.1,1.2,1.3,1.4,1.5])\n",
    "yarr = np.array([2.1,2.2,2.3,2.4,2.5])\n",
    "cond = np.array([True,False,False,True,False])\n",
    "\n",
    "# pure python method\n",
    "result = [(x if c else y) for x, y, c in zip(xarr,yarr,cond)]\n",
    "print result\n",
    "# slow on large data sets, lets use NumPy instead\n",
    "# conditional, true, else\n",
    "result = np.where(cond, xarr, yarr)\n",
    "print result"
   ]
  },
  {
   "cell_type": "code",
   "execution_count": null,
   "metadata": {
    "collapsed": true
   },
   "outputs": [],
   "source": [
    "# arguments to where do not need to be arrays, they can be scalars\n",
    "from numpy.random import randn\n",
    "arr = randn(4,4)\n",
    "print arr\n",
    "# replace all positive values with 2 else negative values\n",
    "arrCleaned = np.where(arr > 0, 2, -2)\n",
    "# set only positive values to 2\n",
    "arrPos= np.where(arr > 0, 2, arr)"
   ]
  },
  {
   "cell_type": "code",
   "execution_count": null,
   "metadata": {
    "collapsed": true
   },
   "outputs": [],
   "source": [
    "# you can even nest arrays\n",
    "# else 3 in this case\n",
    "np.where(cond1 & cond2, 0,\n",
    "        np.where(cond1, 1\n",
    "                np.where(cond2, 2, 3)))"
   ]
  },
  {
   "cell_type": "markdown",
   "metadata": {},
   "source": [
    "## Mathematical and Statistical Methods"
   ]
  },
  {
   "cell_type": "code",
   "execution_count": 17,
   "metadata": {
    "collapsed": false
   },
   "outputs": [
    {
     "name": "stdout",
     "output_type": "stream",
     "text": [
      "-0.204359423718\n",
      "-0.204359423718\n",
      "-4.08718847436\n",
      "[-0.41103287 -0.01426361 -0.26313526 -0.11243094 -0.22093443]\n",
      "[-3.18063461  2.13130826 -1.36991743 -1.66794469] \n",
      "-------\n",
      "[[ 0  1  2]\n",
      " [ 3  5  7]\n",
      " [ 9 12 15]] \n",
      "-------\n",
      "[[  0   0   0]\n",
      " [  3  12  60]\n",
      " [  6  42 336]] \n",
      "-------\n",
      "[ 3 12 21]\n"
     ]
    }
   ],
   "source": [
    "# can call standard methods with an array instance method or using top level NumPy function\n",
    "arr = np.random.randn(5,4) # matrix of normally distributed data\n",
    "print arr.mean()\n",
    "print np.mean(arr)\n",
    "print arr.sum()\n",
    "\n",
    "# functions like mean and sum take an optional axis arg which computes statistic over the given axis, resulting in\n",
    "# an array with one fewer dimension\n",
    "print arr.mean(axis=1) # mean of cols\n",
    "print arr.sum(axis = 0), '\\n-------' # sum of rows \n",
    "\n",
    "# methods like cumsum and cumprod do not aggregate, instead produce an array of intermediate results\n",
    "arr = np.array([[0,1,2], [3,4,5], [6,7,8]])\n",
    "print arr.cumsum(0), '\\n-------' # cumulative sum of rows (up and down)\n",
    "print arr.cumprod(1), '\\n-------' # cumulative product of columns (left to right)\n",
    "print arr.sum(axis=1)"
   ]
  },
  {
   "cell_type": "markdown",
   "metadata": {},
   "source": [
    "## Methods For Boolean Arrays"
   ]
  },
  {
   "cell_type": "code",
   "execution_count": 21,
   "metadata": {
    "collapsed": false
   },
   "outputs": [
    {
     "name": "stdout",
     "output_type": "stream",
     "text": [
      "True\n",
      "False\n"
     ]
    }
   ],
   "source": [
    "arr = np.random.randn(100)\n",
    "print (arr>0).sum() # agg sum of all numbers > 0\n",
    "\n",
    "bools = np.array([False, False, True, False])\n",
    "print bools.any() # checks for any true values\n",
    "print bools.all() # checks for all true values in an array as condition"
   ]
  },
  {
   "cell_type": "markdown",
   "metadata": {},
   "source": [
    "## Sorting"
   ]
  },
  {
   "cell_type": "code",
   "execution_count": 30,
   "metadata": {
    "collapsed": false
   },
   "outputs": [
    {
     "name": "stdout",
     "output_type": "stream",
     "text": [
      "[-0.91534096 -0.35537131  1.65798528 -0.00176562  0.58127101  1.23023396\n",
      " -0.69027989  0.42250992]\n",
      "[-0.91534096 -0.69027989 -0.35537131 -0.00176562  0.42250992  0.58127101\n",
      "  1.23023396  1.65798528]\n",
      "[[ 1.27138577  0.97537439 -0.21153676]\n",
      " [ 1.05102066  0.41981847 -0.06825443]\n",
      " [-0.20778216  0.20925159 -1.41952762]\n",
      " [ 1.34398439  0.53550408 -2.16345514]\n",
      " [ 1.8119909  -0.47351535  1.54445315]] \n",
      "---------\n",
      "[[-0.20778216 -0.47351535 -2.16345514]\n",
      " [ 1.05102066  0.20925159 -1.41952762]\n",
      " [ 1.27138577  0.41981847 -0.21153676]\n",
      " [ 1.34398439  0.53550408 -0.06825443]\n",
      " [ 1.8119909   0.97537439  1.54445315]]\n"
     ]
    },
    {
     "data": {
      "text/plain": [
       "array([[-2.16345514, -0.47351535, -0.20778216],\n",
       "       [-1.41952762,  0.20925159,  1.05102066],\n",
       "       [-0.21153676,  0.41981847,  1.27138577],\n",
       "       [-0.06825443,  0.53550408,  1.34398439],\n",
       "       [ 0.97537439,  1.54445315,  1.8119909 ]])"
      ]
     },
     "execution_count": 30,
     "metadata": {},
     "output_type": "execute_result"
    }
   ],
   "source": [
    "arr = np.random.randn(8)\n",
    "print arr\n",
    "arr.sort()\n",
    "print arr\n",
    "\n",
    "# sorting multidimensional arrays\n",
    "arr = np.random.randn(5,3)\n",
    "print arr, '\\n---------'\n",
    "arr.sort(0) # 0 or 1 defines descending (0) or ascending (1)\n",
    "print arr\n",
    "\n",
    "np.sort(arr,1) # sorts a COPY, not underlying memory by calling np.sort()"
   ]
  },
  {
   "cell_type": "code",
   "execution_count": 33,
   "metadata": {
    "collapsed": false
   },
   "outputs": [
    {
     "data": {
      "text/plain": [
       "-1.5597482637739664"
      ]
     },
     "execution_count": 33,
     "metadata": {},
     "output_type": "execute_result"
    }
   ],
   "source": [
    "# get quantiles of array\n",
    "large_arr = np.random.randn(1000)\n",
    "large_arr.sort()\n",
    "# find 5% quantile\n",
    "large_arr[int(0.05 * len(large_arr))]"
   ]
  },
  {
   "cell_type": "markdown",
   "metadata": {},
   "source": [
    "## Unique and Other Set Logic"
   ]
  },
  {
   "cell_type": "code",
   "execution_count": 34,
   "metadata": {
    "collapsed": false
   },
   "outputs": [
    {
     "name": "stdout",
     "output_type": "stream",
     "text": [
      "['Bob' 'Joe' 'John' 'Sergio' 'Will']\n"
     ]
    }
   ],
   "source": [
    "names = np.array(['Bob','Joe','Will','Sergio','Bob','John','Will'])\n",
    "print np.unique(names)"
   ]
  },
  {
   "cell_type": "markdown",
   "metadata": {},
   "source": [
    "## Linear Algebra Methods in NumPy"
   ]
  },
  {
   "cell_type": "code",
   "execution_count": 45,
   "metadata": {
    "collapsed": false
   },
   "outputs": [
    {
     "name": "stdout",
     "output_type": "stream",
     "text": [
      "[[  28.   64.]\n",
      " [  67.  181.]]\n",
      "[[ 0.46637678  0.34932925 -0.02242434  0.14925006 -0.36715409]\n",
      " [ 0.34932925  0.78996947  0.07312474  0.58401039 -0.1865664 ]\n",
      " [-0.02242434  0.07312474  0.1368611   0.23371375 -0.02150665]\n",
      " [ 0.14925006  0.58401039  0.23371375  1.11566338 -0.13619677]\n",
      " [-0.36715409 -0.1865664  -0.02150665 -0.13619677  0.98801382]] \n",
      " INVERSE ABOVE -----------\n",
      "[[  1.00000000e+00  -1.72027621e-17   1.59541359e-17  -1.45147617e-17\n",
      "    9.54259617e-19]\n",
      " [ -1.55584135e-16   1.00000000e+00   3.19684337e-17  -4.43836097e-16\n",
      "    3.67817948e-17]\n",
      " [ -2.14226699e-17   1.39370486e-16   1.00000000e+00   1.69939228e-17\n",
      "   -6.72608508e-18]\n",
      " [ -1.13783189e-16   3.28686670e-17   1.01453236e-16   1.00000000e+00\n",
      "   -2.42950425e-18]\n",
      " [  6.80464963e-17   1.23491590e-16   2.26627562e-17   1.76419110e-16\n",
      "    1.00000000e+00]] \n",
      "------------\n",
      "[[-5.95341786  3.2361119  -4.70210565 -0.20928955 -1.99034197]\n",
      " [ 0.         -2.89439394 -8.18486785  3.61117134 -0.36468076]\n",
      " [ 0.          0.         -9.09783864  1.88224552  0.25590075]\n",
      " [ 0.          0.          0.         -0.81561234 -0.31880712]\n",
      " [ 0.          0.          0.          0.          0.92656461]]\n"
     ]
    }
   ],
   "source": [
    "# dot products are taken with np.dot() or array.dot()\n",
    "from numpy.linalg import inv, qr\n",
    "\n",
    "x = np.array([[1.,2.,3.], [4.,5.,6.]])\n",
    "y = np.array([[6.,23.],[-1,7],[8,9]])\n",
    "x.dot(y)\n",
    "print x.dot(y)\n",
    "\n",
    "# create 5x5 matrix of randomly distributed float values\n",
    "x = np.random.randn(5,5)\n",
    "# multiply the transpose of x by x for inner dot product\n",
    "mat = x.T.dot(x)\n",
    "# take the inverse of mat\n",
    "inv(mat)\n",
    "print inv(mat), '\\n INVERSE ABOVE -----------'\n",
    "# multiply the inner dot product by its inverse\n",
    "print mat.dot(inv(mat)), '\\n------------' \n",
    "\n",
    "# get q,r decomposition\n",
    "q, r = qr(mat)\n",
    "print r\n",
    "\n"
   ]
  },
  {
   "cell_type": "markdown",
   "metadata": {},
   "source": [
    "##### other Linear algebra functions in numpy.linalg:\n",
    "##### diag (return diagonal or off diagonal elements of a square matrix as 1D array or convert a 1D array into a square matrix with zeros on off)\n",
    "##### dot - matrix multiplication\n",
    "##### trace - sum of all diagonal elements\n",
    "##### det - compute matrix determinant\n",
    "##### eig - compute the eigenvalues and eigenvectors of square matrix\n",
    "##### inv - compute inverse of square matrix\n",
    "##### pinv - compute Moore Penrose pesudo inverse of a mtrix\n",
    "##### qr - compute the QR decomposition\n",
    "##### svd - compute the single value decomposition\n",
    "##### solve - solve the linear system Ax = b for x, where A is a square matrix\n",
    "##### lstsq - compute the least square solution to Ax = b"
   ]
  },
  {
   "cell_type": "markdown",
   "metadata": {},
   "source": []
  }
 ],
 "metadata": {
  "kernelspec": {
   "display_name": "Python 2",
   "language": "python",
   "name": "python2"
  },
  "language_info": {
   "codemirror_mode": {
    "name": "ipython",
    "version": 2
   },
   "file_extension": ".py",
   "mimetype": "text/x-python",
   "name": "python",
   "nbconvert_exporter": "python",
   "pygments_lexer": "ipython2",
   "version": "2.7.11"
  }
 },
 "nbformat": 4,
 "nbformat_minor": 0
}
