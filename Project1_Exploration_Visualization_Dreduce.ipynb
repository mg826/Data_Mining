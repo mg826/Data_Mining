{
 "cells": [
  {
   "cell_type": "markdown",
   "metadata": {},
   "source": [
    "### Project 1: Data Exploration, Visualization and Dimensionality Reduction\n",
    "## Animal Shelter Outcomes: A Classification Problem\n",
    "#### Alex Matsunami, RJ Smith, Cory Nichols"
   ]
  },
  {
   "cell_type": "markdown",
   "metadata": {},
   "source": [
    "## Business Understanding"
   ]
  },
  {
   "cell_type": "markdown",
   "metadata": {},
   "source": [
    "\n",
    "Millions of animal companions end up in shelters each year in the United States. These animals may be stray, rescued from a difficult situation or given up by their previous families. Each year, roughly 40 percent of all dogs and cats in shelters are euthanized. \n",
    "\n",
    "Our dataset comes from the Austin Animal Center in Austin, Texas and is part of a Kaggle competition. Using this data, we hope to find trends or rule sets identifying the outcomes of animals in shelters. The findings would subsequently drive shelter practices, hopefully for more social good than business good. For instance, if spaying or neutering a dog or cat is highly suggestive of a favorable outcome for an animal, shelters should implement policies ensuring all animals are fixed prior to adoption. This practice may cost the shelter more money, but would improve the welfare of the animal population. Further, could something as simple as giving each an animal a name drive a more favorable outcome? This particular practice would cost nothing but time and in turn improve the welfare of the animal population in cities. Cost savings, however, could be gained from our analysis. For instance, it may be easy enough to automate intake and processes for certain breeds or genders of animals while focusing attention on breeds or genders of animals that the data indicate \"need more help.\"\n",
    "\n",
    "We intend to use the 27 thousand records in the training set as a reference for other major cities in the United States, where most animal shelter practices are similar from an intake and outcome perspective. Our dataset includes statistics on breed, color, sex, and age from the Austin Animal Center.\n",
    "\n",
    "Success should be categorized into analytical and business goals. Analytical goals would be based on classification accuracy on a sizeable test data set given by a confusin matrix where overall classification accuracy is greater than 85% at minimum with at least 85% precision. Further, and possibly more importantly, we hope our analysis drives at least a 20% decrease in animal euthanizations over a two calendar year period.  \n"
   ]
  },
  {
   "cell_type": "markdown",
   "metadata": {},
   "source": [
    "## Data Meaning and Data Types  (Add Info Here)"
   ]
  },
  {
   "cell_type": "markdown",
   "metadata": {},
   "source": [
    "## Data Preprocessing: Transformation and Statistics "
   ]
  },
  {
   "cell_type": "code",
   "execution_count": 257,
   "metadata": {
    "collapsed": false
   },
   "outputs": [],
   "source": [
    "import pandas as pd\n",
    "from pandas import DataFrame, Series\n",
    "import numpy as np\n",
    "from sklearn.preprocessing import LabelEncoder,StandardScaler,Imputer\n",
    "from matplotlib import pyplot as plt\n",
    "import seaborn as sns\n",
    "%matplotlib inline"
   ]
  },
  {
   "cell_type": "code",
   "execution_count": 258,
   "metadata": {
    "collapsed": false
   },
   "outputs": [],
   "source": [
    "df = pd.read_csv('~/desktop/train.csv')\n",
    "breedMap = pd.read_csv('~/desktop/breed_size.csv')"
   ]
  },
  {
   "cell_type": "markdown",
   "metadata": {},
   "source": [
    "\n",
    "Our dataset is made up of 10 variables, many of which can be split or transformed into additional variables. Further, the majority of the variables are categorical: mostly nominal variables except for ordinal variables like Age and temporal variables like DateTime. Some variables, such as AnimalID, will provide no value in our analysis.\n",
    "\n",
    "Our class variable is OutcomeType. We are interested in classifying animal outcome types given the other explanatory variables, which we will elaborate upon further.\n"
   ]
  },
  {
   "cell_type": "code",
   "execution_count": 259,
   "metadata": {
    "collapsed": false
   },
   "outputs": [
    {
     "data": {
      "text/html": [
       "<div>\n",
       "<table border=\"1\" class=\"dataframe\">\n",
       "  <thead>\n",
       "    <tr style=\"text-align: right;\">\n",
       "      <th></th>\n",
       "      <th>AnimalID</th>\n",
       "      <th>Name</th>\n",
       "      <th>DateTime</th>\n",
       "      <th>OutcomeType</th>\n",
       "      <th>OutcomeSubtype</th>\n",
       "      <th>AnimalType</th>\n",
       "      <th>SexuponOutcome</th>\n",
       "      <th>AgeuponOutcome</th>\n",
       "      <th>Breed</th>\n",
       "      <th>Color</th>\n",
       "    </tr>\n",
       "  </thead>\n",
       "  <tbody>\n",
       "    <tr>\n",
       "      <th>0</th>\n",
       "      <td>A671945</td>\n",
       "      <td>Hambone</td>\n",
       "      <td>2014-02-12 18:22:00</td>\n",
       "      <td>Return_to_owner</td>\n",
       "      <td>NaN</td>\n",
       "      <td>Dog</td>\n",
       "      <td>Neutered Male</td>\n",
       "      <td>1 year</td>\n",
       "      <td>Shetland Sheepdog Mix</td>\n",
       "      <td>Brown/White</td>\n",
       "    </tr>\n",
       "    <tr>\n",
       "      <th>1</th>\n",
       "      <td>A656520</td>\n",
       "      <td>Emily</td>\n",
       "      <td>2013-10-13 12:44:00</td>\n",
       "      <td>Euthanasia</td>\n",
       "      <td>Suffering</td>\n",
       "      <td>Cat</td>\n",
       "      <td>Spayed Female</td>\n",
       "      <td>1 year</td>\n",
       "      <td>Domestic Shorthair Mix</td>\n",
       "      <td>Cream Tabby</td>\n",
       "    </tr>\n",
       "    <tr>\n",
       "      <th>2</th>\n",
       "      <td>A686464</td>\n",
       "      <td>Pearce</td>\n",
       "      <td>2015-01-31 12:28:00</td>\n",
       "      <td>Adoption</td>\n",
       "      <td>Foster</td>\n",
       "      <td>Dog</td>\n",
       "      <td>Neutered Male</td>\n",
       "      <td>2 years</td>\n",
       "      <td>Pit Bull Mix</td>\n",
       "      <td>Blue/White</td>\n",
       "    </tr>\n",
       "  </tbody>\n",
       "</table>\n",
       "</div>"
      ],
      "text/plain": [
       "  AnimalID     Name             DateTime      OutcomeType OutcomeSubtype  \\\n",
       "0  A671945  Hambone  2014-02-12 18:22:00  Return_to_owner            NaN   \n",
       "1  A656520    Emily  2013-10-13 12:44:00       Euthanasia      Suffering   \n",
       "2  A686464   Pearce  2015-01-31 12:28:00         Adoption         Foster   \n",
       "\n",
       "  AnimalType SexuponOutcome AgeuponOutcome                   Breed  \\\n",
       "0        Dog  Neutered Male         1 year   Shetland Sheepdog Mix   \n",
       "1        Cat  Spayed Female         1 year  Domestic Shorthair Mix   \n",
       "2        Dog  Neutered Male        2 years            Pit Bull Mix   \n",
       "\n",
       "         Color  \n",
       "0  Brown/White  \n",
       "1  Cream Tabby  \n",
       "2   Blue/White  "
      ]
     },
     "execution_count": 259,
     "metadata": {},
     "output_type": "execute_result"
    }
   ],
   "source": [
    "df.head(3)"
   ]
  },
  {
   "cell_type": "markdown",
   "metadata": {},
   "source": [
    "### Data Quality and Cleanup"
   ]
  },
  {
   "cell_type": "code",
   "execution_count": 260,
   "metadata": {
    "collapsed": false
   },
   "outputs": [
    {
     "name": "stdout",
     "output_type": "stream",
     "text": [
      "Data types and counts:\n",
      "\n",
      "<class 'pandas.core.frame.DataFrame'>\n",
      "Int64Index: 26729 entries, 0 to 26728\n",
      "Data columns (total 10 columns):\n",
      "AnimalID          26729 non-null object\n",
      "Name              19038 non-null object\n",
      "DateTime          26729 non-null object\n",
      "OutcomeType       26729 non-null object\n",
      "OutcomeSubtype    13117 non-null object\n",
      "AnimalType        26729 non-null object\n",
      "SexuponOutcome    26728 non-null object\n",
      "AgeuponOutcome    26711 non-null object\n",
      "Breed             26729 non-null object\n",
      "Color             26729 non-null object\n",
      "dtypes: object(10)\n",
      "memory usage: 2.2+ MB\n",
      "None \n",
      "\n",
      "\n",
      "Number of nulls in the data set: \n",
      "AnimalID              0\n",
      "Name               7691\n",
      "DateTime              0\n",
      "OutcomeType           0\n",
      "OutcomeSubtype    13612\n",
      "AnimalType            0\n",
      "SexuponOutcome        1\n",
      "AgeuponOutcome       18\n",
      "Breed                 0\n",
      "Color                 0\n",
      "dtype: int64 \n",
      "\n",
      "\n",
      "\\Data Descriptions: Counts, Frequency\n"
     ]
    },
    {
     "data": {
      "text/html": [
       "<div>\n",
       "<table border=\"1\" class=\"dataframe\">\n",
       "  <thead>\n",
       "    <tr style=\"text-align: right;\">\n",
       "      <th></th>\n",
       "      <th>AnimalID</th>\n",
       "      <th>Name</th>\n",
       "      <th>DateTime</th>\n",
       "      <th>OutcomeType</th>\n",
       "      <th>OutcomeSubtype</th>\n",
       "      <th>AnimalType</th>\n",
       "      <th>SexuponOutcome</th>\n",
       "      <th>AgeuponOutcome</th>\n",
       "      <th>Breed</th>\n",
       "      <th>Color</th>\n",
       "    </tr>\n",
       "  </thead>\n",
       "  <tbody>\n",
       "    <tr>\n",
       "      <th>count</th>\n",
       "      <td>26729</td>\n",
       "      <td>19038</td>\n",
       "      <td>26729</td>\n",
       "      <td>26729</td>\n",
       "      <td>13117</td>\n",
       "      <td>26729</td>\n",
       "      <td>26728</td>\n",
       "      <td>26711</td>\n",
       "      <td>26729</td>\n",
       "      <td>26729</td>\n",
       "    </tr>\n",
       "    <tr>\n",
       "      <th>unique</th>\n",
       "      <td>26729</td>\n",
       "      <td>6374</td>\n",
       "      <td>22918</td>\n",
       "      <td>5</td>\n",
       "      <td>16</td>\n",
       "      <td>2</td>\n",
       "      <td>5</td>\n",
       "      <td>44</td>\n",
       "      <td>1380</td>\n",
       "      <td>366</td>\n",
       "    </tr>\n",
       "    <tr>\n",
       "      <th>top</th>\n",
       "      <td>A705677</td>\n",
       "      <td>Max</td>\n",
       "      <td>2015-08-11 00:00:00</td>\n",
       "      <td>Adoption</td>\n",
       "      <td>Partner</td>\n",
       "      <td>Dog</td>\n",
       "      <td>Neutered Male</td>\n",
       "      <td>1 year</td>\n",
       "      <td>Domestic Shorthair Mix</td>\n",
       "      <td>Black/White</td>\n",
       "    </tr>\n",
       "    <tr>\n",
       "      <th>freq</th>\n",
       "      <td>1</td>\n",
       "      <td>136</td>\n",
       "      <td>19</td>\n",
       "      <td>10769</td>\n",
       "      <td>7816</td>\n",
       "      <td>15595</td>\n",
       "      <td>9779</td>\n",
       "      <td>3969</td>\n",
       "      <td>8810</td>\n",
       "      <td>2824</td>\n",
       "    </tr>\n",
       "  </tbody>\n",
       "</table>\n",
       "</div>"
      ],
      "text/plain": [
       "       AnimalID   Name             DateTime OutcomeType OutcomeSubtype  \\\n",
       "count     26729  19038                26729       26729          13117   \n",
       "unique    26729   6374                22918           5             16   \n",
       "top     A705677    Max  2015-08-11 00:00:00    Adoption        Partner   \n",
       "freq          1    136                   19       10769           7816   \n",
       "\n",
       "       AnimalType SexuponOutcome AgeuponOutcome                   Breed  \\\n",
       "count       26729          26728          26711                   26729   \n",
       "unique          2              5             44                    1380   \n",
       "top           Dog  Neutered Male         1 year  Domestic Shorthair Mix   \n",
       "freq        15595           9779           3969                    8810   \n",
       "\n",
       "              Color  \n",
       "count         26729  \n",
       "unique          366  \n",
       "top     Black/White  \n",
       "freq           2824  "
      ]
     },
     "execution_count": 260,
     "metadata": {},
     "output_type": "execute_result"
    }
   ],
   "source": [
    "print 'Data types and counts:\\n\\n', df.info(), '\\n\\n'\n",
    "print 'Number of nulls in the data set: \\n', df.isnull().sum(),'\\n\\n'\n",
    "print '\\Data Descriptions: Counts, Frequency'\n",
    "\n",
    "df.describe()"
   ]
  },
  {
   "cell_type": "markdown",
   "metadata": {},
   "source": [
    "\n",
    "Based upon the information retrieved from the DataFrame, we are dealing with roughly 27 thousand records in the training set. We are only interested in the \"OutcomeType\" as our y (classifier) data. Outcome subtype is a sparse drill down on the Outcome type with sub-codes which are not explained thoroughly. Therefore, we recommend dropping this value as it is aub-variable of the outcome variable we are interested with roughly 50% valid values.\n",
    "\n",
    "The good news is: 40% of animals are being adopted, most of which are neutered male dogs about a year old. \n",
    "\n",
    "In regard to new feature creation, we observe multiple opportunities. For instance, it will be interesting to see if having a name affects outcome and if the type of breed is aggressive (has a \"reputation\"). We can also see converting the AgeuponOutcome being valuable. \n",
    "\n",
    "However, before we create or transform features, let's clean up the data a bit more. There are a few nulls in our dataset. Of concern are the nulls in AgeuponOutcome and SexuponOutcome, in which there are 18 and 1 null values, respectively. This is not a large concern given the size of our dataset and what looks to be good quality data overall. However, we will attempt to keep the age nulls in the dataset. Losing one object in the dataset due a null in SexuponOutcome is not a concern. Because we care about whether or not a pet is named, the nulls in Name are not a concern. Further, OutcomeSubtype is simply a click down of OutcomeType, which is our classifier, and is quite sparse. We are dropping OutcomeSubtype, we are not concerned with the nulls.\n"
   ]
  },
  {
   "cell_type": "code",
   "execution_count": 261,
   "metadata": {
    "collapsed": false
   },
   "outputs": [],
   "source": [
    "del df['OutcomeSubtype'], df['AnimalID'] # drop extraneous data  columns\n",
    "df = df.dropna(subset=['SexuponOutcome']) # drop the one nan row in the sex column. Not a large impact to analysis.\n",
    "df = df.reset_index() # reset index to ensure further operations are executed correctly"
   ]
  },
  {
   "cell_type": "markdown",
   "metadata": {},
   "source": [
    "Categorical Filling Strategy:\n",
    "Fill the nulls with top 3 categories in a column vector randomly for age and sex.\n",
    "Outside of the nulls, there is a string for age: \"0 years\" with 22 instances. This provides about \"0\" value. We will also fill \"unknowns\" in the sex column vector with the same logic. We will fill these columns by iterating over and randomly choosing one value of the top 3 values instead of assigning an arbitrary value. We believe this is relevant because the top 3 categories are spread relatively similarly, with roughly similar percentages of each column vector."
   ]
  },
  {
   "cell_type": "code",
   "execution_count": 262,
   "metadata": {
    "collapsed": false
   },
   "outputs": [
    {
     "name": "stdout",
     "output_type": "stream",
     "text": [
      "Number of unique, non nan ages: 44\n"
     ]
    }
   ],
   "source": [
    "from collections import Counter\n",
    "from random import randint\n",
    "\n",
    "print 'Number of unique, non nan ages:', len(np.unique(df.AgeuponOutcome[~pd.isnull(df['AgeuponOutcome'])])) \n",
    "\n",
    "randChooser = []\n",
    "for i in ['AgeuponOutcome', 'SexuponOutcome']:\n",
    "    randChooser.append(Counter(df[i].values).most_common(3)) # get the 3 most common categories\n",
    "\n",
    "df['AgeuponOutcome'] = [randChooser[0][randint(0,2)][0] # randomly pick one of the three categories and replace null\n",
    "                        if pd.isnull(i) or i.lower() == '0 years' else i for i in df['AgeuponOutcome'].values]\n",
    " \n",
    "df['SexuponOutcome'] = [randChooser[1][randint(0,2)][0]\\\n",
    "                        if i.lower() == 'unknown' else i for i in df['SexuponOutcome'].values]"
   ]
  },
  {
   "cell_type": "raw",
   "metadata": {},
   "source": [
    "Now that we have taken care of the dataset's important integrity issues, it's time to slice it up. First, let's take a look at a few instances and drop the old index."
   ]
  },
  {
   "cell_type": "code",
   "execution_count": 263,
   "metadata": {
    "collapsed": false
   },
   "outputs": [
    {
     "name": "stdout",
     "output_type": "stream",
     "text": [
      "Number of nulls in the data set: \n",
      "Name              7691\n",
      "DateTime             0\n",
      "OutcomeType          0\n",
      "AnimalType           0\n",
      "SexuponOutcome       0\n",
      "AgeuponOutcome       0\n",
      "Breed                0\n",
      "Color                0\n",
      "dtype: int64 \n",
      "\n"
     ]
    },
    {
     "data": {
      "text/html": [
       "<div>\n",
       "<table border=\"1\" class=\"dataframe\">\n",
       "  <thead>\n",
       "    <tr style=\"text-align: right;\">\n",
       "      <th></th>\n",
       "      <th>Name</th>\n",
       "      <th>DateTime</th>\n",
       "      <th>OutcomeType</th>\n",
       "      <th>AnimalType</th>\n",
       "      <th>SexuponOutcome</th>\n",
       "      <th>AgeuponOutcome</th>\n",
       "      <th>Breed</th>\n",
       "      <th>Color</th>\n",
       "    </tr>\n",
       "  </thead>\n",
       "  <tbody>\n",
       "    <tr>\n",
       "      <th>0</th>\n",
       "      <td>Hambone</td>\n",
       "      <td>2014-02-12 18:22:00</td>\n",
       "      <td>Return_to_owner</td>\n",
       "      <td>Dog</td>\n",
       "      <td>Neutered Male</td>\n",
       "      <td>1 year</td>\n",
       "      <td>Shetland Sheepdog Mix</td>\n",
       "      <td>Brown/White</td>\n",
       "    </tr>\n",
       "    <tr>\n",
       "      <th>1</th>\n",
       "      <td>Emily</td>\n",
       "      <td>2013-10-13 12:44:00</td>\n",
       "      <td>Euthanasia</td>\n",
       "      <td>Cat</td>\n",
       "      <td>Spayed Female</td>\n",
       "      <td>1 year</td>\n",
       "      <td>Domestic Shorthair Mix</td>\n",
       "      <td>Cream Tabby</td>\n",
       "    </tr>\n",
       "    <tr>\n",
       "      <th>2</th>\n",
       "      <td>Pearce</td>\n",
       "      <td>2015-01-31 12:28:00</td>\n",
       "      <td>Adoption</td>\n",
       "      <td>Dog</td>\n",
       "      <td>Neutered Male</td>\n",
       "      <td>2 years</td>\n",
       "      <td>Pit Bull Mix</td>\n",
       "      <td>Blue/White</td>\n",
       "    </tr>\n",
       "    <tr>\n",
       "      <th>3</th>\n",
       "      <td>NaN</td>\n",
       "      <td>2014-07-11 19:09:00</td>\n",
       "      <td>Transfer</td>\n",
       "      <td>Cat</td>\n",
       "      <td>Intact Male</td>\n",
       "      <td>3 weeks</td>\n",
       "      <td>Domestic Shorthair Mix</td>\n",
       "      <td>Blue Cream</td>\n",
       "    </tr>\n",
       "    <tr>\n",
       "      <th>4</th>\n",
       "      <td>NaN</td>\n",
       "      <td>2013-11-15 12:52:00</td>\n",
       "      <td>Transfer</td>\n",
       "      <td>Dog</td>\n",
       "      <td>Neutered Male</td>\n",
       "      <td>2 years</td>\n",
       "      <td>Lhasa Apso/Miniature Poodle</td>\n",
       "      <td>Tan</td>\n",
       "    </tr>\n",
       "  </tbody>\n",
       "</table>\n",
       "</div>"
      ],
      "text/plain": [
       "      Name             DateTime      OutcomeType AnimalType SexuponOutcome  \\\n",
       "0  Hambone  2014-02-12 18:22:00  Return_to_owner        Dog  Neutered Male   \n",
       "1    Emily  2013-10-13 12:44:00       Euthanasia        Cat  Spayed Female   \n",
       "2   Pearce  2015-01-31 12:28:00         Adoption        Dog  Neutered Male   \n",
       "3      NaN  2014-07-11 19:09:00         Transfer        Cat    Intact Male   \n",
       "4      NaN  2013-11-15 12:52:00         Transfer        Dog  Neutered Male   \n",
       "\n",
       "  AgeuponOutcome                        Breed        Color  \n",
       "0         1 year        Shetland Sheepdog Mix  Brown/White  \n",
       "1         1 year       Domestic Shorthair Mix  Cream Tabby  \n",
       "2        2 years                 Pit Bull Mix   Blue/White  \n",
       "3        3 weeks       Domestic Shorthair Mix   Blue Cream  \n",
       "4        2 years  Lhasa Apso/Miniature Poodle          Tan  "
      ]
     },
     "execution_count": 263,
     "metadata": {},
     "output_type": "execute_result"
    }
   ],
   "source": [
    "del df['index']\n",
    "print 'Number of nulls in the data set: \\n', df.isnull().sum(),'\\n'\n",
    "df.head()"
   ]
  },
  {
   "cell_type": "markdown",
   "metadata": {},
   "source": [
    "## Data Creation and Transformation"
   ]
  },
  {
   "cell_type": "markdown",
   "metadata": {},
   "source": [
    "\n",
    "All columns outside of the name column are now non-null.\n",
    "\n",
    "Let's create some useful variables in our data set. It would be interesting to investigate whether or not a potential adoptee having a name has an effect on their outcome.\n",
    "\n",
    "The gender and what we will call \"is_intact\" (whether an animal is intact (not fixed)) are also interesting variables to investigate.\n",
    "\n",
    "Further, it would be better to represent age as a continuous ratio variable. We will transform age into day and check it's distribution for normality.\n"
   ]
  },
  {
   "cell_type": "code",
   "execution_count": 264,
   "metadata": {
    "collapsed": false
   },
   "outputs": [
    {
     "name": "stdout",
     "output_type": "stream",
     "text": [
      "There are 6375 unique names in the data set\n"
     ]
    }
   ],
   "source": [
    "print 'There are %d unique names in the data set' % len(np.unique(df['Name'].values))\n",
    "\n",
    "# 6375 unique names. That is quite a few names. Let's generalize into a binary feature called has_name instead:\n",
    "\n",
    "df['has_name'] = [0 if pd.isnull(i) else 1 for i in df['Name']]\n",
    "\n",
    "# Further, let's split out the intactness of an animal: whether or not the animal has been spayed or neutered\n",
    "# as well as the gender:\n",
    "\n",
    "df['is_intact'] = ['Fixed' if i.split()[0] in ['Spayed','Neutered'] else 'Intact' for i in df['SexuponOutcome']] \n",
    "df['gender'] = [i.split()[1] for i in df['SexuponOutcome']] \n",
    "\n",
    "# we will also convert ageuponoutcome into days:\n",
    "ageMap = {'year': 365, \n",
    "          'week': 7, \n",
    "          'month': 30,\n",
    "          'day': 1} \n",
    "\n",
    "df['AgeValue'] = [i.rstrip('s').split() for i in df['AgeuponOutcome'].values] # clean text to keep mapping simple\n",
    "\n",
    "for idx, val in enumerate(df['AgeValue'].values):\n",
    "    for k,v in ageMap.items():\n",
    "        if val[1].lower() == k:\n",
    "            df.set_value(idx, 'AgeValue',int(val[0]) * v)"
   ]
  },
  {
   "cell_type": "markdown",
   "metadata": {},
   "source": [
    "\n",
    "Let us also identify potentially 'aggressive' breeds using a bit of regex and top 10 aggressive breeds list: \n",
    "http://www.therichest.com/rich-list/the-biggest/the-worlds-10-most-dangerous-dog-breeds/?view=all\n"
   ]
  },
  {
   "cell_type": "code",
   "execution_count": 265,
   "metadata": {
    "collapsed": false
   },
   "outputs": [],
   "source": [
    "import re\n",
    "\n",
    "agg_breeds = ['Bull','Doberman','Rottweiler','Husky','German','Boxer','Malamute','Dane']\n",
    "\n",
    "df['is_aggressive'] = [re.split('\\W+',i) for i in df['Breed']]\n",
    "\n",
    "for idx, i in enumerate(df['is_aggressive'].values):\n",
    "    if len(agg_breeds) != len(set(agg_breeds).difference(i)):\n",
    "        df.set_value(idx, 'is_aggressive', 1)\n",
    "    else:\n",
    "        df.set_value(idx, 'is_aggressive', 0)      "
   ]
  },
  {
   "cell_type": "markdown",
   "metadata": {},
   "source": [
    "Let's also grab the primary color using same regex approach and reduce the number of categories in color"
   ]
  },
  {
   "cell_type": "code",
   "execution_count": 266,
   "metadata": {
    "collapsed": false
   },
   "outputs": [],
   "source": [
    "colorMap = {'exotic':['Agouti','Calico','Lynx','Tricolor','Tortie','Flame','Torbie'], # these are some odd colors...\n",
    "            'dark':['Black','Chocolate','Liver','Sable','Seal','Red'],\n",
    "            'neutral':['Gray','Silver','Tan','Buff','Brown','Fawn'],\n",
    "            'light':['Cream','Blue','Pink','White','Yellow','Lilac','Ruddy','Apricot','Orange','Gold']}\n",
    "\n",
    "df['primary_color'] = [re.split('\\W+',i)[0] for i in df['Color']]\n",
    "\n",
    "for idx, color in enumerate(df['primary_color'].values):\n",
    "    for k,v in colorMap.items():\n",
    "        if color in v:\n",
    "            df.set_value(idx,'primary_color', k)"
   ]
  },
  {
   "cell_type": "markdown",
   "metadata": {},
   "source": [
    "One other critical attribute we are missing is animal size. We assume the size of an animal is extremely important, especially when it comes to adopting dogs. Therefore, we have retrieved the American Kennel Club's (http://www.akc.org/dog-breeds/) listing of breeds and associated sizes. Because there are so few toy breeds listed, we combined toy and small into \"small.\" For breeds that were not represented in AKC's list (there were about 20), each  was mapped to size buckets based on the following logic: Small (avg weight <= 20 lbs ), Medium (<= 65 lbs), Large (<= 100 lbs), Giant (> 100 lbs). All cats were mapped to \"small.\" We expect the size feature to be more relevant for dogs, and we expect it to be significant. We've also added in an indicator for the top 10 most popular dogs."
   ]
  },
  {
   "cell_type": "code",
   "execution_count": 267,
   "metadata": {
    "collapsed": false,
    "scrolled": true
   },
   "outputs": [],
   "source": [
    "# set primary breed as the lookup\n",
    "df['BreedLU'] = [i.rstrip('Mix').split('/')[0].strip() for i in df['Breed']] \n",
    "\n",
    "# zip up breed and size into a dict\n",
    "sizeMapper = dict(zip(breedMap['Breed'], breedMap['Size'])) \n",
    "\n",
    "# map it, I love Pandas\n",
    "df['size'] = df['BreedLU'].map(sizeMapper) \n",
    "df['size'] = np.where(df['AnimalType'].values == 'Cat', 'Small', df['size']) # set cats to small (unless Garfield)\n",
    "del df['BreedLU'] # drop the lookup vector"
   ]
  },
  {
   "cell_type": "code",
   "execution_count": 268,
   "metadata": {
    "collapsed": false
   },
   "outputs": [],
   "source": [
    "# Source: http://www.petinsurance.com/healthzone/pet-articles/pet-breeds/Top-10-Dog-Breeds.aspx\n",
    "topBreeds = ['Boxer', 'Rottweiler', 'Poodle', 'Yorkshire Terrier',\n",
    "                'French Bulldog', 'Beagle', 'Bulldog',\n",
    "                'Golden Retriever', 'German Shepherd', 'Labrador Retriever']\n",
    "\n",
    "topBreedList = []\n",
    "for i in df['Breed']:\n",
    "    matched = False\n",
    "    for topBreed in topBreeds:\n",
    "        if topBreed in i:\n",
    "            topBreedList.append(1)\n",
    "            matched = True\n",
    "            break\n",
    "    if not matched:\n",
    "        topBreedList.append(0)       \n",
    "\n",
    "df['is_popular'] = topBreedList"
   ]
  },
  {
   "cell_type": "markdown",
   "metadata": {},
   "source": [
    "Now that we've transformed our dataset. Let's drop a few extraneous columns such as SexUponOutcome, since it is now split between is_intact and gender."
   ]
  },
  {
   "cell_type": "markdown",
   "metadata": {},
   "source": [
    "## Variable Investigation And Single Variable Data Visualization"
   ]
  },
  {
   "cell_type": "markdown",
   "metadata": {},
   "source": [
    "First, let's convert categorical features to objects and make column names a little easier to follow:"
   ]
  },
  {
   "cell_type": "code",
   "execution_count": 269,
   "metadata": {
    "collapsed": false
   },
   "outputs": [
    {
     "data": {
      "text/html": [
       "<div>\n",
       "<table border=\"1\" class=\"dataframe\">\n",
       "  <thead>\n",
       "    <tr style=\"text-align: right;\">\n",
       "      <th></th>\n",
       "      <th>Type</th>\n",
       "      <th>Breed</th>\n",
       "      <th>Is_Intact</th>\n",
       "      <th>Gender</th>\n",
       "      <th>Is_Aggressive</th>\n",
       "      <th>Primary_Color</th>\n",
       "      <th>Size</th>\n",
       "      <th>Has_Name</th>\n",
       "      <th>Outcome</th>\n",
       "      <th>Is_Popular</th>\n",
       "    </tr>\n",
       "  </thead>\n",
       "  <tbody>\n",
       "    <tr>\n",
       "      <th>count</th>\n",
       "      <td>26728</td>\n",
       "      <td>26728</td>\n",
       "      <td>26728</td>\n",
       "      <td>26728</td>\n",
       "      <td>26728</td>\n",
       "      <td>26728</td>\n",
       "      <td>26727</td>\n",
       "      <td>26728</td>\n",
       "      <td>26728</td>\n",
       "      <td>26728</td>\n",
       "    </tr>\n",
       "    <tr>\n",
       "      <th>unique</th>\n",
       "      <td>2</td>\n",
       "      <td>1380</td>\n",
       "      <td>2</td>\n",
       "      <td>2</td>\n",
       "      <td>2</td>\n",
       "      <td>4</td>\n",
       "      <td>4</td>\n",
       "      <td>2</td>\n",
       "      <td>5</td>\n",
       "      <td>2</td>\n",
       "    </tr>\n",
       "    <tr>\n",
       "      <th>top</th>\n",
       "      <td>Dog</td>\n",
       "      <td>Domestic Shorthair Mix</td>\n",
       "      <td>Fixed</td>\n",
       "      <td>Male</td>\n",
       "      <td>0</td>\n",
       "      <td>dark</td>\n",
       "      <td>Small</td>\n",
       "      <td>1</td>\n",
       "      <td>Adoption</td>\n",
       "      <td>0</td>\n",
       "    </tr>\n",
       "    <tr>\n",
       "      <th>freq</th>\n",
       "      <td>15594</td>\n",
       "      <td>8810</td>\n",
       "      <td>19321</td>\n",
       "      <td>14047</td>\n",
       "      <td>22372</td>\n",
       "      <td>8487</td>\n",
       "      <td>17156</td>\n",
       "      <td>19037</td>\n",
       "      <td>10769</td>\n",
       "      <td>21702</td>\n",
       "    </tr>\n",
       "  </tbody>\n",
       "</table>\n",
       "</div>"
      ],
      "text/plain": [
       "         Type                   Breed Is_Intact Gender  Is_Aggressive  \\\n",
       "count   26728                   26728     26728  26728          26728   \n",
       "unique      2                    1380         2      2              2   \n",
       "top       Dog  Domestic Shorthair Mix     Fixed   Male              0   \n",
       "freq    15594                    8810     19321  14047          22372   \n",
       "\n",
       "       Primary_Color   Size  Has_Name   Outcome  Is_Popular  \n",
       "count          26728  26727     26728     26728       26728  \n",
       "unique             4      4         2         5           2  \n",
       "top             dark  Small         1  Adoption           0  \n",
       "freq            8487  17156     19037     10769       21702  "
      ]
     },
     "execution_count": 269,
     "metadata": {},
     "output_type": "execute_result"
    }
   ],
   "source": [
    "df.columns = ['Name','DateTime','Outcome','Type','SexuponOutcome','AgeuponOutcome','Breed','Color','Has_Name',\n",
    "              'Is_Intact','Gender','Age_Value','Is_Aggressive','Primary_Color','Size', 'Is_Popular']\n",
    "\n",
    "categ = ['Type','Breed','Is_Intact','Gender','Is_Aggressive', 'Primary_Color', 'Size','Has_Name',\n",
    "         'Outcome','Is_Popular']\n",
    "df[categ] = df[categ].astype(np.object)\n",
    "df[categ].describe()"
   ]
  },
  {
   "cell_type": "markdown",
   "metadata": {},
   "source": [
    "The data is starting to tell more of a story with our transformed dataset. There are no longer nulls and it looks as if mostly small dogs with names make up a good portion the data set. Nearly 70% of animals in our dataset are fixed. Interestingly, domestic shorthair mixes dominate the data set from a breed perspective, which have 1380 unique values. This may be a \"catch all\" breed used to identify dogs the shelter had trouble identifying and may be a future issue from a classification standpoint.\n",
    "\n",
    "We also transformed the age variable into a continuous feature. Let's ensure it has a valid data type and quickly take a look at its distribution and some other key statistics."
   ]
  },
  {
   "cell_type": "code",
   "execution_count": 270,
   "metadata": {
    "collapsed": false
   },
   "outputs": [
    {
     "data": {
      "text/html": [
       "<div>\n",
       "<table border=\"1\" class=\"dataframe\">\n",
       "  <thead>\n",
       "    <tr style=\"text-align: right;\">\n",
       "      <th></th>\n",
       "      <th>Age_Value</th>\n",
       "      <th>logAge</th>\n",
       "      <th>sqrtAge</th>\n",
       "    </tr>\n",
       "  </thead>\n",
       "  <tbody>\n",
       "    <tr>\n",
       "      <th>count</th>\n",
       "      <td>26728.000000</td>\n",
       "      <td>26728.000000</td>\n",
       "      <td>26728.000000</td>\n",
       "    </tr>\n",
       "    <tr>\n",
       "      <th>mean</th>\n",
       "      <td>794.121408</td>\n",
       "      <td>5.648642</td>\n",
       "      <td>22.751650</td>\n",
       "    </tr>\n",
       "    <tr>\n",
       "      <th>std</th>\n",
       "      <td>1082.358908</td>\n",
       "      <td>1.662473</td>\n",
       "      <td>16.628114</td>\n",
       "    </tr>\n",
       "    <tr>\n",
       "      <th>min</th>\n",
       "      <td>1.000000</td>\n",
       "      <td>0.000000</td>\n",
       "      <td>1.000000</td>\n",
       "    </tr>\n",
       "    <tr>\n",
       "      <th>25%</th>\n",
       "      <td>60.000000</td>\n",
       "      <td>4.094345</td>\n",
       "      <td>7.745967</td>\n",
       "    </tr>\n",
       "    <tr>\n",
       "      <th>50%</th>\n",
       "      <td>365.000000</td>\n",
       "      <td>5.899897</td>\n",
       "      <td>19.104973</td>\n",
       "    </tr>\n",
       "    <tr>\n",
       "      <th>75%</th>\n",
       "      <td>1095.000000</td>\n",
       "      <td>6.998510</td>\n",
       "      <td>33.090784</td>\n",
       "    </tr>\n",
       "    <tr>\n",
       "      <th>max</th>\n",
       "      <td>7300.000000</td>\n",
       "      <td>8.895630</td>\n",
       "      <td>85.440037</td>\n",
       "    </tr>\n",
       "  </tbody>\n",
       "</table>\n",
       "</div>"
      ],
      "text/plain": [
       "          Age_Value        logAge       sqrtAge\n",
       "count  26728.000000  26728.000000  26728.000000\n",
       "mean     794.121408      5.648642     22.751650\n",
       "std     1082.358908      1.662473     16.628114\n",
       "min        1.000000      0.000000      1.000000\n",
       "25%       60.000000      4.094345      7.745967\n",
       "50%      365.000000      5.899897     19.104973\n",
       "75%     1095.000000      6.998510     33.090784\n",
       "max     7300.000000      8.895630     85.440037"
      ]
     },
     "execution_count": 270,
     "metadata": {},
     "output_type": "execute_result"
    }
   ],
   "source": [
    "df['Age_Value'] = df['Age_Value'].astype(float)\n",
    "df['logAge'] = np.log(df['Age_Value']).astype(float)\n",
    "df['sqrtAge'] = np.sqrt(df['Age_Value']).astype(float)\n",
    "df[['Age_Value','logAge','sqrtAge']].describe()"
   ]
  },
  {
   "cell_type": "markdown",
   "metadata": {},
   "source": [
    "On average, animals are about two years old when adopted. Based simply on the range, age needs to be transformed if we are to use it as a continuous variable. Some animals are one day old upon outcome, while some are as old as 7300 days (20 years!). We will attempt two common methods: the natural log and square root transforms. We will use these transformations for ease of explanation to the business when back transforming and ensuring a more normal distribution for use in classification algorithms. \n",
    "\n",
    "Because age was technically a many-leveled categorical variable transformed to a continuous variable, we expect to see a stepped distribution. Because of this we will likely run algorithms with both the continuous and categorical versions of age.\n",
    "\n",
    "First lets look at the original distribution of age, the log age and sqrt of age in violin plots:"
   ]
  },
  {
   "cell_type": "code",
   "execution_count": 271,
   "metadata": {
    "collapsed": false,
    "scrolled": true
   },
   "outputs": [
    {
     "data": {
      "image/png": "[encoded data removed]",
      "text/plain": [
       "<matplotlib.figure.Figure at 0x11f7eb8d0>"
      ]
     },
     "metadata": {},
     "output_type": "display_data"
    },
    {
     "data": {
      "image/png": "[encoded data removed]",
      "text/plain": [
       "<matplotlib.figure.Figure at 0x11f7eb3d0>"
      ]
     },
     "metadata": {},
     "output_type": "display_data"
    }
   ],
   "source": [
    "from random import random\n",
    "c = ['firebrick','lightgreen','lightblue']\n",
    "atts = ['Age_Value','logAge','sqrtAge']\n",
    "\n",
    "for i in range(2):\n",
    "    plt.figure(figsize=(20,15))\n",
    "    for index, plots in enumerate(atts):\n",
    "        plt.subplot(5, 4, index + 1) # plot them all on one row\n",
    "        if i == 0:\n",
    "            sns.violinplot(y = plots, data= df, color = c[index])\n",
    "        else: sns.distplot(df[plots])\n",
    "plt.show()"
   ]
  },
  {
   "cell_type": "markdown",
   "metadata": {},
   "source": [
    "Violin plots allow us to account for multi-modality while also giving us standard box plot information. These charts plot kernel density estimates on each side of the box plot. As we can see above, our data is very much multi modal.  We also plot histograms and overlayed KDEs and end up with the same outcome. Let's also look at EDFs and normality tests to confirm a lack of age normality:"
   ]
  },
  {
   "cell_type": "code",
   "execution_count": 272,
   "metadata": {
    "collapsed": false
   },
   "outputs": [
    {
     "data": {
      "image/png": "[encoded data removed]",
      "text/plain": [
       "<matplotlib.figure.Figure at 0x11e577190>"
      ]
     },
     "metadata": {},
     "output_type": "display_data"
    }
   ],
   "source": [
    "plt.figure(figsize=(20,10))\n",
    "for index, feature in enumerate(['Age_Value','logAge','sqrtAge']):\n",
    "    plt.subplot(3, 3 , index + 1)\n",
    "    x_ax = np.sort(df[feature]) # sort the feature ascending\n",
    "    y_ax = np.cumsum(x_ax) # take cumulative sum, this creates an array of each observation adding to total sum\n",
    "    y_ax = y_ax / np.max(y_ax) # get each observation's percentage of total sum of attribute\n",
    "    plt.plot(x_ax,y_ax) # plot it\n",
    "    plt.title(feature) # give it a title\n",
    "    \n",
    "plt.show()\n",
    "\n",
    "# It's pretty apparent age is not normally distributed and the transforms dont do much to help us."
   ]
  },
  {
   "cell_type": "code",
   "execution_count": 273,
   "metadata": {
    "collapsed": false
   },
   "outputs": [
    {
     "name": "stdout",
     "output_type": "stream",
     "text": [
      "Age_Value  chi-square: 11282.0 \tp-value: 0.00\n",
      "logAge     chi-square: 916.0 \tp-value: 0.00\n",
      "sqrtAge    chi-square: 3269.0 \tp-value: 0.00\n"
     ]
    }
   ],
   "source": [
    "from scipy.stats import normaltest\n",
    "vars = ['Age_Value','logAge','sqrtAge']\n",
    "for i in vars:\n",
    "    print i.ljust(10), 'chi-square:', round(normaltest(df[i])[0]), '\\tp-value: {:.2f}'.format(normaltest(df[i])[1])"
   ]
  },
  {
   "cell_type": "markdown",
   "metadata": {},
   "source": [
    "As shown above, the numerically converted Age is right skewed with a median value of about 365 days. This skewness is attributed to the younger ages of adopted animals. Empirical distribution functions show our data in a more quantitative fashion: showing probabilities of of obtaining values on the y axis and the value range itself on the x-axis. For instance, there is roughly an 85% chance of finding an age less than 4000 days in our dataset. We are looking for a relatively smooth upward curve that is not skewed severely \n",
    "\n",
    "Transforming the feature Age into a log representation and sqrt representation doesn't provide gaussian distributions, confirmed by EDF plots and D'Agostino's normal test. Depending on the classification algorithm used, we will likely need to utilize a categorical variable with levels for Age. "
   ]
  },
  {
   "cell_type": "code",
   "execution_count": 274,
   "metadata": {
    "collapsed": false
   },
   "outputs": [],
   "source": [
    "# let's convert age to an age range, if an animal is a year or less: young, up to 8 years: adult, 8+ years: senior\n",
    "df['age_range'] = pd.cut(df.Age_Value/365,[0, 1, 8, 1e6],3, labels=['young', 'adult', 'senior'])\n",
    "del df['logAge']\n",
    "del df['sqrtAge']"
   ]
  },
  {
   "cell_type": "markdown",
   "metadata": {},
   "source": [
    "Now that we've thoroughly analyzed and visualized age, we will move on to categorical variables. The rest of our dataset is primarily categorical (both nominal and ordinal variables). Visualizations of counts will be the priority. Of interest in particular are the variables we spent a significant amount of time creating, such as size and aggressive breeds.\n",
    "\n",
    "To be thorough let's go ahead and plot percentage bars and investigate counts, which is common for individual categorical variables:"
   ]
  },
  {
   "cell_type": "code",
   "execution_count": 275,
   "metadata": {
    "collapsed": false
   },
   "outputs": [
    {
     "data": {
      "image/png": "[encoded data removed]",
      "text/plain": [
       "<matplotlib.figure.Figure at 0x1176a86d0>"
      ]
     },
     "metadata": {},
     "output_type": "display_data"
    }
   ],
   "source": [
    "import matplotlib\n",
    "\n",
    "features = ['Has_Name','Is_Intact','Gender','Size','Is_Aggressive','Primary_Color', 'Is_Popular','Outcome','age_range']\n",
    "\n",
    "plt.figure(figsize=(30,18))\n",
    "for index, feature in enumerate(features):\n",
    "    plt.subplot(3, 4, index +1)\n",
    "    groups = df.groupby(feature)['Outcome'].count()/len(df)\n",
    "    ax = groups.plot(kind = 'bar', color =['tomato','lightblue','lightgreen','gray','orchid'], fontsize=14)"
   ]
  },
  {
   "cell_type": "code",
   "execution_count": 276,
   "metadata": {
    "collapsed": false
   },
   "outputs": [
    {
     "data": {
      "text/plain": [
       "<matplotlib.axes._subplots.AxesSubplot at 0x126457c10>"
      ]
     },
     "execution_count": 276,
     "metadata": {},
     "output_type": "execute_result"
    },
    {
     "data": {
      "image/png": "[encoded data removed]",
      "text/plain": [
       "<matplotlib.figure.Figure at 0x11e5821d0>"
      ]
     },
     "metadata": {},
     "output_type": "display_data"
    }
   ],
   "source": [
    "df.Type.value_counts().plot(kind='pie', autopct='%1d%%', colors = ['g', 'c'])"
   ]
  },
  {
   "cell_type": "markdown",
   "metadata": {},
   "source": [
    "Some interesting discoveries come out of simple percentages: for instance, most animals being adopted are small. This is likely because cats are also categorized into the small category -- we will explore animal type crosstabs more thoroughly. Most critically, adoption rates show promise: 40 percent of all animals are adopted. Our business partners are looking to increase this number. Further, given Austin's policy of no euthanizations unless aggressive or sick, it's easy to see that most animals do indeed survive, however, most are transferred to other shelters. Transfers come with high cost for our business partners. This is likely a metric they'd like to reduce. The more an animal is passed through the system, the larger emotional detriment and the higher cost for the shelters in managing input/output as well as standard medical treatment, room and board and surgical operations. Further, it looks as though the most popular breeds are not present in the sample of shelter animals, which could be a bad sign for future adoptability.\n",
    "\n",
    "Based on these charts, we also likely can combine size into a three level factor feature by combining giant into large since it is about 2% of the dataset. Further, most animals are dark colored and fixed. Fixed animals make up almost 75% of the dataset while dark colored animals are 40% of the sample size.\n",
    "\n",
    "Further, there are more dogs than cats in our dataset. This is actually a surprise, given that stray cats are far more frequently encountered than stray dogs. "
   ]
  },
  {
   "cell_type": "markdown",
   "metadata": {},
   "source": [
    "## Feature Relationships, Correlative Analysis and Further Visualizations"
   ]
  },
  {
   "cell_type": "markdown",
   "metadata": {},
   "source": [
    "Visualizing relationships of categorical variables can be difficult in some instances. However, we're going to start with a mosaic plot (tree map) to show relative sizes of categorical variables and how they interact with one another. First, we are going to investigate the type of animal, split and sized by Is_Intact and Size"
   ]
  },
  {
   "cell_type": "code",
   "execution_count": 277,
   "metadata": {
    "collapsed": false
   },
   "outputs": [
    {
     "data": {
      "image/png": "[encoded data removed]",
      "text/plain": [
       "<matplotlib.figure.Figure at 0x126238b90>"
      ]
     },
     "metadata": {},
     "output_type": "display_data"
    },
    {
     "data": {
      "image/png": "[encoded data removed]",
      "text/plain": [
       "<matplotlib.figure.Figure at 0x11f06de50>"
      ]
     },
     "metadata": {},
     "output_type": "display_data"
    }
   ],
   "source": [
    "# mosaic plot for dogs on size and color\n",
    "from statsmodels.graphics.mosaicplot import mosaic\n",
    "for i in np.unique(df['Type']):\n",
    "    mosaic(df[df['Type'] == i], ['Is_Intact','age_range']),\n",
    "    plt.title(i+'s')\n",
    "    plt.show()"
   ]
  },
  {
   "cell_type": "markdown",
   "metadata": {},
   "source": [
    "We immediately see that most animals are fixed, which is something we could tell with univariate analysis. However, for both dogs and cats, we notice that younger animals in general have a higher rate of being intact. This is likely because the animals are new arrivals, however, our dataset does not contain temporal data in order to determine this effect. "
   ]
  },
  {
   "cell_type": "code",
   "execution_count": 278,
   "metadata": {
    "collapsed": false
   },
   "outputs": [
    {
     "name": "stdout",
     "output_type": "stream",
     "text": [
      "Is_Aggressive          False      True \n",
      "Size   age_range                       \n",
      "Giant  young       71.381579  28.618421\n",
      "       adult       53.355705  46.644295\n",
      "       senior      48.571429  51.428571\n",
      "Large  young       42.121849  57.878151\n",
      "       adult       33.395314  66.604686\n",
      "       senior      49.834983  50.165017\n",
      "Medium young       85.490932  14.509068\n",
      "       adult       83.436533  16.563467\n",
      "       senior      88.205128  11.794872\n",
      "Small  young       98.848292   1.151708\n",
      "       adult       99.392917   0.607083\n",
      "       senior     100.000000   0.000000\n"
     ]
    },
    {
     "data": {
      "text/plain": [
       "<matplotlib.legend.Legend at 0x124352a90>"
      ]
     },
     "execution_count": 278,
     "metadata": {},
     "output_type": "execute_result"
    },
    {
     "data": {
      "image/png": "[encoded data removed]",
      "text/plain": [
       "<matplotlib.figure.Figure at 0x120042c50>"
      ]
     },
     "metadata": {},
     "output_type": "display_data"
    }
   ],
   "source": [
    "dfdogs = df[df.Type == 'Dog']\n",
    "dogs = pd.crosstab([dfdogs['Size'], dfdogs['age_range']], dfdogs.Is_Aggressive.astype(bool))\n",
    "dogs_rate = dogs.div(dogs.sum(1).astype(float), axis=0)*100\n",
    "print dogs_rate\n",
    "dogs_rate.plot(kind='barh', stacked=True, color =['lightblue','orange'], legend=False)\n",
    "plt.title('Dogs: Size, Age and Aggressive Reptuation')\n",
    "plt.legend(bbox_to_anchor=(1.05, 1), loc=2, borderaxespad=0.)"
   ]
  },
  {
   "cell_type": "markdown",
   "metadata": {},
   "source": [
    "Here, we are looking at dog age ranges and aggressiveness. Some interesting trends are readily apparent: large, adult dogs tend to be more 'aggressive' breeds, even moreso than giant dogs. "
   ]
  },
  {
   "cell_type": "markdown",
   "metadata": {},
   "source": [
    "## Additional Work: Algorithmic Setup"
   ]
  },
  {
   "cell_type": "code",
   "execution_count": 280,
   "metadata": {
    "collapsed": false
   },
   "outputs": [],
   "source": [
    "#df2 = df\n",
    "\n",
    "sizeMap = {'Giant':4,'Large':3,'Medium':2,'Small':1}\n",
    "df['Size'] = df['Size'].map(sizeMap)\n",
    "\n",
    "df = df.join(pd.get_dummies(df['Primary_Color']))\n",
    "df = df.join(pd.get_dummies(df['Type']))\n",
    "\n",
    "classLabels = LabelEncoder()\n",
    "df['Outcome_Label'] = classLabels.fit_transform(df['Outcome']) \n"
   ]
  },
  {
   "cell_type": "code",
   "execution_count": null,
   "metadata": {
    "collapsed": true
   },
   "outputs": [],
   "source": [
    "# Cory aint ready...\n",
    "from sklearn.cluster import spectral_clustering\n",
    "graph = df[['Type','Age','Color','Has_Name','Intact','Gender','Is_Aggressive','Primary_Color','Size']]\n",
    "labels = spectral_clustering(graph, n_clusters=4, eigen_solver='arpack')"
   ]
  }
 ],
 "metadata": {
  "kernelspec": {
   "display_name": "Python 2",
   "language": "python",
   "name": "python2"
  },
  "language_info": {
   "codemirror_mode": {
    "name": "ipython",
    "version": 2
   },
   "file_extension": ".py",
   "mimetype": "text/x-python",
   "name": "python",
   "nbconvert_exporter": "python",
   "pygments_lexer": "ipython2",
   "version": "2.7.11"
  }
 },
 "nbformat": 4,
 "nbformat_minor": 0
}
