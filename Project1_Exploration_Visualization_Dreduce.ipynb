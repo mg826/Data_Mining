{
 "cells": [
  {
   "cell_type": "markdown",
   "metadata": {},
   "source": [
    "# Project 1: Data Exploration, Visualization and Dimensionality Reduction\n",
    "## Animal Shelter Outcomes: A Classification Problem\n",
    "#### Alex Matsunami, RJ Smith, Cory Nichols"
   ]
  },
  {
   "cell_type": "markdown",
   "metadata": {},
   "source": [
    "## Business Understanding"
   ]
  },
  {
   "cell_type": "markdown",
   "metadata": {},
   "source": [
    "\n",
    "Millions of animal companions end up in shelters each year in the United States. These animals may be stray, rescued from a difficult situation or given up by their previous families. Each year, roughly 40 percent of all dogs and cats in shelters are euthanized. \n",
    "\n",
    "Our dataset comes from the Austin Animal Center in Austin, Texas and is part of a Kaggle competition. Using this data, we hope to find trends or rule sets identifying the outcomes of animals in shelters. The findings would subsequently drive shelter practices, hopefully for more social good than business good. For instance, if spaying or neutering a dog or cat is highly suggestive of a favorable outcome for an animal, shelters should implement policies ensuring all animals are fixed prior to adoption. This practice may cost the shelter more money, but would improve the welfare of the animal population. Further, could something as simple as giving each an animal a name drive a more favorable outcome? This particular practice would cost nothing but time and in turn improve the welfare of the animal population in cities. Cost savings, however, could be gained from our analysis. For instance, it may be easy enough to automate intake and processes for certain breeds or genders of animals while focusing attention on breeds or genders of animals that the data indicate \"need more help.\"\n",
    "\n",
    "We intend to use the 27 thousand records in the training set as a reference for other major cities in the United States, where most animal shelter practices are similar from an intake and outcome perspective. Our dataset includes statistics on breed, color, sex, and age from the Austin Animal Center.\n",
    "\n",
    "Success should be categorized into analytical and business goals. Analytical goals would be based on classification accuracy on a sizeable test data set given by a confusin matrix where overall classification accuracy is greater than 85% at minimum with at least 85% precision. Further, and possibly more importantly, we hope our analysis drives at least a 20% decrease in animal euthanizations over a two calendar year period.  \n"
   ]
  },
  {
   "cell_type": "markdown",
   "metadata": {},
   "source": [
    "## Data Meaning and Data Types  (Add Info Here)\n",
    "\n",
    "### Data Set Location\n",
    "\n",
    "The data set is available on Kaggle: https://www.kaggle.com/c/shelter-animal-outcomes/data \n"
   ]
  },
  {
   "cell_type": "markdown",
   "metadata": {},
   "source": [
    "## Data Preprocessing: Transformation and Statistics "
   ]
  },
  {
   "cell_type": "code",
   "execution_count": 1,
   "metadata": {
    "collapsed": true
   },
   "outputs": [],
   "source": [
    "import pandas as pd\n",
    "from pandas import DataFrame, Series\n",
    "import numpy as np\n",
    "from sklearn.preprocessing import LabelEncoder,StandardScaler,Imputer\n",
    "import seaborn as sns\n",
    "%matplotlib inline"
   ]
  },
  {
   "cell_type": "code",
   "execution_count": 2,
   "metadata": {
    "collapsed": false
   },
   "outputs": [],
   "source": [
    "df = pd.read_csv('train.csv')"
   ]
  },
  {
   "cell_type": "markdown",
   "metadata": {},
   "source": [
    "\n",
    "Our dataset is made up of 10 variables, many of which can be split or transformed into additional variables. Further, the majority of the variables are categorical, mostly nominal variables except for ordinal variables like Age and temporal variables like DateTime. Some variables, such as AnimalID, will provide no value in our analysis. AnimalID in particular can be dropped from the dataset. \n",
    "\n",
    "Our class variable is OutcomeType. We are interested in classifying animal outcome types given the other explanatory variables, which we will elaborate upon further.\n"
   ]
  },
  {
   "cell_type": "code",
   "execution_count": 3,
   "metadata": {
    "collapsed": false
   },
   "outputs": [
    {
     "data": {
      "text/html": [
       "<div>\n",
       "<table border=\"1\" class=\"dataframe\">\n",
       "  <thead>\n",
       "    <tr style=\"text-align: right;\">\n",
       "      <th></th>\n",
       "      <th>AnimalID</th>\n",
       "      <th>Name</th>\n",
       "      <th>DateTime</th>\n",
       "      <th>OutcomeType</th>\n",
       "      <th>OutcomeSubtype</th>\n",
       "      <th>AnimalType</th>\n",
       "      <th>SexuponOutcome</th>\n",
       "      <th>AgeuponOutcome</th>\n",
       "      <th>Breed</th>\n",
       "      <th>Color</th>\n",
       "    </tr>\n",
       "  </thead>\n",
       "  <tbody>\n",
       "    <tr>\n",
       "      <th>0</th>\n",
       "      <td>A671945</td>\n",
       "      <td>Hambone</td>\n",
       "      <td>2014-02-12 18:22:00</td>\n",
       "      <td>Return_to_owner</td>\n",
       "      <td>NaN</td>\n",
       "      <td>Dog</td>\n",
       "      <td>Neutered Male</td>\n",
       "      <td>1 year</td>\n",
       "      <td>Shetland Sheepdog Mix</td>\n",
       "      <td>Brown/White</td>\n",
       "    </tr>\n",
       "    <tr>\n",
       "      <th>1</th>\n",
       "      <td>A656520</td>\n",
       "      <td>Emily</td>\n",
       "      <td>2013-10-13 12:44:00</td>\n",
       "      <td>Euthanasia</td>\n",
       "      <td>Suffering</td>\n",
       "      <td>Cat</td>\n",
       "      <td>Spayed Female</td>\n",
       "      <td>1 year</td>\n",
       "      <td>Domestic Shorthair Mix</td>\n",
       "      <td>Cream Tabby</td>\n",
       "    </tr>\n",
       "    <tr>\n",
       "      <th>2</th>\n",
       "      <td>A686464</td>\n",
       "      <td>Pearce</td>\n",
       "      <td>2015-01-31 12:28:00</td>\n",
       "      <td>Adoption</td>\n",
       "      <td>Foster</td>\n",
       "      <td>Dog</td>\n",
       "      <td>Neutered Male</td>\n",
       "      <td>2 years</td>\n",
       "      <td>Pit Bull Mix</td>\n",
       "      <td>Blue/White</td>\n",
       "    </tr>\n",
       "  </tbody>\n",
       "</table>\n",
       "</div>"
      ],
      "text/plain": [
       "  AnimalID     Name             DateTime      OutcomeType OutcomeSubtype  \\\n",
       "0  A671945  Hambone  2014-02-12 18:22:00  Return_to_owner            NaN   \n",
       "1  A656520    Emily  2013-10-13 12:44:00       Euthanasia      Suffering   \n",
       "2  A686464   Pearce  2015-01-31 12:28:00         Adoption         Foster   \n",
       "\n",
       "  AnimalType SexuponOutcome AgeuponOutcome                   Breed  \\\n",
       "0        Dog  Neutered Male         1 year   Shetland Sheepdog Mix   \n",
       "1        Cat  Spayed Female         1 year  Domestic Shorthair Mix   \n",
       "2        Dog  Neutered Male        2 years            Pit Bull Mix   \n",
       "\n",
       "         Color  \n",
       "0  Brown/White  \n",
       "1  Cream Tabby  \n",
       "2   Blue/White  "
      ]
     },
     "execution_count": 3,
     "metadata": {},
     "output_type": "execute_result"
    }
   ],
   "source": [
    "df.head(3)"
   ]
  },
  {
   "cell_type": "code",
   "execution_count": 4,
   "metadata": {
    "collapsed": false
   },
   "outputs": [
    {
     "name": "stdout",
     "output_type": "stream",
     "text": [
      "Data types and counts:\n",
      "\n",
      "<class 'pandas.core.frame.DataFrame'>\n",
      "RangeIndex: 26729 entries, 0 to 26728\n",
      "Data columns (total 10 columns):\n",
      "AnimalID          26729 non-null object\n",
      "Name              19038 non-null object\n",
      "DateTime          26729 non-null object\n",
      "OutcomeType       26729 non-null object\n",
      "OutcomeSubtype    13117 non-null object\n",
      "AnimalType        26729 non-null object\n",
      "SexuponOutcome    26728 non-null object\n",
      "AgeuponOutcome    26711 non-null object\n",
      "Breed             26729 non-null object\n",
      "Color             26729 non-null object\n",
      "dtypes: object(10)\n",
      "memory usage: 2.0+ MB\n",
      "None \n",
      "\n",
      "\n",
      "Data Descriptions: Counts, Frequency\n"
     ]
    },
    {
     "data": {
      "text/html": [
       "<div>\n",
       "<table border=\"1\" class=\"dataframe\">\n",
       "  <thead>\n",
       "    <tr style=\"text-align: right;\">\n",
       "      <th></th>\n",
       "      <th>AnimalID</th>\n",
       "      <th>Name</th>\n",
       "      <th>DateTime</th>\n",
       "      <th>OutcomeType</th>\n",
       "      <th>OutcomeSubtype</th>\n",
       "      <th>AnimalType</th>\n",
       "      <th>SexuponOutcome</th>\n",
       "      <th>AgeuponOutcome</th>\n",
       "      <th>Breed</th>\n",
       "      <th>Color</th>\n",
       "    </tr>\n",
       "  </thead>\n",
       "  <tbody>\n",
       "    <tr>\n",
       "      <th>count</th>\n",
       "      <td>26729</td>\n",
       "      <td>19038</td>\n",
       "      <td>26729</td>\n",
       "      <td>26729</td>\n",
       "      <td>13117</td>\n",
       "      <td>26729</td>\n",
       "      <td>26728</td>\n",
       "      <td>26711</td>\n",
       "      <td>26729</td>\n",
       "      <td>26729</td>\n",
       "    </tr>\n",
       "    <tr>\n",
       "      <th>unique</th>\n",
       "      <td>26729</td>\n",
       "      <td>6374</td>\n",
       "      <td>22918</td>\n",
       "      <td>5</td>\n",
       "      <td>16</td>\n",
       "      <td>2</td>\n",
       "      <td>5</td>\n",
       "      <td>44</td>\n",
       "      <td>1380</td>\n",
       "      <td>366</td>\n",
       "    </tr>\n",
       "    <tr>\n",
       "      <th>top</th>\n",
       "      <td>A705677</td>\n",
       "      <td>Max</td>\n",
       "      <td>2015-08-11 00:00:00</td>\n",
       "      <td>Adoption</td>\n",
       "      <td>Partner</td>\n",
       "      <td>Dog</td>\n",
       "      <td>Neutered Male</td>\n",
       "      <td>1 year</td>\n",
       "      <td>Domestic Shorthair Mix</td>\n",
       "      <td>Black/White</td>\n",
       "    </tr>\n",
       "    <tr>\n",
       "      <th>freq</th>\n",
       "      <td>1</td>\n",
       "      <td>136</td>\n",
       "      <td>19</td>\n",
       "      <td>10769</td>\n",
       "      <td>7816</td>\n",
       "      <td>15595</td>\n",
       "      <td>9779</td>\n",
       "      <td>3969</td>\n",
       "      <td>8810</td>\n",
       "      <td>2824</td>\n",
       "    </tr>\n",
       "  </tbody>\n",
       "</table>\n",
       "</div>"
      ],
      "text/plain": [
       "       AnimalID   Name             DateTime OutcomeType OutcomeSubtype  \\\n",
       "count     26729  19038                26729       26729          13117   \n",
       "unique    26729   6374                22918           5             16   \n",
       "top     A705677    Max  2015-08-11 00:00:00    Adoption        Partner   \n",
       "freq          1    136                   19       10769           7816   \n",
       "\n",
       "       AnimalType SexuponOutcome AgeuponOutcome                   Breed  \\\n",
       "count       26729          26728          26711                   26729   \n",
       "unique          2              5             44                    1380   \n",
       "top           Dog  Neutered Male         1 year  Domestic Shorthair Mix   \n",
       "freq        15595           9779           3969                    8810   \n",
       "\n",
       "              Color  \n",
       "count         26729  \n",
       "unique          366  \n",
       "top     Black/White  \n",
       "freq           2824  "
      ]
     },
     "execution_count": 4,
     "metadata": {},
     "output_type": "execute_result"
    }
   ],
   "source": [
    "print 'Data types and counts:\\n\\n', df.info(), '\\n\\n'\n",
    "print 'Data Descriptions: Counts, Frequency'\n",
    "\n",
    "df.describe()"
   ]
  },
  {
   "cell_type": "markdown",
   "metadata": {},
   "source": [
    "\n",
    "Based upon the information retrieved from the DataFrame, we are dealing with roughly 27 thousand records in the training set. We are only interested in the \"OutcomeType\" as our y (classifier) data. Outcome subtype is a sparse drill down on the Outcome type with sub-codes which are not explained thoroughly. Therefore, we recommend dropping this value as it is aub-variable of the outcome variable we are interested with roughly 50% valid values.\n",
    "\n",
    "The good news is: 40% of animals are being adopted, most of which are neutered male dogs about a year old. \n",
    "\n",
    "In regard to new feature creation, we observe multiple opportunities. For instance, it will be interesting to see if having a name affects outcome and if the type of breed is aggressive (has a \"reputation\"). We can also see converting the AgeuponOutcome being valuable. \n",
    "\n",
    "However, before we create or transform features, let's clean up the data a bit more. There are a few nulls in our dataset. Of concern are the nulls in AgeuponOutcome and SexuponOutcome. Because we care about whether or not a pet is named, the nulls in Name are not a concern. Further, OutcomeSubtype is simply a click down of OutcomeType, which is our classifier, and is quite sparse. Because we are dropping this column, we are not concerned with the nulls.\n"
   ]
  },
  {
   "cell_type": "markdown",
   "metadata": {},
   "source": [
    "#### Data Cleanup"
   ]
  },
  {
   "cell_type": "code",
   "execution_count": 5,
   "metadata": {
    "collapsed": false
   },
   "outputs": [
    {
     "name": "stdout",
     "output_type": "stream",
     "text": [
      "Number of nulls in the data set: \n",
      "AnimalID              0\n",
      "Name               7691\n",
      "DateTime              0\n",
      "OutcomeType           0\n",
      "OutcomeSubtype    13612\n",
      "AnimalType            0\n",
      "SexuponOutcome        1\n",
      "AgeuponOutcome       18\n",
      "Breed                 0\n",
      "Color                 0\n",
      "dtype: int64\n"
     ]
    }
   ],
   "source": [
    "print 'Number of nulls in the data set: \\n', df.isnull().sum()"
   ]
  },
  {
   "cell_type": "code",
   "execution_count": 6,
   "metadata": {
    "collapsed": false
   },
   "outputs": [
    {
     "name": "stdout",
     "output_type": "stream",
     "text": [
      "Number of unique, non nan ages: 44\n"
     ]
    }
   ],
   "source": [
    "del df['OutcomeSubtype'], df['AnimalID'] # drop extraneous data  columns\n",
    "df = df.dropna(subset=['SexuponOutcome']) # drop the one nan row in the sex column. Not a large impact to analysis.\n",
    "df = df.reset_index()\n",
    "\n",
    "print 'Number of unique, non nan ages:', len(np.unique(df.AgeuponOutcome[~pd.isnull(df['AgeuponOutcome'])])) \n"
   ]
  },
  {
   "cell_type": "markdown",
   "metadata": {},
   "source": [
    "\n",
    "categorical filling strategy:\n",
    "fill the nulls with top 3 categories in a column vector randomly for age and sex\n",
    "there is a string for age \"0 years\" with 22 instances. This provides about \"0\" value. We will also fill unknowns\n",
    "in the sex column vector with the same logic. We will fill these columns by iterating over and randomly choosing \n",
    "between the top 3 values instead of assigning an arbitrary value. We believe this is relevant because the top 3\n",
    "categories are spread relatively similarly, with roughly similar percents of total.\n"
   ]
  },
  {
   "cell_type": "code",
   "execution_count": 7,
   "metadata": {
    "collapsed": true
   },
   "outputs": [],
   "source": [
    "from collections import Counter\n",
    "from random import randint\n",
    "\n",
    "randChooser = []\n",
    "for i in ['AgeuponOutcome', 'SexuponOutcome']:\n",
    "    randChooser.append(Counter(df[i].values).most_common(3)) # get the 3 most common categories\n",
    "\n",
    "df['AgeuponOutcome'] = [randChooser[0][randint(0,2)][0] # randomly pick one of the three categories and replace null\n",
    "                        if pd.isnull(i) or i.lower() == '0 years' else i for i in df['AgeuponOutcome'].values]\n",
    " \n",
    "df['SexuponOutcome'] = [randChooser[1][randint(0,2)][0]\\\n",
    "                        if i.lower() == 'unknown' else i for i in df['SexuponOutcome'].values]"
   ]
  },
  {
   "cell_type": "raw",
   "metadata": {},
   "source": [
    "now that we have taken care of the dataset's integrity issues, it's time to slice it up, but first let's take a look"
   ]
  },
  {
   "cell_type": "code",
   "execution_count": 8,
   "metadata": {
    "collapsed": false,
    "scrolled": true
   },
   "outputs": [
    {
     "data": {
      "text/html": [
       "<div>\n",
       "<table border=\"1\" class=\"dataframe\">\n",
       "  <thead>\n",
       "    <tr style=\"text-align: right;\">\n",
       "      <th></th>\n",
       "      <th>index</th>\n",
       "      <th>Name</th>\n",
       "      <th>DateTime</th>\n",
       "      <th>OutcomeType</th>\n",
       "      <th>AnimalType</th>\n",
       "      <th>SexuponOutcome</th>\n",
       "      <th>AgeuponOutcome</th>\n",
       "      <th>Breed</th>\n",
       "      <th>Color</th>\n",
       "    </tr>\n",
       "  </thead>\n",
       "  <tbody>\n",
       "    <tr>\n",
       "      <th>0</th>\n",
       "      <td>0</td>\n",
       "      <td>Hambone</td>\n",
       "      <td>2014-02-12 18:22:00</td>\n",
       "      <td>Return_to_owner</td>\n",
       "      <td>Dog</td>\n",
       "      <td>Neutered Male</td>\n",
       "      <td>1 year</td>\n",
       "      <td>Shetland Sheepdog Mix</td>\n",
       "      <td>Brown/White</td>\n",
       "    </tr>\n",
       "    <tr>\n",
       "      <th>1</th>\n",
       "      <td>1</td>\n",
       "      <td>Emily</td>\n",
       "      <td>2013-10-13 12:44:00</td>\n",
       "      <td>Euthanasia</td>\n",
       "      <td>Cat</td>\n",
       "      <td>Spayed Female</td>\n",
       "      <td>1 year</td>\n",
       "      <td>Domestic Shorthair Mix</td>\n",
       "      <td>Cream Tabby</td>\n",
       "    </tr>\n",
       "    <tr>\n",
       "      <th>2</th>\n",
       "      <td>2</td>\n",
       "      <td>Pearce</td>\n",
       "      <td>2015-01-31 12:28:00</td>\n",
       "      <td>Adoption</td>\n",
       "      <td>Dog</td>\n",
       "      <td>Neutered Male</td>\n",
       "      <td>2 years</td>\n",
       "      <td>Pit Bull Mix</td>\n",
       "      <td>Blue/White</td>\n",
       "    </tr>\n",
       "    <tr>\n",
       "      <th>3</th>\n",
       "      <td>3</td>\n",
       "      <td>NaN</td>\n",
       "      <td>2014-07-11 19:09:00</td>\n",
       "      <td>Transfer</td>\n",
       "      <td>Cat</td>\n",
       "      <td>Intact Male</td>\n",
       "      <td>3 weeks</td>\n",
       "      <td>Domestic Shorthair Mix</td>\n",
       "      <td>Blue Cream</td>\n",
       "    </tr>\n",
       "    <tr>\n",
       "      <th>4</th>\n",
       "      <td>4</td>\n",
       "      <td>NaN</td>\n",
       "      <td>2013-11-15 12:52:00</td>\n",
       "      <td>Transfer</td>\n",
       "      <td>Dog</td>\n",
       "      <td>Neutered Male</td>\n",
       "      <td>2 years</td>\n",
       "      <td>Lhasa Apso/Miniature Poodle</td>\n",
       "      <td>Tan</td>\n",
       "    </tr>\n",
       "  </tbody>\n",
       "</table>\n",
       "</div>"
      ],
      "text/plain": [
       "   index     Name             DateTime      OutcomeType AnimalType  \\\n",
       "0      0  Hambone  2014-02-12 18:22:00  Return_to_owner        Dog   \n",
       "1      1    Emily  2013-10-13 12:44:00       Euthanasia        Cat   \n",
       "2      2   Pearce  2015-01-31 12:28:00         Adoption        Dog   \n",
       "3      3      NaN  2014-07-11 19:09:00         Transfer        Cat   \n",
       "4      4      NaN  2013-11-15 12:52:00         Transfer        Dog   \n",
       "\n",
       "  SexuponOutcome AgeuponOutcome                        Breed        Color  \n",
       "0  Neutered Male         1 year        Shetland Sheepdog Mix  Brown/White  \n",
       "1  Spayed Female         1 year       Domestic Shorthair Mix  Cream Tabby  \n",
       "2  Neutered Male        2 years                 Pit Bull Mix   Blue/White  \n",
       "3    Intact Male        3 weeks       Domestic Shorthair Mix   Blue Cream  \n",
       "4  Neutered Male        2 years  Lhasa Apso/Miniature Poodle          Tan  "
      ]
     },
     "execution_count": 8,
     "metadata": {},
     "output_type": "execute_result"
    }
   ],
   "source": [
    "df.head()"
   ]
  },
  {
   "cell_type": "markdown",
   "metadata": {},
   "source": [
    "## Data Creation and Transformation"
   ]
  },
  {
   "cell_type": "markdown",
   "metadata": {},
   "source": [
    "\n",
    "All columns outside of the name column are now non-null.\n",
    "\n",
    "Let's create some useful variables in our data set. It would be interesting to investigate whether or not a potential adoptee having a name has an effect on their outcome.\n",
    "\n",
    "The gender and what we will call \"intactness\" (whether an animal is spayed or neutered) are also interesting variables to investigate.\n",
    "\n",
    "Further, it would be better to represent age as a continuous ratio variable. We will transform age into days.\n"
   ]
  },
  {
   "cell_type": "code",
   "execution_count": 9,
   "metadata": {
    "collapsed": false
   },
   "outputs": [
    {
     "name": "stdout",
     "output_type": "stream",
     "text": [
      "There are 6375 unique names in the data set\n",
      "<class 'pandas.core.frame.DataFrame'>\n",
      "RangeIndex: 26728 entries, 0 to 26727\n",
      "Data columns (total 12 columns):\n",
      "index             26728 non-null int64\n",
      "Name              19037 non-null object\n",
      "DateTime          26728 non-null object\n",
      "OutcomeType       26728 non-null object\n",
      "AnimalType        26728 non-null object\n",
      "SexuponOutcome    26728 non-null object\n",
      "AgeuponOutcome    26728 non-null int64\n",
      "Breed             26728 non-null object\n",
      "Color             26728 non-null object\n",
      "has_name          26728 non-null int64\n",
      "intact            26728 non-null object\n",
      "gender            26728 non-null object\n",
      "dtypes: int64(3), object(9)\n",
      "memory usage: 2.4+ MB\n"
     ]
    },
    {
     "name": "stderr",
     "output_type": "stream",
     "text": [
      "C:\\Anaconda\\lib\\site-packages\\numpy\\lib\\arraysetops.py:200: FutureWarning: numpy not_equal will not check object identity in the future. The comparison did not return the same result as suggested by the identity (`is`)) and will change.\n",
      "  flag = np.concatenate(([True], aux[1:] != aux[:-1]))\n"
     ]
    }
   ],
   "source": [
    "print 'There are %d unique names in the data set' % len(np.unique(df['Name'].values))\n",
    "\n",
    "# 6375 unique names. That is quite a few names. Let's generalize into a binary feature called has_name instead:\n",
    "df['has_name'] = [0 if pd.isnull(i) else 1 for i in df['Name']]\n",
    "\n",
    "# Further, let's split out the intactness of an animal: whether or not the animal has been spayed or neutered\n",
    "# as well as the gender:\n",
    "df['intact'] = [i.split()[0] for i in df['SexuponOutcome']]\n",
    "df['gender'] = [i.split()[1] for i in df['SexuponOutcome']]\n",
    "\n",
    "# we will also convert ageuponoutcome into days:\n",
    "ageMap = {'year': 365, \n",
    "          'week': 7, \n",
    "          'month': 30,\n",
    "          'day': 1} \n",
    "\n",
    "df['AgeuponOutcome'] = [i.rstrip('s').split() for i in df['AgeuponOutcome'].values] # clean text to keep mapping simple\n",
    "\n",
    "ageList = []\n",
    "for i in df['AgeuponOutcome'].values:\n",
    "    for k,v in ageMap.items():\n",
    "        if i[1] == k:\n",
    "            ageList.append(int(i[0]) * v)\n",
    "df['AgeuponOutcome'] = ageList\n",
    "df.info()"
   ]
  },
  {
   "cell_type": "code",
   "execution_count": 10,
   "metadata": {
    "collapsed": false
   },
   "outputs": [
    {
     "name": "stdout",
     "output_type": "stream",
     "text": [
      "<class 'pandas.core.frame.DataFrame'>\n",
      "RangeIndex: 26728 entries, 0 to 26727\n",
      "Data columns (total 12 columns):\n",
      "index             26728 non-null int64\n",
      "Name              19037 non-null object\n",
      "DateTime          26728 non-null object\n",
      "OutcomeType       26728 non-null object\n",
      "AnimalType        26728 non-null object\n",
      "SexuponOutcome    26728 non-null object\n",
      "AgeuponOutcome    26728 non-null int64\n",
      "Breed             26728 non-null object\n",
      "Color             26728 non-null object\n",
      "has_name          26728 non-null int64\n",
      "intact            26728 non-null object\n",
      "gender            26728 non-null object\n",
      "dtypes: int64(3), object(9)\n",
      "memory usage: 2.4+ MB\n"
     ]
    }
   ],
   "source": [
    "df.info()"
   ]
  },
  {
   "cell_type": "code",
   "execution_count": 11,
   "metadata": {
    "collapsed": false
   },
   "outputs": [],
   "source": [
    "# lets also identify potentially 'aggressive' breeds using a bit of regex and top 10 aggressive breeds list: \n",
    "# http://www.therichest.com/rich-list/the-biggest/the-worlds-10-most-dangerous-dog-breeds/?view=all\n",
    "\n",
    "import re\n",
    "\n",
    "agg_breeds = ['Bull','Doberman','Rottweiler','Husky','German','Boxer','Malamute','Dane']\n",
    "df['Breed_orig'] = df['Breed']\n",
    "df['Breed'] = [re.split('\\W+',i) for i in df['Breed']]\n",
    "\n",
    "aggColumn = []\n",
    "for i in df['Breed'].values:\n",
    "    if len(agg_breeds) != len(set(agg_breeds).difference(i)):\n",
    "        aggColumn.append((1))\n",
    "    else:\n",
    "        aggColumn.append(0)       \n",
    "df['is_aggressive'] = aggColumn\n"
   ]
  },
  {
   "cell_type": "code",
   "execution_count": 12,
   "metadata": {
    "collapsed": false
   },
   "outputs": [],
   "source": [
    "# let's also grab only the primary color using same regex approach and reduce the number of categories\n",
    "colorMap = {'exotic':['Agouti','Calico','Lynx','Tricolor','Tortie','Flame','Torbie'],\n",
    "            'dark':['Black','Chocolate','Liver','Sable','Blue','Seal','Red'],\n",
    "            'neutral':['Gray','Silver','Tan','Buff','Brown','Fawn'],\n",
    "            'light':['Cream','Pink','White','Yellow','Lilac','Ruddy','Apricot','Orange','Gold']}\n",
    "\n",
    "df['primary_color'] = [re.split('\\W+',i)[0] for i in df['Color']]\n",
    "\n",
    "for idx, color in enumerate(df['primary_color'].values):\n",
    "    for k,v in colorMap.items():\n",
    "        if color in v:\n",
    "            df.set_value(idx,'primary_color', k)"
   ]
  },
  {
   "cell_type": "code",
   "execution_count": 13,
   "metadata": {
    "collapsed": false,
    "scrolled": true
   },
   "outputs": [
    {
     "name": "stdout",
     "output_type": "stream",
     "text": [
      "<class 'pandas.core.frame.DataFrame'>\n",
      "RangeIndex: 26728 entries, 0 to 26727\n",
      "Data columns (total 15 columns):\n",
      "index             26728 non-null int64\n",
      "Name              19037 non-null object\n",
      "DateTime          26728 non-null object\n",
      "OutcomeType       26728 non-null object\n",
      "AnimalType        26728 non-null object\n",
      "SexuponOutcome    26728 non-null object\n",
      "AgeuponOutcome    26728 non-null int64\n",
      "Breed             26728 non-null object\n",
      "Color             26728 non-null object\n",
      "has_name          26728 non-null int64\n",
      "intact            26728 non-null object\n",
      "gender            26728 non-null object\n",
      "Breed_orig        26728 non-null object\n",
      "is_aggressive     26728 non-null int64\n",
      "primary_color     26728 non-null object\n",
      "dtypes: int64(4), object(11)\n",
      "memory usage: 3.1+ MB\n"
     ]
    }
   ],
   "source": [
    "df.info()"
   ]
  },
  {
   "cell_type": "code",
   "execution_count": 14,
   "metadata": {
    "collapsed": false
   },
   "outputs": [
    {
     "data": {
      "text/plain": [
       "<matplotlib.axes._subplots.AxesSubplot at 0x9944a90>"
      ]
     },
     "execution_count": 14,
     "metadata": {},
     "output_type": "execute_result"
    },
    {
     "data": {
      "image/png": "[encoded data removed]",
      "text/plain": [
       "<matplotlib.figure.Figure at 0x36243c8>"
      ]
     },
     "metadata": {},
     "output_type": "display_data"
    }
   ],
   "source": [
    "import matplotlib.pyplot as plt\n",
    "df.OutcomeType.value_counts().plot(kind='bar')\n"
   ]
  },
  {
   "cell_type": "code",
   "execution_count": 15,
   "metadata": {
    "collapsed": false
   },
   "outputs": [
    {
     "data": {
      "text/plain": [
       "<matplotlib.axes._subplots.AxesSubplot at 0x992b748>"
      ]
     },
     "execution_count": 15,
     "metadata": {},
     "output_type": "execute_result"
    },
    {
     "data": {
      "image/png": "[encoded data removed]",
      "text/plain": [
       "<matplotlib.figure.Figure at 0xb679668>"
      ]
     },
     "metadata": {},
     "output_type": "display_data"
    }
   ],
   "source": [
    "df.AnimalType.value_counts().plot(kind='pie', autopct='%1d%%')"
   ]
  },
  {
   "cell_type": "code",
   "execution_count": 16,
   "metadata": {
    "collapsed": false
   },
   "outputs": [
    {
     "data": {
      "text/html": [
       "<div>\n",
       "<table border=\"1\" class=\"dataframe\">\n",
       "  <thead>\n",
       "    <tr style=\"text-align: right;\">\n",
       "      <th></th>\n",
       "      <th>index</th>\n",
       "      <th>Name</th>\n",
       "      <th>DateTime</th>\n",
       "      <th>OutcomeType</th>\n",
       "      <th>AnimalType</th>\n",
       "      <th>SexuponOutcome</th>\n",
       "      <th>AgeuponOutcome</th>\n",
       "      <th>Breed</th>\n",
       "      <th>Color</th>\n",
       "      <th>has_name</th>\n",
       "      <th>intact</th>\n",
       "      <th>gender</th>\n",
       "      <th>Breed_orig</th>\n",
       "      <th>is_aggressive</th>\n",
       "      <th>primary_color</th>\n",
       "    </tr>\n",
       "  </thead>\n",
       "  <tbody>\n",
       "    <tr>\n",
       "      <th>0</th>\n",
       "      <td>0</td>\n",
       "      <td>Hambone</td>\n",
       "      <td>2014-02-12 18:22:00</td>\n",
       "      <td>Return_to_owner</td>\n",
       "      <td>Dog</td>\n",
       "      <td>Neutered Male</td>\n",
       "      <td>365</td>\n",
       "      <td>[Shetland, Sheepdog, Mix]</td>\n",
       "      <td>Brown/White</td>\n",
       "      <td>1</td>\n",
       "      <td>Neutered</td>\n",
       "      <td>Male</td>\n",
       "      <td>Shetland Sheepdog Mix</td>\n",
       "      <td>0</td>\n",
       "      <td>neutral</td>\n",
       "    </tr>\n",
       "    <tr>\n",
       "      <th>1</th>\n",
       "      <td>1</td>\n",
       "      <td>Emily</td>\n",
       "      <td>2013-10-13 12:44:00</td>\n",
       "      <td>Euthanasia</td>\n",
       "      <td>Cat</td>\n",
       "      <td>Spayed Female</td>\n",
       "      <td>365</td>\n",
       "      <td>[Domestic, Shorthair, Mix]</td>\n",
       "      <td>Cream Tabby</td>\n",
       "      <td>1</td>\n",
       "      <td>Spayed</td>\n",
       "      <td>Female</td>\n",
       "      <td>Domestic Shorthair Mix</td>\n",
       "      <td>0</td>\n",
       "      <td>light</td>\n",
       "    </tr>\n",
       "    <tr>\n",
       "      <th>2</th>\n",
       "      <td>2</td>\n",
       "      <td>Pearce</td>\n",
       "      <td>2015-01-31 12:28:00</td>\n",
       "      <td>Adoption</td>\n",
       "      <td>Dog</td>\n",
       "      <td>Neutered Male</td>\n",
       "      <td>730</td>\n",
       "      <td>[Pit, Bull, Mix]</td>\n",
       "      <td>Blue/White</td>\n",
       "      <td>1</td>\n",
       "      <td>Neutered</td>\n",
       "      <td>Male</td>\n",
       "      <td>Pit Bull Mix</td>\n",
       "      <td>1</td>\n",
       "      <td>dark</td>\n",
       "    </tr>\n",
       "    <tr>\n",
       "      <th>3</th>\n",
       "      <td>3</td>\n",
       "      <td>NaN</td>\n",
       "      <td>2014-07-11 19:09:00</td>\n",
       "      <td>Transfer</td>\n",
       "      <td>Cat</td>\n",
       "      <td>Intact Male</td>\n",
       "      <td>21</td>\n",
       "      <td>[Domestic, Shorthair, Mix]</td>\n",
       "      <td>Blue Cream</td>\n",
       "      <td>0</td>\n",
       "      <td>Intact</td>\n",
       "      <td>Male</td>\n",
       "      <td>Domestic Shorthair Mix</td>\n",
       "      <td>0</td>\n",
       "      <td>dark</td>\n",
       "    </tr>\n",
       "    <tr>\n",
       "      <th>4</th>\n",
       "      <td>4</td>\n",
       "      <td>NaN</td>\n",
       "      <td>2013-11-15 12:52:00</td>\n",
       "      <td>Transfer</td>\n",
       "      <td>Dog</td>\n",
       "      <td>Neutered Male</td>\n",
       "      <td>730</td>\n",
       "      <td>[Lhasa, Apso, Miniature, Poodle]</td>\n",
       "      <td>Tan</td>\n",
       "      <td>0</td>\n",
       "      <td>Neutered</td>\n",
       "      <td>Male</td>\n",
       "      <td>Lhasa Apso/Miniature Poodle</td>\n",
       "      <td>0</td>\n",
       "      <td>neutral</td>\n",
       "    </tr>\n",
       "  </tbody>\n",
       "</table>\n",
       "</div>"
      ],
      "text/plain": [
       "   index     Name             DateTime      OutcomeType AnimalType  \\\n",
       "0      0  Hambone  2014-02-12 18:22:00  Return_to_owner        Dog   \n",
       "1      1    Emily  2013-10-13 12:44:00       Euthanasia        Cat   \n",
       "2      2   Pearce  2015-01-31 12:28:00         Adoption        Dog   \n",
       "3      3      NaN  2014-07-11 19:09:00         Transfer        Cat   \n",
       "4      4      NaN  2013-11-15 12:52:00         Transfer        Dog   \n",
       "\n",
       "  SexuponOutcome  AgeuponOutcome                             Breed  \\\n",
       "0  Neutered Male             365         [Shetland, Sheepdog, Mix]   \n",
       "1  Spayed Female             365        [Domestic, Shorthair, Mix]   \n",
       "2  Neutered Male             730                  [Pit, Bull, Mix]   \n",
       "3    Intact Male              21        [Domestic, Shorthair, Mix]   \n",
       "4  Neutered Male             730  [Lhasa, Apso, Miniature, Poodle]   \n",
       "\n",
       "         Color  has_name    intact  gender                   Breed_orig  \\\n",
       "0  Brown/White         1  Neutered    Male        Shetland Sheepdog Mix   \n",
       "1  Cream Tabby         1    Spayed  Female       Domestic Shorthair Mix   \n",
       "2   Blue/White         1  Neutered    Male                 Pit Bull Mix   \n",
       "3   Blue Cream         0    Intact    Male       Domestic Shorthair Mix   \n",
       "4          Tan         0  Neutered    Male  Lhasa Apso/Miniature Poodle   \n",
       "\n",
       "   is_aggressive primary_color  \n",
       "0              0       neutral  \n",
       "1              0         light  \n",
       "2              1          dark  \n",
       "3              0          dark  \n",
       "4              0       neutral  "
      ]
     },
     "execution_count": 16,
     "metadata": {},
     "output_type": "execute_result"
    }
   ],
   "source": [
    "df.head(5)"
   ]
  },
  {
   "cell_type": "code",
   "execution_count": 17,
   "metadata": {
    "collapsed": false
   },
   "outputs": [],
   "source": [
    "# Source: http://www.petinsurance.com/healthzone/pet-articles/pet-breeds/Top-10-Dog-Breeds.aspx\n",
    "\n",
    "TopDogBreeds = ['Boxer', 'Rottweiler', 'Poodle', 'Yorkshire Terrier',\n",
    "                'French Bulldog', 'Beagle', 'Bulldog',\n",
    "                'Golden Retriever', 'German Shepherd', 'Labrador Retriever']\n",
    "\n",
    "DogBreedTop = []\n",
    "for i in df['Breed_orig']:\n",
    "    matched = False\n",
    "    for topBreed in TopDogBreeds:\n",
    "        if topBreed in i:\n",
    "            DogBreedTop.append(topBreed)\n",
    "            matched = True\n",
    "            break\n",
    "    if not matched:\n",
    "        DogBreedTop.append('Other')       \n",
    "\n",
    "df['DogBreedTop'] = DogBreedTop\n"
   ]
  },
  {
   "cell_type": "code",
   "execution_count": 18,
   "metadata": {
    "collapsed": false
   },
   "outputs": [
    {
     "data": {
      "text/plain": [
       "<matplotlib.axes._subplots.AxesSubplot at 0xb78ada0>"
      ]
     },
     "execution_count": 18,
     "metadata": {},
     "output_type": "execute_result"
    },
    {
     "data": {
      "image/png": "[encoded data removed]",
      "text/plain": [
       "<matplotlib.figure.Figure at 0xb0f9048>"
      ]
     },
     "metadata": {},
     "output_type": "display_data"
    }
   ],
   "source": [
    "df.loc[df.AnimalType == 'Dog', 'DogBreedTop'].value_counts().plot(kind='bar')"
   ]
  }
 ],
 "metadata": {
  "kernelspec": {
   "display_name": "Python 2",
   "language": "python",
   "name": "python2"
  },
  "language_info": {
   "codemirror_mode": {
    "name": "ipython",
    "version": 2
   },
   "file_extension": ".py",
   "mimetype": "text/x-python",
   "name": "python",
   "nbconvert_exporter": "python",
   "pygments_lexer": "ipython2",
   "version": "2.7.11"
  }
 },
 "nbformat": 4,
 "nbformat_minor": 0
}
